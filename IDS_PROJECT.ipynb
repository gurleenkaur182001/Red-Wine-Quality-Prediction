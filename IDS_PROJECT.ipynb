{
 "cells": [
  {
   "cell_type": "code",
   "execution_count": 66,
   "metadata": {},
   "outputs": [],
   "source": [
    "import numpy as np\n",
    "import pandas as pd\n",
    "import matplotlib.pyplot as plt\n",
    "import seaborn as sns\n",
    "import plotly.express as px"
   ]
  },
  {
   "cell_type": "code",
   "execution_count": 67,
   "metadata": {},
   "outputs": [],
   "source": [
    "data_frame = pd.read_csv('wine.csv')"
   ]
  },
  {
   "cell_type": "code",
   "execution_count": 68,
   "metadata": {},
   "outputs": [
    {
     "name": "stdout",
     "output_type": "stream",
     "text": [
      "(1599, 12)\n"
     ]
    },
    {
     "data": {
      "text/html": [
       "<div>\n",
       "<style scoped>\n",
       "    .dataframe tbody tr th:only-of-type {\n",
       "        vertical-align: middle;\n",
       "    }\n",
       "\n",
       "    .dataframe tbody tr th {\n",
       "        vertical-align: top;\n",
       "    }\n",
       "\n",
       "    .dataframe thead th {\n",
       "        text-align: right;\n",
       "    }\n",
       "</style>\n",
       "<table border=\"1\" class=\"dataframe\">\n",
       "  <thead>\n",
       "    <tr style=\"text-align: right;\">\n",
       "      <th></th>\n",
       "      <th>fixed acidity</th>\n",
       "      <th>volatile acidity</th>\n",
       "      <th>citric acid</th>\n",
       "      <th>residual sugar</th>\n",
       "      <th>chlorides</th>\n",
       "      <th>free sulfur dioxide</th>\n",
       "      <th>total sulfur dioxide</th>\n",
       "      <th>density</th>\n",
       "      <th>pH</th>\n",
       "      <th>sulphates</th>\n",
       "      <th>alcohol</th>\n",
       "      <th>quality</th>\n",
       "    </tr>\n",
       "  </thead>\n",
       "  <tbody>\n",
       "    <tr>\n",
       "      <th>0</th>\n",
       "      <td>7.4</td>\n",
       "      <td>0.70</td>\n",
       "      <td>0.00</td>\n",
       "      <td>1.9</td>\n",
       "      <td>0.076</td>\n",
       "      <td>11.0</td>\n",
       "      <td>34.0</td>\n",
       "      <td>0.9978</td>\n",
       "      <td>3.51</td>\n",
       "      <td>0.56</td>\n",
       "      <td>9.4</td>\n",
       "      <td>5</td>\n",
       "    </tr>\n",
       "    <tr>\n",
       "      <th>1</th>\n",
       "      <td>7.8</td>\n",
       "      <td>0.88</td>\n",
       "      <td>0.00</td>\n",
       "      <td>2.6</td>\n",
       "      <td>0.098</td>\n",
       "      <td>25.0</td>\n",
       "      <td>67.0</td>\n",
       "      <td>0.9968</td>\n",
       "      <td>3.20</td>\n",
       "      <td>0.68</td>\n",
       "      <td>9.8</td>\n",
       "      <td>5</td>\n",
       "    </tr>\n",
       "    <tr>\n",
       "      <th>2</th>\n",
       "      <td>7.8</td>\n",
       "      <td>0.76</td>\n",
       "      <td>0.04</td>\n",
       "      <td>2.3</td>\n",
       "      <td>0.092</td>\n",
       "      <td>15.0</td>\n",
       "      <td>54.0</td>\n",
       "      <td>0.9970</td>\n",
       "      <td>3.26</td>\n",
       "      <td>0.65</td>\n",
       "      <td>9.8</td>\n",
       "      <td>5</td>\n",
       "    </tr>\n",
       "    <tr>\n",
       "      <th>3</th>\n",
       "      <td>11.2</td>\n",
       "      <td>0.28</td>\n",
       "      <td>0.56</td>\n",
       "      <td>1.9</td>\n",
       "      <td>0.075</td>\n",
       "      <td>17.0</td>\n",
       "      <td>60.0</td>\n",
       "      <td>0.9980</td>\n",
       "      <td>3.16</td>\n",
       "      <td>0.58</td>\n",
       "      <td>9.8</td>\n",
       "      <td>6</td>\n",
       "    </tr>\n",
       "    <tr>\n",
       "      <th>4</th>\n",
       "      <td>7.4</td>\n",
       "      <td>0.70</td>\n",
       "      <td>0.00</td>\n",
       "      <td>1.9</td>\n",
       "      <td>0.076</td>\n",
       "      <td>11.0</td>\n",
       "      <td>34.0</td>\n",
       "      <td>0.9978</td>\n",
       "      <td>3.51</td>\n",
       "      <td>0.56</td>\n",
       "      <td>9.4</td>\n",
       "      <td>5</td>\n",
       "    </tr>\n",
       "  </tbody>\n",
       "</table>\n",
       "</div>"
      ],
      "text/plain": [
       "   fixed acidity  volatile acidity  citric acid  residual sugar  chlorides  \\\n",
       "0            7.4              0.70         0.00             1.9      0.076   \n",
       "1            7.8              0.88         0.00             2.6      0.098   \n",
       "2            7.8              0.76         0.04             2.3      0.092   \n",
       "3           11.2              0.28         0.56             1.9      0.075   \n",
       "4            7.4              0.70         0.00             1.9      0.076   \n",
       "\n",
       "   free sulfur dioxide  total sulfur dioxide  density    pH  sulphates  \\\n",
       "0                 11.0                  34.0   0.9978  3.51       0.56   \n",
       "1                 25.0                  67.0   0.9968  3.20       0.68   \n",
       "2                 15.0                  54.0   0.9970  3.26       0.65   \n",
       "3                 17.0                  60.0   0.9980  3.16       0.58   \n",
       "4                 11.0                  34.0   0.9978  3.51       0.56   \n",
       "\n",
       "   alcohol  quality  \n",
       "0      9.4        5  \n",
       "1      9.8        5  \n",
       "2      9.8        5  \n",
       "3      9.8        6  \n",
       "4      9.4        5  "
      ]
     },
     "execution_count": 68,
     "metadata": {},
     "output_type": "execute_result"
    }
   ],
   "source": [
    "print(data_frame.shape)\n",
    "data_frame.head()"
   ]
  },
  {
   "cell_type": "code",
   "execution_count": 69,
   "metadata": {},
   "outputs": [
    {
     "data": {
      "text/plain": [
       "array([5, 6, 7, 4, 8, 3])"
      ]
     },
     "execution_count": 69,
     "metadata": {},
     "output_type": "execute_result"
    }
   ],
   "source": [
    "A =np.array(data_frame.quality.unique())\n",
    "A"
   ]
  },
  {
   "cell_type": "code",
   "execution_count": 70,
   "metadata": {},
   "outputs": [
    {
     "data": {
      "text/plain": [
       "fixed acidity           0\n",
       "volatile acidity        0\n",
       "citric acid             0\n",
       "residual sugar          0\n",
       "chlorides               0\n",
       "free sulfur dioxide     0\n",
       "total sulfur dioxide    0\n",
       "density                 0\n",
       "pH                      0\n",
       "sulphates               0\n",
       "alcohol                 0\n",
       "quality                 0\n",
       "dtype: int64"
      ]
     },
     "execution_count": 70,
     "metadata": {},
     "output_type": "execute_result"
    }
   ],
   "source": [
    "data_frame.isnull().sum()\n",
    "\n",
    "## Since there are no null values present so we are not dropping any."
   ]
  },
  {
   "cell_type": "code",
   "execution_count": 71,
   "metadata": {},
   "outputs": [
    {
     "data": {
      "text/html": [
       "<div>\n",
       "<style scoped>\n",
       "    .dataframe tbody tr th:only-of-type {\n",
       "        vertical-align: middle;\n",
       "    }\n",
       "\n",
       "    .dataframe tbody tr th {\n",
       "        vertical-align: top;\n",
       "    }\n",
       "\n",
       "    .dataframe thead th {\n",
       "        text-align: right;\n",
       "    }\n",
       "</style>\n",
       "<table border=\"1\" class=\"dataframe\">\n",
       "  <thead>\n",
       "    <tr style=\"text-align: right;\">\n",
       "      <th></th>\n",
       "      <th>fixed acidity</th>\n",
       "      <th>volatile acidity</th>\n",
       "      <th>citric acid</th>\n",
       "      <th>residual sugar</th>\n",
       "      <th>chlorides</th>\n",
       "      <th>free sulfur dioxide</th>\n",
       "      <th>total sulfur dioxide</th>\n",
       "      <th>density</th>\n",
       "      <th>pH</th>\n",
       "      <th>sulphates</th>\n",
       "      <th>alcohol</th>\n",
       "      <th>quality</th>\n",
       "    </tr>\n",
       "  </thead>\n",
       "  <tbody>\n",
       "    <tr>\n",
       "      <th>count</th>\n",
       "      <td>1599.000000</td>\n",
       "      <td>1599.000000</td>\n",
       "      <td>1599.000000</td>\n",
       "      <td>1599.000000</td>\n",
       "      <td>1599.000000</td>\n",
       "      <td>1599.000000</td>\n",
       "      <td>1599.000000</td>\n",
       "      <td>1599.000000</td>\n",
       "      <td>1599.000000</td>\n",
       "      <td>1599.000000</td>\n",
       "      <td>1599.000000</td>\n",
       "      <td>1599.000000</td>\n",
       "    </tr>\n",
       "    <tr>\n",
       "      <th>mean</th>\n",
       "      <td>8.319637</td>\n",
       "      <td>0.527821</td>\n",
       "      <td>0.270976</td>\n",
       "      <td>2.538806</td>\n",
       "      <td>0.087467</td>\n",
       "      <td>15.874922</td>\n",
       "      <td>46.467792</td>\n",
       "      <td>0.996747</td>\n",
       "      <td>3.311113</td>\n",
       "      <td>0.658149</td>\n",
       "      <td>10.422983</td>\n",
       "      <td>5.636023</td>\n",
       "    </tr>\n",
       "    <tr>\n",
       "      <th>std</th>\n",
       "      <td>1.741096</td>\n",
       "      <td>0.179060</td>\n",
       "      <td>0.194801</td>\n",
       "      <td>1.409928</td>\n",
       "      <td>0.047065</td>\n",
       "      <td>10.460157</td>\n",
       "      <td>32.895324</td>\n",
       "      <td>0.001887</td>\n",
       "      <td>0.154386</td>\n",
       "      <td>0.169507</td>\n",
       "      <td>1.065668</td>\n",
       "      <td>0.807569</td>\n",
       "    </tr>\n",
       "    <tr>\n",
       "      <th>min</th>\n",
       "      <td>4.600000</td>\n",
       "      <td>0.120000</td>\n",
       "      <td>0.000000</td>\n",
       "      <td>0.900000</td>\n",
       "      <td>0.012000</td>\n",
       "      <td>1.000000</td>\n",
       "      <td>6.000000</td>\n",
       "      <td>0.990070</td>\n",
       "      <td>2.740000</td>\n",
       "      <td>0.330000</td>\n",
       "      <td>8.400000</td>\n",
       "      <td>3.000000</td>\n",
       "    </tr>\n",
       "    <tr>\n",
       "      <th>25%</th>\n",
       "      <td>7.100000</td>\n",
       "      <td>0.390000</td>\n",
       "      <td>0.090000</td>\n",
       "      <td>1.900000</td>\n",
       "      <td>0.070000</td>\n",
       "      <td>7.000000</td>\n",
       "      <td>22.000000</td>\n",
       "      <td>0.995600</td>\n",
       "      <td>3.210000</td>\n",
       "      <td>0.550000</td>\n",
       "      <td>9.500000</td>\n",
       "      <td>5.000000</td>\n",
       "    </tr>\n",
       "    <tr>\n",
       "      <th>50%</th>\n",
       "      <td>7.900000</td>\n",
       "      <td>0.520000</td>\n",
       "      <td>0.260000</td>\n",
       "      <td>2.200000</td>\n",
       "      <td>0.079000</td>\n",
       "      <td>14.000000</td>\n",
       "      <td>38.000000</td>\n",
       "      <td>0.996750</td>\n",
       "      <td>3.310000</td>\n",
       "      <td>0.620000</td>\n",
       "      <td>10.200000</td>\n",
       "      <td>6.000000</td>\n",
       "    </tr>\n",
       "    <tr>\n",
       "      <th>75%</th>\n",
       "      <td>9.200000</td>\n",
       "      <td>0.640000</td>\n",
       "      <td>0.420000</td>\n",
       "      <td>2.600000</td>\n",
       "      <td>0.090000</td>\n",
       "      <td>21.000000</td>\n",
       "      <td>62.000000</td>\n",
       "      <td>0.997835</td>\n",
       "      <td>3.400000</td>\n",
       "      <td>0.730000</td>\n",
       "      <td>11.100000</td>\n",
       "      <td>6.000000</td>\n",
       "    </tr>\n",
       "    <tr>\n",
       "      <th>max</th>\n",
       "      <td>15.900000</td>\n",
       "      <td>1.580000</td>\n",
       "      <td>1.000000</td>\n",
       "      <td>15.500000</td>\n",
       "      <td>0.611000</td>\n",
       "      <td>72.000000</td>\n",
       "      <td>289.000000</td>\n",
       "      <td>1.003690</td>\n",
       "      <td>4.010000</td>\n",
       "      <td>2.000000</td>\n",
       "      <td>14.900000</td>\n",
       "      <td>8.000000</td>\n",
       "    </tr>\n",
       "  </tbody>\n",
       "</table>\n",
       "</div>"
      ],
      "text/plain": [
       "       fixed acidity  volatile acidity  citric acid  residual sugar  \\\n",
       "count    1599.000000       1599.000000  1599.000000     1599.000000   \n",
       "mean        8.319637          0.527821     0.270976        2.538806   \n",
       "std         1.741096          0.179060     0.194801        1.409928   \n",
       "min         4.600000          0.120000     0.000000        0.900000   \n",
       "25%         7.100000          0.390000     0.090000        1.900000   \n",
       "50%         7.900000          0.520000     0.260000        2.200000   \n",
       "75%         9.200000          0.640000     0.420000        2.600000   \n",
       "max        15.900000          1.580000     1.000000       15.500000   \n",
       "\n",
       "         chlorides  free sulfur dioxide  total sulfur dioxide      density  \\\n",
       "count  1599.000000          1599.000000           1599.000000  1599.000000   \n",
       "mean      0.087467            15.874922             46.467792     0.996747   \n",
       "std       0.047065            10.460157             32.895324     0.001887   \n",
       "min       0.012000             1.000000              6.000000     0.990070   \n",
       "25%       0.070000             7.000000             22.000000     0.995600   \n",
       "50%       0.079000            14.000000             38.000000     0.996750   \n",
       "75%       0.090000            21.000000             62.000000     0.997835   \n",
       "max       0.611000            72.000000            289.000000     1.003690   \n",
       "\n",
       "                pH    sulphates      alcohol      quality  \n",
       "count  1599.000000  1599.000000  1599.000000  1599.000000  \n",
       "mean      3.311113     0.658149    10.422983     5.636023  \n",
       "std       0.154386     0.169507     1.065668     0.807569  \n",
       "min       2.740000     0.330000     8.400000     3.000000  \n",
       "25%       3.210000     0.550000     9.500000     5.000000  \n",
       "50%       3.310000     0.620000    10.200000     6.000000  \n",
       "75%       3.400000     0.730000    11.100000     6.000000  \n",
       "max       4.010000     2.000000    14.900000     8.000000  "
      ]
     },
     "execution_count": 71,
     "metadata": {},
     "output_type": "execute_result"
    }
   ],
   "source": [
    "data_frame.describe()"
   ]
  },
  {
   "cell_type": "markdown",
   "metadata": {},
   "source": [
    "# Histogram plots for various attributes"
   ]
  },
  {
   "cell_type": "code",
   "execution_count": 72,
   "metadata": {},
   "outputs": [
    {
     "data": {
      "application/vnd.plotly.v1+json": {
       "config": {
        "plotlyServerURL": "https://plot.ly"
       },
       "data": [
        {
         "alignmentgroup": "True",
         "bingroup": "x",
         "hovertemplate": "quality=%{x}<br>count=%{y}<extra></extra>",
         "legendgroup": "",
         "marker": {
          "color": "#636efa"
         },
         "name": "",
         "offsetgroup": "",
         "orientation": "v",
         "showlegend": false,
         "type": "histogram",
         "x": [
          5,
          5,
          5,
          6,
          5,
          5,
          5,
          7,
          7,
          5,
          5,
          5,
          5,
          5,
          5,
          5,
          7,
          5,
          4,
          6,
          6,
          5,
          5,
          5,
          6,
          5,
          5,
          5,
          5,
          6,
          5,
          6,
          5,
          6,
          5,
          6,
          6,
          7,
          4,
          5,
          5,
          4,
          6,
          5,
          5,
          4,
          5,
          5,
          5,
          5,
          5,
          6,
          6,
          5,
          6,
          5,
          5,
          5,
          5,
          6,
          5,
          5,
          7,
          5,
          5,
          5,
          5,
          5,
          5,
          6,
          6,
          5,
          5,
          4,
          5,
          5,
          5,
          6,
          5,
          4,
          5,
          5,
          5,
          5,
          6,
          5,
          6,
          5,
          5,
          5,
          5,
          6,
          5,
          5,
          4,
          6,
          5,
          5,
          5,
          6,
          6,
          6,
          6,
          5,
          5,
          5,
          5,
          5,
          6,
          5,
          5,
          5,
          5,
          6,
          5,
          6,
          6,
          6,
          6,
          6,
          5,
          6,
          5,
          5,
          5,
          5,
          5,
          5,
          7,
          5,
          5,
          5,
          5,
          6,
          6,
          5,
          5,
          5,
          5,
          5,
          5,
          5,
          6,
          5,
          6,
          5,
          5,
          5,
          6,
          6,
          6,
          4,
          5,
          5,
          5,
          5,
          5,
          5,
          5,
          6,
          5,
          4,
          6,
          5,
          5,
          5,
          5,
          4,
          6,
          5,
          4,
          6,
          6,
          6,
          5,
          5,
          5,
          6,
          5,
          5,
          5,
          5,
          5,
          5,
          6,
          5,
          5,
          5,
          5,
          5,
          5,
          6,
          5,
          5,
          5,
          5,
          5,
          6,
          7,
          4,
          7,
          5,
          5,
          5,
          6,
          7,
          7,
          5,
          5,
          7,
          6,
          6,
          6,
          5,
          6,
          5,
          5,
          5,
          5,
          5,
          6,
          5,
          5,
          6,
          4,
          6,
          6,
          5,
          6,
          5,
          7,
          6,
          6,
          5,
          6,
          6,
          6,
          6,
          6,
          6,
          5,
          6,
          6,
          7,
          7,
          6,
          5,
          5,
          6,
          6,
          6,
          6,
          5,
          5,
          6,
          5,
          5,
          5,
          5,
          7,
          5,
          4,
          5,
          5,
          5,
          7,
          4,
          8,
          6,
          6,
          6,
          6,
          5,
          5,
          5,
          6,
          6,
          6,
          8,
          7,
          6,
          7,
          5,
          7,
          5,
          5,
          6,
          6,
          7,
          5,
          7,
          5,
          6,
          6,
          6,
          5,
          5,
          5,
          5,
          5,
          6,
          6,
          5,
          5,
          5,
          6,
          5,
          6,
          6,
          6,
          6,
          6,
          6,
          5,
          5,
          6,
          5,
          6,
          7,
          6,
          7,
          5,
          5,
          6,
          6,
          6,
          7,
          5,
          6,
          5,
          6,
          6,
          6,
          5,
          7,
          7,
          6,
          5,
          6,
          7,
          6,
          6,
          6,
          6,
          6,
          5,
          7,
          6,
          6,
          6,
          6,
          6,
          5,
          5,
          6,
          6,
          5,
          7,
          7,
          6,
          5,
          6,
          5,
          5,
          7,
          6,
          7,
          5,
          5,
          7,
          5,
          6,
          6,
          5,
          6,
          7,
          6,
          7,
          6,
          6,
          6,
          6,
          6,
          6,
          5,
          6,
          6,
          6,
          6,
          7,
          8,
          6,
          5,
          5,
          5,
          7,
          5,
          6,
          6,
          5,
          5,
          6,
          6,
          6,
          5,
          6,
          6,
          7,
          6,
          4,
          6,
          5,
          5,
          7,
          5,
          5,
          6,
          5,
          6,
          5,
          7,
          7,
          5,
          7,
          5,
          7,
          6,
          6,
          5,
          6,
          7,
          5,
          6,
          5,
          6,
          5,
          6,
          6,
          6,
          5,
          8,
          6,
          7,
          7,
          7,
          6,
          5,
          5,
          6,
          6,
          6,
          6,
          6,
          7,
          5,
          8,
          5,
          5,
          7,
          3,
          6,
          5,
          5,
          5,
          6,
          5,
          6,
          6,
          6,
          5,
          5,
          6,
          6,
          5,
          6,
          5,
          5,
          6,
          5,
          6,
          5,
          8,
          5,
          5,
          6,
          5,
          5,
          6,
          7,
          6,
          6,
          7,
          7,
          6,
          6,
          8,
          6,
          5,
          8,
          6,
          6,
          7,
          7,
          7,
          7,
          7,
          7,
          6,
          6,
          7,
          5,
          6,
          6,
          7,
          7,
          5,
          6,
          3,
          6,
          5,
          6,
          5,
          5,
          5,
          5,
          5,
          5,
          6,
          6,
          5,
          6,
          5,
          5,
          6,
          6,
          6,
          5,
          6,
          7,
          5,
          5,
          6,
          5,
          6,
          6,
          5,
          6,
          6,
          6,
          6,
          6,
          6,
          6,
          5,
          5,
          5,
          6,
          5,
          6,
          6,
          5,
          5,
          5,
          6,
          6,
          5,
          6,
          6,
          6,
          6,
          6,
          6,
          5,
          4,
          6,
          6,
          4,
          5,
          5,
          6,
          5,
          5,
          5,
          7,
          7,
          6,
          7,
          5,
          8,
          7,
          5,
          6,
          5,
          5,
          5,
          5,
          6,
          6,
          6,
          6,
          4,
          6,
          5,
          6,
          6,
          6,
          7,
          6,
          6,
          6,
          5,
          5,
          6,
          5,
          6,
          5,
          5,
          6,
          5,
          5,
          5,
          5,
          5,
          6,
          5,
          5,
          5,
          5,
          6,
          5,
          6,
          5,
          6,
          4,
          5,
          5,
          5,
          5,
          7,
          6,
          5,
          5,
          5,
          5,
          5,
          7,
          5,
          4,
          7,
          6,
          5,
          5,
          5,
          6,
          5,
          5,
          5,
          7,
          6,
          4,
          6,
          5,
          6,
          6,
          5,
          5,
          6,
          6,
          5,
          6,
          5,
          5,
          5,
          5,
          6,
          5,
          6,
          5,
          5,
          5,
          5,
          6,
          5,
          5,
          5,
          5,
          5,
          5,
          5,
          5,
          3,
          5,
          5,
          5,
          5,
          6,
          6,
          6,
          5,
          6,
          6,
          6,
          6,
          4,
          4,
          5,
          5,
          5,
          6,
          6,
          5,
          5,
          5,
          5,
          5,
          6,
          5,
          5,
          5,
          5,
          5,
          5,
          5,
          5,
          4,
          5,
          6,
          5,
          5,
          6,
          5,
          5,
          5,
          5,
          5,
          5,
          5,
          6,
          5,
          5,
          6,
          5,
          5,
          5,
          5,
          6,
          6,
          5,
          6,
          6,
          5,
          5,
          5,
          5,
          6,
          6,
          6,
          5,
          5,
          5,
          5,
          5,
          6,
          5,
          6,
          6,
          5,
          5,
          6,
          5,
          6,
          5,
          5,
          6,
          6,
          5,
          6,
          6,
          5,
          5,
          6,
          5,
          5,
          5,
          5,
          5,
          5,
          6,
          6,
          5,
          6,
          5,
          6,
          5,
          6,
          5,
          5,
          7,
          6,
          6,
          5,
          5,
          7,
          6,
          6,
          7,
          7,
          7,
          5,
          6,
          5,
          6,
          5,
          4,
          6,
          5,
          6,
          6,
          5,
          5,
          5,
          7,
          5,
          5,
          5,
          5,
          7,
          5,
          8,
          6,
          4,
          6,
          3,
          4,
          5,
          5,
          7,
          7,
          7,
          5,
          7,
          5,
          6,
          5,
          6,
          5,
          5,
          6,
          5,
          5,
          5,
          5,
          5,
          6,
          6,
          7,
          6,
          7,
          7,
          6,
          5,
          6,
          5,
          5,
          5,
          5,
          6,
          6,
          6,
          6,
          6,
          5,
          4,
          7,
          7,
          7,
          4,
          6,
          6,
          5,
          5,
          6,
          6,
          5,
          6,
          5,
          6,
          7,
          6,
          5,
          5,
          5,
          6,
          5,
          6,
          6,
          7,
          6,
          7,
          3,
          5,
          7,
          7,
          7,
          7,
          5,
          5,
          6,
          6,
          6,
          6,
          6,
          6,
          7,
          6,
          6,
          5,
          6,
          6,
          6,
          5,
          6,
          6,
          6,
          5,
          7,
          6,
          4,
          5,
          7,
          5,
          5,
          6,
          5,
          5,
          6,
          6,
          4,
          7,
          5,
          7,
          7,
          7,
          7,
          7,
          7,
          7,
          7,
          7,
          7,
          7,
          7,
          7,
          7,
          6,
          5,
          6,
          6,
          7,
          5,
          6,
          5,
          5,
          6,
          6,
          6,
          7,
          5,
          6,
          5,
          6,
          6,
          7,
          5,
          7,
          5,
          5,
          5,
          7,
          5,
          6,
          5,
          6,
          6,
          5,
          6,
          7,
          5,
          5,
          6,
          5,
          5,
          6,
          5,
          5,
          6,
          7,
          7,
          6,
          6,
          7,
          7,
          7,
          7,
          5,
          7,
          7,
          7,
          7,
          5,
          7,
          6,
          5,
          6,
          6,
          6,
          7,
          6,
          6,
          5,
          6,
          6,
          5,
          6,
          7,
          6,
          6,
          5,
          6,
          7,
          7,
          7,
          5,
          6,
          6,
          7,
          7,
          5,
          7,
          6,
          5,
          6,
          6,
          7,
          6,
          6,
          6,
          5,
          6,
          6,
          5,
          5,
          5,
          7,
          6,
          6,
          7,
          5,
          7,
          7,
          6,
          8,
          6,
          6,
          6,
          6,
          7,
          7,
          7,
          5,
          7,
          5,
          6,
          6,
          5,
          7,
          6,
          5,
          5,
          7,
          6,
          7,
          6,
          6,
          6,
          5,
          7,
          6,
          7,
          7,
          8,
          6,
          6,
          7,
          6,
          5,
          6,
          5,
          7,
          5,
          6,
          6,
          6,
          6,
          6,
          5,
          6,
          7,
          5,
          6,
          6,
          7,
          6,
          6,
          6,
          6,
          6,
          6,
          6,
          5,
          8,
          6,
          6,
          6,
          4,
          7,
          6,
          6,
          5,
          6,
          6,
          5,
          7,
          7,
          7,
          6,
          6,
          6,
          5,
          6,
          6,
          6,
          6,
          6,
          5,
          6,
          6,
          7,
          6,
          6,
          7,
          6,
          5,
          6,
          6,
          5,
          7,
          7,
          6,
          5,
          7,
          6,
          7,
          5,
          5,
          5,
          5,
          7,
          6,
          6,
          6,
          6,
          6,
          6,
          6,
          6,
          4,
          7,
          5,
          6,
          6,
          5,
          6,
          5,
          5,
          6,
          5,
          6,
          5,
          4,
          6,
          5,
          7,
          5,
          6,
          6,
          6,
          6,
          6,
          6,
          6,
          7,
          8,
          5,
          7,
          7,
          7,
          5,
          7,
          7,
          6,
          5,
          6,
          6,
          6,
          6,
          6,
          6,
          6,
          6,
          6,
          6,
          6,
          6,
          6,
          5,
          5,
          5,
          7,
          5,
          6,
          5,
          5,
          4,
          6,
          4,
          6,
          6,
          4,
          4,
          5,
          5,
          6,
          5,
          6,
          5,
          5,
          5,
          6,
          6,
          6,
          5,
          5,
          5,
          5,
          5,
          5,
          6,
          6,
          6,
          5,
          4,
          5,
          4,
          6,
          6,
          6,
          6,
          6,
          8,
          6,
          6,
          5,
          5,
          6,
          6,
          4,
          6,
          6,
          7,
          6,
          6,
          6,
          6,
          5,
          5,
          6,
          5,
          5,
          5,
          5,
          6,
          6,
          4,
          6,
          5,
          5,
          6,
          6,
          3,
          6,
          6,
          6,
          5,
          5,
          5,
          5,
          4,
          5,
          5,
          5,
          6,
          5,
          6,
          6,
          6,
          6,
          6,
          6,
          6,
          5,
          6,
          5,
          7,
          6,
          6,
          6,
          6,
          5,
          6,
          6,
          5,
          6,
          5,
          5,
          6,
          5,
          5,
          5,
          6,
          6,
          6,
          6,
          6,
          5,
          6,
          5,
          5,
          5,
          5,
          5,
          6,
          5,
          5,
          5,
          5,
          5,
          6,
          5,
          6,
          5,
          5,
          6,
          4,
          6,
          5,
          5,
          6,
          6,
          4,
          5,
          6,
          5,
          5,
          3,
          5,
          5,
          6,
          6,
          6,
          6,
          5,
          5,
          5,
          5,
          5,
          5,
          5,
          5,
          5,
          6,
          5,
          5,
          5,
          5,
          6,
          5,
          5,
          7,
          6,
          5,
          5,
          6,
          8,
          6,
          7,
          6,
          6,
          7,
          6,
          6,
          6,
          6,
          5,
          5,
          5,
          5,
          7,
          5,
          5,
          5,
          5,
          6,
          4,
          6,
          6,
          6,
          5,
          5,
          5,
          5,
          6,
          6,
          7,
          6,
          6,
          5,
          5,
          5,
          6,
          7,
          6,
          5,
          5,
          6,
          6,
          5,
          5,
          5,
          8,
          7,
          7,
          7,
          5,
          6,
          6,
          6,
          5,
          5,
          7,
          6,
          4,
          6,
          6,
          5,
          5,
          7,
          4,
          7,
          3,
          5,
          5,
          6,
          5,
          5,
          7,
          5,
          7,
          3,
          5,
          4,
          5,
          4,
          5,
          4,
          5,
          5,
          5,
          5,
          6,
          6,
          5,
          5,
          5,
          7,
          6,
          5,
          6,
          6,
          6,
          5,
          5,
          5,
          6,
          6,
          3,
          6,
          6,
          6,
          5,
          6,
          5,
          6,
          6,
          6,
          6,
          5,
          6,
          5,
          5,
          6,
          4,
          5,
          5,
          6,
          5,
          6,
          6,
          6,
          6,
          6,
          5,
          6,
          5,
          7,
          6,
          6,
          6,
          5,
          5,
          6,
          7,
          6,
          6,
          7,
          6,
          5,
          5,
          5,
          8,
          5,
          5,
          6,
          5,
          6,
          7,
          5,
          6,
          5,
          5,
          5,
          5,
          5,
          5,
          5,
          6,
          6,
          5,
          5,
          6,
          6,
          6,
          5,
          6,
          6,
          6,
          6,
          6,
          6,
          5,
          6,
          5,
          5,
          5,
          7,
          6,
          6,
          6,
          6,
          5,
          6,
          6,
          6,
          6,
          5,
          6,
          6,
          5,
          6
         ],
         "xaxis": "x",
         "yaxis": "y"
        }
       ],
       "layout": {
        "barmode": "relative",
        "legend": {
         "tracegroupgap": 0
        },
        "margin": {
         "t": 60
        },
        "template": {
         "data": {
          "bar": [
           {
            "error_x": {
             "color": "#2a3f5f"
            },
            "error_y": {
             "color": "#2a3f5f"
            },
            "marker": {
             "line": {
              "color": "#E5ECF6",
              "width": 0.5
             }
            },
            "type": "bar"
           }
          ],
          "barpolar": [
           {
            "marker": {
             "line": {
              "color": "#E5ECF6",
              "width": 0.5
             }
            },
            "type": "barpolar"
           }
          ],
          "carpet": [
           {
            "aaxis": {
             "endlinecolor": "#2a3f5f",
             "gridcolor": "white",
             "linecolor": "white",
             "minorgridcolor": "white",
             "startlinecolor": "#2a3f5f"
            },
            "baxis": {
             "endlinecolor": "#2a3f5f",
             "gridcolor": "white",
             "linecolor": "white",
             "minorgridcolor": "white",
             "startlinecolor": "#2a3f5f"
            },
            "type": "carpet"
           }
          ],
          "choropleth": [
           {
            "colorbar": {
             "outlinewidth": 0,
             "ticks": ""
            },
            "type": "choropleth"
           }
          ],
          "contour": [
           {
            "colorbar": {
             "outlinewidth": 0,
             "ticks": ""
            },
            "colorscale": [
             [
              0,
              "#0d0887"
             ],
             [
              0.1111111111111111,
              "#46039f"
             ],
             [
              0.2222222222222222,
              "#7201a8"
             ],
             [
              0.3333333333333333,
              "#9c179e"
             ],
             [
              0.4444444444444444,
              "#bd3786"
             ],
             [
              0.5555555555555556,
              "#d8576b"
             ],
             [
              0.6666666666666666,
              "#ed7953"
             ],
             [
              0.7777777777777778,
              "#fb9f3a"
             ],
             [
              0.8888888888888888,
              "#fdca26"
             ],
             [
              1,
              "#f0f921"
             ]
            ],
            "type": "contour"
           }
          ],
          "contourcarpet": [
           {
            "colorbar": {
             "outlinewidth": 0,
             "ticks": ""
            },
            "type": "contourcarpet"
           }
          ],
          "heatmap": [
           {
            "colorbar": {
             "outlinewidth": 0,
             "ticks": ""
            },
            "colorscale": [
             [
              0,
              "#0d0887"
             ],
             [
              0.1111111111111111,
              "#46039f"
             ],
             [
              0.2222222222222222,
              "#7201a8"
             ],
             [
              0.3333333333333333,
              "#9c179e"
             ],
             [
              0.4444444444444444,
              "#bd3786"
             ],
             [
              0.5555555555555556,
              "#d8576b"
             ],
             [
              0.6666666666666666,
              "#ed7953"
             ],
             [
              0.7777777777777778,
              "#fb9f3a"
             ],
             [
              0.8888888888888888,
              "#fdca26"
             ],
             [
              1,
              "#f0f921"
             ]
            ],
            "type": "heatmap"
           }
          ],
          "heatmapgl": [
           {
            "colorbar": {
             "outlinewidth": 0,
             "ticks": ""
            },
            "colorscale": [
             [
              0,
              "#0d0887"
             ],
             [
              0.1111111111111111,
              "#46039f"
             ],
             [
              0.2222222222222222,
              "#7201a8"
             ],
             [
              0.3333333333333333,
              "#9c179e"
             ],
             [
              0.4444444444444444,
              "#bd3786"
             ],
             [
              0.5555555555555556,
              "#d8576b"
             ],
             [
              0.6666666666666666,
              "#ed7953"
             ],
             [
              0.7777777777777778,
              "#fb9f3a"
             ],
             [
              0.8888888888888888,
              "#fdca26"
             ],
             [
              1,
              "#f0f921"
             ]
            ],
            "type": "heatmapgl"
           }
          ],
          "histogram": [
           {
            "marker": {
             "colorbar": {
              "outlinewidth": 0,
              "ticks": ""
             }
            },
            "type": "histogram"
           }
          ],
          "histogram2d": [
           {
            "colorbar": {
             "outlinewidth": 0,
             "ticks": ""
            },
            "colorscale": [
             [
              0,
              "#0d0887"
             ],
             [
              0.1111111111111111,
              "#46039f"
             ],
             [
              0.2222222222222222,
              "#7201a8"
             ],
             [
              0.3333333333333333,
              "#9c179e"
             ],
             [
              0.4444444444444444,
              "#bd3786"
             ],
             [
              0.5555555555555556,
              "#d8576b"
             ],
             [
              0.6666666666666666,
              "#ed7953"
             ],
             [
              0.7777777777777778,
              "#fb9f3a"
             ],
             [
              0.8888888888888888,
              "#fdca26"
             ],
             [
              1,
              "#f0f921"
             ]
            ],
            "type": "histogram2d"
           }
          ],
          "histogram2dcontour": [
           {
            "colorbar": {
             "outlinewidth": 0,
             "ticks": ""
            },
            "colorscale": [
             [
              0,
              "#0d0887"
             ],
             [
              0.1111111111111111,
              "#46039f"
             ],
             [
              0.2222222222222222,
              "#7201a8"
             ],
             [
              0.3333333333333333,
              "#9c179e"
             ],
             [
              0.4444444444444444,
              "#bd3786"
             ],
             [
              0.5555555555555556,
              "#d8576b"
             ],
             [
              0.6666666666666666,
              "#ed7953"
             ],
             [
              0.7777777777777778,
              "#fb9f3a"
             ],
             [
              0.8888888888888888,
              "#fdca26"
             ],
             [
              1,
              "#f0f921"
             ]
            ],
            "type": "histogram2dcontour"
           }
          ],
          "mesh3d": [
           {
            "colorbar": {
             "outlinewidth": 0,
             "ticks": ""
            },
            "type": "mesh3d"
           }
          ],
          "parcoords": [
           {
            "line": {
             "colorbar": {
              "outlinewidth": 0,
              "ticks": ""
             }
            },
            "type": "parcoords"
           }
          ],
          "pie": [
           {
            "automargin": true,
            "type": "pie"
           }
          ],
          "scatter": [
           {
            "marker": {
             "colorbar": {
              "outlinewidth": 0,
              "ticks": ""
             }
            },
            "type": "scatter"
           }
          ],
          "scatter3d": [
           {
            "line": {
             "colorbar": {
              "outlinewidth": 0,
              "ticks": ""
             }
            },
            "marker": {
             "colorbar": {
              "outlinewidth": 0,
              "ticks": ""
             }
            },
            "type": "scatter3d"
           }
          ],
          "scattercarpet": [
           {
            "marker": {
             "colorbar": {
              "outlinewidth": 0,
              "ticks": ""
             }
            },
            "type": "scattercarpet"
           }
          ],
          "scattergeo": [
           {
            "marker": {
             "colorbar": {
              "outlinewidth": 0,
              "ticks": ""
             }
            },
            "type": "scattergeo"
           }
          ],
          "scattergl": [
           {
            "marker": {
             "colorbar": {
              "outlinewidth": 0,
              "ticks": ""
             }
            },
            "type": "scattergl"
           }
          ],
          "scattermapbox": [
           {
            "marker": {
             "colorbar": {
              "outlinewidth": 0,
              "ticks": ""
             }
            },
            "type": "scattermapbox"
           }
          ],
          "scatterpolar": [
           {
            "marker": {
             "colorbar": {
              "outlinewidth": 0,
              "ticks": ""
             }
            },
            "type": "scatterpolar"
           }
          ],
          "scatterpolargl": [
           {
            "marker": {
             "colorbar": {
              "outlinewidth": 0,
              "ticks": ""
             }
            },
            "type": "scatterpolargl"
           }
          ],
          "scatterternary": [
           {
            "marker": {
             "colorbar": {
              "outlinewidth": 0,
              "ticks": ""
             }
            },
            "type": "scatterternary"
           }
          ],
          "surface": [
           {
            "colorbar": {
             "outlinewidth": 0,
             "ticks": ""
            },
            "colorscale": [
             [
              0,
              "#0d0887"
             ],
             [
              0.1111111111111111,
              "#46039f"
             ],
             [
              0.2222222222222222,
              "#7201a8"
             ],
             [
              0.3333333333333333,
              "#9c179e"
             ],
             [
              0.4444444444444444,
              "#bd3786"
             ],
             [
              0.5555555555555556,
              "#d8576b"
             ],
             [
              0.6666666666666666,
              "#ed7953"
             ],
             [
              0.7777777777777778,
              "#fb9f3a"
             ],
             [
              0.8888888888888888,
              "#fdca26"
             ],
             [
              1,
              "#f0f921"
             ]
            ],
            "type": "surface"
           }
          ],
          "table": [
           {
            "cells": {
             "fill": {
              "color": "#EBF0F8"
             },
             "line": {
              "color": "white"
             }
            },
            "header": {
             "fill": {
              "color": "#C8D4E3"
             },
             "line": {
              "color": "white"
             }
            },
            "type": "table"
           }
          ]
         },
         "layout": {
          "annotationdefaults": {
           "arrowcolor": "#2a3f5f",
           "arrowhead": 0,
           "arrowwidth": 1
          },
          "coloraxis": {
           "colorbar": {
            "outlinewidth": 0,
            "ticks": ""
           }
          },
          "colorscale": {
           "diverging": [
            [
             0,
             "#8e0152"
            ],
            [
             0.1,
             "#c51b7d"
            ],
            [
             0.2,
             "#de77ae"
            ],
            [
             0.3,
             "#f1b6da"
            ],
            [
             0.4,
             "#fde0ef"
            ],
            [
             0.5,
             "#f7f7f7"
            ],
            [
             0.6,
             "#e6f5d0"
            ],
            [
             0.7,
             "#b8e186"
            ],
            [
             0.8,
             "#7fbc41"
            ],
            [
             0.9,
             "#4d9221"
            ],
            [
             1,
             "#276419"
            ]
           ],
           "sequential": [
            [
             0,
             "#0d0887"
            ],
            [
             0.1111111111111111,
             "#46039f"
            ],
            [
             0.2222222222222222,
             "#7201a8"
            ],
            [
             0.3333333333333333,
             "#9c179e"
            ],
            [
             0.4444444444444444,
             "#bd3786"
            ],
            [
             0.5555555555555556,
             "#d8576b"
            ],
            [
             0.6666666666666666,
             "#ed7953"
            ],
            [
             0.7777777777777778,
             "#fb9f3a"
            ],
            [
             0.8888888888888888,
             "#fdca26"
            ],
            [
             1,
             "#f0f921"
            ]
           ],
           "sequentialminus": [
            [
             0,
             "#0d0887"
            ],
            [
             0.1111111111111111,
             "#46039f"
            ],
            [
             0.2222222222222222,
             "#7201a8"
            ],
            [
             0.3333333333333333,
             "#9c179e"
            ],
            [
             0.4444444444444444,
             "#bd3786"
            ],
            [
             0.5555555555555556,
             "#d8576b"
            ],
            [
             0.6666666666666666,
             "#ed7953"
            ],
            [
             0.7777777777777778,
             "#fb9f3a"
            ],
            [
             0.8888888888888888,
             "#fdca26"
            ],
            [
             1,
             "#f0f921"
            ]
           ]
          },
          "colorway": [
           "#636efa",
           "#EF553B",
           "#00cc96",
           "#ab63fa",
           "#FFA15A",
           "#19d3f3",
           "#FF6692",
           "#B6E880",
           "#FF97FF",
           "#FECB52"
          ],
          "font": {
           "color": "#2a3f5f"
          },
          "geo": {
           "bgcolor": "white",
           "lakecolor": "white",
           "landcolor": "#E5ECF6",
           "showlakes": true,
           "showland": true,
           "subunitcolor": "white"
          },
          "hoverlabel": {
           "align": "left"
          },
          "hovermode": "closest",
          "mapbox": {
           "style": "light"
          },
          "paper_bgcolor": "white",
          "plot_bgcolor": "#E5ECF6",
          "polar": {
           "angularaxis": {
            "gridcolor": "white",
            "linecolor": "white",
            "ticks": ""
           },
           "bgcolor": "#E5ECF6",
           "radialaxis": {
            "gridcolor": "white",
            "linecolor": "white",
            "ticks": ""
           }
          },
          "scene": {
           "xaxis": {
            "backgroundcolor": "#E5ECF6",
            "gridcolor": "white",
            "gridwidth": 2,
            "linecolor": "white",
            "showbackground": true,
            "ticks": "",
            "zerolinecolor": "white"
           },
           "yaxis": {
            "backgroundcolor": "#E5ECF6",
            "gridcolor": "white",
            "gridwidth": 2,
            "linecolor": "white",
            "showbackground": true,
            "ticks": "",
            "zerolinecolor": "white"
           },
           "zaxis": {
            "backgroundcolor": "#E5ECF6",
            "gridcolor": "white",
            "gridwidth": 2,
            "linecolor": "white",
            "showbackground": true,
            "ticks": "",
            "zerolinecolor": "white"
           }
          },
          "shapedefaults": {
           "line": {
            "color": "#2a3f5f"
           }
          },
          "ternary": {
           "aaxis": {
            "gridcolor": "white",
            "linecolor": "white",
            "ticks": ""
           },
           "baxis": {
            "gridcolor": "white",
            "linecolor": "white",
            "ticks": ""
           },
           "bgcolor": "#E5ECF6",
           "caxis": {
            "gridcolor": "white",
            "linecolor": "white",
            "ticks": ""
           }
          },
          "title": {
           "x": 0.05
          },
          "xaxis": {
           "automargin": true,
           "gridcolor": "white",
           "linecolor": "white",
           "ticks": "",
           "title": {
            "standoff": 15
           },
           "zerolinecolor": "white",
           "zerolinewidth": 2
          },
          "yaxis": {
           "automargin": true,
           "gridcolor": "white",
           "linecolor": "white",
           "ticks": "",
           "title": {
            "standoff": 15
           },
           "zerolinecolor": "white",
           "zerolinewidth": 2
          }
         }
        },
        "xaxis": {
         "anchor": "y",
         "domain": [
          0,
          1
         ],
         "title": {
          "text": "quality"
         }
        },
        "yaxis": {
         "anchor": "x",
         "domain": [
          0,
          1
         ],
         "title": {
          "text": "count"
         }
        }
       }
      },
      "text/html": [
       "<div>                            <div id=\"70091db8-e4b7-4564-9fa0-08301eaf362b\" class=\"plotly-graph-div\" style=\"height:525px; width:100%;\"></div>            <script type=\"text/javascript\">                require([\"plotly\"], function(Plotly) {                    window.PLOTLYENV=window.PLOTLYENV || {};                                    if (document.getElementById(\"70091db8-e4b7-4564-9fa0-08301eaf362b\")) {                    Plotly.newPlot(                        \"70091db8-e4b7-4564-9fa0-08301eaf362b\",                        [{\"alignmentgroup\": \"True\", \"bingroup\": \"x\", \"hovertemplate\": \"quality=%{x}<br>count=%{y}<extra></extra>\", \"legendgroup\": \"\", \"marker\": {\"color\": \"#636efa\"}, \"name\": \"\", \"offsetgroup\": \"\", \"orientation\": \"v\", \"showlegend\": false, \"type\": \"histogram\", \"x\": [5, 5, 5, 6, 5, 5, 5, 7, 7, 5, 5, 5, 5, 5, 5, 5, 7, 5, 4, 6, 6, 5, 5, 5, 6, 5, 5, 5, 5, 6, 5, 6, 5, 6, 5, 6, 6, 7, 4, 5, 5, 4, 6, 5, 5, 4, 5, 5, 5, 5, 5, 6, 6, 5, 6, 5, 5, 5, 5, 6, 5, 5, 7, 5, 5, 5, 5, 5, 5, 6, 6, 5, 5, 4, 5, 5, 5, 6, 5, 4, 5, 5, 5, 5, 6, 5, 6, 5, 5, 5, 5, 6, 5, 5, 4, 6, 5, 5, 5, 6, 6, 6, 6, 5, 5, 5, 5, 5, 6, 5, 5, 5, 5, 6, 5, 6, 6, 6, 6, 6, 5, 6, 5, 5, 5, 5, 5, 5, 7, 5, 5, 5, 5, 6, 6, 5, 5, 5, 5, 5, 5, 5, 6, 5, 6, 5, 5, 5, 6, 6, 6, 4, 5, 5, 5, 5, 5, 5, 5, 6, 5, 4, 6, 5, 5, 5, 5, 4, 6, 5, 4, 6, 6, 6, 5, 5, 5, 6, 5, 5, 5, 5, 5, 5, 6, 5, 5, 5, 5, 5, 5, 6, 5, 5, 5, 5, 5, 6, 7, 4, 7, 5, 5, 5, 6, 7, 7, 5, 5, 7, 6, 6, 6, 5, 6, 5, 5, 5, 5, 5, 6, 5, 5, 6, 4, 6, 6, 5, 6, 5, 7, 6, 6, 5, 6, 6, 6, 6, 6, 6, 5, 6, 6, 7, 7, 6, 5, 5, 6, 6, 6, 6, 5, 5, 6, 5, 5, 5, 5, 7, 5, 4, 5, 5, 5, 7, 4, 8, 6, 6, 6, 6, 5, 5, 5, 6, 6, 6, 8, 7, 6, 7, 5, 7, 5, 5, 6, 6, 7, 5, 7, 5, 6, 6, 6, 5, 5, 5, 5, 5, 6, 6, 5, 5, 5, 6, 5, 6, 6, 6, 6, 6, 6, 5, 5, 6, 5, 6, 7, 6, 7, 5, 5, 6, 6, 6, 7, 5, 6, 5, 6, 6, 6, 5, 7, 7, 6, 5, 6, 7, 6, 6, 6, 6, 6, 5, 7, 6, 6, 6, 6, 6, 5, 5, 6, 6, 5, 7, 7, 6, 5, 6, 5, 5, 7, 6, 7, 5, 5, 7, 5, 6, 6, 5, 6, 7, 6, 7, 6, 6, 6, 6, 6, 6, 5, 6, 6, 6, 6, 7, 8, 6, 5, 5, 5, 7, 5, 6, 6, 5, 5, 6, 6, 6, 5, 6, 6, 7, 6, 4, 6, 5, 5, 7, 5, 5, 6, 5, 6, 5, 7, 7, 5, 7, 5, 7, 6, 6, 5, 6, 7, 5, 6, 5, 6, 5, 6, 6, 6, 5, 8, 6, 7, 7, 7, 6, 5, 5, 6, 6, 6, 6, 6, 7, 5, 8, 5, 5, 7, 3, 6, 5, 5, 5, 6, 5, 6, 6, 6, 5, 5, 6, 6, 5, 6, 5, 5, 6, 5, 6, 5, 8, 5, 5, 6, 5, 5, 6, 7, 6, 6, 7, 7, 6, 6, 8, 6, 5, 8, 6, 6, 7, 7, 7, 7, 7, 7, 6, 6, 7, 5, 6, 6, 7, 7, 5, 6, 3, 6, 5, 6, 5, 5, 5, 5, 5, 5, 6, 6, 5, 6, 5, 5, 6, 6, 6, 5, 6, 7, 5, 5, 6, 5, 6, 6, 5, 6, 6, 6, 6, 6, 6, 6, 5, 5, 5, 6, 5, 6, 6, 5, 5, 5, 6, 6, 5, 6, 6, 6, 6, 6, 6, 5, 4, 6, 6, 4, 5, 5, 6, 5, 5, 5, 7, 7, 6, 7, 5, 8, 7, 5, 6, 5, 5, 5, 5, 6, 6, 6, 6, 4, 6, 5, 6, 6, 6, 7, 6, 6, 6, 5, 5, 6, 5, 6, 5, 5, 6, 5, 5, 5, 5, 5, 6, 5, 5, 5, 5, 6, 5, 6, 5, 6, 4, 5, 5, 5, 5, 7, 6, 5, 5, 5, 5, 5, 7, 5, 4, 7, 6, 5, 5, 5, 6, 5, 5, 5, 7, 6, 4, 6, 5, 6, 6, 5, 5, 6, 6, 5, 6, 5, 5, 5, 5, 6, 5, 6, 5, 5, 5, 5, 6, 5, 5, 5, 5, 5, 5, 5, 5, 3, 5, 5, 5, 5, 6, 6, 6, 5, 6, 6, 6, 6, 4, 4, 5, 5, 5, 6, 6, 5, 5, 5, 5, 5, 6, 5, 5, 5, 5, 5, 5, 5, 5, 4, 5, 6, 5, 5, 6, 5, 5, 5, 5, 5, 5, 5, 6, 5, 5, 6, 5, 5, 5, 5, 6, 6, 5, 6, 6, 5, 5, 5, 5, 6, 6, 6, 5, 5, 5, 5, 5, 6, 5, 6, 6, 5, 5, 6, 5, 6, 5, 5, 6, 6, 5, 6, 6, 5, 5, 6, 5, 5, 5, 5, 5, 5, 6, 6, 5, 6, 5, 6, 5, 6, 5, 5, 7, 6, 6, 5, 5, 7, 6, 6, 7, 7, 7, 5, 6, 5, 6, 5, 4, 6, 5, 6, 6, 5, 5, 5, 7, 5, 5, 5, 5, 7, 5, 8, 6, 4, 6, 3, 4, 5, 5, 7, 7, 7, 5, 7, 5, 6, 5, 6, 5, 5, 6, 5, 5, 5, 5, 5, 6, 6, 7, 6, 7, 7, 6, 5, 6, 5, 5, 5, 5, 6, 6, 6, 6, 6, 5, 4, 7, 7, 7, 4, 6, 6, 5, 5, 6, 6, 5, 6, 5, 6, 7, 6, 5, 5, 5, 6, 5, 6, 6, 7, 6, 7, 3, 5, 7, 7, 7, 7, 5, 5, 6, 6, 6, 6, 6, 6, 7, 6, 6, 5, 6, 6, 6, 5, 6, 6, 6, 5, 7, 6, 4, 5, 7, 5, 5, 6, 5, 5, 6, 6, 4, 7, 5, 7, 7, 7, 7, 7, 7, 7, 7, 7, 7, 7, 7, 7, 7, 6, 5, 6, 6, 7, 5, 6, 5, 5, 6, 6, 6, 7, 5, 6, 5, 6, 6, 7, 5, 7, 5, 5, 5, 7, 5, 6, 5, 6, 6, 5, 6, 7, 5, 5, 6, 5, 5, 6, 5, 5, 6, 7, 7, 6, 6, 7, 7, 7, 7, 5, 7, 7, 7, 7, 5, 7, 6, 5, 6, 6, 6, 7, 6, 6, 5, 6, 6, 5, 6, 7, 6, 6, 5, 6, 7, 7, 7, 5, 6, 6, 7, 7, 5, 7, 6, 5, 6, 6, 7, 6, 6, 6, 5, 6, 6, 5, 5, 5, 7, 6, 6, 7, 5, 7, 7, 6, 8, 6, 6, 6, 6, 7, 7, 7, 5, 7, 5, 6, 6, 5, 7, 6, 5, 5, 7, 6, 7, 6, 6, 6, 5, 7, 6, 7, 7, 8, 6, 6, 7, 6, 5, 6, 5, 7, 5, 6, 6, 6, 6, 6, 5, 6, 7, 5, 6, 6, 7, 6, 6, 6, 6, 6, 6, 6, 5, 8, 6, 6, 6, 4, 7, 6, 6, 5, 6, 6, 5, 7, 7, 7, 6, 6, 6, 5, 6, 6, 6, 6, 6, 5, 6, 6, 7, 6, 6, 7, 6, 5, 6, 6, 5, 7, 7, 6, 5, 7, 6, 7, 5, 5, 5, 5, 7, 6, 6, 6, 6, 6, 6, 6, 6, 4, 7, 5, 6, 6, 5, 6, 5, 5, 6, 5, 6, 5, 4, 6, 5, 7, 5, 6, 6, 6, 6, 6, 6, 6, 7, 8, 5, 7, 7, 7, 5, 7, 7, 6, 5, 6, 6, 6, 6, 6, 6, 6, 6, 6, 6, 6, 6, 6, 5, 5, 5, 7, 5, 6, 5, 5, 4, 6, 4, 6, 6, 4, 4, 5, 5, 6, 5, 6, 5, 5, 5, 6, 6, 6, 5, 5, 5, 5, 5, 5, 6, 6, 6, 5, 4, 5, 4, 6, 6, 6, 6, 6, 8, 6, 6, 5, 5, 6, 6, 4, 6, 6, 7, 6, 6, 6, 6, 5, 5, 6, 5, 5, 5, 5, 6, 6, 4, 6, 5, 5, 6, 6, 3, 6, 6, 6, 5, 5, 5, 5, 4, 5, 5, 5, 6, 5, 6, 6, 6, 6, 6, 6, 6, 5, 6, 5, 7, 6, 6, 6, 6, 5, 6, 6, 5, 6, 5, 5, 6, 5, 5, 5, 6, 6, 6, 6, 6, 5, 6, 5, 5, 5, 5, 5, 6, 5, 5, 5, 5, 5, 6, 5, 6, 5, 5, 6, 4, 6, 5, 5, 6, 6, 4, 5, 6, 5, 5, 3, 5, 5, 6, 6, 6, 6, 5, 5, 5, 5, 5, 5, 5, 5, 5, 6, 5, 5, 5, 5, 6, 5, 5, 7, 6, 5, 5, 6, 8, 6, 7, 6, 6, 7, 6, 6, 6, 6, 5, 5, 5, 5, 7, 5, 5, 5, 5, 6, 4, 6, 6, 6, 5, 5, 5, 5, 6, 6, 7, 6, 6, 5, 5, 5, 6, 7, 6, 5, 5, 6, 6, 5, 5, 5, 8, 7, 7, 7, 5, 6, 6, 6, 5, 5, 7, 6, 4, 6, 6, 5, 5, 7, 4, 7, 3, 5, 5, 6, 5, 5, 7, 5, 7, 3, 5, 4, 5, 4, 5, 4, 5, 5, 5, 5, 6, 6, 5, 5, 5, 7, 6, 5, 6, 6, 6, 5, 5, 5, 6, 6, 3, 6, 6, 6, 5, 6, 5, 6, 6, 6, 6, 5, 6, 5, 5, 6, 4, 5, 5, 6, 5, 6, 6, 6, 6, 6, 5, 6, 5, 7, 6, 6, 6, 5, 5, 6, 7, 6, 6, 7, 6, 5, 5, 5, 8, 5, 5, 6, 5, 6, 7, 5, 6, 5, 5, 5, 5, 5, 5, 5, 6, 6, 5, 5, 6, 6, 6, 5, 6, 6, 6, 6, 6, 6, 5, 6, 5, 5, 5, 7, 6, 6, 6, 6, 5, 6, 6, 6, 6, 5, 6, 6, 5, 6], \"xaxis\": \"x\", \"yaxis\": \"y\"}],                        {\"barmode\": \"relative\", \"legend\": {\"tracegroupgap\": 0}, \"margin\": {\"t\": 60}, \"template\": {\"data\": {\"bar\": [{\"error_x\": {\"color\": \"#2a3f5f\"}, \"error_y\": {\"color\": \"#2a3f5f\"}, \"marker\": {\"line\": {\"color\": \"#E5ECF6\", \"width\": 0.5}}, \"type\": \"bar\"}], \"barpolar\": [{\"marker\": {\"line\": {\"color\": \"#E5ECF6\", \"width\": 0.5}}, \"type\": \"barpolar\"}], \"carpet\": [{\"aaxis\": {\"endlinecolor\": \"#2a3f5f\", \"gridcolor\": \"white\", \"linecolor\": \"white\", \"minorgridcolor\": \"white\", \"startlinecolor\": \"#2a3f5f\"}, \"baxis\": {\"endlinecolor\": \"#2a3f5f\", \"gridcolor\": \"white\", \"linecolor\": \"white\", \"minorgridcolor\": \"white\", \"startlinecolor\": \"#2a3f5f\"}, \"type\": \"carpet\"}], \"choropleth\": [{\"colorbar\": {\"outlinewidth\": 0, \"ticks\": \"\"}, \"type\": \"choropleth\"}], \"contour\": [{\"colorbar\": {\"outlinewidth\": 0, \"ticks\": \"\"}, \"colorscale\": [[0.0, \"#0d0887\"], [0.1111111111111111, \"#46039f\"], [0.2222222222222222, \"#7201a8\"], [0.3333333333333333, \"#9c179e\"], [0.4444444444444444, \"#bd3786\"], [0.5555555555555556, \"#d8576b\"], [0.6666666666666666, \"#ed7953\"], [0.7777777777777778, \"#fb9f3a\"], [0.8888888888888888, \"#fdca26\"], [1.0, \"#f0f921\"]], \"type\": \"contour\"}], \"contourcarpet\": [{\"colorbar\": {\"outlinewidth\": 0, \"ticks\": \"\"}, \"type\": \"contourcarpet\"}], \"heatmap\": [{\"colorbar\": {\"outlinewidth\": 0, \"ticks\": \"\"}, \"colorscale\": [[0.0, \"#0d0887\"], [0.1111111111111111, \"#46039f\"], [0.2222222222222222, \"#7201a8\"], [0.3333333333333333, \"#9c179e\"], [0.4444444444444444, \"#bd3786\"], [0.5555555555555556, \"#d8576b\"], [0.6666666666666666, \"#ed7953\"], [0.7777777777777778, \"#fb9f3a\"], [0.8888888888888888, \"#fdca26\"], [1.0, \"#f0f921\"]], \"type\": \"heatmap\"}], \"heatmapgl\": [{\"colorbar\": {\"outlinewidth\": 0, \"ticks\": \"\"}, \"colorscale\": [[0.0, \"#0d0887\"], [0.1111111111111111, \"#46039f\"], [0.2222222222222222, \"#7201a8\"], [0.3333333333333333, \"#9c179e\"], [0.4444444444444444, \"#bd3786\"], [0.5555555555555556, \"#d8576b\"], [0.6666666666666666, \"#ed7953\"], [0.7777777777777778, \"#fb9f3a\"], [0.8888888888888888, \"#fdca26\"], [1.0, \"#f0f921\"]], \"type\": \"heatmapgl\"}], \"histogram\": [{\"marker\": {\"colorbar\": {\"outlinewidth\": 0, \"ticks\": \"\"}}, \"type\": \"histogram\"}], \"histogram2d\": [{\"colorbar\": {\"outlinewidth\": 0, \"ticks\": \"\"}, \"colorscale\": [[0.0, \"#0d0887\"], [0.1111111111111111, \"#46039f\"], [0.2222222222222222, \"#7201a8\"], [0.3333333333333333, \"#9c179e\"], [0.4444444444444444, \"#bd3786\"], [0.5555555555555556, \"#d8576b\"], [0.6666666666666666, \"#ed7953\"], [0.7777777777777778, \"#fb9f3a\"], [0.8888888888888888, \"#fdca26\"], [1.0, \"#f0f921\"]], \"type\": \"histogram2d\"}], \"histogram2dcontour\": [{\"colorbar\": {\"outlinewidth\": 0, \"ticks\": \"\"}, \"colorscale\": [[0.0, \"#0d0887\"], [0.1111111111111111, \"#46039f\"], [0.2222222222222222, \"#7201a8\"], [0.3333333333333333, \"#9c179e\"], [0.4444444444444444, \"#bd3786\"], [0.5555555555555556, \"#d8576b\"], [0.6666666666666666, \"#ed7953\"], [0.7777777777777778, \"#fb9f3a\"], [0.8888888888888888, \"#fdca26\"], [1.0, \"#f0f921\"]], \"type\": \"histogram2dcontour\"}], \"mesh3d\": [{\"colorbar\": {\"outlinewidth\": 0, \"ticks\": \"\"}, \"type\": \"mesh3d\"}], \"parcoords\": [{\"line\": {\"colorbar\": {\"outlinewidth\": 0, \"ticks\": \"\"}}, \"type\": \"parcoords\"}], \"pie\": [{\"automargin\": true, \"type\": \"pie\"}], \"scatter\": [{\"marker\": {\"colorbar\": {\"outlinewidth\": 0, \"ticks\": \"\"}}, \"type\": \"scatter\"}], \"scatter3d\": [{\"line\": {\"colorbar\": {\"outlinewidth\": 0, \"ticks\": \"\"}}, \"marker\": {\"colorbar\": {\"outlinewidth\": 0, \"ticks\": \"\"}}, \"type\": \"scatter3d\"}], \"scattercarpet\": [{\"marker\": {\"colorbar\": {\"outlinewidth\": 0, \"ticks\": \"\"}}, \"type\": \"scattercarpet\"}], \"scattergeo\": [{\"marker\": {\"colorbar\": {\"outlinewidth\": 0, \"ticks\": \"\"}}, \"type\": \"scattergeo\"}], \"scattergl\": [{\"marker\": {\"colorbar\": {\"outlinewidth\": 0, \"ticks\": \"\"}}, \"type\": \"scattergl\"}], \"scattermapbox\": [{\"marker\": {\"colorbar\": {\"outlinewidth\": 0, \"ticks\": \"\"}}, \"type\": \"scattermapbox\"}], \"scatterpolar\": [{\"marker\": {\"colorbar\": {\"outlinewidth\": 0, \"ticks\": \"\"}}, \"type\": \"scatterpolar\"}], \"scatterpolargl\": [{\"marker\": {\"colorbar\": {\"outlinewidth\": 0, \"ticks\": \"\"}}, \"type\": \"scatterpolargl\"}], \"scatterternary\": [{\"marker\": {\"colorbar\": {\"outlinewidth\": 0, \"ticks\": \"\"}}, \"type\": \"scatterternary\"}], \"surface\": [{\"colorbar\": {\"outlinewidth\": 0, \"ticks\": \"\"}, \"colorscale\": [[0.0, \"#0d0887\"], [0.1111111111111111, \"#46039f\"], [0.2222222222222222, \"#7201a8\"], [0.3333333333333333, \"#9c179e\"], [0.4444444444444444, \"#bd3786\"], [0.5555555555555556, \"#d8576b\"], [0.6666666666666666, \"#ed7953\"], [0.7777777777777778, \"#fb9f3a\"], [0.8888888888888888, \"#fdca26\"], [1.0, \"#f0f921\"]], \"type\": \"surface\"}], \"table\": [{\"cells\": {\"fill\": {\"color\": \"#EBF0F8\"}, \"line\": {\"color\": \"white\"}}, \"header\": {\"fill\": {\"color\": \"#C8D4E3\"}, \"line\": {\"color\": \"white\"}}, \"type\": \"table\"}]}, \"layout\": {\"annotationdefaults\": {\"arrowcolor\": \"#2a3f5f\", \"arrowhead\": 0, \"arrowwidth\": 1}, \"coloraxis\": {\"colorbar\": {\"outlinewidth\": 0, \"ticks\": \"\"}}, \"colorscale\": {\"diverging\": [[0, \"#8e0152\"], [0.1, \"#c51b7d\"], [0.2, \"#de77ae\"], [0.3, \"#f1b6da\"], [0.4, \"#fde0ef\"], [0.5, \"#f7f7f7\"], [0.6, \"#e6f5d0\"], [0.7, \"#b8e186\"], [0.8, \"#7fbc41\"], [0.9, \"#4d9221\"], [1, \"#276419\"]], \"sequential\": [[0.0, \"#0d0887\"], [0.1111111111111111, \"#46039f\"], [0.2222222222222222, \"#7201a8\"], [0.3333333333333333, \"#9c179e\"], [0.4444444444444444, \"#bd3786\"], [0.5555555555555556, \"#d8576b\"], [0.6666666666666666, \"#ed7953\"], [0.7777777777777778, \"#fb9f3a\"], [0.8888888888888888, \"#fdca26\"], [1.0, \"#f0f921\"]], \"sequentialminus\": [[0.0, \"#0d0887\"], [0.1111111111111111, \"#46039f\"], [0.2222222222222222, \"#7201a8\"], [0.3333333333333333, \"#9c179e\"], [0.4444444444444444, \"#bd3786\"], [0.5555555555555556, \"#d8576b\"], [0.6666666666666666, \"#ed7953\"], [0.7777777777777778, \"#fb9f3a\"], [0.8888888888888888, \"#fdca26\"], [1.0, \"#f0f921\"]]}, \"colorway\": [\"#636efa\", \"#EF553B\", \"#00cc96\", \"#ab63fa\", \"#FFA15A\", \"#19d3f3\", \"#FF6692\", \"#B6E880\", \"#FF97FF\", \"#FECB52\"], \"font\": {\"color\": \"#2a3f5f\"}, \"geo\": {\"bgcolor\": \"white\", \"lakecolor\": \"white\", \"landcolor\": \"#E5ECF6\", \"showlakes\": true, \"showland\": true, \"subunitcolor\": \"white\"}, \"hoverlabel\": {\"align\": \"left\"}, \"hovermode\": \"closest\", \"mapbox\": {\"style\": \"light\"}, \"paper_bgcolor\": \"white\", \"plot_bgcolor\": \"#E5ECF6\", \"polar\": {\"angularaxis\": {\"gridcolor\": \"white\", \"linecolor\": \"white\", \"ticks\": \"\"}, \"bgcolor\": \"#E5ECF6\", \"radialaxis\": {\"gridcolor\": \"white\", \"linecolor\": \"white\", \"ticks\": \"\"}}, \"scene\": {\"xaxis\": {\"backgroundcolor\": \"#E5ECF6\", \"gridcolor\": \"white\", \"gridwidth\": 2, \"linecolor\": \"white\", \"showbackground\": true, \"ticks\": \"\", \"zerolinecolor\": \"white\"}, \"yaxis\": {\"backgroundcolor\": \"#E5ECF6\", \"gridcolor\": \"white\", \"gridwidth\": 2, \"linecolor\": \"white\", \"showbackground\": true, \"ticks\": \"\", \"zerolinecolor\": \"white\"}, \"zaxis\": {\"backgroundcolor\": \"#E5ECF6\", \"gridcolor\": \"white\", \"gridwidth\": 2, \"linecolor\": \"white\", \"showbackground\": true, \"ticks\": \"\", \"zerolinecolor\": \"white\"}}, \"shapedefaults\": {\"line\": {\"color\": \"#2a3f5f\"}}, \"ternary\": {\"aaxis\": {\"gridcolor\": \"white\", \"linecolor\": \"white\", \"ticks\": \"\"}, \"baxis\": {\"gridcolor\": \"white\", \"linecolor\": \"white\", \"ticks\": \"\"}, \"bgcolor\": \"#E5ECF6\", \"caxis\": {\"gridcolor\": \"white\", \"linecolor\": \"white\", \"ticks\": \"\"}}, \"title\": {\"x\": 0.05}, \"xaxis\": {\"automargin\": true, \"gridcolor\": \"white\", \"linecolor\": \"white\", \"ticks\": \"\", \"title\": {\"standoff\": 15}, \"zerolinecolor\": \"white\", \"zerolinewidth\": 2}, \"yaxis\": {\"automargin\": true, \"gridcolor\": \"white\", \"linecolor\": \"white\", \"ticks\": \"\", \"title\": {\"standoff\": 15}, \"zerolinecolor\": \"white\", \"zerolinewidth\": 2}}}, \"xaxis\": {\"anchor\": \"y\", \"domain\": [0.0, 1.0], \"title\": {\"text\": \"quality\"}}, \"yaxis\": {\"anchor\": \"x\", \"domain\": [0.0, 1.0], \"title\": {\"text\": \"count\"}}},                        {\"responsive\": true}                    ).then(function(){\n",
       "                            \n",
       "var gd = document.getElementById('70091db8-e4b7-4564-9fa0-08301eaf362b');\n",
       "var x = new MutationObserver(function (mutations, observer) {{\n",
       "        var display = window.getComputedStyle(gd).display;\n",
       "        if (!display || display === 'none') {{\n",
       "            console.log([gd, 'removed!']);\n",
       "            Plotly.purge(gd);\n",
       "            observer.disconnect();\n",
       "        }}\n",
       "}});\n",
       "\n",
       "// Listen for the removal of the full notebook cells\n",
       "var notebookContainer = gd.closest('#notebook-container');\n",
       "if (notebookContainer) {{\n",
       "    x.observe(notebookContainer, {childList: true});\n",
       "}}\n",
       "\n",
       "// Listen for the clearing of the current output cell\n",
       "var outputEl = gd.closest('.output');\n",
       "if (outputEl) {{\n",
       "    x.observe(outputEl, {childList: true});\n",
       "}}\n",
       "\n",
       "                        })                };                });            </script>        </div>"
      ]
     },
     "metadata": {},
     "output_type": "display_data"
    }
   ],
   "source": [
    "fig = px.histogram(data_frame,x='quality')\n",
    "fig.show()"
   ]
  },
  {
   "cell_type": "code",
   "execution_count": 73,
   "metadata": {},
   "outputs": [
    {
     "data": {
      "application/vnd.plotly.v1+json": {
       "config": {
        "plotlyServerURL": "https://plot.ly"
       },
       "data": [
        {
         "alignmentgroup": "True",
         "bingroup": "x",
         "hovertemplate": "fixed acidity=%{x}<br>count=%{y}<extra></extra>",
         "legendgroup": "",
         "marker": {
          "color": "#636efa"
         },
         "name": "",
         "offsetgroup": "",
         "orientation": "v",
         "showlegend": false,
         "type": "histogram",
         "x": [
          7.4,
          7.8,
          7.8,
          11.2,
          7.4,
          7.4,
          7.9,
          7.3,
          7.8,
          7.5,
          6.7,
          7.5,
          5.6,
          7.8,
          8.9,
          8.9,
          8.5,
          8.1,
          7.4,
          7.9,
          8.9,
          7.6,
          7.9,
          8.5,
          6.9,
          6.3,
          7.6,
          7.9,
          7.1,
          7.8,
          6.7,
          6.9,
          8.3,
          6.9,
          5.2,
          7.8,
          7.8,
          8.1,
          5.7,
          7.3,
          7.3,
          8.8,
          7.5,
          8.1,
          6.8,
          4.6,
          7.7,
          8.7,
          6.4,
          5.6,
          8.8,
          6.6,
          6.6,
          8.6,
          7.6,
          7.7,
          10.2,
          7.5,
          7.8,
          7.3,
          8.8,
          7.7,
          7.5,
          7,
          7.2,
          7.2,
          7.5,
          6.6,
          9.3,
          8,
          7.7,
          7.7,
          7.7,
          8.3,
          9.7,
          8.8,
          8.8,
          6.8,
          6.7,
          8.3,
          6.2,
          7.8,
          7.4,
          7.3,
          6.3,
          6.9,
          8.6,
          7.7,
          9.3,
          7,
          7.9,
          8.6,
          8.6,
          7.7,
          5,
          4.7,
          6.8,
          7,
          7.6,
          8.1,
          8.3,
          7.8,
          8.1,
          8.1,
          7.2,
          8.1,
          7.8,
          6.2,
          8,
          8.1,
          7.8,
          8.4,
          8.4,
          10.1,
          7.8,
          9.4,
          8.3,
          7.8,
          8.8,
          7,
          7.3,
          8.8,
          7.3,
          8,
          7.8,
          9,
          8.2,
          8.1,
          8,
          6.1,
          8,
          5.6,
          5.6,
          6.6,
          7.9,
          8.4,
          8.3,
          7.2,
          7.8,
          7.8,
          8.4,
          8.3,
          5.2,
          6.3,
          5.2,
          8.1,
          5.8,
          7.6,
          6.9,
          8.2,
          7.3,
          9.2,
          7.5,
          7.5,
          7.1,
          7.1,
          7.1,
          7.1,
          7.1,
          6.8,
          7.6,
          7.6,
          7.8,
          7.4,
          7.3,
          7.8,
          6.8,
          7.3,
          6.8,
          7.5,
          7.9,
          8,
          8,
          7.4,
          7.3,
          6.9,
          7.3,
          7.5,
          7,
          8.8,
          8.8,
          8.9,
          7.2,
          6.8,
          6.7,
          8.9,
          7.4,
          7.7,
          7.9,
          7.9,
          8.2,
          6.4,
          6.8,
          7.6,
          7.6,
          7.8,
          7.3,
          11.5,
          5.4,
          6.9,
          9.6,
          8.8,
          6.8,
          7,
          7,
          12.8,
          12.8,
          7.8,
          7.8,
          11,
          9.7,
          8,
          11.6,
          8.2,
          7.8,
          7,
          8.7,
          8.1,
          7.5,
          7.8,
          7.8,
          7.4,
          6.8,
          8.6,
          8.4,
          7.7,
          8.9,
          9,
          7.7,
          6.9,
          5.2,
          8,
          8.5,
          6.9,
          8.2,
          7.2,
          7.2,
          7.2,
          7.2,
          8.2,
          8.9,
          12,
          7.7,
          15,
          15,
          7.3,
          7.1,
          8.2,
          7.7,
          7.3,
          10.8,
          7.1,
          11.1,
          7.7,
          7.1,
          8,
          9.4,
          6.6,
          7.7,
          10,
          7.9,
          7,
          8,
          7.9,
          12.5,
          11.8,
          8.1,
          7.9,
          6.9,
          11.5,
          7.9,
          11.5,
          10.9,
          8.4,
          7.5,
          7.9,
          6.9,
          11.5,
          10.3,
          8.9,
          11.4,
          7.7,
          7.6,
          8.9,
          9.9,
          9.9,
          12,
          7.5,
          8.7,
          11.6,
          8.7,
          11,
          10.4,
          6.9,
          13.3,
          10.8,
          10.6,
          7.1,
          7.2,
          6.9,
          7.5,
          11.1,
          8.3,
          7.4,
          8.4,
          10.3,
          7.6,
          10.3,
          10.3,
          7.4,
          10.3,
          7.9,
          9,
          8.6,
          7.4,
          7.1,
          9.6,
          9.6,
          9.8,
          9.6,
          9.8,
          9.3,
          7.8,
          10.3,
          10,
          10,
          11.6,
          10.3,
          13.4,
          10.7,
          10.2,
          10.2,
          8,
          8.4,
          7.9,
          11.9,
          8.9,
          7.8,
          12.4,
          12.5,
          12.2,
          10.6,
          10.9,
          10.9,
          11.9,
          7,
          6.6,
          13.8,
          9.6,
          9.1,
          10.7,
          9.1,
          7.7,
          13.5,
          6.1,
          6.7,
          11.5,
          10.5,
          11.9,
          12.6,
          8.2,
          8.6,
          11.9,
          12.5,
          12.8,
          10,
          12.8,
          10.4,
          10.3,
          9.4,
          6.9,
          7.9,
          9.1,
          7.4,
          14,
          11.5,
          11.5,
          9.4,
          11.4,
          8.3,
          8.3,
          13.7,
          8.3,
          8.3,
          7.7,
          7.4,
          7.8,
          8.3,
          7.8,
          9.6,
          5.6,
          13.7,
          9.5,
          8.4,
          12.7,
          12,
          6.6,
          11.5,
          11.5,
          8.7,
          6.6,
          7.7,
          12.2,
          11.4,
          7.7,
          8.7,
          9.8,
          12,
          10.4,
          12.5,
          9,
          9.1,
          7.1,
          9.9,
          8.8,
          8.6,
          10.6,
          7,
          11.9,
          6.8,
          9.5,
          6.6,
          7.7,
          10.5,
          7.7,
          6.6,
          6.4,
          9.5,
          9.1,
          12.8,
          10.5,
          7.8,
          11.9,
          12.3,
          10.4,
          12.3,
          8,
          11.1,
          10.4,
          7,
          12.6,
          11.9,
          15.6,
          10,
          5.3,
          9.5,
          12.5,
          9.3,
          8.6,
          11.9,
          11.9,
          8.4,
          6.8,
          10.4,
          7,
          11.3,
          8.9,
          9.2,
          10.4,
          11.6,
          9.2,
          8.3,
          11,
          8.1,
          11.5,
          10,
          10.3,
          8.8,
          11.4,
          8.7,
          13,
          9.6,
          12.5,
          9.9,
          10.5,
          9.6,
          9.3,
          10.4,
          9.6,
          9.4,
          10.6,
          9.4,
          10.6,
          10.6,
          10.6,
          10.2,
          10.2,
          10.2,
          11.6,
          9.3,
          9.3,
          9.2,
          8.9,
          8.7,
          6.5,
          10.7,
          7.8,
          7.2,
          10.7,
          8.7,
          7.8,
          10.4,
          10.4,
          10.5,
          10.5,
          10.2,
          10.4,
          11.2,
          10,
          13.3,
          12.4,
          10,
          10.7,
          10.5,
          10.5,
          8.5,
          12.5,
          10.4,
          10.9,
          7.3,
          9.8,
          7.6,
          8.2,
          9.3,
          9.2,
          10.4,
          7.3,
          7,
          8.2,
          9.9,
          9.1,
          11.9,
          11.9,
          10.3,
          10,
          9.1,
          9.9,
          8.1,
          12.9,
          11.2,
          9.2,
          9.5,
          9.3,
          11.2,
          14.3,
          9.1,
          7.5,
          10.6,
          12.4,
          9,
          6.8,
          9.4,
          9.5,
          5,
          15.5,
          15.5,
          10.9,
          15.6,
          10.9,
          13,
          12.7,
          9,
          9,
          7.6,
          13,
          12.7,
          8.7,
          8.7,
          9.8,
          6.2,
          11.5,
          6.2,
          10.2,
          10.5,
          10.6,
          12.3,
          9.9,
          8.8,
          8.8,
          10.6,
          12.3,
          12.3,
          11.7,
          12,
          11.8,
          7.6,
          11.1,
          7.3,
          5,
          10.2,
          9,
          6.6,
          9,
          9.9,
          7.9,
          8.9,
          12.4,
          11.9,
          8.5,
          12.7,
          8.2,
          13.2,
          7.7,
          13.2,
          8.3,
          8.3,
          9.4,
          8.8,
          10.1,
          6.3,
          8.8,
          13.2,
          7.5,
          8.2,
          9.2,
          9.6,
          9.6,
          11.5,
          11.4,
          11.3,
          8.3,
          8.2,
          10,
          7.9,
          6.8,
          6.8,
          8.8,
          8.8,
          8.7,
          7.6,
          8.7,
          10.4,
          7.6,
          10.1,
          7.9,
          8.7,
          9.6,
          9.5,
          7.7,
          8.9,
          9.9,
          9.5,
          9.9,
          9.5,
          9.9,
          7.8,
          7.3,
          8.3,
          8.7,
          6.7,
          10.7,
          9.8,
          15.9,
          9.4,
          8.6,
          9.7,
          10.7,
          12,
          7.2,
          7.1,
          7.2,
          7.5,
          7.2,
          10.1,
          12.1,
          9.4,
          8.3,
          11.3,
          10,
          11.3,
          6.9,
          8.2,
          9.8,
          8.2,
          10.8,
          9.3,
          10.8,
          8.6,
          8.3,
          10.8,
          13.3,
          8,
          8.5,
          8.1,
          9.8,
          8.1,
          7.1,
          9.1,
          7.7,
          8.1,
          7.4,
          9.2,
          8.6,
          9,
          9,
          5.1,
          7,
          7,
          9.4,
          11.8,
          10.6,
          7,
          7,
          7.5,
          9.1,
          8.4,
          7,
          7.4,
          7.8,
          9.7,
          10.6,
          8.9,
          8.7,
          8,
          9.9,
          7.2,
          8,
          7.6,
          8.4,
          7.1,
          8.4,
          8.9,
          7.6,
          7.1,
          7.5,
          9,
          8.1,
          6.4,
          6.4,
          6.4,
          9.5,
          8.9,
          7.3,
          7,
          7.7,
          7.7,
          7.7,
          8.2,
          9,
          9,
          8.3,
          9.2,
          6.5,
          11.6,
          11.1,
          7.3,
          8.2,
          8.6,
          7.2,
          7.3,
          8.3,
          8.3,
          7.6,
          8.3,
          7.8,
          7.8,
          6.3,
          8.1,
          8.1,
          8.8,
          9,
          9.3,
          8.8,
          9.3,
          9.1,
          9.2,
          8.8,
          7.5,
          7.1,
          7.9,
          7.1,
          9.4,
          9.5,
          7.9,
          7.9,
          7.2,
          6.9,
          6.9,
          8.3,
          7.1,
          7,
          6.5,
          9,
          6.5,
          7.1,
          9.9,
          9.9,
          10,
          10,
          8.6,
          7.4,
          8.8,
          7.1,
          7.7,
          10.1,
          10.8,
          8.7,
          9.3,
          9.4,
          9.4,
          7.2,
          8.6,
          5.1,
          7.7,
          8.4,
          8.2,
          8.4,
          8.2,
          7.4,
          7.6,
          7.3,
          12.9,
          10.8,
          6.9,
          12.6,
          10.8,
          9.8,
          10.8,
          7.1,
          9.1,
          7,
          4.9,
          6.7,
          6.7,
          7.1,
          7.1,
          7.5,
          7.1,
          7.8,
          5.9,
          7.5,
          5.9,
          10.4,
          11.6,
          8.8,
          7.6,
          6.7,
          6.7,
          10.1,
          6,
          11.1,
          6.6,
          10.6,
          7.1,
          9.9,
          6.4,
          6.4,
          7.4,
          6.4,
          6.4,
          9.3,
          9.3,
          8,
          9.3,
          9.3,
          7.6,
          9.3,
          8.2,
          11.7,
          6.8,
          7.2,
          5.8,
          7.5,
          7.2,
          7.2,
          7.2,
          6.8,
          6.9,
          6.8,
          7.6,
          7.7,
          6.9,
          7.3,
          9.1,
          10.4,
          8.8,
          7.1,
          7.7,
          8.8,
          7.2,
          9.2,
          7.6,
          8.4,
          7.2,
          8.8,
          8.9,
          9,
          10.7,
          6.8,
          10.7,
          7.2,
          7.2,
          10.1,
          7.2,
          7.2,
          7.1,
          8.3,
          7.1,
          8.3,
          8.3,
          8.9,
          7.4,
          7.4,
          6.8,
          6.8,
          9.2,
          7.2,
          6.1,
          7.4,
          7.3,
          9.3,
          9.1,
          10,
          9.4,
          7.3,
          8.6,
          5.3,
          6.8,
          8.4,
          8.4,
          9.6,
          8.4,
          8.4,
          6.8,
          8.6,
          8.6,
          9.4,
          8.4,
          8.6,
          8.7,
          6.6,
          7.4,
          7.6,
          7.4,
          6.6,
          8.8,
          8.8,
          12,
          7.2,
          6.2,
          9.6,
          9.9,
          10.1,
          9.8,
          8.3,
          10.2,
          10.2,
          8.3,
          8.9,
          8.9,
          8.9,
          8.3,
          8.2,
          10.2,
          7.6,
          8.5,
          9,
          9.5,
          6.4,
          8,
          8.5,
          7.1,
          6.6,
          8.8,
          8.5,
          8.3,
          9,
          8.5,
          9,
          6.7,
          10.4,
          10.4,
          10.1,
          8.5,
          8.8,
          7.2,
          7.2,
          8.4,
          7,
          12.2,
          9.1,
          9.5,
          7.3,
          9.1,
          12.2,
          7.4,
          9.8,
          7.1,
          7.7,
          9.7,
          7.7,
          7.1,
          6.5,
          7.1,
          10,
          7.7,
          5.6,
          5.6,
          8.9,
          6.4,
          7.5,
          9.9,
          9.1,
          6.8,
          8.2,
          6.8,
          9.1,
          9.1,
          8.9,
          9.6,
          8.9,
          8.9,
          7.7,
          7.5,
          8,
          10.5,
          8.9,
          8,
          8,
          7,
          11.3,
          11.3,
          7,
          8.2,
          7.7,
          8.6,
          7.9,
          6.4,
          7.2,
          7.7,
          7.1,
          7.3,
          8.1,
          7.5,
          8.9,
          10.1,
          7.6,
          7.3,
          8.7,
          8.9,
          7.4,
          6.9,
          8.9,
          9.5,
          6.4,
          6.9,
          7.6,
          7.1,
          9.3,
          9.3,
          7.1,
          8.5,
          5.6,
          8.3,
          8.2,
          8.2,
          8.9,
          7.6,
          9.9,
          8.9,
          11.6,
          9.1,
          8,
          10.2,
          8.2,
          7.7,
          6.6,
          11.1,
          11.1,
          8,
          9.3,
          7.5,
          7.2,
          8,
          7.5,
          9.1,
          9.9,
          8.6,
          8.6,
          7.9,
          10.3,
          7.9,
          7.2,
          8.7,
          7.2,
          6.8,
          8.5,
          7.9,
          11.6,
          11.6,
          10,
          7.9,
          7,
          9.2,
          6.6,
          9.4,
          6.6,
          8.6,
          8,
          8.6,
          8.4,
          7.4,
          6.1,
          7.4,
          8,
          6.3,
          8.2,
          9.1,
          8.1,
          10.8,
          8.3,
          5.4,
          7.9,
          8.9,
          5,
          7,
          7,
          7,
          7.1,
          5.6,
          7.9,
          6.6,
          6.3,
          10.7,
          6.5,
          8.8,
          5.8,
          6.3,
          10,
          10.5,
          9.1,
          5.9,
          7.4,
          7.2,
          8.5,
          8,
          10.4,
          10.4,
          7.5,
          8.2,
          7.3,
          8.2,
          6.9,
          7,
          7.3,
          8.2,
          7.8,
          10,
          7.8,
          10,
          8.2,
          6.1,
          8.3,
          9.6,
          6.6,
          8.3,
          8.5,
          5.1,
          6.7,
          10.2,
          10.6,
          8.8,
          8.5,
          9,
          9,
          8.5,
          9.9,
          8.2,
          6.5,
          7.6,
          9.2,
          7.1,
          9.7,
          7.6,
          7.6,
          6.5,
          6.5,
          7.1,
          5.6,
          8.2,
          8.2,
          9.8,
          10.2,
          6.8,
          6.7,
          7,
          6.6,
          7,
          6.7,
          8.8,
          9.1,
          6.5,
          7.2,
          6.4,
          7,
          6.2,
          7.9,
          7.7,
          7.7,
          7.9,
          7.7,
          7.9,
          8.6,
          9.9,
          7.2,
          7.2,
          7.2,
          9.9,
          7.2,
          6.2,
          6.8,
          6.6,
          6.8,
          9.6,
          10.2,
          8.8,
          7.9,
          8.2,
          8.2,
          9,
          10.9,
          10.9,
          8.1,
          10.5,
          12.6,
          9.2,
          7.5,
          9,
          5.1,
          7.6,
          7.7,
          7.8,
          7.6,
          10.2,
          7.1,
          6,
          7.8,
          7.1,
          8.1,
          6.5,
          7.5,
          9.8,
          9,
          8.3,
          5.9,
          7.4,
          7.4,
          7.4,
          6.9,
          7.1,
          7.1,
          7.5,
          7.1,
          7.9,
          7.8,
          6.1,
          7.5,
          7,
          6.8,
          6.8,
          8.6,
          6.3,
          9.8,
          8.2,
          8.5,
          7.2,
          7.2,
          10.4,
          6.9,
          5.5,
          5,
          7.3,
          5.9,
          7.5,
          7.8,
          8,
          8.5,
          7,
          8,
          9.8,
          7.1,
          7.1,
          7.9,
          8.7,
          7,
          11.3,
          7.1,
          8,
          7,
          7,
          7.6,
          8.2,
          5.9,
          7.5,
          8.2,
          6.6,
          6.6,
          7.2,
          5.7,
          7.6,
          5.2,
          6.7,
          9.1,
          8,
          7.6,
          7.5,
          9.7,
          6.8,
          9.7,
          7,
          7.5,
          6.5,
          8,
          7,
          7,
          7.5,
          5.4,
          9.9,
          7.5,
          9.1,
          9.7,
          5,
          9.1,
          9.1,
          6.7,
          6.7,
          6.7,
          6.7,
          6.5,
          7.4,
          7.4,
          7.8,
          8.4,
          9.1,
          7.2,
          6.6,
          6,
          6,
          6,
          7.5,
          7.5,
          7.5,
          7.6,
          7.5,
          11.5,
          8.2,
          6.1,
          7.2,
          7.2,
          6.9,
          9,
          7.2,
          7.6,
          7.6,
          7.2,
          6.1,
          6.1,
          7.3,
          7.4,
          11.6,
          9.2,
          8.3,
          11.6,
          8,
          7.2,
          7.8,
          7.3,
          6.9,
          8,
          6.6,
          8.7,
          7.5,
          8.7,
          7.7,
          6.8,
          7.2,
          8.2,
          5.2,
          7.2,
          7.5,
          7.5,
          6.8,
          8,
          8,
          7.1,
          8,
          7.4,
          7.4,
          6.6,
          6.7,
          6,
          8,
          7.1,
          8,
          6.4,
          8.6,
          8.7,
          7.3,
          7,
          7.2,
          7.9,
          7.9,
          7.6,
          7.2,
          8,
          7.7,
          8.2,
          6,
          8.1,
          6,
          6.6,
          6.4,
          8.2,
          9.9,
          10,
          6.2,
          10,
          7.3,
          7.8,
          7.7,
          7.8,
          7.5,
          7,
          6.4,
          8.3,
          8.3,
          7.7,
          7.6,
          7.8,
          7.9,
          7.4,
          7.6,
          5.9,
          6.1,
          10.2,
          10.2,
          10,
          6.8,
          7,
          7.3,
          7.2,
          7.4,
          6.9,
          6.9,
          7.3,
          7.4,
          6.9,
          6.8,
          6.9,
          7.2,
          7.2,
          7.8,
          6.6,
          7.6,
          11.7,
          6.5,
          6,
          7.6,
          8.4,
          7.9,
          6.4,
          6.2,
          6.8,
          6.9,
          6.8,
          6.8,
          7.3,
          6.7,
          7.3,
          7.3,
          10,
          6.7,
          7.6,
          6.1,
          9.9,
          5.3,
          9.9,
          5.3,
          7.1,
          8.2,
          5.6,
          8.2,
          7.2,
          8.1,
          6.8,
          7,
          6.8,
          6,
          5.6,
          6.2,
          7.1,
          5.6,
          6.2,
          7.7,
          6.4,
          7,
          7.7,
          6.9,
          6.6,
          6.9,
          7.5,
          7.8,
          7.3,
          6.2,
          7.5,
          6.7,
          6.8,
          7.5,
          7.1,
          7.9,
          6.4,
          7.1,
          6.4,
          6.4,
          6.9,
          6.9,
          6.1,
          6.5,
          7.4,
          6.6,
          6.5,
          6.9,
          6.1,
          6.8,
          6,
          6.7,
          6.8,
          7.1,
          7.9,
          7.1,
          6.6,
          6.1,
          7.2,
          8,
          6.6,
          7,
          6.1,
          5.4,
          6.2,
          7.2,
          6.2,
          7.4,
          6.7,
          11.1,
          8.4,
          6.5,
          7,
          6.3,
          11.2,
          7.4,
          7.1,
          7.1,
          6.3,
          7.3,
          6.6,
          7,
          6.6,
          6.6,
          6.9,
          7.8,
          7.8,
          7.8,
          7.2,
          7.2,
          7.2,
          6.7,
          6.7,
          7.2,
          7,
          6.2,
          6.4,
          6.4,
          7.3,
          6,
          5.6,
          7.5,
          8,
          6.2,
          6.8,
          6.2,
          7.4,
          6.2,
          6.1,
          6.2,
          6.7,
          7.2,
          7.5,
          5.8,
          7.2,
          6.6,
          6.3,
          5.4,
          6.3,
          6.8,
          6.2,
          5.9,
          6.3,
          5.9,
          6
         ],
         "xaxis": "x",
         "yaxis": "y"
        }
       ],
       "layout": {
        "barmode": "relative",
        "legend": {
         "tracegroupgap": 0
        },
        "margin": {
         "t": 60
        },
        "template": {
         "data": {
          "bar": [
           {
            "error_x": {
             "color": "#2a3f5f"
            },
            "error_y": {
             "color": "#2a3f5f"
            },
            "marker": {
             "line": {
              "color": "#E5ECF6",
              "width": 0.5
             }
            },
            "type": "bar"
           }
          ],
          "barpolar": [
           {
            "marker": {
             "line": {
              "color": "#E5ECF6",
              "width": 0.5
             }
            },
            "type": "barpolar"
           }
          ],
          "carpet": [
           {
            "aaxis": {
             "endlinecolor": "#2a3f5f",
             "gridcolor": "white",
             "linecolor": "white",
             "minorgridcolor": "white",
             "startlinecolor": "#2a3f5f"
            },
            "baxis": {
             "endlinecolor": "#2a3f5f",
             "gridcolor": "white",
             "linecolor": "white",
             "minorgridcolor": "white",
             "startlinecolor": "#2a3f5f"
            },
            "type": "carpet"
           }
          ],
          "choropleth": [
           {
            "colorbar": {
             "outlinewidth": 0,
             "ticks": ""
            },
            "type": "choropleth"
           }
          ],
          "contour": [
           {
            "colorbar": {
             "outlinewidth": 0,
             "ticks": ""
            },
            "colorscale": [
             [
              0,
              "#0d0887"
             ],
             [
              0.1111111111111111,
              "#46039f"
             ],
             [
              0.2222222222222222,
              "#7201a8"
             ],
             [
              0.3333333333333333,
              "#9c179e"
             ],
             [
              0.4444444444444444,
              "#bd3786"
             ],
             [
              0.5555555555555556,
              "#d8576b"
             ],
             [
              0.6666666666666666,
              "#ed7953"
             ],
             [
              0.7777777777777778,
              "#fb9f3a"
             ],
             [
              0.8888888888888888,
              "#fdca26"
             ],
             [
              1,
              "#f0f921"
             ]
            ],
            "type": "contour"
           }
          ],
          "contourcarpet": [
           {
            "colorbar": {
             "outlinewidth": 0,
             "ticks": ""
            },
            "type": "contourcarpet"
           }
          ],
          "heatmap": [
           {
            "colorbar": {
             "outlinewidth": 0,
             "ticks": ""
            },
            "colorscale": [
             [
              0,
              "#0d0887"
             ],
             [
              0.1111111111111111,
              "#46039f"
             ],
             [
              0.2222222222222222,
              "#7201a8"
             ],
             [
              0.3333333333333333,
              "#9c179e"
             ],
             [
              0.4444444444444444,
              "#bd3786"
             ],
             [
              0.5555555555555556,
              "#d8576b"
             ],
             [
              0.6666666666666666,
              "#ed7953"
             ],
             [
              0.7777777777777778,
              "#fb9f3a"
             ],
             [
              0.8888888888888888,
              "#fdca26"
             ],
             [
              1,
              "#f0f921"
             ]
            ],
            "type": "heatmap"
           }
          ],
          "heatmapgl": [
           {
            "colorbar": {
             "outlinewidth": 0,
             "ticks": ""
            },
            "colorscale": [
             [
              0,
              "#0d0887"
             ],
             [
              0.1111111111111111,
              "#46039f"
             ],
             [
              0.2222222222222222,
              "#7201a8"
             ],
             [
              0.3333333333333333,
              "#9c179e"
             ],
             [
              0.4444444444444444,
              "#bd3786"
             ],
             [
              0.5555555555555556,
              "#d8576b"
             ],
             [
              0.6666666666666666,
              "#ed7953"
             ],
             [
              0.7777777777777778,
              "#fb9f3a"
             ],
             [
              0.8888888888888888,
              "#fdca26"
             ],
             [
              1,
              "#f0f921"
             ]
            ],
            "type": "heatmapgl"
           }
          ],
          "histogram": [
           {
            "marker": {
             "colorbar": {
              "outlinewidth": 0,
              "ticks": ""
             }
            },
            "type": "histogram"
           }
          ],
          "histogram2d": [
           {
            "colorbar": {
             "outlinewidth": 0,
             "ticks": ""
            },
            "colorscale": [
             [
              0,
              "#0d0887"
             ],
             [
              0.1111111111111111,
              "#46039f"
             ],
             [
              0.2222222222222222,
              "#7201a8"
             ],
             [
              0.3333333333333333,
              "#9c179e"
             ],
             [
              0.4444444444444444,
              "#bd3786"
             ],
             [
              0.5555555555555556,
              "#d8576b"
             ],
             [
              0.6666666666666666,
              "#ed7953"
             ],
             [
              0.7777777777777778,
              "#fb9f3a"
             ],
             [
              0.8888888888888888,
              "#fdca26"
             ],
             [
              1,
              "#f0f921"
             ]
            ],
            "type": "histogram2d"
           }
          ],
          "histogram2dcontour": [
           {
            "colorbar": {
             "outlinewidth": 0,
             "ticks": ""
            },
            "colorscale": [
             [
              0,
              "#0d0887"
             ],
             [
              0.1111111111111111,
              "#46039f"
             ],
             [
              0.2222222222222222,
              "#7201a8"
             ],
             [
              0.3333333333333333,
              "#9c179e"
             ],
             [
              0.4444444444444444,
              "#bd3786"
             ],
             [
              0.5555555555555556,
              "#d8576b"
             ],
             [
              0.6666666666666666,
              "#ed7953"
             ],
             [
              0.7777777777777778,
              "#fb9f3a"
             ],
             [
              0.8888888888888888,
              "#fdca26"
             ],
             [
              1,
              "#f0f921"
             ]
            ],
            "type": "histogram2dcontour"
           }
          ],
          "mesh3d": [
           {
            "colorbar": {
             "outlinewidth": 0,
             "ticks": ""
            },
            "type": "mesh3d"
           }
          ],
          "parcoords": [
           {
            "line": {
             "colorbar": {
              "outlinewidth": 0,
              "ticks": ""
             }
            },
            "type": "parcoords"
           }
          ],
          "pie": [
           {
            "automargin": true,
            "type": "pie"
           }
          ],
          "scatter": [
           {
            "marker": {
             "colorbar": {
              "outlinewidth": 0,
              "ticks": ""
             }
            },
            "type": "scatter"
           }
          ],
          "scatter3d": [
           {
            "line": {
             "colorbar": {
              "outlinewidth": 0,
              "ticks": ""
             }
            },
            "marker": {
             "colorbar": {
              "outlinewidth": 0,
              "ticks": ""
             }
            },
            "type": "scatter3d"
           }
          ],
          "scattercarpet": [
           {
            "marker": {
             "colorbar": {
              "outlinewidth": 0,
              "ticks": ""
             }
            },
            "type": "scattercarpet"
           }
          ],
          "scattergeo": [
           {
            "marker": {
             "colorbar": {
              "outlinewidth": 0,
              "ticks": ""
             }
            },
            "type": "scattergeo"
           }
          ],
          "scattergl": [
           {
            "marker": {
             "colorbar": {
              "outlinewidth": 0,
              "ticks": ""
             }
            },
            "type": "scattergl"
           }
          ],
          "scattermapbox": [
           {
            "marker": {
             "colorbar": {
              "outlinewidth": 0,
              "ticks": ""
             }
            },
            "type": "scattermapbox"
           }
          ],
          "scatterpolar": [
           {
            "marker": {
             "colorbar": {
              "outlinewidth": 0,
              "ticks": ""
             }
            },
            "type": "scatterpolar"
           }
          ],
          "scatterpolargl": [
           {
            "marker": {
             "colorbar": {
              "outlinewidth": 0,
              "ticks": ""
             }
            },
            "type": "scatterpolargl"
           }
          ],
          "scatterternary": [
           {
            "marker": {
             "colorbar": {
              "outlinewidth": 0,
              "ticks": ""
             }
            },
            "type": "scatterternary"
           }
          ],
          "surface": [
           {
            "colorbar": {
             "outlinewidth": 0,
             "ticks": ""
            },
            "colorscale": [
             [
              0,
              "#0d0887"
             ],
             [
              0.1111111111111111,
              "#46039f"
             ],
             [
              0.2222222222222222,
              "#7201a8"
             ],
             [
              0.3333333333333333,
              "#9c179e"
             ],
             [
              0.4444444444444444,
              "#bd3786"
             ],
             [
              0.5555555555555556,
              "#d8576b"
             ],
             [
              0.6666666666666666,
              "#ed7953"
             ],
             [
              0.7777777777777778,
              "#fb9f3a"
             ],
             [
              0.8888888888888888,
              "#fdca26"
             ],
             [
              1,
              "#f0f921"
             ]
            ],
            "type": "surface"
           }
          ],
          "table": [
           {
            "cells": {
             "fill": {
              "color": "#EBF0F8"
             },
             "line": {
              "color": "white"
             }
            },
            "header": {
             "fill": {
              "color": "#C8D4E3"
             },
             "line": {
              "color": "white"
             }
            },
            "type": "table"
           }
          ]
         },
         "layout": {
          "annotationdefaults": {
           "arrowcolor": "#2a3f5f",
           "arrowhead": 0,
           "arrowwidth": 1
          },
          "coloraxis": {
           "colorbar": {
            "outlinewidth": 0,
            "ticks": ""
           }
          },
          "colorscale": {
           "diverging": [
            [
             0,
             "#8e0152"
            ],
            [
             0.1,
             "#c51b7d"
            ],
            [
             0.2,
             "#de77ae"
            ],
            [
             0.3,
             "#f1b6da"
            ],
            [
             0.4,
             "#fde0ef"
            ],
            [
             0.5,
             "#f7f7f7"
            ],
            [
             0.6,
             "#e6f5d0"
            ],
            [
             0.7,
             "#b8e186"
            ],
            [
             0.8,
             "#7fbc41"
            ],
            [
             0.9,
             "#4d9221"
            ],
            [
             1,
             "#276419"
            ]
           ],
           "sequential": [
            [
             0,
             "#0d0887"
            ],
            [
             0.1111111111111111,
             "#46039f"
            ],
            [
             0.2222222222222222,
             "#7201a8"
            ],
            [
             0.3333333333333333,
             "#9c179e"
            ],
            [
             0.4444444444444444,
             "#bd3786"
            ],
            [
             0.5555555555555556,
             "#d8576b"
            ],
            [
             0.6666666666666666,
             "#ed7953"
            ],
            [
             0.7777777777777778,
             "#fb9f3a"
            ],
            [
             0.8888888888888888,
             "#fdca26"
            ],
            [
             1,
             "#f0f921"
            ]
           ],
           "sequentialminus": [
            [
             0,
             "#0d0887"
            ],
            [
             0.1111111111111111,
             "#46039f"
            ],
            [
             0.2222222222222222,
             "#7201a8"
            ],
            [
             0.3333333333333333,
             "#9c179e"
            ],
            [
             0.4444444444444444,
             "#bd3786"
            ],
            [
             0.5555555555555556,
             "#d8576b"
            ],
            [
             0.6666666666666666,
             "#ed7953"
            ],
            [
             0.7777777777777778,
             "#fb9f3a"
            ],
            [
             0.8888888888888888,
             "#fdca26"
            ],
            [
             1,
             "#f0f921"
            ]
           ]
          },
          "colorway": [
           "#636efa",
           "#EF553B",
           "#00cc96",
           "#ab63fa",
           "#FFA15A",
           "#19d3f3",
           "#FF6692",
           "#B6E880",
           "#FF97FF",
           "#FECB52"
          ],
          "font": {
           "color": "#2a3f5f"
          },
          "geo": {
           "bgcolor": "white",
           "lakecolor": "white",
           "landcolor": "#E5ECF6",
           "showlakes": true,
           "showland": true,
           "subunitcolor": "white"
          },
          "hoverlabel": {
           "align": "left"
          },
          "hovermode": "closest",
          "mapbox": {
           "style": "light"
          },
          "paper_bgcolor": "white",
          "plot_bgcolor": "#E5ECF6",
          "polar": {
           "angularaxis": {
            "gridcolor": "white",
            "linecolor": "white",
            "ticks": ""
           },
           "bgcolor": "#E5ECF6",
           "radialaxis": {
            "gridcolor": "white",
            "linecolor": "white",
            "ticks": ""
           }
          },
          "scene": {
           "xaxis": {
            "backgroundcolor": "#E5ECF6",
            "gridcolor": "white",
            "gridwidth": 2,
            "linecolor": "white",
            "showbackground": true,
            "ticks": "",
            "zerolinecolor": "white"
           },
           "yaxis": {
            "backgroundcolor": "#E5ECF6",
            "gridcolor": "white",
            "gridwidth": 2,
            "linecolor": "white",
            "showbackground": true,
            "ticks": "",
            "zerolinecolor": "white"
           },
           "zaxis": {
            "backgroundcolor": "#E5ECF6",
            "gridcolor": "white",
            "gridwidth": 2,
            "linecolor": "white",
            "showbackground": true,
            "ticks": "",
            "zerolinecolor": "white"
           }
          },
          "shapedefaults": {
           "line": {
            "color": "#2a3f5f"
           }
          },
          "ternary": {
           "aaxis": {
            "gridcolor": "white",
            "linecolor": "white",
            "ticks": ""
           },
           "baxis": {
            "gridcolor": "white",
            "linecolor": "white",
            "ticks": ""
           },
           "bgcolor": "#E5ECF6",
           "caxis": {
            "gridcolor": "white",
            "linecolor": "white",
            "ticks": ""
           }
          },
          "title": {
           "x": 0.05
          },
          "xaxis": {
           "automargin": true,
           "gridcolor": "white",
           "linecolor": "white",
           "ticks": "",
           "title": {
            "standoff": 15
           },
           "zerolinecolor": "white",
           "zerolinewidth": 2
          },
          "yaxis": {
           "automargin": true,
           "gridcolor": "white",
           "linecolor": "white",
           "ticks": "",
           "title": {
            "standoff": 15
           },
           "zerolinecolor": "white",
           "zerolinewidth": 2
          }
         }
        },
        "xaxis": {
         "anchor": "y",
         "domain": [
          0,
          1
         ],
         "title": {
          "text": "fixed acidity"
         }
        },
        "yaxis": {
         "anchor": "x",
         "domain": [
          0,
          1
         ],
         "title": {
          "text": "count"
         }
        }
       }
      },
      "text/html": [
       "<div>                            <div id=\"9f151e4c-886c-4a77-84b3-33c012414eb0\" class=\"plotly-graph-div\" style=\"height:525px; width:100%;\"></div>            <script type=\"text/javascript\">                require([\"plotly\"], function(Plotly) {                    window.PLOTLYENV=window.PLOTLYENV || {};                                    if (document.getElementById(\"9f151e4c-886c-4a77-84b3-33c012414eb0\")) {                    Plotly.newPlot(                        \"9f151e4c-886c-4a77-84b3-33c012414eb0\",                        [{\"alignmentgroup\": \"True\", \"bingroup\": \"x\", \"hovertemplate\": \"fixed acidity=%{x}<br>count=%{y}<extra></extra>\", \"legendgroup\": \"\", \"marker\": {\"color\": \"#636efa\"}, \"name\": \"\", \"offsetgroup\": \"\", \"orientation\": \"v\", \"showlegend\": false, \"type\": \"histogram\", \"x\": [7.4, 7.8, 7.8, 11.2, 7.4, 7.4, 7.9, 7.3, 7.8, 7.5, 6.7, 7.5, 5.6, 7.8, 8.9, 8.9, 8.5, 8.1, 7.4, 7.9, 8.9, 7.6, 7.9, 8.5, 6.9, 6.3, 7.6, 7.9, 7.1, 7.8, 6.7, 6.9, 8.3, 6.9, 5.2, 7.8, 7.8, 8.1, 5.7, 7.3, 7.3, 8.8, 7.5, 8.1, 6.8, 4.6, 7.7, 8.7, 6.4, 5.6, 8.8, 6.6, 6.6, 8.6, 7.6, 7.7, 10.2, 7.5, 7.8, 7.3, 8.8, 7.7, 7.5, 7.0, 7.2, 7.2, 7.5, 6.6, 9.3, 8.0, 7.7, 7.7, 7.7, 8.3, 9.7, 8.8, 8.8, 6.8, 6.7, 8.3, 6.2, 7.8, 7.4, 7.3, 6.3, 6.9, 8.6, 7.7, 9.3, 7.0, 7.9, 8.6, 8.6, 7.7, 5.0, 4.7, 6.8, 7.0, 7.6, 8.1, 8.3, 7.8, 8.1, 8.1, 7.2, 8.1, 7.8, 6.2, 8.0, 8.1, 7.8, 8.4, 8.4, 10.1, 7.8, 9.4, 8.3, 7.8, 8.8, 7.0, 7.3, 8.8, 7.3, 8.0, 7.8, 9.0, 8.2, 8.1, 8.0, 6.1, 8.0, 5.6, 5.6, 6.6, 7.9, 8.4, 8.3, 7.2, 7.8, 7.8, 8.4, 8.3, 5.2, 6.3, 5.2, 8.1, 5.8, 7.6, 6.9, 8.2, 7.3, 9.2, 7.5, 7.5, 7.1, 7.1, 7.1, 7.1, 7.1, 6.8, 7.6, 7.6, 7.8, 7.4, 7.3, 7.8, 6.8, 7.3, 6.8, 7.5, 7.9, 8.0, 8.0, 7.4, 7.3, 6.9, 7.3, 7.5, 7.0, 8.8, 8.8, 8.9, 7.2, 6.8, 6.7, 8.9, 7.4, 7.7, 7.9, 7.9, 8.2, 6.4, 6.8, 7.6, 7.6, 7.8, 7.3, 11.5, 5.4, 6.9, 9.6, 8.8, 6.8, 7.0, 7.0, 12.8, 12.8, 7.8, 7.8, 11.0, 9.7, 8.0, 11.6, 8.2, 7.8, 7.0, 8.7, 8.1, 7.5, 7.8, 7.8, 7.4, 6.8, 8.6, 8.4, 7.7, 8.9, 9.0, 7.7, 6.9, 5.2, 8.0, 8.5, 6.9, 8.2, 7.2, 7.2, 7.2, 7.2, 8.2, 8.9, 12.0, 7.7, 15.0, 15.0, 7.3, 7.1, 8.2, 7.7, 7.3, 10.8, 7.1, 11.1, 7.7, 7.1, 8.0, 9.4, 6.6, 7.7, 10.0, 7.9, 7.0, 8.0, 7.9, 12.5, 11.8, 8.1, 7.9, 6.9, 11.5, 7.9, 11.5, 10.9, 8.4, 7.5, 7.9, 6.9, 11.5, 10.3, 8.9, 11.4, 7.7, 7.6, 8.9, 9.9, 9.9, 12.0, 7.5, 8.7, 11.6, 8.7, 11.0, 10.4, 6.9, 13.3, 10.8, 10.6, 7.1, 7.2, 6.9, 7.5, 11.1, 8.3, 7.4, 8.4, 10.3, 7.6, 10.3, 10.3, 7.4, 10.3, 7.9, 9.0, 8.6, 7.4, 7.1, 9.6, 9.6, 9.8, 9.6, 9.8, 9.3, 7.8, 10.3, 10.0, 10.0, 11.6, 10.3, 13.4, 10.7, 10.2, 10.2, 8.0, 8.4, 7.9, 11.9, 8.9, 7.8, 12.4, 12.5, 12.2, 10.6, 10.9, 10.9, 11.9, 7.0, 6.6, 13.8, 9.6, 9.1, 10.7, 9.1, 7.7, 13.5, 6.1, 6.7, 11.5, 10.5, 11.9, 12.6, 8.2, 8.6, 11.9, 12.5, 12.8, 10.0, 12.8, 10.4, 10.3, 9.4, 6.9, 7.9, 9.1, 7.4, 14.0, 11.5, 11.5, 9.4, 11.4, 8.3, 8.3, 13.7, 8.3, 8.3, 7.7, 7.4, 7.8, 8.3, 7.8, 9.6, 5.6, 13.7, 9.5, 8.4, 12.7, 12.0, 6.6, 11.5, 11.5, 8.7, 6.6, 7.7, 12.2, 11.4, 7.7, 8.7, 9.8, 12.0, 10.4, 12.5, 9.0, 9.1, 7.1, 9.9, 8.8, 8.6, 10.6, 7.0, 11.9, 6.8, 9.5, 6.6, 7.7, 10.5, 7.7, 6.6, 6.4, 9.5, 9.1, 12.8, 10.5, 7.8, 11.9, 12.3, 10.4, 12.3, 8.0, 11.1, 10.4, 7.0, 12.6, 11.9, 15.6, 10.0, 5.3, 9.5, 12.5, 9.3, 8.6, 11.9, 11.9, 8.4, 6.8, 10.4, 7.0, 11.3, 8.9, 9.2, 10.4, 11.6, 9.2, 8.3, 11.0, 8.1, 11.5, 10.0, 10.3, 8.8, 11.4, 8.7, 13.0, 9.6, 12.5, 9.9, 10.5, 9.6, 9.3, 10.4, 9.6, 9.4, 10.6, 9.4, 10.6, 10.6, 10.6, 10.2, 10.2, 10.2, 11.6, 9.3, 9.3, 9.2, 8.9, 8.7, 6.5, 10.7, 7.8, 7.2, 10.7, 8.7, 7.8, 10.4, 10.4, 10.5, 10.5, 10.2, 10.4, 11.2, 10.0, 13.3, 12.4, 10.0, 10.7, 10.5, 10.5, 8.5, 12.5, 10.4, 10.9, 7.3, 9.8, 7.6, 8.2, 9.3, 9.2, 10.4, 7.3, 7.0, 8.2, 9.9, 9.1, 11.9, 11.9, 10.3, 10.0, 9.1, 9.9, 8.1, 12.9, 11.2, 9.2, 9.5, 9.3, 11.2, 14.3, 9.1, 7.5, 10.6, 12.4, 9.0, 6.8, 9.4, 9.5, 5.0, 15.5, 15.5, 10.9, 15.6, 10.9, 13.0, 12.7, 9.0, 9.0, 7.6, 13.0, 12.7, 8.7, 8.7, 9.8, 6.2, 11.5, 6.2, 10.2, 10.5, 10.6, 12.3, 9.9, 8.8, 8.8, 10.6, 12.3, 12.3, 11.7, 12.0, 11.8, 7.6, 11.1, 7.3, 5.0, 10.2, 9.0, 6.6, 9.0, 9.9, 7.9, 8.9, 12.4, 11.9, 8.5, 12.7, 8.2, 13.2, 7.7, 13.2, 8.3, 8.3, 9.4, 8.8, 10.1, 6.3, 8.8, 13.2, 7.5, 8.2, 9.2, 9.6, 9.6, 11.5, 11.4, 11.3, 8.3, 8.2, 10.0, 7.9, 6.8, 6.8, 8.8, 8.8, 8.7, 7.6, 8.7, 10.4, 7.6, 10.1, 7.9, 8.7, 9.6, 9.5, 7.7, 8.9, 9.9, 9.5, 9.9, 9.5, 9.9, 7.8, 7.3, 8.3, 8.7, 6.7, 10.7, 9.8, 15.9, 9.4, 8.6, 9.7, 10.7, 12.0, 7.2, 7.1, 7.2, 7.5, 7.2, 10.1, 12.1, 9.4, 8.3, 11.3, 10.0, 11.3, 6.9, 8.2, 9.8, 8.2, 10.8, 9.3, 10.8, 8.6, 8.3, 10.8, 13.3, 8.0, 8.5, 8.1, 9.8, 8.1, 7.1, 9.1, 7.7, 8.1, 7.4, 9.2, 8.6, 9.0, 9.0, 5.1, 7.0, 7.0, 9.4, 11.8, 10.6, 7.0, 7.0, 7.5, 9.1, 8.4, 7.0, 7.4, 7.8, 9.7, 10.6, 8.9, 8.7, 8.0, 9.9, 7.2, 8.0, 7.6, 8.4, 7.1, 8.4, 8.9, 7.6, 7.1, 7.5, 9.0, 8.1, 6.4, 6.4, 6.4, 9.5, 8.9, 7.3, 7.0, 7.7, 7.7, 7.7, 8.2, 9.0, 9.0, 8.3, 9.2, 6.5, 11.6, 11.1, 7.3, 8.2, 8.6, 7.2, 7.3, 8.3, 8.3, 7.6, 8.3, 7.8, 7.8, 6.3, 8.1, 8.1, 8.8, 9.0, 9.3, 8.8, 9.3, 9.1, 9.2, 8.8, 7.5, 7.1, 7.9, 7.1, 9.4, 9.5, 7.9, 7.9, 7.2, 6.9, 6.9, 8.3, 7.1, 7.0, 6.5, 9.0, 6.5, 7.1, 9.9, 9.9, 10.0, 10.0, 8.6, 7.4, 8.8, 7.1, 7.7, 10.1, 10.8, 8.7, 9.3, 9.4, 9.4, 7.2, 8.6, 5.1, 7.7, 8.4, 8.2, 8.4, 8.2, 7.4, 7.6, 7.3, 12.9, 10.8, 6.9, 12.6, 10.8, 9.8, 10.8, 7.1, 9.1, 7.0, 4.9, 6.7, 6.7, 7.1, 7.1, 7.5, 7.1, 7.8, 5.9, 7.5, 5.9, 10.4, 11.6, 8.8, 7.6, 6.7, 6.7, 10.1, 6.0, 11.1, 6.6, 10.6, 7.1, 9.9, 6.4, 6.4, 7.4, 6.4, 6.4, 9.3, 9.3, 8.0, 9.3, 9.3, 7.6, 9.3, 8.2, 11.7, 6.8, 7.2, 5.8, 7.5, 7.2, 7.2, 7.2, 6.8, 6.9, 6.8, 7.6, 7.7, 6.9, 7.3, 9.1, 10.4, 8.8, 7.1, 7.7, 8.8, 7.2, 9.2, 7.6, 8.4, 7.2, 8.8, 8.9, 9.0, 10.7, 6.8, 10.7, 7.2, 7.2, 10.1, 7.2, 7.2, 7.1, 8.3, 7.1, 8.3, 8.3, 8.9, 7.4, 7.4, 6.8, 6.8, 9.2, 7.2, 6.1, 7.4, 7.3, 9.3, 9.1, 10.0, 9.4, 7.3, 8.6, 5.3, 6.8, 8.4, 8.4, 9.6, 8.4, 8.4, 6.8, 8.6, 8.6, 9.4, 8.4, 8.6, 8.7, 6.6, 7.4, 7.6, 7.4, 6.6, 8.8, 8.8, 12.0, 7.2, 6.2, 9.6, 9.9, 10.1, 9.8, 8.3, 10.2, 10.2, 8.3, 8.9, 8.9, 8.9, 8.3, 8.2, 10.2, 7.6, 8.5, 9.0, 9.5, 6.4, 8.0, 8.5, 7.1, 6.6, 8.8, 8.5, 8.3, 9.0, 8.5, 9.0, 6.7, 10.4, 10.4, 10.1, 8.5, 8.8, 7.2, 7.2, 8.4, 7.0, 12.2, 9.1, 9.5, 7.3, 9.1, 12.2, 7.4, 9.8, 7.1, 7.7, 9.7, 7.7, 7.1, 6.5, 7.1, 10.0, 7.7, 5.6, 5.6, 8.9, 6.4, 7.5, 9.9, 9.1, 6.8, 8.2, 6.8, 9.1, 9.1, 8.9, 9.6, 8.9, 8.9, 7.7, 7.5, 8.0, 10.5, 8.9, 8.0, 8.0, 7.0, 11.3, 11.3, 7.0, 8.2, 7.7, 8.6, 7.9, 6.4, 7.2, 7.7, 7.1, 7.3, 8.1, 7.5, 8.9, 10.1, 7.6, 7.3, 8.7, 8.9, 7.4, 6.9, 8.9, 9.5, 6.4, 6.9, 7.6, 7.1, 9.3, 9.3, 7.1, 8.5, 5.6, 8.3, 8.2, 8.2, 8.9, 7.6, 9.9, 8.9, 11.6, 9.1, 8.0, 10.2, 8.2, 7.7, 6.6, 11.1, 11.1, 8.0, 9.3, 7.5, 7.2, 8.0, 7.5, 9.1, 9.9, 8.6, 8.6, 7.9, 10.3, 7.9, 7.2, 8.7, 7.2, 6.8, 8.5, 7.9, 11.6, 11.6, 10.0, 7.9, 7.0, 9.2, 6.6, 9.4, 6.6, 8.6, 8.0, 8.6, 8.4, 7.4, 6.1, 7.4, 8.0, 6.3, 8.2, 9.1, 8.1, 10.8, 8.3, 5.4, 7.9, 8.9, 5.0, 7.0, 7.0, 7.0, 7.1, 5.6, 7.9, 6.6, 6.3, 10.7, 6.5, 8.8, 5.8, 6.3, 10.0, 10.5, 9.1, 5.9, 7.4, 7.2, 8.5, 8.0, 10.4, 10.4, 7.5, 8.2, 7.3, 8.2, 6.9, 7.0, 7.3, 8.2, 7.8, 10.0, 7.8, 10.0, 8.2, 6.1, 8.3, 9.6, 6.6, 8.3, 8.5, 5.1, 6.7, 10.2, 10.6, 8.8, 8.5, 9.0, 9.0, 8.5, 9.9, 8.2, 6.5, 7.6, 9.2, 7.1, 9.7, 7.6, 7.6, 6.5, 6.5, 7.1, 5.6, 8.2, 8.2, 9.8, 10.2, 6.8, 6.7, 7.0, 6.6, 7.0, 6.7, 8.8, 9.1, 6.5, 7.2, 6.4, 7.0, 6.2, 7.9, 7.7, 7.7, 7.9, 7.7, 7.9, 8.6, 9.9, 7.2, 7.2, 7.2, 9.9, 7.2, 6.2, 6.8, 6.6, 6.8, 9.6, 10.2, 8.8, 7.9, 8.2, 8.2, 9.0, 10.9, 10.9, 8.1, 10.5, 12.6, 9.2, 7.5, 9.0, 5.1, 7.6, 7.7, 7.8, 7.6, 10.2, 7.1, 6.0, 7.8, 7.1, 8.1, 6.5, 7.5, 9.8, 9.0, 8.3, 5.9, 7.4, 7.4, 7.4, 6.9, 7.1, 7.1, 7.5, 7.1, 7.9, 7.8, 6.1, 7.5, 7.0, 6.8, 6.8, 8.6, 6.3, 9.8, 8.2, 8.5, 7.2, 7.2, 10.4, 6.9, 5.5, 5.0, 7.3, 5.9, 7.5, 7.8, 8.0, 8.5, 7.0, 8.0, 9.8, 7.1, 7.1, 7.9, 8.7, 7.0, 11.3, 7.1, 8.0, 7.0, 7.0, 7.6, 8.2, 5.9, 7.5, 8.2, 6.6, 6.6, 7.2, 5.7, 7.6, 5.2, 6.7, 9.1, 8.0, 7.6, 7.5, 9.7, 6.8, 9.7, 7.0, 7.5, 6.5, 8.0, 7.0, 7.0, 7.5, 5.4, 9.9, 7.5, 9.1, 9.7, 5.0, 9.1, 9.1, 6.7, 6.7, 6.7, 6.7, 6.5, 7.4, 7.4, 7.8, 8.4, 9.1, 7.2, 6.6, 6.0, 6.0, 6.0, 7.5, 7.5, 7.5, 7.6, 7.5, 11.5, 8.2, 6.1, 7.2, 7.2, 6.9, 9.0, 7.2, 7.6, 7.6, 7.2, 6.1, 6.1, 7.3, 7.4, 11.6, 9.2, 8.3, 11.6, 8.0, 7.2, 7.8, 7.3, 6.9, 8.0, 6.6, 8.7, 7.5, 8.7, 7.7, 6.8, 7.2, 8.2, 5.2, 7.2, 7.5, 7.5, 6.8, 8.0, 8.0, 7.1, 8.0, 7.4, 7.4, 6.6, 6.7, 6.0, 8.0, 7.1, 8.0, 6.4, 8.6, 8.7, 7.3, 7.0, 7.2, 7.9, 7.9, 7.6, 7.2, 8.0, 7.7, 8.2, 6.0, 8.1, 6.0, 6.6, 6.4, 8.2, 9.9, 10.0, 6.2, 10.0, 7.3, 7.8, 7.7, 7.8, 7.5, 7.0, 6.4, 8.3, 8.3, 7.7, 7.6, 7.8, 7.9, 7.4, 7.6, 5.9, 6.1, 10.2, 10.2, 10.0, 6.8, 7.0, 7.3, 7.2, 7.4, 6.9, 6.9, 7.3, 7.4, 6.9, 6.8, 6.9, 7.2, 7.2, 7.8, 6.6, 7.6, 11.7, 6.5, 6.0, 7.6, 8.4, 7.9, 6.4, 6.2, 6.8, 6.9, 6.8, 6.8, 7.3, 6.7, 7.3, 7.3, 10.0, 6.7, 7.6, 6.1, 9.9, 5.3, 9.9, 5.3, 7.1, 8.2, 5.6, 8.2, 7.2, 8.1, 6.8, 7.0, 6.8, 6.0, 5.6, 6.2, 7.1, 5.6, 6.2, 7.7, 6.4, 7.0, 7.7, 6.9, 6.6, 6.9, 7.5, 7.8, 7.3, 6.2, 7.5, 6.7, 6.8, 7.5, 7.1, 7.9, 6.4, 7.1, 6.4, 6.4, 6.9, 6.9, 6.1, 6.5, 7.4, 6.6, 6.5, 6.9, 6.1, 6.8, 6.0, 6.7, 6.8, 7.1, 7.9, 7.1, 6.6, 6.1, 7.2, 8.0, 6.6, 7.0, 6.1, 5.4, 6.2, 7.2, 6.2, 7.4, 6.7, 11.1, 8.4, 6.5, 7.0, 6.3, 11.2, 7.4, 7.1, 7.1, 6.3, 7.3, 6.6, 7.0, 6.6, 6.6, 6.9, 7.8, 7.8, 7.8, 7.2, 7.2, 7.2, 6.7, 6.7, 7.2, 7.0, 6.2, 6.4, 6.4, 7.3, 6.0, 5.6, 7.5, 8.0, 6.2, 6.8, 6.2, 7.4, 6.2, 6.1, 6.2, 6.7, 7.2, 7.5, 5.8, 7.2, 6.6, 6.3, 5.4, 6.3, 6.8, 6.2, 5.9, 6.3, 5.9, 6.0], \"xaxis\": \"x\", \"yaxis\": \"y\"}],                        {\"barmode\": \"relative\", \"legend\": {\"tracegroupgap\": 0}, \"margin\": {\"t\": 60}, \"template\": {\"data\": {\"bar\": [{\"error_x\": {\"color\": \"#2a3f5f\"}, \"error_y\": {\"color\": \"#2a3f5f\"}, \"marker\": {\"line\": {\"color\": \"#E5ECF6\", \"width\": 0.5}}, \"type\": \"bar\"}], \"barpolar\": [{\"marker\": {\"line\": {\"color\": \"#E5ECF6\", \"width\": 0.5}}, \"type\": \"barpolar\"}], \"carpet\": [{\"aaxis\": {\"endlinecolor\": \"#2a3f5f\", \"gridcolor\": \"white\", \"linecolor\": \"white\", \"minorgridcolor\": \"white\", \"startlinecolor\": \"#2a3f5f\"}, \"baxis\": {\"endlinecolor\": \"#2a3f5f\", \"gridcolor\": \"white\", \"linecolor\": \"white\", \"minorgridcolor\": \"white\", \"startlinecolor\": \"#2a3f5f\"}, \"type\": \"carpet\"}], \"choropleth\": [{\"colorbar\": {\"outlinewidth\": 0, \"ticks\": \"\"}, \"type\": \"choropleth\"}], \"contour\": [{\"colorbar\": {\"outlinewidth\": 0, \"ticks\": \"\"}, \"colorscale\": [[0.0, \"#0d0887\"], [0.1111111111111111, \"#46039f\"], [0.2222222222222222, \"#7201a8\"], [0.3333333333333333, \"#9c179e\"], [0.4444444444444444, \"#bd3786\"], [0.5555555555555556, \"#d8576b\"], [0.6666666666666666, \"#ed7953\"], [0.7777777777777778, \"#fb9f3a\"], [0.8888888888888888, \"#fdca26\"], [1.0, \"#f0f921\"]], \"type\": \"contour\"}], \"contourcarpet\": [{\"colorbar\": {\"outlinewidth\": 0, \"ticks\": \"\"}, \"type\": \"contourcarpet\"}], \"heatmap\": [{\"colorbar\": {\"outlinewidth\": 0, \"ticks\": \"\"}, \"colorscale\": [[0.0, \"#0d0887\"], [0.1111111111111111, \"#46039f\"], [0.2222222222222222, \"#7201a8\"], [0.3333333333333333, \"#9c179e\"], [0.4444444444444444, \"#bd3786\"], [0.5555555555555556, \"#d8576b\"], [0.6666666666666666, \"#ed7953\"], [0.7777777777777778, \"#fb9f3a\"], [0.8888888888888888, \"#fdca26\"], [1.0, \"#f0f921\"]], \"type\": \"heatmap\"}], \"heatmapgl\": [{\"colorbar\": {\"outlinewidth\": 0, \"ticks\": \"\"}, \"colorscale\": [[0.0, \"#0d0887\"], [0.1111111111111111, \"#46039f\"], [0.2222222222222222, \"#7201a8\"], [0.3333333333333333, \"#9c179e\"], [0.4444444444444444, \"#bd3786\"], [0.5555555555555556, \"#d8576b\"], [0.6666666666666666, \"#ed7953\"], [0.7777777777777778, \"#fb9f3a\"], [0.8888888888888888, \"#fdca26\"], [1.0, \"#f0f921\"]], \"type\": \"heatmapgl\"}], \"histogram\": [{\"marker\": {\"colorbar\": {\"outlinewidth\": 0, \"ticks\": \"\"}}, \"type\": \"histogram\"}], \"histogram2d\": [{\"colorbar\": {\"outlinewidth\": 0, \"ticks\": \"\"}, \"colorscale\": [[0.0, \"#0d0887\"], [0.1111111111111111, \"#46039f\"], [0.2222222222222222, \"#7201a8\"], [0.3333333333333333, \"#9c179e\"], [0.4444444444444444, \"#bd3786\"], [0.5555555555555556, \"#d8576b\"], [0.6666666666666666, \"#ed7953\"], [0.7777777777777778, \"#fb9f3a\"], [0.8888888888888888, \"#fdca26\"], [1.0, \"#f0f921\"]], \"type\": \"histogram2d\"}], \"histogram2dcontour\": [{\"colorbar\": {\"outlinewidth\": 0, \"ticks\": \"\"}, \"colorscale\": [[0.0, \"#0d0887\"], [0.1111111111111111, \"#46039f\"], [0.2222222222222222, \"#7201a8\"], [0.3333333333333333, \"#9c179e\"], [0.4444444444444444, \"#bd3786\"], [0.5555555555555556, \"#d8576b\"], [0.6666666666666666, \"#ed7953\"], [0.7777777777777778, \"#fb9f3a\"], [0.8888888888888888, \"#fdca26\"], [1.0, \"#f0f921\"]], \"type\": \"histogram2dcontour\"}], \"mesh3d\": [{\"colorbar\": {\"outlinewidth\": 0, \"ticks\": \"\"}, \"type\": \"mesh3d\"}], \"parcoords\": [{\"line\": {\"colorbar\": {\"outlinewidth\": 0, \"ticks\": \"\"}}, \"type\": \"parcoords\"}], \"pie\": [{\"automargin\": true, \"type\": \"pie\"}], \"scatter\": [{\"marker\": {\"colorbar\": {\"outlinewidth\": 0, \"ticks\": \"\"}}, \"type\": \"scatter\"}], \"scatter3d\": [{\"line\": {\"colorbar\": {\"outlinewidth\": 0, \"ticks\": \"\"}}, \"marker\": {\"colorbar\": {\"outlinewidth\": 0, \"ticks\": \"\"}}, \"type\": \"scatter3d\"}], \"scattercarpet\": [{\"marker\": {\"colorbar\": {\"outlinewidth\": 0, \"ticks\": \"\"}}, \"type\": \"scattercarpet\"}], \"scattergeo\": [{\"marker\": {\"colorbar\": {\"outlinewidth\": 0, \"ticks\": \"\"}}, \"type\": \"scattergeo\"}], \"scattergl\": [{\"marker\": {\"colorbar\": {\"outlinewidth\": 0, \"ticks\": \"\"}}, \"type\": \"scattergl\"}], \"scattermapbox\": [{\"marker\": {\"colorbar\": {\"outlinewidth\": 0, \"ticks\": \"\"}}, \"type\": \"scattermapbox\"}], \"scatterpolar\": [{\"marker\": {\"colorbar\": {\"outlinewidth\": 0, \"ticks\": \"\"}}, \"type\": \"scatterpolar\"}], \"scatterpolargl\": [{\"marker\": {\"colorbar\": {\"outlinewidth\": 0, \"ticks\": \"\"}}, \"type\": \"scatterpolargl\"}], \"scatterternary\": [{\"marker\": {\"colorbar\": {\"outlinewidth\": 0, \"ticks\": \"\"}}, \"type\": \"scatterternary\"}], \"surface\": [{\"colorbar\": {\"outlinewidth\": 0, \"ticks\": \"\"}, \"colorscale\": [[0.0, \"#0d0887\"], [0.1111111111111111, \"#46039f\"], [0.2222222222222222, \"#7201a8\"], [0.3333333333333333, \"#9c179e\"], [0.4444444444444444, \"#bd3786\"], [0.5555555555555556, \"#d8576b\"], [0.6666666666666666, \"#ed7953\"], [0.7777777777777778, \"#fb9f3a\"], [0.8888888888888888, \"#fdca26\"], [1.0, \"#f0f921\"]], \"type\": \"surface\"}], \"table\": [{\"cells\": {\"fill\": {\"color\": \"#EBF0F8\"}, \"line\": {\"color\": \"white\"}}, \"header\": {\"fill\": {\"color\": \"#C8D4E3\"}, \"line\": {\"color\": \"white\"}}, \"type\": \"table\"}]}, \"layout\": {\"annotationdefaults\": {\"arrowcolor\": \"#2a3f5f\", \"arrowhead\": 0, \"arrowwidth\": 1}, \"coloraxis\": {\"colorbar\": {\"outlinewidth\": 0, \"ticks\": \"\"}}, \"colorscale\": {\"diverging\": [[0, \"#8e0152\"], [0.1, \"#c51b7d\"], [0.2, \"#de77ae\"], [0.3, \"#f1b6da\"], [0.4, \"#fde0ef\"], [0.5, \"#f7f7f7\"], [0.6, \"#e6f5d0\"], [0.7, \"#b8e186\"], [0.8, \"#7fbc41\"], [0.9, \"#4d9221\"], [1, \"#276419\"]], \"sequential\": [[0.0, \"#0d0887\"], [0.1111111111111111, \"#46039f\"], [0.2222222222222222, \"#7201a8\"], [0.3333333333333333, \"#9c179e\"], [0.4444444444444444, \"#bd3786\"], [0.5555555555555556, \"#d8576b\"], [0.6666666666666666, \"#ed7953\"], [0.7777777777777778, \"#fb9f3a\"], [0.8888888888888888, \"#fdca26\"], [1.0, \"#f0f921\"]], \"sequentialminus\": [[0.0, \"#0d0887\"], [0.1111111111111111, \"#46039f\"], [0.2222222222222222, \"#7201a8\"], [0.3333333333333333, \"#9c179e\"], [0.4444444444444444, \"#bd3786\"], [0.5555555555555556, \"#d8576b\"], [0.6666666666666666, \"#ed7953\"], [0.7777777777777778, \"#fb9f3a\"], [0.8888888888888888, \"#fdca26\"], [1.0, \"#f0f921\"]]}, \"colorway\": [\"#636efa\", \"#EF553B\", \"#00cc96\", \"#ab63fa\", \"#FFA15A\", \"#19d3f3\", \"#FF6692\", \"#B6E880\", \"#FF97FF\", \"#FECB52\"], \"font\": {\"color\": \"#2a3f5f\"}, \"geo\": {\"bgcolor\": \"white\", \"lakecolor\": \"white\", \"landcolor\": \"#E5ECF6\", \"showlakes\": true, \"showland\": true, \"subunitcolor\": \"white\"}, \"hoverlabel\": {\"align\": \"left\"}, \"hovermode\": \"closest\", \"mapbox\": {\"style\": \"light\"}, \"paper_bgcolor\": \"white\", \"plot_bgcolor\": \"#E5ECF6\", \"polar\": {\"angularaxis\": {\"gridcolor\": \"white\", \"linecolor\": \"white\", \"ticks\": \"\"}, \"bgcolor\": \"#E5ECF6\", \"radialaxis\": {\"gridcolor\": \"white\", \"linecolor\": \"white\", \"ticks\": \"\"}}, \"scene\": {\"xaxis\": {\"backgroundcolor\": \"#E5ECF6\", \"gridcolor\": \"white\", \"gridwidth\": 2, \"linecolor\": \"white\", \"showbackground\": true, \"ticks\": \"\", \"zerolinecolor\": \"white\"}, \"yaxis\": {\"backgroundcolor\": \"#E5ECF6\", \"gridcolor\": \"white\", \"gridwidth\": 2, \"linecolor\": \"white\", \"showbackground\": true, \"ticks\": \"\", \"zerolinecolor\": \"white\"}, \"zaxis\": {\"backgroundcolor\": \"#E5ECF6\", \"gridcolor\": \"white\", \"gridwidth\": 2, \"linecolor\": \"white\", \"showbackground\": true, \"ticks\": \"\", \"zerolinecolor\": \"white\"}}, \"shapedefaults\": {\"line\": {\"color\": \"#2a3f5f\"}}, \"ternary\": {\"aaxis\": {\"gridcolor\": \"white\", \"linecolor\": \"white\", \"ticks\": \"\"}, \"baxis\": {\"gridcolor\": \"white\", \"linecolor\": \"white\", \"ticks\": \"\"}, \"bgcolor\": \"#E5ECF6\", \"caxis\": {\"gridcolor\": \"white\", \"linecolor\": \"white\", \"ticks\": \"\"}}, \"title\": {\"x\": 0.05}, \"xaxis\": {\"automargin\": true, \"gridcolor\": \"white\", \"linecolor\": \"white\", \"ticks\": \"\", \"title\": {\"standoff\": 15}, \"zerolinecolor\": \"white\", \"zerolinewidth\": 2}, \"yaxis\": {\"automargin\": true, \"gridcolor\": \"white\", \"linecolor\": \"white\", \"ticks\": \"\", \"title\": {\"standoff\": 15}, \"zerolinecolor\": \"white\", \"zerolinewidth\": 2}}}, \"xaxis\": {\"anchor\": \"y\", \"domain\": [0.0, 1.0], \"title\": {\"text\": \"fixed acidity\"}}, \"yaxis\": {\"anchor\": \"x\", \"domain\": [0.0, 1.0], \"title\": {\"text\": \"count\"}}},                        {\"responsive\": true}                    ).then(function(){\n",
       "                            \n",
       "var gd = document.getElementById('9f151e4c-886c-4a77-84b3-33c012414eb0');\n",
       "var x = new MutationObserver(function (mutations, observer) {{\n",
       "        var display = window.getComputedStyle(gd).display;\n",
       "        if (!display || display === 'none') {{\n",
       "            console.log([gd, 'removed!']);\n",
       "            Plotly.purge(gd);\n",
       "            observer.disconnect();\n",
       "        }}\n",
       "}});\n",
       "\n",
       "// Listen for the removal of the full notebook cells\n",
       "var notebookContainer = gd.closest('#notebook-container');\n",
       "if (notebookContainer) {{\n",
       "    x.observe(notebookContainer, {childList: true});\n",
       "}}\n",
       "\n",
       "// Listen for the clearing of the current output cell\n",
       "var outputEl = gd.closest('.output');\n",
       "if (outputEl) {{\n",
       "    x.observe(outputEl, {childList: true});\n",
       "}}\n",
       "\n",
       "                        })                };                });            </script>        </div>"
      ]
     },
     "metadata": {},
     "output_type": "display_data"
    }
   ],
   "source": [
    "fig = px.histogram(data_frame,x='fixed acidity')\n",
    "fig.show()\n"
   ]
  },
  {
   "cell_type": "code",
   "execution_count": 74,
   "metadata": {},
   "outputs": [
    {
     "data": {
      "application/vnd.plotly.v1+json": {
       "config": {
        "plotlyServerURL": "https://plot.ly"
       },
       "data": [
        {
         "alignmentgroup": "True",
         "bingroup": "x",
         "hovertemplate": "volatile acidity=%{x}<br>count=%{y}<extra></extra>",
         "legendgroup": "",
         "marker": {
          "color": "#636efa"
         },
         "name": "",
         "offsetgroup": "",
         "orientation": "v",
         "showlegend": false,
         "type": "histogram",
         "x": [
          0.7,
          0.88,
          0.76,
          0.28,
          0.7,
          0.66,
          0.6,
          0.65,
          0.58,
          0.5,
          0.58,
          0.5,
          0.615,
          0.61,
          0.62,
          0.62,
          0.28,
          0.56,
          0.59,
          0.32,
          0.22,
          0.39,
          0.43,
          0.49,
          0.4,
          0.39,
          0.41,
          0.43,
          0.71,
          0.645,
          0.675,
          0.685,
          0.655,
          0.605,
          0.32,
          0.645,
          0.6,
          0.38,
          1.13,
          0.45,
          0.45,
          0.61,
          0.49,
          0.66,
          0.67,
          0.52,
          0.935,
          0.29,
          0.4,
          0.31,
          0.66,
          0.52,
          0.5,
          0.38,
          0.51,
          0.62,
          0.42,
          0.63,
          0.59,
          0.39,
          0.4,
          0.69,
          0.52,
          0.735,
          0.725,
          0.725,
          0.52,
          0.705,
          0.32,
          0.705,
          0.63,
          0.67,
          0.69,
          0.675,
          0.32,
          0.41,
          0.41,
          0.785,
          0.75,
          0.625,
          0.45,
          0.43,
          0.5,
          0.67,
          0.3,
          0.55,
          0.49,
          0.49,
          0.39,
          0.62,
          0.52,
          0.49,
          0.49,
          0.49,
          1.02,
          0.6,
          0.775,
          0.5,
          0.9,
          0.545,
          0.61,
          0.5,
          0.545,
          0.575,
          0.49,
          0.575,
          0.41,
          0.63,
          0.33,
          0.785,
          0.56,
          0.62,
          0.6,
          0.31,
          0.56,
          0.4,
          0.54,
          0.56,
          0.55,
          0.69,
          1.07,
          0.55,
          0.695,
          0.71,
          0.5,
          0.62,
          1.33,
          1.33,
          0.59,
          0.38,
          0.745,
          0.5,
          0.5,
          0.5,
          1.04,
          0.745,
          0.715,
          0.415,
          0.56,
          0.56,
          0.745,
          0.715,
          0.34,
          0.39,
          0.34,
          0.67,
          0.68,
          0.49,
          0.49,
          0.4,
          0.33,
          0.52,
          0.6,
          0.6,
          0.43,
          0.43,
          0.43,
          0.43,
          0.68,
          0.6,
          0.95,
          0.68,
          0.53,
          0.6,
          0.59,
          0.63,
          0.64,
          0.55,
          0.63,
          0.705,
          0.885,
          0.42,
          0.42,
          0.62,
          0.38,
          0.5,
          0.38,
          0.52,
          0.805,
          0.61,
          0.61,
          0.61,
          0.73,
          0.61,
          0.62,
          0.31,
          0.39,
          0.705,
          0.5,
          0.49,
          0.5,
          0.37,
          0.63,
          0.55,
          0.55,
          0.59,
          0.58,
          0.3,
          0.835,
          1.09,
          0.32,
          0.37,
          0.5,
          0.42,
          0.43,
          0.3,
          0.3,
          0.57,
          0.44,
          0.3,
          0.53,
          0.725,
          0.44,
          0.57,
          0.735,
          0.49,
          0.625,
          0.725,
          0.49,
          0.53,
          0.34,
          0.53,
          0.61,
          0.645,
          0.635,
          0.43,
          0.59,
          0.82,
          0.43,
          0.52,
          0.48,
          0.38,
          0.37,
          0.52,
          1,
          0.63,
          0.63,
          0.645,
          0.63,
          1,
          0.635,
          0.38,
          0.58,
          0.21,
          0.21,
          0.66,
          0.68,
          0.6,
          0.53,
          0.66,
          0.32,
          0.6,
          0.35,
          0.775,
          0.6,
          0.57,
          0.34,
          0.695,
          0.41,
          0.31,
          0.33,
          0.975,
          0.52,
          0.37,
          0.56,
          0.26,
          0.87,
          0.35,
          0.54,
          0.18,
          0.545,
          0.18,
          0.37,
          0.715,
          0.65,
          0.545,
          0.54,
          0.18,
          0.32,
          0.4,
          0.26,
          0.27,
          0.52,
          0.4,
          0.59,
          0.59,
          0.45,
          0.4,
          0.52,
          0.42,
          0.52,
          0.2,
          0.55,
          0.36,
          0.34,
          0.5,
          0.83,
          0.63,
          0.65,
          0.67,
          0.53,
          0.18,
          0.705,
          0.67,
          0.65,
          0.53,
          0.62,
          0.41,
          0.43,
          0.29,
          0.53,
          0.53,
          0.46,
          0.47,
          0.36,
          0.35,
          0.56,
          0.77,
          0.66,
          0.77,
          0.66,
          0.61,
          0.62,
          0.59,
          0.49,
          0.49,
          0.53,
          0.44,
          0.27,
          0.46,
          0.36,
          0.36,
          0.58,
          0.56,
          0.65,
          0.695,
          0.43,
          0.43,
          0.49,
          0.28,
          0.34,
          0.42,
          0.39,
          0.39,
          0.57,
          0.685,
          0.815,
          0.49,
          0.56,
          0.785,
          0.67,
          0.795,
          0.665,
          0.53,
          0.21,
          0.75,
          0.41,
          0.42,
          0.43,
          0.38,
          0.7,
          0.45,
          0.58,
          0.46,
          0.615,
          0.42,
          0.615,
          0.575,
          0.34,
          0.27,
          0.765,
          0.24,
          0.28,
          0.55,
          0.41,
          0.54,
          0.45,
          0.27,
          0.625,
          0.42,
          0.26,
          0.415,
          0.26,
          0.26,
          0.51,
          0.63,
          0.54,
          0.66,
          0.46,
          0.38,
          0.85,
          0.415,
          0.37,
          0.665,
          0.6,
          0.37,
          0.735,
          0.59,
          0.59,
          0.765,
          0.735,
          0.26,
          0.48,
          0.6,
          0.69,
          0.31,
          0.44,
          0.39,
          0.34,
          0.46,
          0.43,
          0.45,
          0.735,
          0.4,
          0.52,
          0.725,
          0.48,
          0.58,
          0.38,
          0.77,
          0.56,
          0.84,
          0.96,
          0.24,
          0.96,
          0.84,
          0.67,
          0.78,
          0.52,
          0.84,
          0.24,
          0.55,
          0.37,
          0.39,
          0.41,
          0.39,
          0.67,
          0.45,
          0.41,
          0.62,
          0.31,
          0.4,
          0.685,
          0.44,
          0.57,
          0.735,
          0.38,
          0.48,
          0.53,
          0.39,
          0.39,
          0.37,
          0.56,
          0.33,
          0.23,
          0.62,
          0.59,
          0.63,
          0.33,
          0.58,
          0.43,
          0.615,
          0.26,
          0.66,
          0.315,
          0.29,
          0.5,
          0.46,
          0.36,
          0.82,
          0.32,
          0.54,
          0.37,
          0.35,
          0.28,
          0.68,
          0.27,
          0.24,
          0.68,
          0.685,
          0.28,
          0.3,
          0.36,
          0.36,
          0.44,
          0.67,
          0.67,
          0.645,
          0.32,
          0.39,
          0.775,
          0.41,
          0.4,
          0.69,
          0.39,
          0.35,
          0.52,
          0.34,
          0.35,
          0.69,
          0.52,
          0.44,
          0.44,
          0.26,
          0.24,
          0.49,
          0.24,
          0.67,
          0.59,
          0.29,
          0.42,
          0.59,
          0.4,
          0.51,
          0.51,
          0.655,
          0.6,
          0.61,
          0.21,
          0.365,
          0.25,
          0.41,
          0.39,
          0.4,
          0.43,
          0.64,
          0.365,
          0.38,
          0.42,
          0.63,
          0.22,
          0.38,
          0.38,
          0.27,
          0.48,
          0.22,
          0.63,
          0.825,
          0.35,
          0.5,
          0.59,
          0.46,
          0.715,
          0.66,
          0.31,
          0.47,
          0.55,
          0.31,
          0.35,
          0.53,
          0.51,
          0.43,
          0.46,
          1.04,
          0.645,
          0.645,
          0.53,
          0.645,
          0.53,
          0.47,
          0.6,
          0.44,
          0.54,
          0.29,
          0.47,
          0.6,
          0.7,
          0.7,
          0.5,
          0.36,
          0.35,
          0.36,
          0.24,
          0.59,
          0.34,
          0.27,
          0.5,
          0.44,
          0.47,
          0.31,
          0.5,
          0.5,
          0.49,
          0.28,
          0.33,
          0.51,
          0.31,
          0.73,
          0.42,
          0.29,
          0.45,
          0.39,
          0.45,
          0.49,
          0.72,
          0.595,
          0.4,
          0.58,
          0.585,
          0.59,
          0.915,
          0.46,
          0.835,
          0.46,
          0.58,
          0.6,
          0.41,
          0.48,
          0.65,
          0.36,
          0.24,
          0.38,
          0.64,
          0.39,
          0.755,
          0.6,
          0.6,
          0.31,
          0.46,
          0.37,
          0.54,
          0.56,
          0.58,
          0.51,
          0.69,
          0.69,
          0.6,
          0.6,
          0.54,
          0.685,
          0.54,
          0.28,
          0.41,
          0.935,
          0.35,
          0.84,
          0.88,
          0.885,
          0.915,
          0.29,
          0.54,
          0.59,
          0.54,
          0.59,
          0.54,
          0.64,
          0.67,
          0.845,
          0.48,
          0.42,
          0.43,
          0.88,
          0.36,
          0.33,
          0.47,
          0.55,
          0.43,
          0.5,
          0.52,
          0.84,
          0.52,
          0.42,
          0.57,
          0.28,
          0.4,
          0.59,
          0.49,
          0.34,
          0.73,
          0.34,
          0.4,
          0.73,
          1.24,
          0.73,
          0.4,
          0.41,
          0.4,
          0.8,
          0.78,
          0.26,
          0.43,
          0.45,
          0.46,
          0.78,
          0.98,
          0.78,
          0.65,
          0.64,
          0.66,
          0.38,
          1.185,
          0.92,
          0.49,
          0.48,
          0.47,
          0.47,
          0.65,
          0.65,
          0.615,
          0.38,
          1.02,
          0.65,
          0.64,
          0.38,
          0.765,
          1.035,
          0.78,
          0.49,
          0.545,
          0.31,
          1.025,
          0.565,
          0.69,
          0.43,
          0.74,
          0.49,
          0.43,
          0.46,
          0.56,
          0.66,
          0.56,
          0.48,
          0.42,
          0.31,
          1.115,
          0.66,
          0.72,
          0.57,
          0.57,
          0.865,
          0.55,
          0.875,
          0.835,
          0.45,
          0.56,
          0.965,
          0.965,
          0.59,
          0.46,
          0.69,
          0.76,
          0.53,
          0.615,
          0.41,
          0.39,
          0.51,
          0.34,
          0.33,
          0.5,
          0.51,
          0.65,
          0.65,
          0.54,
          0.65,
          0.48,
          0.91,
          0.98,
          0.87,
          0.87,
          0.42,
          0.58,
          0.655,
          0.7,
          0.655,
          0.68,
          0.67,
          0.59,
          0.6,
          0.59,
          0.72,
          0.59,
          0.685,
          0.57,
          0.4,
          0.4,
          1,
          0.765,
          0.635,
          0.43,
          0.52,
          0.57,
          0.46,
          0.82,
          0.46,
          0.59,
          0.35,
          0.35,
          0.56,
          0.56,
          0.63,
          0.37,
          0.64,
          0.61,
          0.6,
          0.27,
          0.89,
          0.46,
          0.37,
          0.5,
          0.5,
          0.61,
          0.55,
          0.585,
          0.56,
          0.52,
          0.28,
          0.25,
          0.28,
          0.53,
          0.48,
          0.49,
          0.5,
          0.45,
          0.39,
          0.41,
          0.45,
          0.51,
          0.29,
          0.715,
          0.66,
          0.685,
          0.42,
          0.54,
          0.54,
          0.48,
          0.46,
          0.27,
          0.46,
          0.57,
          0.61,
          0.685,
          0.61,
          0.44,
          0.47,
          0.685,
          0.665,
          0.28,
          0.28,
          0.31,
          0.5,
          0.42,
          0.66,
          0.5,
          0.685,
          0.25,
          0.64,
          0.64,
          0.68,
          0.64,
          0.63,
          0.43,
          0.43,
          0.42,
          0.36,
          0.36,
          0.735,
          0.36,
          0.26,
          0.28,
          0.56,
          0.62,
          1.01,
          0.42,
          0.62,
          0.62,
          0.635,
          0.49,
          0.51,
          0.56,
          0.63,
          0.715,
          0.56,
          0.35,
          0.21,
          0.38,
          0.31,
          0.47,
          0.715,
          0.61,
          0.6,
          0.56,
          0.715,
          0.31,
          0.6,
          0.61,
          0.75,
          0.8,
          0.52,
          0.57,
          0.9,
          0.34,
          0.66,
          0.45,
          0.66,
          0.63,
          0.59,
          0.31,
          0.59,
          0.31,
          1.02,
          0.31,
          0.635,
          0.635,
          0.59,
          0.59,
          0.58,
          0.54,
          0.56,
          0.52,
          0.305,
          0.38,
          0.28,
          0.46,
          0.395,
          0.305,
          0.315,
          0.715,
          0.41,
          0.36,
          0.62,
          0.41,
          0.36,
          0.62,
          0.41,
          0.47,
          0.22,
          0.24,
          0.67,
          0.47,
          0.33,
          0.61,
          0.61,
          0.4,
          0.61,
          0.61,
          0.3,
          0.3,
          0.63,
          0.38,
          0.46,
          0.33,
          0.27,
          0.43,
          0.5,
          0.3,
          0.44,
          0.44,
          0.28,
          0.12,
          0.12,
          0.12,
          0.28,
          0.31,
          0.34,
          0.43,
          0.21,
          0.36,
          0.37,
          0.57,
          0.59,
          0.47,
          0.56,
          0.57,
          0.27,
          0.47,
          0.34,
          0.38,
          0.66,
          0.4,
          0.56,
          0.26,
          0.26,
          0.38,
          0.34,
          0.33,
          0.41,
          0.41,
          0.59,
          0.4,
          0.45,
          0.5,
          0.86,
          0.52,
          0.5,
          0.45,
          0.58,
          0.34,
          0.36,
          0.39,
          0.295,
          0.39,
          0.34,
          0.4,
          0.34,
          0.35,
          0.6,
          0.66,
          0.66,
          0.84,
          0.69,
          0.43,
          0.35,
          0.29,
          0.36,
          0.43,
          0.36,
          0.29,
          0.3,
          0.35,
          0.5,
          0.28,
          0.32,
          1.005,
          0.71,
          0.58,
          0.39,
          0.38,
          0.18,
          0.18,
          0.5,
          0.36,
          0.36,
          0.51,
          0.32,
          0.58,
          0.83,
          0.31,
          0.795,
          0.34,
          0.58,
          0.59,
          0.55,
          0.82,
          0.57,
          0.745,
          0.37,
          0.31,
          0.91,
          0.41,
          0.5,
          0.965,
          0.49,
          0.5,
          0.39,
          0.39,
          0.44,
          0.78,
          0.43,
          0.49,
          0.5,
          0.43,
          0.46,
          0.605,
          0.33,
          0.64,
          0.64,
          0.48,
          0.42,
          0.53,
          0.48,
          0.23,
          0.4,
          0.38,
          0.29,
          0.74,
          0.61,
          0.52,
          0.31,
          0.31,
          0.62,
          0.33,
          0.77,
          0.35,
          0.62,
          0.77,
          0.25,
          0.32,
          0.37,
          0.37,
          0.3,
          0.27,
          0.3,
          0.38,
          0.42,
          0.38,
          0.48,
          0.34,
          0.19,
          0.41,
          0.41,
          0.26,
          0.34,
          0.54,
          0.31,
          0.725,
          0.4,
          0.725,
          0.52,
          0.31,
          0.52,
          0.34,
          0.49,
          0.48,
          0.49,
          0.48,
          0.57,
          0.23,
          0.3,
          0.78,
          0.47,
          0.53,
          0.42,
          0.33,
          0.24,
          0.4,
          0.69,
          0.69,
          0.69,
          0.39,
          0.66,
          0.54,
          0.5,
          0.47,
          0.4,
          0.58,
          0.24,
          0.29,
          0.76,
          0.43,
          0.43,
          0.6,
          0.19,
          0.36,
          0.48,
          0.28,
          0.25,
          0.52,
          0.52,
          0.41,
          0.51,
          0.4,
          0.38,
          0.45,
          0.22,
          0.32,
          0.2,
          0.5,
          0.41,
          0.39,
          0.35,
          0.33,
          0.58,
          0.6,
          0.42,
          0.58,
          0.6,
          0.18,
          0.51,
          0.41,
          0.41,
          0.36,
          0.45,
          0.32,
          0.785,
          0.785,
          0.44,
          0.54,
          0.33,
          0.34,
          0.5,
          0.36,
          0.59,
          0.42,
          0.36,
          0.36,
          0.61,
          0.88,
          0.66,
          0.915,
          0.35,
          0.35,
          0.39,
          0.4,
          0.66,
          0.64,
          0.43,
          0.8,
          0.43,
          0.64,
          0.955,
          0.4,
          0.885,
          0.25,
          0.885,
          0.745,
          0.43,
          0.58,
          0.57,
          0.26,
          0.58,
          0.57,
          0.34,
          0.42,
          0.74,
          0.36,
          0.36,
          0.36,
          0.72,
          0.36,
          0.39,
          0.65,
          0.44,
          0.65,
          0.38,
          0.33,
          0.27,
          0.57,
          0.34,
          0.4,
          0.39,
          0.32,
          0.32,
          0.53,
          0.36,
          0.39,
          0.46,
          0.58,
          0.58,
          0.42,
          0.43,
          0.18,
          0.815,
          0.43,
          0.23,
          0.75,
          0.33,
          0.55,
          0.75,
          0.73,
          0.67,
          0.61,
          0.37,
          0.4,
          0.56,
          0.29,
          0.55,
          0.74,
          0.55,
          0.41,
          0.6,
          0.6,
          0.58,
          0.72,
          0.66,
          0.7,
          0.64,
          0.59,
          0.58,
          0.64,
          0.64,
          0.635,
          1.02,
          0.45,
          0.78,
          0.37,
          0.57,
          0.57,
          0.43,
          0.41,
          0.49,
          0.38,
          0.44,
          0.46,
          0.58,
          0.58,
          0.715,
          0.4,
          0.69,
          0.715,
          0.3,
          0.46,
          0.46,
          0.765,
          0.63,
          0.42,
          0.37,
          0.16,
          0.6,
          0.6,
          0.6,
          0.74,
          0.635,
          0.395,
          0.755,
          0.635,
          0.63,
          0.63,
          0.53,
          0.6,
          1.58,
          0.645,
          0.86,
          0.37,
          0.28,
          0.79,
          0.61,
          0.69,
          0.68,
          0.69,
          0.62,
          0.61,
          0.51,
          1.18,
          0.36,
          0.36,
          0.63,
          0.74,
          0.44,
          0.63,
          0.76,
          0.66,
          0.74,
          0.34,
          0.36,
          0.46,
          0.46,
          0.46,
          0.46,
          0.52,
          0.6,
          0.6,
          0.87,
          0.39,
          0.775,
          0.835,
          0.58,
          0.5,
          0.5,
          0.5,
          0.51,
          0.51,
          0.51,
          0.54,
          0.51,
          0.42,
          0.44,
          0.59,
          0.655,
          0.655,
          0.57,
          0.6,
          0.62,
          0.645,
          0.645,
          0.58,
          0.32,
          0.34,
          0.43,
          0.64,
          0.475,
          0.54,
          0.85,
          0.475,
          0.83,
          0.605,
          0.5,
          0.74,
          0.54,
          0.77,
          0.61,
          0.78,
          0.58,
          0.78,
          0.75,
          0.815,
          0.56,
          0.885,
          0.49,
          0.45,
          0.57,
          0.57,
          0.83,
          0.6,
          0.6,
          0.755,
          0.81,
          0.64,
          0.64,
          0.64,
          0.48,
          0.49,
          0.64,
          0.62,
          0.52,
          0.57,
          0.685,
          0.675,
          0.59,
          0.6,
          0.67,
          0.69,
          0.69,
          0.3,
          0.33,
          0.5,
          0.28,
          0.24,
          0.51,
          0.29,
          0.51,
          0.96,
          0.47,
          0.24,
          0.57,
          0.32,
          0.58,
          0.32,
          0.34,
          0.53,
          0.64,
          0.53,
          0.4,
          0.54,
          0.53,
          0.26,
          0.26,
          0.23,
          0.41,
          0.64,
          0.18,
          0.41,
          0.43,
          0.44,
          0.4,
          0.54,
          0.54,
          0.38,
          0.915,
          0.59,
          0.67,
          0.37,
          0.785,
          0.63,
          0.58,
          0.67,
          0.785,
          0.63,
          0.67,
          0.58,
          0.38,
          0.37,
          0.32,
          0.58,
          0.49,
          0.45,
          0.9,
          0.54,
          0.49,
          0.29,
          0.2,
          0.42,
          0.785,
          0.64,
          0.63,
          0.59,
          0.59,
          0.48,
          1.04,
          0.48,
          0.98,
          0.69,
          0.7,
          0.35,
          0.6,
          0.5,
          0.47,
          0.5,
          0.47,
          0.875,
          0.28,
          0.62,
          0.28,
          0.58,
          0.33,
          0.91,
          0.655,
          0.68,
          0.64,
          0.54,
          0.57,
          0.22,
          0.54,
          0.65,
          0.54,
          0.31,
          0.43,
          0.54,
          0.74,
          0.895,
          0.74,
          0.725,
          0.82,
          0.585,
          0.44,
          0.38,
          0.76,
          0.81,
          0.38,
          0.27,
          0.18,
          0.36,
          0.69,
          0.79,
          0.56,
          0.84,
          0.84,
          0.32,
          0.53,
          0.47,
          0.7,
          0.53,
          0.48,
          0.32,
          0.48,
          0.42,
          0.48,
          0.47,
          0.53,
          0.29,
          0.69,
          0.44,
          0.705,
          0.53,
          0.39,
          0.56,
          0.55,
          0.53,
          0.58,
          0.64,
          0.39,
          0.52,
          0.25,
          0.855,
          0.44,
          0.37,
          0.63,
          0.57,
          0.6,
          0.4,
          0.36,
          0.68,
          0.67,
          0.68,
          0.735,
          0.855,
          0.56,
          0.88,
          0.855,
          0.63,
          0.6,
          0.6,
          0.6,
          0.695,
          0.695,
          0.695,
          0.67,
          0.16,
          0.695,
          0.56,
          0.51,
          0.36,
          0.38,
          0.69,
          0.58,
          0.31,
          0.52,
          0.3,
          0.7,
          0.67,
          0.56,
          0.35,
          0.56,
          0.715,
          0.46,
          0.32,
          0.39,
          0.31,
          0.61,
          0.66,
          0.725,
          0.55,
          0.74,
          0.51,
          0.62,
          0.6,
          0.55,
          0.51,
          0.645,
          0.31
         ],
         "xaxis": "x",
         "yaxis": "y"
        }
       ],
       "layout": {
        "barmode": "relative",
        "legend": {
         "tracegroupgap": 0
        },
        "margin": {
         "t": 60
        },
        "template": {
         "data": {
          "bar": [
           {
            "error_x": {
             "color": "#2a3f5f"
            },
            "error_y": {
             "color": "#2a3f5f"
            },
            "marker": {
             "line": {
              "color": "#E5ECF6",
              "width": 0.5
             }
            },
            "type": "bar"
           }
          ],
          "barpolar": [
           {
            "marker": {
             "line": {
              "color": "#E5ECF6",
              "width": 0.5
             }
            },
            "type": "barpolar"
           }
          ],
          "carpet": [
           {
            "aaxis": {
             "endlinecolor": "#2a3f5f",
             "gridcolor": "white",
             "linecolor": "white",
             "minorgridcolor": "white",
             "startlinecolor": "#2a3f5f"
            },
            "baxis": {
             "endlinecolor": "#2a3f5f",
             "gridcolor": "white",
             "linecolor": "white",
             "minorgridcolor": "white",
             "startlinecolor": "#2a3f5f"
            },
            "type": "carpet"
           }
          ],
          "choropleth": [
           {
            "colorbar": {
             "outlinewidth": 0,
             "ticks": ""
            },
            "type": "choropleth"
           }
          ],
          "contour": [
           {
            "colorbar": {
             "outlinewidth": 0,
             "ticks": ""
            },
            "colorscale": [
             [
              0,
              "#0d0887"
             ],
             [
              0.1111111111111111,
              "#46039f"
             ],
             [
              0.2222222222222222,
              "#7201a8"
             ],
             [
              0.3333333333333333,
              "#9c179e"
             ],
             [
              0.4444444444444444,
              "#bd3786"
             ],
             [
              0.5555555555555556,
              "#d8576b"
             ],
             [
              0.6666666666666666,
              "#ed7953"
             ],
             [
              0.7777777777777778,
              "#fb9f3a"
             ],
             [
              0.8888888888888888,
              "#fdca26"
             ],
             [
              1,
              "#f0f921"
             ]
            ],
            "type": "contour"
           }
          ],
          "contourcarpet": [
           {
            "colorbar": {
             "outlinewidth": 0,
             "ticks": ""
            },
            "type": "contourcarpet"
           }
          ],
          "heatmap": [
           {
            "colorbar": {
             "outlinewidth": 0,
             "ticks": ""
            },
            "colorscale": [
             [
              0,
              "#0d0887"
             ],
             [
              0.1111111111111111,
              "#46039f"
             ],
             [
              0.2222222222222222,
              "#7201a8"
             ],
             [
              0.3333333333333333,
              "#9c179e"
             ],
             [
              0.4444444444444444,
              "#bd3786"
             ],
             [
              0.5555555555555556,
              "#d8576b"
             ],
             [
              0.6666666666666666,
              "#ed7953"
             ],
             [
              0.7777777777777778,
              "#fb9f3a"
             ],
             [
              0.8888888888888888,
              "#fdca26"
             ],
             [
              1,
              "#f0f921"
             ]
            ],
            "type": "heatmap"
           }
          ],
          "heatmapgl": [
           {
            "colorbar": {
             "outlinewidth": 0,
             "ticks": ""
            },
            "colorscale": [
             [
              0,
              "#0d0887"
             ],
             [
              0.1111111111111111,
              "#46039f"
             ],
             [
              0.2222222222222222,
              "#7201a8"
             ],
             [
              0.3333333333333333,
              "#9c179e"
             ],
             [
              0.4444444444444444,
              "#bd3786"
             ],
             [
              0.5555555555555556,
              "#d8576b"
             ],
             [
              0.6666666666666666,
              "#ed7953"
             ],
             [
              0.7777777777777778,
              "#fb9f3a"
             ],
             [
              0.8888888888888888,
              "#fdca26"
             ],
             [
              1,
              "#f0f921"
             ]
            ],
            "type": "heatmapgl"
           }
          ],
          "histogram": [
           {
            "marker": {
             "colorbar": {
              "outlinewidth": 0,
              "ticks": ""
             }
            },
            "type": "histogram"
           }
          ],
          "histogram2d": [
           {
            "colorbar": {
             "outlinewidth": 0,
             "ticks": ""
            },
            "colorscale": [
             [
              0,
              "#0d0887"
             ],
             [
              0.1111111111111111,
              "#46039f"
             ],
             [
              0.2222222222222222,
              "#7201a8"
             ],
             [
              0.3333333333333333,
              "#9c179e"
             ],
             [
              0.4444444444444444,
              "#bd3786"
             ],
             [
              0.5555555555555556,
              "#d8576b"
             ],
             [
              0.6666666666666666,
              "#ed7953"
             ],
             [
              0.7777777777777778,
              "#fb9f3a"
             ],
             [
              0.8888888888888888,
              "#fdca26"
             ],
             [
              1,
              "#f0f921"
             ]
            ],
            "type": "histogram2d"
           }
          ],
          "histogram2dcontour": [
           {
            "colorbar": {
             "outlinewidth": 0,
             "ticks": ""
            },
            "colorscale": [
             [
              0,
              "#0d0887"
             ],
             [
              0.1111111111111111,
              "#46039f"
             ],
             [
              0.2222222222222222,
              "#7201a8"
             ],
             [
              0.3333333333333333,
              "#9c179e"
             ],
             [
              0.4444444444444444,
              "#bd3786"
             ],
             [
              0.5555555555555556,
              "#d8576b"
             ],
             [
              0.6666666666666666,
              "#ed7953"
             ],
             [
              0.7777777777777778,
              "#fb9f3a"
             ],
             [
              0.8888888888888888,
              "#fdca26"
             ],
             [
              1,
              "#f0f921"
             ]
            ],
            "type": "histogram2dcontour"
           }
          ],
          "mesh3d": [
           {
            "colorbar": {
             "outlinewidth": 0,
             "ticks": ""
            },
            "type": "mesh3d"
           }
          ],
          "parcoords": [
           {
            "line": {
             "colorbar": {
              "outlinewidth": 0,
              "ticks": ""
             }
            },
            "type": "parcoords"
           }
          ],
          "pie": [
           {
            "automargin": true,
            "type": "pie"
           }
          ],
          "scatter": [
           {
            "marker": {
             "colorbar": {
              "outlinewidth": 0,
              "ticks": ""
             }
            },
            "type": "scatter"
           }
          ],
          "scatter3d": [
           {
            "line": {
             "colorbar": {
              "outlinewidth": 0,
              "ticks": ""
             }
            },
            "marker": {
             "colorbar": {
              "outlinewidth": 0,
              "ticks": ""
             }
            },
            "type": "scatter3d"
           }
          ],
          "scattercarpet": [
           {
            "marker": {
             "colorbar": {
              "outlinewidth": 0,
              "ticks": ""
             }
            },
            "type": "scattercarpet"
           }
          ],
          "scattergeo": [
           {
            "marker": {
             "colorbar": {
              "outlinewidth": 0,
              "ticks": ""
             }
            },
            "type": "scattergeo"
           }
          ],
          "scattergl": [
           {
            "marker": {
             "colorbar": {
              "outlinewidth": 0,
              "ticks": ""
             }
            },
            "type": "scattergl"
           }
          ],
          "scattermapbox": [
           {
            "marker": {
             "colorbar": {
              "outlinewidth": 0,
              "ticks": ""
             }
            },
            "type": "scattermapbox"
           }
          ],
          "scatterpolar": [
           {
            "marker": {
             "colorbar": {
              "outlinewidth": 0,
              "ticks": ""
             }
            },
            "type": "scatterpolar"
           }
          ],
          "scatterpolargl": [
           {
            "marker": {
             "colorbar": {
              "outlinewidth": 0,
              "ticks": ""
             }
            },
            "type": "scatterpolargl"
           }
          ],
          "scatterternary": [
           {
            "marker": {
             "colorbar": {
              "outlinewidth": 0,
              "ticks": ""
             }
            },
            "type": "scatterternary"
           }
          ],
          "surface": [
           {
            "colorbar": {
             "outlinewidth": 0,
             "ticks": ""
            },
            "colorscale": [
             [
              0,
              "#0d0887"
             ],
             [
              0.1111111111111111,
              "#46039f"
             ],
             [
              0.2222222222222222,
              "#7201a8"
             ],
             [
              0.3333333333333333,
              "#9c179e"
             ],
             [
              0.4444444444444444,
              "#bd3786"
             ],
             [
              0.5555555555555556,
              "#d8576b"
             ],
             [
              0.6666666666666666,
              "#ed7953"
             ],
             [
              0.7777777777777778,
              "#fb9f3a"
             ],
             [
              0.8888888888888888,
              "#fdca26"
             ],
             [
              1,
              "#f0f921"
             ]
            ],
            "type": "surface"
           }
          ],
          "table": [
           {
            "cells": {
             "fill": {
              "color": "#EBF0F8"
             },
             "line": {
              "color": "white"
             }
            },
            "header": {
             "fill": {
              "color": "#C8D4E3"
             },
             "line": {
              "color": "white"
             }
            },
            "type": "table"
           }
          ]
         },
         "layout": {
          "annotationdefaults": {
           "arrowcolor": "#2a3f5f",
           "arrowhead": 0,
           "arrowwidth": 1
          },
          "coloraxis": {
           "colorbar": {
            "outlinewidth": 0,
            "ticks": ""
           }
          },
          "colorscale": {
           "diverging": [
            [
             0,
             "#8e0152"
            ],
            [
             0.1,
             "#c51b7d"
            ],
            [
             0.2,
             "#de77ae"
            ],
            [
             0.3,
             "#f1b6da"
            ],
            [
             0.4,
             "#fde0ef"
            ],
            [
             0.5,
             "#f7f7f7"
            ],
            [
             0.6,
             "#e6f5d0"
            ],
            [
             0.7,
             "#b8e186"
            ],
            [
             0.8,
             "#7fbc41"
            ],
            [
             0.9,
             "#4d9221"
            ],
            [
             1,
             "#276419"
            ]
           ],
           "sequential": [
            [
             0,
             "#0d0887"
            ],
            [
             0.1111111111111111,
             "#46039f"
            ],
            [
             0.2222222222222222,
             "#7201a8"
            ],
            [
             0.3333333333333333,
             "#9c179e"
            ],
            [
             0.4444444444444444,
             "#bd3786"
            ],
            [
             0.5555555555555556,
             "#d8576b"
            ],
            [
             0.6666666666666666,
             "#ed7953"
            ],
            [
             0.7777777777777778,
             "#fb9f3a"
            ],
            [
             0.8888888888888888,
             "#fdca26"
            ],
            [
             1,
             "#f0f921"
            ]
           ],
           "sequentialminus": [
            [
             0,
             "#0d0887"
            ],
            [
             0.1111111111111111,
             "#46039f"
            ],
            [
             0.2222222222222222,
             "#7201a8"
            ],
            [
             0.3333333333333333,
             "#9c179e"
            ],
            [
             0.4444444444444444,
             "#bd3786"
            ],
            [
             0.5555555555555556,
             "#d8576b"
            ],
            [
             0.6666666666666666,
             "#ed7953"
            ],
            [
             0.7777777777777778,
             "#fb9f3a"
            ],
            [
             0.8888888888888888,
             "#fdca26"
            ],
            [
             1,
             "#f0f921"
            ]
           ]
          },
          "colorway": [
           "#636efa",
           "#EF553B",
           "#00cc96",
           "#ab63fa",
           "#FFA15A",
           "#19d3f3",
           "#FF6692",
           "#B6E880",
           "#FF97FF",
           "#FECB52"
          ],
          "font": {
           "color": "#2a3f5f"
          },
          "geo": {
           "bgcolor": "white",
           "lakecolor": "white",
           "landcolor": "#E5ECF6",
           "showlakes": true,
           "showland": true,
           "subunitcolor": "white"
          },
          "hoverlabel": {
           "align": "left"
          },
          "hovermode": "closest",
          "mapbox": {
           "style": "light"
          },
          "paper_bgcolor": "white",
          "plot_bgcolor": "#E5ECF6",
          "polar": {
           "angularaxis": {
            "gridcolor": "white",
            "linecolor": "white",
            "ticks": ""
           },
           "bgcolor": "#E5ECF6",
           "radialaxis": {
            "gridcolor": "white",
            "linecolor": "white",
            "ticks": ""
           }
          },
          "scene": {
           "xaxis": {
            "backgroundcolor": "#E5ECF6",
            "gridcolor": "white",
            "gridwidth": 2,
            "linecolor": "white",
            "showbackground": true,
            "ticks": "",
            "zerolinecolor": "white"
           },
           "yaxis": {
            "backgroundcolor": "#E5ECF6",
            "gridcolor": "white",
            "gridwidth": 2,
            "linecolor": "white",
            "showbackground": true,
            "ticks": "",
            "zerolinecolor": "white"
           },
           "zaxis": {
            "backgroundcolor": "#E5ECF6",
            "gridcolor": "white",
            "gridwidth": 2,
            "linecolor": "white",
            "showbackground": true,
            "ticks": "",
            "zerolinecolor": "white"
           }
          },
          "shapedefaults": {
           "line": {
            "color": "#2a3f5f"
           }
          },
          "ternary": {
           "aaxis": {
            "gridcolor": "white",
            "linecolor": "white",
            "ticks": ""
           },
           "baxis": {
            "gridcolor": "white",
            "linecolor": "white",
            "ticks": ""
           },
           "bgcolor": "#E5ECF6",
           "caxis": {
            "gridcolor": "white",
            "linecolor": "white",
            "ticks": ""
           }
          },
          "title": {
           "x": 0.05
          },
          "xaxis": {
           "automargin": true,
           "gridcolor": "white",
           "linecolor": "white",
           "ticks": "",
           "title": {
            "standoff": 15
           },
           "zerolinecolor": "white",
           "zerolinewidth": 2
          },
          "yaxis": {
           "automargin": true,
           "gridcolor": "white",
           "linecolor": "white",
           "ticks": "",
           "title": {
            "standoff": 15
           },
           "zerolinecolor": "white",
           "zerolinewidth": 2
          }
         }
        },
        "xaxis": {
         "anchor": "y",
         "domain": [
          0,
          1
         ],
         "title": {
          "text": "volatile acidity"
         }
        },
        "yaxis": {
         "anchor": "x",
         "domain": [
          0,
          1
         ],
         "title": {
          "text": "count"
         }
        }
       }
      },
      "text/html": [
       "<div>                            <div id=\"24521c71-7db2-4fad-ad01-78a9f0d5c556\" class=\"plotly-graph-div\" style=\"height:525px; width:100%;\"></div>            <script type=\"text/javascript\">                require([\"plotly\"], function(Plotly) {                    window.PLOTLYENV=window.PLOTLYENV || {};                                    if (document.getElementById(\"24521c71-7db2-4fad-ad01-78a9f0d5c556\")) {                    Plotly.newPlot(                        \"24521c71-7db2-4fad-ad01-78a9f0d5c556\",                        [{\"alignmentgroup\": \"True\", \"bingroup\": \"x\", \"hovertemplate\": \"volatile acidity=%{x}<br>count=%{y}<extra></extra>\", \"legendgroup\": \"\", \"marker\": {\"color\": \"#636efa\"}, \"name\": \"\", \"offsetgroup\": \"\", \"orientation\": \"v\", \"showlegend\": false, \"type\": \"histogram\", \"x\": [0.7, 0.88, 0.76, 0.28, 0.7, 0.66, 0.6, 0.65, 0.58, 0.5, 0.58, 0.5, 0.615, 0.61, 0.62, 0.62, 0.28, 0.56, 0.59, 0.32, 0.22, 0.39, 0.43, 0.49, 0.4, 0.39, 0.41, 0.43, 0.71, 0.645, 0.675, 0.685, 0.655, 0.605, 0.32, 0.645, 0.6, 0.38, 1.13, 0.45, 0.45, 0.61, 0.49, 0.66, 0.67, 0.52, 0.935, 0.29, 0.4, 0.31, 0.66, 0.52, 0.5, 0.38, 0.51, 0.62, 0.42, 0.63, 0.59, 0.39, 0.4, 0.69, 0.52, 0.735, 0.725, 0.725, 0.52, 0.705, 0.32, 0.705, 0.63, 0.67, 0.69, 0.675, 0.32, 0.41, 0.41, 0.785, 0.75, 0.625, 0.45, 0.43, 0.5, 0.67, 0.3, 0.55, 0.49, 0.49, 0.39, 0.62, 0.52, 0.49, 0.49, 0.49, 1.02, 0.6, 0.775, 0.5, 0.9, 0.545, 0.61, 0.5, 0.545, 0.575, 0.49, 0.575, 0.41, 0.63, 0.33, 0.785, 0.56, 0.62, 0.6, 0.31, 0.56, 0.4, 0.54, 0.56, 0.55, 0.69, 1.07, 0.55, 0.695, 0.71, 0.5, 0.62, 1.33, 1.33, 0.59, 0.38, 0.745, 0.5, 0.5, 0.5, 1.04, 0.745, 0.715, 0.415, 0.56, 0.56, 0.745, 0.715, 0.34, 0.39, 0.34, 0.67, 0.68, 0.49, 0.49, 0.4, 0.33, 0.52, 0.6, 0.6, 0.43, 0.43, 0.43, 0.43, 0.68, 0.6, 0.95, 0.68, 0.53, 0.6, 0.59, 0.63, 0.64, 0.55, 0.63, 0.705, 0.885, 0.42, 0.42, 0.62, 0.38, 0.5, 0.38, 0.52, 0.805, 0.61, 0.61, 0.61, 0.73, 0.61, 0.62, 0.31, 0.39, 0.705, 0.5, 0.49, 0.5, 0.37, 0.63, 0.55, 0.55, 0.59, 0.58, 0.3, 0.835, 1.09, 0.32, 0.37, 0.5, 0.42, 0.43, 0.3, 0.3, 0.57, 0.44, 0.3, 0.53, 0.725, 0.44, 0.57, 0.735, 0.49, 0.625, 0.725, 0.49, 0.53, 0.34, 0.53, 0.61, 0.645, 0.635, 0.43, 0.59, 0.82, 0.43, 0.52, 0.48, 0.38, 0.37, 0.52, 1.0, 0.63, 0.63, 0.645, 0.63, 1.0, 0.635, 0.38, 0.58, 0.21, 0.21, 0.66, 0.68, 0.6, 0.53, 0.66, 0.32, 0.6, 0.35, 0.775, 0.6, 0.57, 0.34, 0.695, 0.41, 0.31, 0.33, 0.975, 0.52, 0.37, 0.56, 0.26, 0.87, 0.35, 0.54, 0.18, 0.545, 0.18, 0.37, 0.715, 0.65, 0.545, 0.54, 0.18, 0.32, 0.4, 0.26, 0.27, 0.52, 0.4, 0.59, 0.59, 0.45, 0.4, 0.52, 0.42, 0.52, 0.2, 0.55, 0.36, 0.34, 0.5, 0.83, 0.63, 0.65, 0.67, 0.53, 0.18, 0.705, 0.67, 0.65, 0.53, 0.62, 0.41, 0.43, 0.29, 0.53, 0.53, 0.46, 0.47, 0.36, 0.35, 0.56, 0.77, 0.66, 0.77, 0.66, 0.61, 0.62, 0.59, 0.49, 0.49, 0.53, 0.44, 0.27, 0.46, 0.36, 0.36, 0.58, 0.56, 0.65, 0.695, 0.43, 0.43, 0.49, 0.28, 0.34, 0.42, 0.39, 0.39, 0.57, 0.685, 0.815, 0.49, 0.56, 0.785, 0.67, 0.795, 0.665, 0.53, 0.21, 0.75, 0.41, 0.42, 0.43, 0.38, 0.7, 0.45, 0.58, 0.46, 0.615, 0.42, 0.615, 0.575, 0.34, 0.27, 0.765, 0.24, 0.28, 0.55, 0.41, 0.54, 0.45, 0.27, 0.625, 0.42, 0.26, 0.415, 0.26, 0.26, 0.51, 0.63, 0.54, 0.66, 0.46, 0.38, 0.85, 0.415, 0.37, 0.665, 0.6, 0.37, 0.735, 0.59, 0.59, 0.765, 0.735, 0.26, 0.48, 0.6, 0.69, 0.31, 0.44, 0.39, 0.34, 0.46, 0.43, 0.45, 0.735, 0.4, 0.52, 0.725, 0.48, 0.58, 0.38, 0.77, 0.56, 0.84, 0.96, 0.24, 0.96, 0.84, 0.67, 0.78, 0.52, 0.84, 0.24, 0.55, 0.37, 0.39, 0.41, 0.39, 0.67, 0.45, 0.41, 0.62, 0.31, 0.4, 0.685, 0.44, 0.57, 0.735, 0.38, 0.48, 0.53, 0.39, 0.39, 0.37, 0.56, 0.33, 0.23, 0.62, 0.59, 0.63, 0.33, 0.58, 0.43, 0.615, 0.26, 0.66, 0.315, 0.29, 0.5, 0.46, 0.36, 0.82, 0.32, 0.54, 0.37, 0.35, 0.28, 0.68, 0.27, 0.24, 0.68, 0.685, 0.28, 0.3, 0.36, 0.36, 0.44, 0.67, 0.67, 0.645, 0.32, 0.39, 0.775, 0.41, 0.4, 0.69, 0.39, 0.35, 0.52, 0.34, 0.35, 0.69, 0.52, 0.44, 0.44, 0.26, 0.24, 0.49, 0.24, 0.67, 0.59, 0.29, 0.42, 0.59, 0.4, 0.51, 0.51, 0.655, 0.6, 0.61, 0.21, 0.365, 0.25, 0.41, 0.39, 0.4, 0.43, 0.64, 0.365, 0.38, 0.42, 0.63, 0.22, 0.38, 0.38, 0.27, 0.48, 0.22, 0.63, 0.825, 0.35, 0.5, 0.59, 0.46, 0.715, 0.66, 0.31, 0.47, 0.55, 0.31, 0.35, 0.53, 0.51, 0.43, 0.46, 1.04, 0.645, 0.645, 0.53, 0.645, 0.53, 0.47, 0.6, 0.44, 0.54, 0.29, 0.47, 0.6, 0.7, 0.7, 0.5, 0.36, 0.35, 0.36, 0.24, 0.59, 0.34, 0.27, 0.5, 0.44, 0.47, 0.31, 0.5, 0.5, 0.49, 0.28, 0.33, 0.51, 0.31, 0.73, 0.42, 0.29, 0.45, 0.39, 0.45, 0.49, 0.72, 0.595, 0.4, 0.58, 0.585, 0.59, 0.915, 0.46, 0.835, 0.46, 0.58, 0.6, 0.41, 0.48, 0.65, 0.36, 0.24, 0.38, 0.64, 0.39, 0.755, 0.6, 0.6, 0.31, 0.46, 0.37, 0.54, 0.56, 0.58, 0.51, 0.69, 0.69, 0.6, 0.6, 0.54, 0.685, 0.54, 0.28, 0.41, 0.935, 0.35, 0.84, 0.88, 0.885, 0.915, 0.29, 0.54, 0.59, 0.54, 0.59, 0.54, 0.64, 0.67, 0.845, 0.48, 0.42, 0.43, 0.88, 0.36, 0.33, 0.47, 0.55, 0.43, 0.5, 0.52, 0.84, 0.52, 0.42, 0.57, 0.28, 0.4, 0.59, 0.49, 0.34, 0.73, 0.34, 0.4, 0.73, 1.24, 0.73, 0.4, 0.41, 0.4, 0.8, 0.78, 0.26, 0.43, 0.45, 0.46, 0.78, 0.98, 0.78, 0.65, 0.64, 0.66, 0.38, 1.185, 0.92, 0.49, 0.48, 0.47, 0.47, 0.65, 0.65, 0.615, 0.38, 1.02, 0.65, 0.64, 0.38, 0.765, 1.035, 0.78, 0.49, 0.545, 0.31, 1.025, 0.565, 0.69, 0.43, 0.74, 0.49, 0.43, 0.46, 0.56, 0.66, 0.56, 0.48, 0.42, 0.31, 1.115, 0.66, 0.72, 0.57, 0.57, 0.865, 0.55, 0.875, 0.835, 0.45, 0.56, 0.965, 0.965, 0.59, 0.46, 0.69, 0.76, 0.53, 0.615, 0.41, 0.39, 0.51, 0.34, 0.33, 0.5, 0.51, 0.65, 0.65, 0.54, 0.65, 0.48, 0.91, 0.98, 0.87, 0.87, 0.42, 0.58, 0.655, 0.7, 0.655, 0.68, 0.67, 0.59, 0.6, 0.59, 0.72, 0.59, 0.685, 0.57, 0.4, 0.4, 1.0, 0.765, 0.635, 0.43, 0.52, 0.57, 0.46, 0.82, 0.46, 0.59, 0.35, 0.35, 0.56, 0.56, 0.63, 0.37, 0.64, 0.61, 0.6, 0.27, 0.89, 0.46, 0.37, 0.5, 0.5, 0.61, 0.55, 0.585, 0.56, 0.52, 0.28, 0.25, 0.28, 0.53, 0.48, 0.49, 0.5, 0.45, 0.39, 0.41, 0.45, 0.51, 0.29, 0.715, 0.66, 0.685, 0.42, 0.54, 0.54, 0.48, 0.46, 0.27, 0.46, 0.57, 0.61, 0.685, 0.61, 0.44, 0.47, 0.685, 0.665, 0.28, 0.28, 0.31, 0.5, 0.42, 0.66, 0.5, 0.685, 0.25, 0.64, 0.64, 0.68, 0.64, 0.63, 0.43, 0.43, 0.42, 0.36, 0.36, 0.735, 0.36, 0.26, 0.28, 0.56, 0.62, 1.01, 0.42, 0.62, 0.62, 0.635, 0.49, 0.51, 0.56, 0.63, 0.715, 0.56, 0.35, 0.21, 0.38, 0.31, 0.47, 0.715, 0.61, 0.6, 0.56, 0.715, 0.31, 0.6, 0.61, 0.75, 0.8, 0.52, 0.57, 0.9, 0.34, 0.66, 0.45, 0.66, 0.63, 0.59, 0.31, 0.59, 0.31, 1.02, 0.31, 0.635, 0.635, 0.59, 0.59, 0.58, 0.54, 0.56, 0.52, 0.305, 0.38, 0.28, 0.46, 0.395, 0.305, 0.315, 0.715, 0.41, 0.36, 0.62, 0.41, 0.36, 0.62, 0.41, 0.47, 0.22, 0.24, 0.67, 0.47, 0.33, 0.61, 0.61, 0.4, 0.61, 0.61, 0.3, 0.3, 0.63, 0.38, 0.46, 0.33, 0.27, 0.43, 0.5, 0.3, 0.44, 0.44, 0.28, 0.12, 0.12, 0.12, 0.28, 0.31, 0.34, 0.43, 0.21, 0.36, 0.37, 0.57, 0.59, 0.47, 0.56, 0.57, 0.27, 0.47, 0.34, 0.38, 0.66, 0.4, 0.56, 0.26, 0.26, 0.38, 0.34, 0.33, 0.41, 0.41, 0.59, 0.4, 0.45, 0.5, 0.86, 0.52, 0.5, 0.45, 0.58, 0.34, 0.36, 0.39, 0.295, 0.39, 0.34, 0.4, 0.34, 0.35, 0.6, 0.66, 0.66, 0.84, 0.69, 0.43, 0.35, 0.29, 0.36, 0.43, 0.36, 0.29, 0.3, 0.35, 0.5, 0.28, 0.32, 1.005, 0.71, 0.58, 0.39, 0.38, 0.18, 0.18, 0.5, 0.36, 0.36, 0.51, 0.32, 0.58, 0.83, 0.31, 0.795, 0.34, 0.58, 0.59, 0.55, 0.82, 0.57, 0.745, 0.37, 0.31, 0.91, 0.41, 0.5, 0.965, 0.49, 0.5, 0.39, 0.39, 0.44, 0.78, 0.43, 0.49, 0.5, 0.43, 0.46, 0.605, 0.33, 0.64, 0.64, 0.48, 0.42, 0.53, 0.48, 0.23, 0.4, 0.38, 0.29, 0.74, 0.61, 0.52, 0.31, 0.31, 0.62, 0.33, 0.77, 0.35, 0.62, 0.77, 0.25, 0.32, 0.37, 0.37, 0.3, 0.27, 0.3, 0.38, 0.42, 0.38, 0.48, 0.34, 0.19, 0.41, 0.41, 0.26, 0.34, 0.54, 0.31, 0.725, 0.4, 0.725, 0.52, 0.31, 0.52, 0.34, 0.49, 0.48, 0.49, 0.48, 0.57, 0.23, 0.3, 0.78, 0.47, 0.53, 0.42, 0.33, 0.24, 0.4, 0.69, 0.69, 0.69, 0.39, 0.66, 0.54, 0.5, 0.47, 0.4, 0.58, 0.24, 0.29, 0.76, 0.43, 0.43, 0.6, 0.19, 0.36, 0.48, 0.28, 0.25, 0.52, 0.52, 0.41, 0.51, 0.4, 0.38, 0.45, 0.22, 0.32, 0.2, 0.5, 0.41, 0.39, 0.35, 0.33, 0.58, 0.6, 0.42, 0.58, 0.6, 0.18, 0.51, 0.41, 0.41, 0.36, 0.45, 0.32, 0.785, 0.785, 0.44, 0.54, 0.33, 0.34, 0.5, 0.36, 0.59, 0.42, 0.36, 0.36, 0.61, 0.88, 0.66, 0.915, 0.35, 0.35, 0.39, 0.4, 0.66, 0.64, 0.43, 0.8, 0.43, 0.64, 0.955, 0.4, 0.885, 0.25, 0.885, 0.745, 0.43, 0.58, 0.57, 0.26, 0.58, 0.57, 0.34, 0.42, 0.74, 0.36, 0.36, 0.36, 0.72, 0.36, 0.39, 0.65, 0.44, 0.65, 0.38, 0.33, 0.27, 0.57, 0.34, 0.4, 0.39, 0.32, 0.32, 0.53, 0.36, 0.39, 0.46, 0.58, 0.58, 0.42, 0.43, 0.18, 0.815, 0.43, 0.23, 0.75, 0.33, 0.55, 0.75, 0.73, 0.67, 0.61, 0.37, 0.4, 0.56, 0.29, 0.55, 0.74, 0.55, 0.41, 0.6, 0.6, 0.58, 0.72, 0.66, 0.7, 0.64, 0.59, 0.58, 0.64, 0.64, 0.635, 1.02, 0.45, 0.78, 0.37, 0.57, 0.57, 0.43, 0.41, 0.49, 0.38, 0.44, 0.46, 0.58, 0.58, 0.715, 0.4, 0.69, 0.715, 0.3, 0.46, 0.46, 0.765, 0.63, 0.42, 0.37, 0.16, 0.6, 0.6, 0.6, 0.74, 0.635, 0.395, 0.755, 0.635, 0.63, 0.63, 0.53, 0.6, 1.58, 0.645, 0.86, 0.37, 0.28, 0.79, 0.61, 0.69, 0.68, 0.69, 0.62, 0.61, 0.51, 1.18, 0.36, 0.36, 0.63, 0.74, 0.44, 0.63, 0.76, 0.66, 0.74, 0.34, 0.36, 0.46, 0.46, 0.46, 0.46, 0.52, 0.6, 0.6, 0.87, 0.39, 0.775, 0.835, 0.58, 0.5, 0.5, 0.5, 0.51, 0.51, 0.51, 0.54, 0.51, 0.42, 0.44, 0.59, 0.655, 0.655, 0.57, 0.6, 0.62, 0.645, 0.645, 0.58, 0.32, 0.34, 0.43, 0.64, 0.475, 0.54, 0.85, 0.475, 0.83, 0.605, 0.5, 0.74, 0.54, 0.77, 0.61, 0.78, 0.58, 0.78, 0.75, 0.815, 0.56, 0.885, 0.49, 0.45, 0.57, 0.57, 0.83, 0.6, 0.6, 0.755, 0.81, 0.64, 0.64, 0.64, 0.48, 0.49, 0.64, 0.62, 0.52, 0.57, 0.685, 0.675, 0.59, 0.6, 0.67, 0.69, 0.69, 0.3, 0.33, 0.5, 0.28, 0.24, 0.51, 0.29, 0.51, 0.96, 0.47, 0.24, 0.57, 0.32, 0.58, 0.32, 0.34, 0.53, 0.64, 0.53, 0.4, 0.54, 0.53, 0.26, 0.26, 0.23, 0.41, 0.64, 0.18, 0.41, 0.43, 0.44, 0.4, 0.54, 0.54, 0.38, 0.915, 0.59, 0.67, 0.37, 0.785, 0.63, 0.58, 0.67, 0.785, 0.63, 0.67, 0.58, 0.38, 0.37, 0.32, 0.58, 0.49, 0.45, 0.9, 0.54, 0.49, 0.29, 0.2, 0.42, 0.785, 0.64, 0.63, 0.59, 0.59, 0.48, 1.04, 0.48, 0.98, 0.69, 0.7, 0.35, 0.6, 0.5, 0.47, 0.5, 0.47, 0.875, 0.28, 0.62, 0.28, 0.58, 0.33, 0.91, 0.655, 0.68, 0.64, 0.54, 0.57, 0.22, 0.54, 0.65, 0.54, 0.31, 0.43, 0.54, 0.74, 0.895, 0.74, 0.725, 0.82, 0.585, 0.44, 0.38, 0.76, 0.81, 0.38, 0.27, 0.18, 0.36, 0.69, 0.79, 0.56, 0.84, 0.84, 0.32, 0.53, 0.47, 0.7, 0.53, 0.48, 0.32, 0.48, 0.42, 0.48, 0.47, 0.53, 0.29, 0.69, 0.44, 0.705, 0.53, 0.39, 0.56, 0.55, 0.53, 0.58, 0.64, 0.39, 0.52, 0.25, 0.855, 0.44, 0.37, 0.63, 0.57, 0.6, 0.4, 0.36, 0.68, 0.67, 0.68, 0.735, 0.855, 0.56, 0.88, 0.855, 0.63, 0.6, 0.6, 0.6, 0.695, 0.695, 0.695, 0.67, 0.16, 0.695, 0.56, 0.51, 0.36, 0.38, 0.69, 0.58, 0.31, 0.52, 0.3, 0.7, 0.67, 0.56, 0.35, 0.56, 0.715, 0.46, 0.32, 0.39, 0.31, 0.61, 0.66, 0.725, 0.55, 0.74, 0.51, 0.62, 0.6, 0.55, 0.51, 0.645, 0.31], \"xaxis\": \"x\", \"yaxis\": \"y\"}],                        {\"barmode\": \"relative\", \"legend\": {\"tracegroupgap\": 0}, \"margin\": {\"t\": 60}, \"template\": {\"data\": {\"bar\": [{\"error_x\": {\"color\": \"#2a3f5f\"}, \"error_y\": {\"color\": \"#2a3f5f\"}, \"marker\": {\"line\": {\"color\": \"#E5ECF6\", \"width\": 0.5}}, \"type\": \"bar\"}], \"barpolar\": [{\"marker\": {\"line\": {\"color\": \"#E5ECF6\", \"width\": 0.5}}, \"type\": \"barpolar\"}], \"carpet\": [{\"aaxis\": {\"endlinecolor\": \"#2a3f5f\", \"gridcolor\": \"white\", \"linecolor\": \"white\", \"minorgridcolor\": \"white\", \"startlinecolor\": \"#2a3f5f\"}, \"baxis\": {\"endlinecolor\": \"#2a3f5f\", \"gridcolor\": \"white\", \"linecolor\": \"white\", \"minorgridcolor\": \"white\", \"startlinecolor\": \"#2a3f5f\"}, \"type\": \"carpet\"}], \"choropleth\": [{\"colorbar\": {\"outlinewidth\": 0, \"ticks\": \"\"}, \"type\": \"choropleth\"}], \"contour\": [{\"colorbar\": {\"outlinewidth\": 0, \"ticks\": \"\"}, \"colorscale\": [[0.0, \"#0d0887\"], [0.1111111111111111, \"#46039f\"], [0.2222222222222222, \"#7201a8\"], [0.3333333333333333, \"#9c179e\"], [0.4444444444444444, \"#bd3786\"], [0.5555555555555556, \"#d8576b\"], [0.6666666666666666, \"#ed7953\"], [0.7777777777777778, \"#fb9f3a\"], [0.8888888888888888, \"#fdca26\"], [1.0, \"#f0f921\"]], \"type\": \"contour\"}], \"contourcarpet\": [{\"colorbar\": {\"outlinewidth\": 0, \"ticks\": \"\"}, \"type\": \"contourcarpet\"}], \"heatmap\": [{\"colorbar\": {\"outlinewidth\": 0, \"ticks\": \"\"}, \"colorscale\": [[0.0, \"#0d0887\"], [0.1111111111111111, \"#46039f\"], [0.2222222222222222, \"#7201a8\"], [0.3333333333333333, \"#9c179e\"], [0.4444444444444444, \"#bd3786\"], [0.5555555555555556, \"#d8576b\"], [0.6666666666666666, \"#ed7953\"], [0.7777777777777778, \"#fb9f3a\"], [0.8888888888888888, \"#fdca26\"], [1.0, \"#f0f921\"]], \"type\": \"heatmap\"}], \"heatmapgl\": [{\"colorbar\": {\"outlinewidth\": 0, \"ticks\": \"\"}, \"colorscale\": [[0.0, \"#0d0887\"], [0.1111111111111111, \"#46039f\"], [0.2222222222222222, \"#7201a8\"], [0.3333333333333333, \"#9c179e\"], [0.4444444444444444, \"#bd3786\"], [0.5555555555555556, \"#d8576b\"], [0.6666666666666666, \"#ed7953\"], [0.7777777777777778, \"#fb9f3a\"], [0.8888888888888888, \"#fdca26\"], [1.0, \"#f0f921\"]], \"type\": \"heatmapgl\"}], \"histogram\": [{\"marker\": {\"colorbar\": {\"outlinewidth\": 0, \"ticks\": \"\"}}, \"type\": \"histogram\"}], \"histogram2d\": [{\"colorbar\": {\"outlinewidth\": 0, \"ticks\": \"\"}, \"colorscale\": [[0.0, \"#0d0887\"], [0.1111111111111111, \"#46039f\"], [0.2222222222222222, \"#7201a8\"], [0.3333333333333333, \"#9c179e\"], [0.4444444444444444, \"#bd3786\"], [0.5555555555555556, \"#d8576b\"], [0.6666666666666666, \"#ed7953\"], [0.7777777777777778, \"#fb9f3a\"], [0.8888888888888888, \"#fdca26\"], [1.0, \"#f0f921\"]], \"type\": \"histogram2d\"}], \"histogram2dcontour\": [{\"colorbar\": {\"outlinewidth\": 0, \"ticks\": \"\"}, \"colorscale\": [[0.0, \"#0d0887\"], [0.1111111111111111, \"#46039f\"], [0.2222222222222222, \"#7201a8\"], [0.3333333333333333, \"#9c179e\"], [0.4444444444444444, \"#bd3786\"], [0.5555555555555556, \"#d8576b\"], [0.6666666666666666, \"#ed7953\"], [0.7777777777777778, \"#fb9f3a\"], [0.8888888888888888, \"#fdca26\"], [1.0, \"#f0f921\"]], \"type\": \"histogram2dcontour\"}], \"mesh3d\": [{\"colorbar\": {\"outlinewidth\": 0, \"ticks\": \"\"}, \"type\": \"mesh3d\"}], \"parcoords\": [{\"line\": {\"colorbar\": {\"outlinewidth\": 0, \"ticks\": \"\"}}, \"type\": \"parcoords\"}], \"pie\": [{\"automargin\": true, \"type\": \"pie\"}], \"scatter\": [{\"marker\": {\"colorbar\": {\"outlinewidth\": 0, \"ticks\": \"\"}}, \"type\": \"scatter\"}], \"scatter3d\": [{\"line\": {\"colorbar\": {\"outlinewidth\": 0, \"ticks\": \"\"}}, \"marker\": {\"colorbar\": {\"outlinewidth\": 0, \"ticks\": \"\"}}, \"type\": \"scatter3d\"}], \"scattercarpet\": [{\"marker\": {\"colorbar\": {\"outlinewidth\": 0, \"ticks\": \"\"}}, \"type\": \"scattercarpet\"}], \"scattergeo\": [{\"marker\": {\"colorbar\": {\"outlinewidth\": 0, \"ticks\": \"\"}}, \"type\": \"scattergeo\"}], \"scattergl\": [{\"marker\": {\"colorbar\": {\"outlinewidth\": 0, \"ticks\": \"\"}}, \"type\": \"scattergl\"}], \"scattermapbox\": [{\"marker\": {\"colorbar\": {\"outlinewidth\": 0, \"ticks\": \"\"}}, \"type\": \"scattermapbox\"}], \"scatterpolar\": [{\"marker\": {\"colorbar\": {\"outlinewidth\": 0, \"ticks\": \"\"}}, \"type\": \"scatterpolar\"}], \"scatterpolargl\": [{\"marker\": {\"colorbar\": {\"outlinewidth\": 0, \"ticks\": \"\"}}, \"type\": \"scatterpolargl\"}], \"scatterternary\": [{\"marker\": {\"colorbar\": {\"outlinewidth\": 0, \"ticks\": \"\"}}, \"type\": \"scatterternary\"}], \"surface\": [{\"colorbar\": {\"outlinewidth\": 0, \"ticks\": \"\"}, \"colorscale\": [[0.0, \"#0d0887\"], [0.1111111111111111, \"#46039f\"], [0.2222222222222222, \"#7201a8\"], [0.3333333333333333, \"#9c179e\"], [0.4444444444444444, \"#bd3786\"], [0.5555555555555556, \"#d8576b\"], [0.6666666666666666, \"#ed7953\"], [0.7777777777777778, \"#fb9f3a\"], [0.8888888888888888, \"#fdca26\"], [1.0, \"#f0f921\"]], \"type\": \"surface\"}], \"table\": [{\"cells\": {\"fill\": {\"color\": \"#EBF0F8\"}, \"line\": {\"color\": \"white\"}}, \"header\": {\"fill\": {\"color\": \"#C8D4E3\"}, \"line\": {\"color\": \"white\"}}, \"type\": \"table\"}]}, \"layout\": {\"annotationdefaults\": {\"arrowcolor\": \"#2a3f5f\", \"arrowhead\": 0, \"arrowwidth\": 1}, \"coloraxis\": {\"colorbar\": {\"outlinewidth\": 0, \"ticks\": \"\"}}, \"colorscale\": {\"diverging\": [[0, \"#8e0152\"], [0.1, \"#c51b7d\"], [0.2, \"#de77ae\"], [0.3, \"#f1b6da\"], [0.4, \"#fde0ef\"], [0.5, \"#f7f7f7\"], [0.6, \"#e6f5d0\"], [0.7, \"#b8e186\"], [0.8, \"#7fbc41\"], [0.9, \"#4d9221\"], [1, \"#276419\"]], \"sequential\": [[0.0, \"#0d0887\"], [0.1111111111111111, \"#46039f\"], [0.2222222222222222, \"#7201a8\"], [0.3333333333333333, \"#9c179e\"], [0.4444444444444444, \"#bd3786\"], [0.5555555555555556, \"#d8576b\"], [0.6666666666666666, \"#ed7953\"], [0.7777777777777778, \"#fb9f3a\"], [0.8888888888888888, \"#fdca26\"], [1.0, \"#f0f921\"]], \"sequentialminus\": [[0.0, \"#0d0887\"], [0.1111111111111111, \"#46039f\"], [0.2222222222222222, \"#7201a8\"], [0.3333333333333333, \"#9c179e\"], [0.4444444444444444, \"#bd3786\"], [0.5555555555555556, \"#d8576b\"], [0.6666666666666666, \"#ed7953\"], [0.7777777777777778, \"#fb9f3a\"], [0.8888888888888888, \"#fdca26\"], [1.0, \"#f0f921\"]]}, \"colorway\": [\"#636efa\", \"#EF553B\", \"#00cc96\", \"#ab63fa\", \"#FFA15A\", \"#19d3f3\", \"#FF6692\", \"#B6E880\", \"#FF97FF\", \"#FECB52\"], \"font\": {\"color\": \"#2a3f5f\"}, \"geo\": {\"bgcolor\": \"white\", \"lakecolor\": \"white\", \"landcolor\": \"#E5ECF6\", \"showlakes\": true, \"showland\": true, \"subunitcolor\": \"white\"}, \"hoverlabel\": {\"align\": \"left\"}, \"hovermode\": \"closest\", \"mapbox\": {\"style\": \"light\"}, \"paper_bgcolor\": \"white\", \"plot_bgcolor\": \"#E5ECF6\", \"polar\": {\"angularaxis\": {\"gridcolor\": \"white\", \"linecolor\": \"white\", \"ticks\": \"\"}, \"bgcolor\": \"#E5ECF6\", \"radialaxis\": {\"gridcolor\": \"white\", \"linecolor\": \"white\", \"ticks\": \"\"}}, \"scene\": {\"xaxis\": {\"backgroundcolor\": \"#E5ECF6\", \"gridcolor\": \"white\", \"gridwidth\": 2, \"linecolor\": \"white\", \"showbackground\": true, \"ticks\": \"\", \"zerolinecolor\": \"white\"}, \"yaxis\": {\"backgroundcolor\": \"#E5ECF6\", \"gridcolor\": \"white\", \"gridwidth\": 2, \"linecolor\": \"white\", \"showbackground\": true, \"ticks\": \"\", \"zerolinecolor\": \"white\"}, \"zaxis\": {\"backgroundcolor\": \"#E5ECF6\", \"gridcolor\": \"white\", \"gridwidth\": 2, \"linecolor\": \"white\", \"showbackground\": true, \"ticks\": \"\", \"zerolinecolor\": \"white\"}}, \"shapedefaults\": {\"line\": {\"color\": \"#2a3f5f\"}}, \"ternary\": {\"aaxis\": {\"gridcolor\": \"white\", \"linecolor\": \"white\", \"ticks\": \"\"}, \"baxis\": {\"gridcolor\": \"white\", \"linecolor\": \"white\", \"ticks\": \"\"}, \"bgcolor\": \"#E5ECF6\", \"caxis\": {\"gridcolor\": \"white\", \"linecolor\": \"white\", \"ticks\": \"\"}}, \"title\": {\"x\": 0.05}, \"xaxis\": {\"automargin\": true, \"gridcolor\": \"white\", \"linecolor\": \"white\", \"ticks\": \"\", \"title\": {\"standoff\": 15}, \"zerolinecolor\": \"white\", \"zerolinewidth\": 2}, \"yaxis\": {\"automargin\": true, \"gridcolor\": \"white\", \"linecolor\": \"white\", \"ticks\": \"\", \"title\": {\"standoff\": 15}, \"zerolinecolor\": \"white\", \"zerolinewidth\": 2}}}, \"xaxis\": {\"anchor\": \"y\", \"domain\": [0.0, 1.0], \"title\": {\"text\": \"volatile acidity\"}}, \"yaxis\": {\"anchor\": \"x\", \"domain\": [0.0, 1.0], \"title\": {\"text\": \"count\"}}},                        {\"responsive\": true}                    ).then(function(){\n",
       "                            \n",
       "var gd = document.getElementById('24521c71-7db2-4fad-ad01-78a9f0d5c556');\n",
       "var x = new MutationObserver(function (mutations, observer) {{\n",
       "        var display = window.getComputedStyle(gd).display;\n",
       "        if (!display || display === 'none') {{\n",
       "            console.log([gd, 'removed!']);\n",
       "            Plotly.purge(gd);\n",
       "            observer.disconnect();\n",
       "        }}\n",
       "}});\n",
       "\n",
       "// Listen for the removal of the full notebook cells\n",
       "var notebookContainer = gd.closest('#notebook-container');\n",
       "if (notebookContainer) {{\n",
       "    x.observe(notebookContainer, {childList: true});\n",
       "}}\n",
       "\n",
       "// Listen for the clearing of the current output cell\n",
       "var outputEl = gd.closest('.output');\n",
       "if (outputEl) {{\n",
       "    x.observe(outputEl, {childList: true});\n",
       "}}\n",
       "\n",
       "                        })                };                });            </script>        </div>"
      ]
     },
     "metadata": {},
     "output_type": "display_data"
    }
   ],
   "source": [
    "fig = px.histogram(data_frame,x='volatile acidity')\n",
    "fig.show()\n"
   ]
  },
  {
   "cell_type": "code",
   "execution_count": 75,
   "metadata": {},
   "outputs": [
    {
     "data": {
      "application/vnd.plotly.v1+json": {
       "config": {
        "plotlyServerURL": "https://plot.ly"
       },
       "data": [
        {
         "alignmentgroup": "True",
         "bingroup": "x",
         "hovertemplate": "citric acid=%{x}<br>count=%{y}<extra></extra>",
         "legendgroup": "",
         "marker": {
          "color": "#636efa"
         },
         "name": "",
         "offsetgroup": "",
         "orientation": "v",
         "showlegend": false,
         "type": "histogram",
         "x": [
          0,
          0,
          0.04,
          0.56,
          0,
          0,
          0.06,
          0,
          0.02,
          0.36,
          0.08,
          0.36,
          0,
          0.29,
          0.18,
          0.19,
          0.56,
          0.28,
          0.08,
          0.51,
          0.48,
          0.31,
          0.21,
          0.11,
          0.14,
          0.16,
          0.24,
          0.21,
          0,
          0,
          0.07,
          0,
          0.12,
          0.12,
          0.25,
          0,
          0.14,
          0.28,
          0.09,
          0.36,
          0.36,
          0.3,
          0.2,
          0.22,
          0.02,
          0.15,
          0.43,
          0.52,
          0.23,
          0.37,
          0.26,
          0.04,
          0.04,
          0.36,
          0.15,
          0.04,
          0.57,
          0.12,
          0.18,
          0.31,
          0.4,
          0.49,
          0.16,
          0.05,
          0.05,
          0.05,
          0.11,
          0.07,
          0.57,
          0.05,
          0.08,
          0.23,
          0.22,
          0.26,
          0.54,
          0.64,
          0.64,
          0,
          0.12,
          0.2,
          0.2,
          0.7,
          0.47,
          0.26,
          0.48,
          0.15,
          0.28,
          0.26,
          0.44,
          0.08,
          0.26,
          0.28,
          0.29,
          0.26,
          0.04,
          0.17,
          0,
          0.25,
          0.06,
          0.18,
          0.3,
          0.3,
          0.18,
          0.22,
          0.24,
          0.22,
          0.68,
          0.31,
          0.53,
          0.52,
          0.19,
          0.09,
          0.1,
          0.44,
          0.19,
          0.31,
          0.28,
          0.12,
          0.04,
          0.08,
          0.09,
          0.04,
          0,
          0,
          0.17,
          0.04,
          0,
          0,
          0.16,
          0.15,
          0.56,
          0.09,
          0.09,
          0.01,
          0.05,
          0.11,
          0.15,
          0.36,
          0.19,
          0.19,
          0.11,
          0.15,
          0,
          0.08,
          0,
          0.55,
          0.02,
          0.26,
          0.1,
          0.44,
          0.47,
          1,
          0.03,
          0.03,
          0.42,
          0.42,
          0.42,
          0.42,
          0,
          0.18,
          0.03,
          0.02,
          0.04,
          0.26,
          0.26,
          0.48,
          0.1,
          0.03,
          0.07,
          0.24,
          0.03,
          0.17,
          0.17,
          0.05,
          0.21,
          0.04,
          0.21,
          0.42,
          0,
          0.14,
          0.14,
          0.49,
          0.02,
          0.2,
          0.21,
          0.57,
          0.48,
          0.1,
          0.33,
          0.32,
          0.35,
          0.25,
          0.12,
          0.21,
          0.21,
          0.33,
          0.3,
          0.6,
          0.08,
          0.06,
          0.47,
          0.48,
          0.11,
          0.35,
          0.36,
          0.74,
          0.74,
          0.31,
          0.28,
          0.58,
          0.6,
          0.24,
          0.64,
          0.26,
          0.08,
          0.49,
          0.16,
          0.22,
          0.19,
          0.33,
          0.37,
          0.26,
          0.04,
          0.25,
          0.36,
          0.25,
          0.5,
          0.14,
          0.25,
          0.25,
          0.04,
          0.06,
          0.2,
          0.25,
          0.09,
          0,
          0,
          0,
          0,
          0.09,
          0.37,
          0.56,
          0.1,
          0.44,
          0.44,
          0,
          0.07,
          0.17,
          0.06,
          0,
          0.44,
          0,
          0.48,
          0.42,
          0,
          0.23,
          0.37,
          0,
          0.76,
          0.47,
          0.23,
          0.04,
          0.03,
          0.23,
          0.49,
          0.52,
          0,
          0.46,
          0.04,
          0.51,
          0.06,
          0.51,
          0.58,
          0.2,
          0.18,
          0.06,
          0.04,
          0.51,
          0.45,
          0.32,
          0.44,
          0.68,
          0.12,
          0.32,
          0.07,
          0.07,
          0.55,
          0.12,
          0.09,
          0.53,
          0.09,
          0.48,
          0.23,
          0.25,
          0.52,
          0.46,
          0.37,
          0.06,
          0.02,
          0.06,
          0.06,
          0.48,
          0.12,
          0.12,
          0.6,
          0.48,
          0.32,
          0.42,
          0.44,
          0.38,
          0.48,
          0.24,
          0.31,
          0.3,
          0.29,
          0.29,
          0.23,
          0.12,
          0.39,
          0.12,
          0.39,
          0.26,
          0.05,
          0.42,
          0.2,
          0.2,
          0.66,
          0.5,
          0.62,
          0.39,
          0.64,
          0.64,
          0.28,
          0.08,
          0.01,
          0.53,
          0.45,
          0.32,
          0.58,
          0.54,
          0.5,
          0.48,
          0.47,
          0.47,
          0.5,
          0,
          0.02,
          0.67,
          0.31,
          0,
          0.22,
          0,
          0,
          0.79,
          0.4,
          0.01,
          0.52,
          0.66,
          0.66,
          0.66,
          0.23,
          0.31,
          0.66,
          0.63,
          0.66,
          0.5,
          0.66,
          0.61,
          0.52,
          0.53,
          0.02,
          0.4,
          0.48,
          0.22,
          0.63,
          0.71,
          0.5,
          0.53,
          0.66,
          0.38,
          0.42,
          0.68,
          0.42,
          0.42,
          0.28,
          0.07,
          0.26,
          0.15,
          0.26,
          0.31,
          0.05,
          0.68,
          0.52,
          0.61,
          0.65,
          0.76,
          0.02,
          0.59,
          0.59,
          0.22,
          0.02,
          0.3,
          0.54,
          0.49,
          0.05,
          0.46,
          0.47,
          0.66,
          0.58,
          0.49,
          0.34,
          0.35,
          0.16,
          0.53,
          0.34,
          0.24,
          0.64,
          0.12,
          0.51,
          0,
          0.33,
          0.03,
          0.2,
          0.47,
          0.2,
          0.03,
          0.08,
          0.22,
          0.33,
          0.63,
          0.47,
          0.35,
          0.69,
          0.63,
          0.55,
          0.63,
          0.3,
          0.73,
          0.55,
          0.18,
          0.72,
          0.65,
          0.76,
          0.49,
          0.01,
          0.1,
          0.6,
          0.29,
          0.22,
          0.69,
          0.69,
          0.53,
          0.03,
          0.63,
          0.4,
          0.67,
          0.39,
          0.21,
          0.63,
          0.66,
          0.52,
          0.22,
          0.68,
          0.7,
          0.54,
          0.4,
          0.42,
          0.45,
          0.69,
          0.02,
          0.65,
          0.42,
          0.55,
          0.55,
          0.51,
          0.24,
          0.41,
          0.49,
          0.24,
          0.11,
          0.39,
          0.56,
          0.59,
          0.6,
          0.68,
          0.39,
          0.39,
          0.36,
          0.55,
          0.4,
          0.27,
          0.5,
          0.51,
          0.31,
          0.23,
          0.53,
          0.25,
          0.32,
          0.53,
          0.31,
          0.25,
          0.73,
          0.73,
          0.47,
          0.42,
          0.63,
          0.46,
          0.55,
          0.31,
          0.75,
          0.49,
          0.31,
          0.48,
          0.64,
          0.64,
          0.49,
          0.49,
          0.49,
          0.49,
          0.49,
          0.49,
          0.49,
          0.49,
          0.49,
          0.49,
          0.24,
          0.49,
          0.49,
          0.49,
          0.24,
          0.24,
          0.49,
          0.49,
          0.24,
          0.24,
          0.24,
          0.24,
          0.24,
          0.49,
          0.74,
          0.24,
          0.49,
          0.24,
          0.24,
          0.74,
          0.49,
          0.24,
          0.49,
          0.49,
          0.49,
          0.01,
          0.24,
          0.24,
          0.24,
          0.49,
          0.49,
          0.49,
          0.49,
          0.49,
          0.49,
          0.49,
          0.49,
          0.49,
          0.49,
          0.49,
          0.49,
          0.24,
          0.24,
          0.49,
          0.24,
          0.49,
          0.24,
          0.49,
          0.49,
          0.49,
          0.49,
          0.24,
          0.49,
          0.49,
          0.49,
          0.49,
          0.49,
          0.49,
          0.49,
          0.49,
          0.24,
          0.49,
          0.24,
          0.24,
          0.49,
          0.49,
          0.49,
          0.49,
          0.58,
          0.17,
          0.41,
          0.51,
          0.58,
          0.18,
          0.45,
          0.27,
          0.52,
          0,
          0.52,
          0.13,
          0.13,
          0.48,
          0.41,
          0.37,
          0.19,
          0.54,
          0.55,
          0,
          0.38,
          0.18,
          0.5,
          0.5,
          0.51,
          0.5,
          0.41,
          0.24,
          0.23,
          0.22,
          0.25,
          0,
          0,
          0.29,
          0.29,
          0.26,
          0.23,
          0.26,
          0.54,
          0.14,
          0.22,
          0.21,
          0,
          0.28,
          0.27,
          0.12,
          0.35,
          0.45,
          0.44,
          0.45,
          0.44,
          0.45,
          0.1,
          0.05,
          0.01,
          0.3,
          0.27,
          0.39,
          0.25,
          0.65,
          0.59,
          0.47,
          0.17,
          0.39,
          0.59,
          0.07,
          0.02,
          0.07,
          0.31,
          0.06,
          0.46,
          0.52,
          0.14,
          0.36,
          0.45,
          0.43,
          0.45,
          0.24,
          0.21,
          0.34,
          0.21,
          0.41,
          0.39,
          0.41,
          0.11,
          0.1,
          0.45,
          0.58,
          0.23,
          0.31,
          0.23,
          0.32,
          0.23,
          0.18,
          0.23,
          0.04,
          0.48,
          0,
          0.24,
          0.51,
          0.32,
          0.31,
          0.02,
          0.02,
          0.02,
          0.28,
          0.55,
          0.43,
          0.02,
          0.02,
          0.48,
          0.04,
          0.15,
          0.08,
          0.19,
          0.12,
          0.47,
          0.43,
          0.34,
          0,
          0.36,
          0.28,
          0.18,
          0.36,
          0.11,
          0.04,
          0,
          0.04,
          0.24,
          0.08,
          0.3,
          0.1,
          0.17,
          0.09,
          0.02,
          0.02,
          0.03,
          0.66,
          0.13,
          0.03,
          0.34,
          0.2,
          0.1,
          0.1,
          0,
          0.23,
          0,
          0.29,
          0.24,
          0,
          0.58,
          0.54,
          0.18,
          0.38,
          0.4,
          0.18,
          0.18,
          0.1,
          0.1,
          0.13,
          0.1,
          0.68,
          0.07,
          0.01,
          0,
          0,
          0.21,
          0.25,
          0.26,
          0,
          0.26,
          0.11,
          0.1,
          0.18,
          0.32,
          0.02,
          0.01,
          0.02,
          0.26,
          0.27,
          0.29,
          0.3,
          0,
          0.18,
          0.17,
          0.3,
          0.03,
          0,
          0.14,
          0.05,
          0.14,
          0.01,
          0.41,
          0.41,
          0.24,
          0.24,
          0.17,
          0.43,
          0.17,
          0.02,
          0,
          0.54,
          0.3,
          0.31,
          0.44,
          0.34,
          0.34,
          0.08,
          0.09,
          0,
          0.08,
          0.22,
          0.4,
          0.39,
          0.4,
          0.12,
          0.31,
          0.1,
          0.55,
          0.33,
          0.24,
          0.54,
          0.33,
          0.19,
          0.42,
          0,
          0.15,
          0,
          0,
          0.13,
          0.13,
          0.28,
          0.14,
          0.34,
          0.14,
          0.09,
          0.08,
          0.07,
          0.08,
          0.42,
          0.44,
          0.26,
          0.1,
          0.28,
          0.28,
          0.35,
          0.04,
          0.47,
          0,
          0.45,
          0.35,
          0.46,
          0.21,
          0.21,
          0.16,
          0.21,
          0.21,
          0.44,
          0.44,
          0.32,
          0.39,
          0.39,
          0.02,
          0.39,
          0.34,
          0.47,
          0.22,
          0.06,
          0.66,
          0.32,
          0.06,
          0.06,
          0.07,
          0.22,
          0.23,
          0.22,
          0.03,
          0.01,
          0.03,
          0.24,
          0.37,
          0.46,
          0.4,
          0,
          0.01,
          0.19,
          0.04,
          0.18,
          0,
          0.29,
          0.04,
          0.19,
          0.14,
          0.12,
          0.38,
          0,
          0.34,
          0.24,
          0.03,
          0.23,
          0.03,
          0.03,
          0.01,
          0.39,
          0.01,
          0.39,
          0.02,
          0.36,
          0.1,
          0.1,
          0.06,
          0.06,
          0.2,
          0.27,
          0,
          0.13,
          0.39,
          0.48,
          0.46,
          0.44,
          0.46,
          0.39,
          0.4,
          0.19,
          0.31,
          0.32,
          0.12,
          0.37,
          0.32,
          0.12,
          0.31,
          0.27,
          0.36,
          0.33,
          0.19,
          0.27,
          0.38,
          0.01,
          0.01,
          0.29,
          0.01,
          0.01,
          0.38,
          0.38,
          0.5,
          0.38,
          0.17,
          0.52,
          0.49,
          0.4,
          0.34,
          0.49,
          0.42,
          0.58,
          0.48,
          0.45,
          0.45,
          0.45,
          0.48,
          0.4,
          0.48,
          0.4,
          0.52,
          0.52,
          0.52,
          0.12,
          0.05,
          0.27,
          0.14,
          0.02,
          0.39,
          0.27,
          0.4,
          0.41,
          0.2,
          0.43,
          0.09,
          0.48,
          0.48,
          0.5,
          0.44,
          0.41,
          0.3,
          0.3,
          0.29,
          0.32,
          0.49,
          0.3,
          0.26,
          0.32,
          0.3,
          0.49,
          0,
          0.39,
          0.3,
          0.12,
          0.4,
          0.12,
          0.28,
          0.1,
          0.28,
          0.45,
          0.06,
          0,
          0,
          0.34,
          0,
          0.3,
          0.38,
          0.33,
          0.32,
          0.29,
          0.32,
          0.33,
          0.34,
          0.4,
          0.36,
          0.45,
          0.31,
          0.15,
          0,
          0.16,
          0.46,
          0.4,
          0.37,
          0.37,
          0.14,
          0.66,
          0.66,
          0.09,
          0.42,
          0.01,
          0,
          0.32,
          0,
          0.21,
          0.01,
          0,
          0.01,
          0,
          0.08,
          0.18,
          0.34,
          0.34,
          0.1,
          0.41,
          0.21,
          0,
          0.19,
          0.21,
          0.41,
          0.33,
          0,
          0,
          0.17,
          0.36,
          0.36,
          0.17,
          0.59,
          0.05,
          0.42,
          0.27,
          0.27,
          0.53,
          0.25,
          0.57,
          0.53,
          0.57,
          0.5,
          0.44,
          0.65,
          0.09,
          0.18,
          0.08,
          0.53,
          0.53,
          0.35,
          0.45,
          0.2,
          0.26,
          0.33,
          0.2,
          0.34,
          0.56,
          0.65,
          0.65,
          0.68,
          0.56,
          0.68,
          0.3,
          0.45,
          0.3,
          0.08,
          0.4,
          0.42,
          0.54,
          0.54,
          0.54,
          0.42,
          0.09,
          0.36,
          0.09,
          0.47,
          0.09,
          0.38,
          0.45,
          0.38,
          0.42,
          0.27,
          0.09,
          0.27,
          0.34,
          0.28,
          0.42,
          0.41,
          0.1,
          0.43,
          0,
          0.27,
          0.41,
          0.39,
          0.5,
          0.07,
          0.07,
          0.07,
          0.12,
          0,
          0.34,
          0,
          0,
          0.37,
          0,
          0.35,
          0.26,
          0,
          0.33,
          0.35,
          0,
          0.21,
          0.34,
          0.07,
          0.35,
          0.43,
          0.45,
          0.45,
          0.15,
          0.24,
          0.3,
          0.32,
          0.11,
          0.3,
          0.23,
          0.43,
          0.12,
          0.45,
          0.42,
          0.47,
          0.32,
          0.23,
          0.25,
          0.35,
          0,
          0.25,
          0.51,
          0.18,
          0.43,
          0.43,
          0.57,
          0.43,
          0.42,
          0.24,
          0.24,
          0.5,
          0.26,
          0.39,
          0.27,
          0.29,
          0.34,
          0,
          0.46,
          0.31,
          0.31,
          0,
          0.03,
          0,
          0,
          0.33,
          0.33,
          0.43,
          0.4,
          0.07,
          0.23,
          0.3,
          0.03,
          0.3,
          0.23,
          0.05,
          0.57,
          0,
          0.37,
          0,
          0.12,
          0.22,
          0.23,
          0.21,
          0.26,
          0.23,
          0.21,
          0.36,
          0.39,
          0.19,
          0.46,
          0.46,
          0.46,
          0.55,
          0.46,
          0.43,
          0.02,
          0.15,
          0.02,
          0.42,
          0.46,
          0.46,
          0.31,
          0.37,
          0.31,
          0.4,
          0.52,
          0.52,
          0.22,
          0.47,
          0.49,
          0.23,
          0.03,
          0.25,
          0,
          0.29,
          0.34,
          0.01,
          0.29,
          0.37,
          0.01,
          0.32,
          0,
          0.01,
          0,
          0,
          0.2,
          0.39,
          0.41,
          0.22,
          0.25,
          0.19,
          0.07,
          0.19,
          0.33,
          0.01,
          0.01,
          0.14,
          0,
          0,
          0.06,
          0.02,
          0.22,
          0.28,
          0,
          0,
          0.68,
          0,
          0.38,
          0,
          0.32,
          0.05,
          0.05,
          0.5,
          0.31,
          0.03,
          0.01,
          0.2,
          0,
          0.2,
          0.13,
          0.22,
          0.4,
          0,
          0.22,
          0.39,
          0.2,
          0.2,
          0,
          0.28,
          0.19,
          0.5,
          0.44,
          0.08,
          0.3,
          0.3,
          0,
          0.1,
          0.13,
          0,
          0.1,
          0,
          0,
          0.14,
          0,
          0,
          0,
          0.07,
          0.32,
          0.44,
          0.21,
          0.26,
          0.32,
          0.09,
          0.32,
          0.1,
          0.26,
          0.15,
          0.21,
          0.21,
          0.21,
          0.27,
          0,
          0.46,
          0.27,
          0.68,
          0.34,
          0,
          0.42,
          0.39,
          0.24,
          0.24,
          0.24,
          0.24,
          0.11,
          0.26,
          0.26,
          0.26,
          0.1,
          0.22,
          0,
          0.02,
          0,
          0,
          0,
          0.02,
          0.02,
          0.02,
          0.02,
          0.02,
          0.48,
          0.24,
          0.01,
          0.03,
          0.03,
          0,
          0.29,
          0.01,
          0.03,
          0.03,
          0.03,
          0.25,
          0.25,
          0.24,
          0.17,
          0.4,
          0.31,
          0.14,
          0.4,
          0.27,
          0.02,
          0.09,
          0.08,
          0.3,
          0.32,
          0,
          0.51,
          0.56,
          0.51,
          0.27,
          0,
          0.26,
          0.2,
          0.26,
          0.15,
          0.02,
          0.02,
          0.09,
          0.22,
          0.22,
          0.15,
          0.25,
          0.07,
          0.07,
          0.31,
          0.02,
          0,
          0.22,
          0.06,
          0.25,
          0.14,
          0.1,
          0.1,
          0.26,
          0.12,
          0,
          0.21,
          0.21,
          0.42,
          0.33,
          0.39,
          0.3,
          0.34,
          0,
          0.36,
          0,
          0,
          0.4,
          0.34,
          0.25,
          0.59,
          0,
          0.59,
          0.33,
          0.01,
          0.21,
          0.01,
          0.18,
          0,
          0.09,
          0.37,
          0.37,
          0.37,
          0.33,
          0,
          0.4,
          0.24,
          0.31,
          0,
          0.16,
          0.37,
          0.37,
          0.38,
          0.29,
          0,
          0.02,
          0.32,
          0.19,
          0.02,
          0.2,
          0.02,
          0.19,
          0.02,
          0,
          0.01,
          0.31,
          0.32,
          0.44,
          0.02,
          0.33,
          0.63,
          0,
          0.06,
          0.33,
          0.4,
          0.35,
          0.09,
          0,
          0.03,
          0.01,
          0.1,
          0.1,
          0.32,
          0.08,
          0.32,
          0.05,
          0.11,
          0.08,
          0.6,
          0.08,
          0.5,
          0.11,
          0.5,
          0.11,
          0.05,
          0.6,
          0.03,
          0.6,
          0.54,
          0.44,
          0.06,
          0.16,
          0.21,
          0.05,
          0.04,
          0.1,
          0.49,
          0.04,
          0.06,
          0.26,
          0.09,
          0.02,
          0.26,
          0.03,
          0.04,
          0.03,
          0.04,
          0.29,
          0.18,
          0.39,
          0.57,
          0.02,
          0.05,
          0.57,
          0.6,
          0.4,
          0.21,
          0.04,
          0.04,
          0.15,
          0.21,
          0.21,
          0.25,
          0.06,
          0.46,
          0.08,
          0.06,
          0.2,
          0.25,
          0.25,
          0.19,
          0.08,
          0.08,
          0.07,
          0.49,
          0.08,
          0.09,
          0.1,
          0.13,
          0.3,
          0.14,
          0.13,
          0.08,
          0.08,
          0.09,
          0.32,
          0.08,
          0.29,
          0.02,
          0.42,
          0.43,
          0.33,
          0.02,
          0.1,
          0.5,
          0.3,
          0,
          0,
          0.01,
          0,
          0.02,
          0.17,
          0.04,
          0.02,
          0.33,
          0.26,
          0.26,
          0.26,
          0.13,
          0.13,
          0.13,
          0.02,
          0.64,
          0.13,
          0.13,
          0.14,
          0.53,
          0.14,
          0.32,
          0.2,
          0.78,
          0.4,
          0.63,
          0.15,
          0.15,
          0.09,
          0.33,
          0.09,
          0.1,
          0.29,
          0.44,
          0.44,
          0.41,
          0.11,
          0.33,
          0.2,
          0.15,
          0.09,
          0.13,
          0.08,
          0.08,
          0.1,
          0.13,
          0.12,
          0.47
         ],
         "xaxis": "x",
         "yaxis": "y"
        }
       ],
       "layout": {
        "barmode": "relative",
        "legend": {
         "tracegroupgap": 0
        },
        "margin": {
         "t": 60
        },
        "template": {
         "data": {
          "bar": [
           {
            "error_x": {
             "color": "#2a3f5f"
            },
            "error_y": {
             "color": "#2a3f5f"
            },
            "marker": {
             "line": {
              "color": "#E5ECF6",
              "width": 0.5
             }
            },
            "type": "bar"
           }
          ],
          "barpolar": [
           {
            "marker": {
             "line": {
              "color": "#E5ECF6",
              "width": 0.5
             }
            },
            "type": "barpolar"
           }
          ],
          "carpet": [
           {
            "aaxis": {
             "endlinecolor": "#2a3f5f",
             "gridcolor": "white",
             "linecolor": "white",
             "minorgridcolor": "white",
             "startlinecolor": "#2a3f5f"
            },
            "baxis": {
             "endlinecolor": "#2a3f5f",
             "gridcolor": "white",
             "linecolor": "white",
             "minorgridcolor": "white",
             "startlinecolor": "#2a3f5f"
            },
            "type": "carpet"
           }
          ],
          "choropleth": [
           {
            "colorbar": {
             "outlinewidth": 0,
             "ticks": ""
            },
            "type": "choropleth"
           }
          ],
          "contour": [
           {
            "colorbar": {
             "outlinewidth": 0,
             "ticks": ""
            },
            "colorscale": [
             [
              0,
              "#0d0887"
             ],
             [
              0.1111111111111111,
              "#46039f"
             ],
             [
              0.2222222222222222,
              "#7201a8"
             ],
             [
              0.3333333333333333,
              "#9c179e"
             ],
             [
              0.4444444444444444,
              "#bd3786"
             ],
             [
              0.5555555555555556,
              "#d8576b"
             ],
             [
              0.6666666666666666,
              "#ed7953"
             ],
             [
              0.7777777777777778,
              "#fb9f3a"
             ],
             [
              0.8888888888888888,
              "#fdca26"
             ],
             [
              1,
              "#f0f921"
             ]
            ],
            "type": "contour"
           }
          ],
          "contourcarpet": [
           {
            "colorbar": {
             "outlinewidth": 0,
             "ticks": ""
            },
            "type": "contourcarpet"
           }
          ],
          "heatmap": [
           {
            "colorbar": {
             "outlinewidth": 0,
             "ticks": ""
            },
            "colorscale": [
             [
              0,
              "#0d0887"
             ],
             [
              0.1111111111111111,
              "#46039f"
             ],
             [
              0.2222222222222222,
              "#7201a8"
             ],
             [
              0.3333333333333333,
              "#9c179e"
             ],
             [
              0.4444444444444444,
              "#bd3786"
             ],
             [
              0.5555555555555556,
              "#d8576b"
             ],
             [
              0.6666666666666666,
              "#ed7953"
             ],
             [
              0.7777777777777778,
              "#fb9f3a"
             ],
             [
              0.8888888888888888,
              "#fdca26"
             ],
             [
              1,
              "#f0f921"
             ]
            ],
            "type": "heatmap"
           }
          ],
          "heatmapgl": [
           {
            "colorbar": {
             "outlinewidth": 0,
             "ticks": ""
            },
            "colorscale": [
             [
              0,
              "#0d0887"
             ],
             [
              0.1111111111111111,
              "#46039f"
             ],
             [
              0.2222222222222222,
              "#7201a8"
             ],
             [
              0.3333333333333333,
              "#9c179e"
             ],
             [
              0.4444444444444444,
              "#bd3786"
             ],
             [
              0.5555555555555556,
              "#d8576b"
             ],
             [
              0.6666666666666666,
              "#ed7953"
             ],
             [
              0.7777777777777778,
              "#fb9f3a"
             ],
             [
              0.8888888888888888,
              "#fdca26"
             ],
             [
              1,
              "#f0f921"
             ]
            ],
            "type": "heatmapgl"
           }
          ],
          "histogram": [
           {
            "marker": {
             "colorbar": {
              "outlinewidth": 0,
              "ticks": ""
             }
            },
            "type": "histogram"
           }
          ],
          "histogram2d": [
           {
            "colorbar": {
             "outlinewidth": 0,
             "ticks": ""
            },
            "colorscale": [
             [
              0,
              "#0d0887"
             ],
             [
              0.1111111111111111,
              "#46039f"
             ],
             [
              0.2222222222222222,
              "#7201a8"
             ],
             [
              0.3333333333333333,
              "#9c179e"
             ],
             [
              0.4444444444444444,
              "#bd3786"
             ],
             [
              0.5555555555555556,
              "#d8576b"
             ],
             [
              0.6666666666666666,
              "#ed7953"
             ],
             [
              0.7777777777777778,
              "#fb9f3a"
             ],
             [
              0.8888888888888888,
              "#fdca26"
             ],
             [
              1,
              "#f0f921"
             ]
            ],
            "type": "histogram2d"
           }
          ],
          "histogram2dcontour": [
           {
            "colorbar": {
             "outlinewidth": 0,
             "ticks": ""
            },
            "colorscale": [
             [
              0,
              "#0d0887"
             ],
             [
              0.1111111111111111,
              "#46039f"
             ],
             [
              0.2222222222222222,
              "#7201a8"
             ],
             [
              0.3333333333333333,
              "#9c179e"
             ],
             [
              0.4444444444444444,
              "#bd3786"
             ],
             [
              0.5555555555555556,
              "#d8576b"
             ],
             [
              0.6666666666666666,
              "#ed7953"
             ],
             [
              0.7777777777777778,
              "#fb9f3a"
             ],
             [
              0.8888888888888888,
              "#fdca26"
             ],
             [
              1,
              "#f0f921"
             ]
            ],
            "type": "histogram2dcontour"
           }
          ],
          "mesh3d": [
           {
            "colorbar": {
             "outlinewidth": 0,
             "ticks": ""
            },
            "type": "mesh3d"
           }
          ],
          "parcoords": [
           {
            "line": {
             "colorbar": {
              "outlinewidth": 0,
              "ticks": ""
             }
            },
            "type": "parcoords"
           }
          ],
          "pie": [
           {
            "automargin": true,
            "type": "pie"
           }
          ],
          "scatter": [
           {
            "marker": {
             "colorbar": {
              "outlinewidth": 0,
              "ticks": ""
             }
            },
            "type": "scatter"
           }
          ],
          "scatter3d": [
           {
            "line": {
             "colorbar": {
              "outlinewidth": 0,
              "ticks": ""
             }
            },
            "marker": {
             "colorbar": {
              "outlinewidth": 0,
              "ticks": ""
             }
            },
            "type": "scatter3d"
           }
          ],
          "scattercarpet": [
           {
            "marker": {
             "colorbar": {
              "outlinewidth": 0,
              "ticks": ""
             }
            },
            "type": "scattercarpet"
           }
          ],
          "scattergeo": [
           {
            "marker": {
             "colorbar": {
              "outlinewidth": 0,
              "ticks": ""
             }
            },
            "type": "scattergeo"
           }
          ],
          "scattergl": [
           {
            "marker": {
             "colorbar": {
              "outlinewidth": 0,
              "ticks": ""
             }
            },
            "type": "scattergl"
           }
          ],
          "scattermapbox": [
           {
            "marker": {
             "colorbar": {
              "outlinewidth": 0,
              "ticks": ""
             }
            },
            "type": "scattermapbox"
           }
          ],
          "scatterpolar": [
           {
            "marker": {
             "colorbar": {
              "outlinewidth": 0,
              "ticks": ""
             }
            },
            "type": "scatterpolar"
           }
          ],
          "scatterpolargl": [
           {
            "marker": {
             "colorbar": {
              "outlinewidth": 0,
              "ticks": ""
             }
            },
            "type": "scatterpolargl"
           }
          ],
          "scatterternary": [
           {
            "marker": {
             "colorbar": {
              "outlinewidth": 0,
              "ticks": ""
             }
            },
            "type": "scatterternary"
           }
          ],
          "surface": [
           {
            "colorbar": {
             "outlinewidth": 0,
             "ticks": ""
            },
            "colorscale": [
             [
              0,
              "#0d0887"
             ],
             [
              0.1111111111111111,
              "#46039f"
             ],
             [
              0.2222222222222222,
              "#7201a8"
             ],
             [
              0.3333333333333333,
              "#9c179e"
             ],
             [
              0.4444444444444444,
              "#bd3786"
             ],
             [
              0.5555555555555556,
              "#d8576b"
             ],
             [
              0.6666666666666666,
              "#ed7953"
             ],
             [
              0.7777777777777778,
              "#fb9f3a"
             ],
             [
              0.8888888888888888,
              "#fdca26"
             ],
             [
              1,
              "#f0f921"
             ]
            ],
            "type": "surface"
           }
          ],
          "table": [
           {
            "cells": {
             "fill": {
              "color": "#EBF0F8"
             },
             "line": {
              "color": "white"
             }
            },
            "header": {
             "fill": {
              "color": "#C8D4E3"
             },
             "line": {
              "color": "white"
             }
            },
            "type": "table"
           }
          ]
         },
         "layout": {
          "annotationdefaults": {
           "arrowcolor": "#2a3f5f",
           "arrowhead": 0,
           "arrowwidth": 1
          },
          "coloraxis": {
           "colorbar": {
            "outlinewidth": 0,
            "ticks": ""
           }
          },
          "colorscale": {
           "diverging": [
            [
             0,
             "#8e0152"
            ],
            [
             0.1,
             "#c51b7d"
            ],
            [
             0.2,
             "#de77ae"
            ],
            [
             0.3,
             "#f1b6da"
            ],
            [
             0.4,
             "#fde0ef"
            ],
            [
             0.5,
             "#f7f7f7"
            ],
            [
             0.6,
             "#e6f5d0"
            ],
            [
             0.7,
             "#b8e186"
            ],
            [
             0.8,
             "#7fbc41"
            ],
            [
             0.9,
             "#4d9221"
            ],
            [
             1,
             "#276419"
            ]
           ],
           "sequential": [
            [
             0,
             "#0d0887"
            ],
            [
             0.1111111111111111,
             "#46039f"
            ],
            [
             0.2222222222222222,
             "#7201a8"
            ],
            [
             0.3333333333333333,
             "#9c179e"
            ],
            [
             0.4444444444444444,
             "#bd3786"
            ],
            [
             0.5555555555555556,
             "#d8576b"
            ],
            [
             0.6666666666666666,
             "#ed7953"
            ],
            [
             0.7777777777777778,
             "#fb9f3a"
            ],
            [
             0.8888888888888888,
             "#fdca26"
            ],
            [
             1,
             "#f0f921"
            ]
           ],
           "sequentialminus": [
            [
             0,
             "#0d0887"
            ],
            [
             0.1111111111111111,
             "#46039f"
            ],
            [
             0.2222222222222222,
             "#7201a8"
            ],
            [
             0.3333333333333333,
             "#9c179e"
            ],
            [
             0.4444444444444444,
             "#bd3786"
            ],
            [
             0.5555555555555556,
             "#d8576b"
            ],
            [
             0.6666666666666666,
             "#ed7953"
            ],
            [
             0.7777777777777778,
             "#fb9f3a"
            ],
            [
             0.8888888888888888,
             "#fdca26"
            ],
            [
             1,
             "#f0f921"
            ]
           ]
          },
          "colorway": [
           "#636efa",
           "#EF553B",
           "#00cc96",
           "#ab63fa",
           "#FFA15A",
           "#19d3f3",
           "#FF6692",
           "#B6E880",
           "#FF97FF",
           "#FECB52"
          ],
          "font": {
           "color": "#2a3f5f"
          },
          "geo": {
           "bgcolor": "white",
           "lakecolor": "white",
           "landcolor": "#E5ECF6",
           "showlakes": true,
           "showland": true,
           "subunitcolor": "white"
          },
          "hoverlabel": {
           "align": "left"
          },
          "hovermode": "closest",
          "mapbox": {
           "style": "light"
          },
          "paper_bgcolor": "white",
          "plot_bgcolor": "#E5ECF6",
          "polar": {
           "angularaxis": {
            "gridcolor": "white",
            "linecolor": "white",
            "ticks": ""
           },
           "bgcolor": "#E5ECF6",
           "radialaxis": {
            "gridcolor": "white",
            "linecolor": "white",
            "ticks": ""
           }
          },
          "scene": {
           "xaxis": {
            "backgroundcolor": "#E5ECF6",
            "gridcolor": "white",
            "gridwidth": 2,
            "linecolor": "white",
            "showbackground": true,
            "ticks": "",
            "zerolinecolor": "white"
           },
           "yaxis": {
            "backgroundcolor": "#E5ECF6",
            "gridcolor": "white",
            "gridwidth": 2,
            "linecolor": "white",
            "showbackground": true,
            "ticks": "",
            "zerolinecolor": "white"
           },
           "zaxis": {
            "backgroundcolor": "#E5ECF6",
            "gridcolor": "white",
            "gridwidth": 2,
            "linecolor": "white",
            "showbackground": true,
            "ticks": "",
            "zerolinecolor": "white"
           }
          },
          "shapedefaults": {
           "line": {
            "color": "#2a3f5f"
           }
          },
          "ternary": {
           "aaxis": {
            "gridcolor": "white",
            "linecolor": "white",
            "ticks": ""
           },
           "baxis": {
            "gridcolor": "white",
            "linecolor": "white",
            "ticks": ""
           },
           "bgcolor": "#E5ECF6",
           "caxis": {
            "gridcolor": "white",
            "linecolor": "white",
            "ticks": ""
           }
          },
          "title": {
           "x": 0.05
          },
          "xaxis": {
           "automargin": true,
           "gridcolor": "white",
           "linecolor": "white",
           "ticks": "",
           "title": {
            "standoff": 15
           },
           "zerolinecolor": "white",
           "zerolinewidth": 2
          },
          "yaxis": {
           "automargin": true,
           "gridcolor": "white",
           "linecolor": "white",
           "ticks": "",
           "title": {
            "standoff": 15
           },
           "zerolinecolor": "white",
           "zerolinewidth": 2
          }
         }
        },
        "xaxis": {
         "anchor": "y",
         "domain": [
          0,
          1
         ],
         "title": {
          "text": "citric acid"
         }
        },
        "yaxis": {
         "anchor": "x",
         "domain": [
          0,
          1
         ],
         "title": {
          "text": "count"
         }
        }
       }
      },
      "text/html": [
       "<div>                            <div id=\"9faa85a4-4d63-4a60-85a5-4a7ebe0e6bac\" class=\"plotly-graph-div\" style=\"height:525px; width:100%;\"></div>            <script type=\"text/javascript\">                require([\"plotly\"], function(Plotly) {                    window.PLOTLYENV=window.PLOTLYENV || {};                                    if (document.getElementById(\"9faa85a4-4d63-4a60-85a5-4a7ebe0e6bac\")) {                    Plotly.newPlot(                        \"9faa85a4-4d63-4a60-85a5-4a7ebe0e6bac\",                        [{\"alignmentgroup\": \"True\", \"bingroup\": \"x\", \"hovertemplate\": \"citric acid=%{x}<br>count=%{y}<extra></extra>\", \"legendgroup\": \"\", \"marker\": {\"color\": \"#636efa\"}, \"name\": \"\", \"offsetgroup\": \"\", \"orientation\": \"v\", \"showlegend\": false, \"type\": \"histogram\", \"x\": [0.0, 0.0, 0.04, 0.56, 0.0, 0.0, 0.06, 0.0, 0.02, 0.36, 0.08, 0.36, 0.0, 0.29, 0.18, 0.19, 0.56, 0.28, 0.08, 0.51, 0.48, 0.31, 0.21, 0.11, 0.14, 0.16, 0.24, 0.21, 0.0, 0.0, 0.07, 0.0, 0.12, 0.12, 0.25, 0.0, 0.14, 0.28, 0.09, 0.36, 0.36, 0.3, 0.2, 0.22, 0.02, 0.15, 0.43, 0.52, 0.23, 0.37, 0.26, 0.04, 0.04, 0.36, 0.15, 0.04, 0.57, 0.12, 0.18, 0.31, 0.4, 0.49, 0.16, 0.05, 0.05, 0.05, 0.11, 0.07, 0.57, 0.05, 0.08, 0.23, 0.22, 0.26, 0.54, 0.64, 0.64, 0.0, 0.12, 0.2, 0.2, 0.7, 0.47, 0.26, 0.48, 0.15, 0.28, 0.26, 0.44, 0.08, 0.26, 0.28, 0.29, 0.26, 0.04, 0.17, 0.0, 0.25, 0.06, 0.18, 0.3, 0.3, 0.18, 0.22, 0.24, 0.22, 0.68, 0.31, 0.53, 0.52, 0.19, 0.09, 0.1, 0.44, 0.19, 0.31, 0.28, 0.12, 0.04, 0.08, 0.09, 0.04, 0.0, 0.0, 0.17, 0.04, 0.0, 0.0, 0.16, 0.15, 0.56, 0.09, 0.09, 0.01, 0.05, 0.11, 0.15, 0.36, 0.19, 0.19, 0.11, 0.15, 0.0, 0.08, 0.0, 0.55, 0.02, 0.26, 0.1, 0.44, 0.47, 1.0, 0.03, 0.03, 0.42, 0.42, 0.42, 0.42, 0.0, 0.18, 0.03, 0.02, 0.04, 0.26, 0.26, 0.48, 0.1, 0.03, 0.07, 0.24, 0.03, 0.17, 0.17, 0.05, 0.21, 0.04, 0.21, 0.42, 0.0, 0.14, 0.14, 0.49, 0.02, 0.2, 0.21, 0.57, 0.48, 0.1, 0.33, 0.32, 0.35, 0.25, 0.12, 0.21, 0.21, 0.33, 0.3, 0.6, 0.08, 0.06, 0.47, 0.48, 0.11, 0.35, 0.36, 0.74, 0.74, 0.31, 0.28, 0.58, 0.6, 0.24, 0.64, 0.26, 0.08, 0.49, 0.16, 0.22, 0.19, 0.33, 0.37, 0.26, 0.04, 0.25, 0.36, 0.25, 0.5, 0.14, 0.25, 0.25, 0.04, 0.06, 0.2, 0.25, 0.09, 0.0, 0.0, 0.0, 0.0, 0.09, 0.37, 0.56, 0.1, 0.44, 0.44, 0.0, 0.07, 0.17, 0.06, 0.0, 0.44, 0.0, 0.48, 0.42, 0.0, 0.23, 0.37, 0.0, 0.76, 0.47, 0.23, 0.04, 0.03, 0.23, 0.49, 0.52, 0.0, 0.46, 0.04, 0.51, 0.06, 0.51, 0.58, 0.2, 0.18, 0.06, 0.04, 0.51, 0.45, 0.32, 0.44, 0.68, 0.12, 0.32, 0.07, 0.07, 0.55, 0.12, 0.09, 0.53, 0.09, 0.48, 0.23, 0.25, 0.52, 0.46, 0.37, 0.06, 0.02, 0.06, 0.06, 0.48, 0.12, 0.12, 0.6, 0.48, 0.32, 0.42, 0.44, 0.38, 0.48, 0.24, 0.31, 0.3, 0.29, 0.29, 0.23, 0.12, 0.39, 0.12, 0.39, 0.26, 0.05, 0.42, 0.2, 0.2, 0.66, 0.5, 0.62, 0.39, 0.64, 0.64, 0.28, 0.08, 0.01, 0.53, 0.45, 0.32, 0.58, 0.54, 0.5, 0.48, 0.47, 0.47, 0.5, 0.0, 0.02, 0.67, 0.31, 0.0, 0.22, 0.0, 0.0, 0.79, 0.4, 0.01, 0.52, 0.66, 0.66, 0.66, 0.23, 0.31, 0.66, 0.63, 0.66, 0.5, 0.66, 0.61, 0.52, 0.53, 0.02, 0.4, 0.48, 0.22, 0.63, 0.71, 0.5, 0.53, 0.66, 0.38, 0.42, 0.68, 0.42, 0.42, 0.28, 0.07, 0.26, 0.15, 0.26, 0.31, 0.05, 0.68, 0.52, 0.61, 0.65, 0.76, 0.02, 0.59, 0.59, 0.22, 0.02, 0.3, 0.54, 0.49, 0.05, 0.46, 0.47, 0.66, 0.58, 0.49, 0.34, 0.35, 0.16, 0.53, 0.34, 0.24, 0.64, 0.12, 0.51, 0.0, 0.33, 0.03, 0.2, 0.47, 0.2, 0.03, 0.08, 0.22, 0.33, 0.63, 0.47, 0.35, 0.69, 0.63, 0.55, 0.63, 0.3, 0.73, 0.55, 0.18, 0.72, 0.65, 0.76, 0.49, 0.01, 0.1, 0.6, 0.29, 0.22, 0.69, 0.69, 0.53, 0.03, 0.63, 0.4, 0.67, 0.39, 0.21, 0.63, 0.66, 0.52, 0.22, 0.68, 0.7, 0.54, 0.4, 0.42, 0.45, 0.69, 0.02, 0.65, 0.42, 0.55, 0.55, 0.51, 0.24, 0.41, 0.49, 0.24, 0.11, 0.39, 0.56, 0.59, 0.6, 0.68, 0.39, 0.39, 0.36, 0.55, 0.4, 0.27, 0.5, 0.51, 0.31, 0.23, 0.53, 0.25, 0.32, 0.53, 0.31, 0.25, 0.73, 0.73, 0.47, 0.42, 0.63, 0.46, 0.55, 0.31, 0.75, 0.49, 0.31, 0.48, 0.64, 0.64, 0.49, 0.49, 0.49, 0.49, 0.49, 0.49, 0.49, 0.49, 0.49, 0.49, 0.24, 0.49, 0.49, 0.49, 0.24, 0.24, 0.49, 0.49, 0.24, 0.24, 0.24, 0.24, 0.24, 0.49, 0.74, 0.24, 0.49, 0.24, 0.24, 0.74, 0.49, 0.24, 0.49, 0.49, 0.49, 0.01, 0.24, 0.24, 0.24, 0.49, 0.49, 0.49, 0.49, 0.49, 0.49, 0.49, 0.49, 0.49, 0.49, 0.49, 0.49, 0.24, 0.24, 0.49, 0.24, 0.49, 0.24, 0.49, 0.49, 0.49, 0.49, 0.24, 0.49, 0.49, 0.49, 0.49, 0.49, 0.49, 0.49, 0.49, 0.24, 0.49, 0.24, 0.24, 0.49, 0.49, 0.49, 0.49, 0.58, 0.17, 0.41, 0.51, 0.58, 0.18, 0.45, 0.27, 0.52, 0.0, 0.52, 0.13, 0.13, 0.48, 0.41, 0.37, 0.19, 0.54, 0.55, 0.0, 0.38, 0.18, 0.5, 0.5, 0.51, 0.5, 0.41, 0.24, 0.23, 0.22, 0.25, 0.0, 0.0, 0.29, 0.29, 0.26, 0.23, 0.26, 0.54, 0.14, 0.22, 0.21, 0.0, 0.28, 0.27, 0.12, 0.35, 0.45, 0.44, 0.45, 0.44, 0.45, 0.1, 0.05, 0.01, 0.3, 0.27, 0.39, 0.25, 0.65, 0.59, 0.47, 0.17, 0.39, 0.59, 0.07, 0.02, 0.07, 0.31, 0.06, 0.46, 0.52, 0.14, 0.36, 0.45, 0.43, 0.45, 0.24, 0.21, 0.34, 0.21, 0.41, 0.39, 0.41, 0.11, 0.1, 0.45, 0.58, 0.23, 0.31, 0.23, 0.32, 0.23, 0.18, 0.23, 0.04, 0.48, 0.0, 0.24, 0.51, 0.32, 0.31, 0.02, 0.02, 0.02, 0.28, 0.55, 0.43, 0.02, 0.02, 0.48, 0.04, 0.15, 0.08, 0.19, 0.12, 0.47, 0.43, 0.34, 0.0, 0.36, 0.28, 0.18, 0.36, 0.11, 0.04, 0.0, 0.04, 0.24, 0.08, 0.3, 0.1, 0.17, 0.09, 0.02, 0.02, 0.03, 0.66, 0.13, 0.03, 0.34, 0.2, 0.1, 0.1, 0.0, 0.23, 0.0, 0.29, 0.24, 0.0, 0.58, 0.54, 0.18, 0.38, 0.4, 0.18, 0.18, 0.1, 0.1, 0.13, 0.1, 0.68, 0.07, 0.01, 0.0, 0.0, 0.21, 0.25, 0.26, 0.0, 0.26, 0.11, 0.1, 0.18, 0.32, 0.02, 0.01, 0.02, 0.26, 0.27, 0.29, 0.3, 0.0, 0.18, 0.17, 0.3, 0.03, 0.0, 0.14, 0.05, 0.14, 0.01, 0.41, 0.41, 0.24, 0.24, 0.17, 0.43, 0.17, 0.02, 0.0, 0.54, 0.3, 0.31, 0.44, 0.34, 0.34, 0.08, 0.09, 0.0, 0.08, 0.22, 0.4, 0.39, 0.4, 0.12, 0.31, 0.1, 0.55, 0.33, 0.24, 0.54, 0.33, 0.19, 0.42, 0.0, 0.15, 0.0, 0.0, 0.13, 0.13, 0.28, 0.14, 0.34, 0.14, 0.09, 0.08, 0.07, 0.08, 0.42, 0.44, 0.26, 0.1, 0.28, 0.28, 0.35, 0.04, 0.47, 0.0, 0.45, 0.35, 0.46, 0.21, 0.21, 0.16, 0.21, 0.21, 0.44, 0.44, 0.32, 0.39, 0.39, 0.02, 0.39, 0.34, 0.47, 0.22, 0.06, 0.66, 0.32, 0.06, 0.06, 0.07, 0.22, 0.23, 0.22, 0.03, 0.01, 0.03, 0.24, 0.37, 0.46, 0.4, 0.0, 0.01, 0.19, 0.04, 0.18, 0.0, 0.29, 0.04, 0.19, 0.14, 0.12, 0.38, 0.0, 0.34, 0.24, 0.03, 0.23, 0.03, 0.03, 0.01, 0.39, 0.01, 0.39, 0.02, 0.36, 0.1, 0.1, 0.06, 0.06, 0.2, 0.27, 0.0, 0.13, 0.39, 0.48, 0.46, 0.44, 0.46, 0.39, 0.4, 0.19, 0.31, 0.32, 0.12, 0.37, 0.32, 0.12, 0.31, 0.27, 0.36, 0.33, 0.19, 0.27, 0.38, 0.01, 0.01, 0.29, 0.01, 0.01, 0.38, 0.38, 0.5, 0.38, 0.17, 0.52, 0.49, 0.4, 0.34, 0.49, 0.42, 0.58, 0.48, 0.45, 0.45, 0.45, 0.48, 0.4, 0.48, 0.4, 0.52, 0.52, 0.52, 0.12, 0.05, 0.27, 0.14, 0.02, 0.39, 0.27, 0.4, 0.41, 0.2, 0.43, 0.09, 0.48, 0.48, 0.5, 0.44, 0.41, 0.3, 0.3, 0.29, 0.32, 0.49, 0.3, 0.26, 0.32, 0.3, 0.49, 0.0, 0.39, 0.3, 0.12, 0.4, 0.12, 0.28, 0.1, 0.28, 0.45, 0.06, 0.0, 0.0, 0.34, 0.0, 0.3, 0.38, 0.33, 0.32, 0.29, 0.32, 0.33, 0.34, 0.4, 0.36, 0.45, 0.31, 0.15, 0.0, 0.16, 0.46, 0.4, 0.37, 0.37, 0.14, 0.66, 0.66, 0.09, 0.42, 0.01, 0.0, 0.32, 0.0, 0.21, 0.01, 0.0, 0.01, 0.0, 0.08, 0.18, 0.34, 0.34, 0.1, 0.41, 0.21, 0.0, 0.19, 0.21, 0.41, 0.33, 0.0, 0.0, 0.17, 0.36, 0.36, 0.17, 0.59, 0.05, 0.42, 0.27, 0.27, 0.53, 0.25, 0.57, 0.53, 0.57, 0.5, 0.44, 0.65, 0.09, 0.18, 0.08, 0.53, 0.53, 0.35, 0.45, 0.2, 0.26, 0.33, 0.2, 0.34, 0.56, 0.65, 0.65, 0.68, 0.56, 0.68, 0.3, 0.45, 0.3, 0.08, 0.4, 0.42, 0.54, 0.54, 0.54, 0.42, 0.09, 0.36, 0.09, 0.47, 0.09, 0.38, 0.45, 0.38, 0.42, 0.27, 0.09, 0.27, 0.34, 0.28, 0.42, 0.41, 0.1, 0.43, 0.0, 0.27, 0.41, 0.39, 0.5, 0.07, 0.07, 0.07, 0.12, 0.0, 0.34, 0.0, 0.0, 0.37, 0.0, 0.35, 0.26, 0.0, 0.33, 0.35, 0.0, 0.21, 0.34, 0.07, 0.35, 0.43, 0.45, 0.45, 0.15, 0.24, 0.3, 0.32, 0.11, 0.3, 0.23, 0.43, 0.12, 0.45, 0.42, 0.47, 0.32, 0.23, 0.25, 0.35, 0.0, 0.25, 0.51, 0.18, 0.43, 0.43, 0.57, 0.43, 0.42, 0.24, 0.24, 0.5, 0.26, 0.39, 0.27, 0.29, 0.34, 0.0, 0.46, 0.31, 0.31, 0.0, 0.03, 0.0, 0.0, 0.33, 0.33, 0.43, 0.4, 0.07, 0.23, 0.3, 0.03, 0.3, 0.23, 0.05, 0.57, 0.0, 0.37, 0.0, 0.12, 0.22, 0.23, 0.21, 0.26, 0.23, 0.21, 0.36, 0.39, 0.19, 0.46, 0.46, 0.46, 0.55, 0.46, 0.43, 0.02, 0.15, 0.02, 0.42, 0.46, 0.46, 0.31, 0.37, 0.31, 0.4, 0.52, 0.52, 0.22, 0.47, 0.49, 0.23, 0.03, 0.25, 0.0, 0.29, 0.34, 0.01, 0.29, 0.37, 0.01, 0.32, 0.0, 0.01, 0.0, 0.0, 0.2, 0.39, 0.41, 0.22, 0.25, 0.19, 0.07, 0.19, 0.33, 0.01, 0.01, 0.14, 0.0, 0.0, 0.06, 0.02, 0.22, 0.28, 0.0, 0.0, 0.68, 0.0, 0.38, 0.0, 0.32, 0.05, 0.05, 0.5, 0.31, 0.03, 0.01, 0.2, 0.0, 0.2, 0.13, 0.22, 0.4, 0.0, 0.22, 0.39, 0.2, 0.2, 0.0, 0.28, 0.19, 0.5, 0.44, 0.08, 0.3, 0.3, 0.0, 0.1, 0.13, 0.0, 0.1, 0.0, 0.0, 0.14, 0.0, 0.0, 0.0, 0.07, 0.32, 0.44, 0.21, 0.26, 0.32, 0.09, 0.32, 0.1, 0.26, 0.15, 0.21, 0.21, 0.21, 0.27, 0.0, 0.46, 0.27, 0.68, 0.34, 0.0, 0.42, 0.39, 0.24, 0.24, 0.24, 0.24, 0.11, 0.26, 0.26, 0.26, 0.1, 0.22, 0.0, 0.02, 0.0, 0.0, 0.0, 0.02, 0.02, 0.02, 0.02, 0.02, 0.48, 0.24, 0.01, 0.03, 0.03, 0.0, 0.29, 0.01, 0.03, 0.03, 0.03, 0.25, 0.25, 0.24, 0.17, 0.4, 0.31, 0.14, 0.4, 0.27, 0.02, 0.09, 0.08, 0.3, 0.32, 0.0, 0.51, 0.56, 0.51, 0.27, 0.0, 0.26, 0.2, 0.26, 0.15, 0.02, 0.02, 0.09, 0.22, 0.22, 0.15, 0.25, 0.07, 0.07, 0.31, 0.02, 0.0, 0.22, 0.06, 0.25, 0.14, 0.1, 0.1, 0.26, 0.12, 0.0, 0.21, 0.21, 0.42, 0.33, 0.39, 0.3, 0.34, 0.0, 0.36, 0.0, 0.0, 0.4, 0.34, 0.25, 0.59, 0.0, 0.59, 0.33, 0.01, 0.21, 0.01, 0.18, 0.0, 0.09, 0.37, 0.37, 0.37, 0.33, 0.0, 0.4, 0.24, 0.31, 0.0, 0.16, 0.37, 0.37, 0.38, 0.29, 0.0, 0.02, 0.32, 0.19, 0.02, 0.2, 0.02, 0.19, 0.02, 0.0, 0.01, 0.31, 0.32, 0.44, 0.02, 0.33, 0.63, 0.0, 0.06, 0.33, 0.4, 0.35, 0.09, 0.0, 0.03, 0.01, 0.1, 0.1, 0.32, 0.08, 0.32, 0.05, 0.11, 0.08, 0.6, 0.08, 0.5, 0.11, 0.5, 0.11, 0.05, 0.6, 0.03, 0.6, 0.54, 0.44, 0.06, 0.16, 0.21, 0.05, 0.04, 0.1, 0.49, 0.04, 0.06, 0.26, 0.09, 0.02, 0.26, 0.03, 0.04, 0.03, 0.04, 0.29, 0.18, 0.39, 0.57, 0.02, 0.05, 0.57, 0.6, 0.4, 0.21, 0.04, 0.04, 0.15, 0.21, 0.21, 0.25, 0.06, 0.46, 0.08, 0.06, 0.2, 0.25, 0.25, 0.19, 0.08, 0.08, 0.07, 0.49, 0.08, 0.09, 0.1, 0.13, 0.3, 0.14, 0.13, 0.08, 0.08, 0.09, 0.32, 0.08, 0.29, 0.02, 0.42, 0.43, 0.33, 0.02, 0.1, 0.5, 0.3, 0.0, 0.0, 0.01, 0.0, 0.02, 0.17, 0.04, 0.02, 0.33, 0.26, 0.26, 0.26, 0.13, 0.13, 0.13, 0.02, 0.64, 0.13, 0.13, 0.14, 0.53, 0.14, 0.32, 0.2, 0.78, 0.4, 0.63, 0.15, 0.15, 0.09, 0.33, 0.09, 0.1, 0.29, 0.44, 0.44, 0.41, 0.11, 0.33, 0.2, 0.15, 0.09, 0.13, 0.08, 0.08, 0.1, 0.13, 0.12, 0.47], \"xaxis\": \"x\", \"yaxis\": \"y\"}],                        {\"barmode\": \"relative\", \"legend\": {\"tracegroupgap\": 0}, \"margin\": {\"t\": 60}, \"template\": {\"data\": {\"bar\": [{\"error_x\": {\"color\": \"#2a3f5f\"}, \"error_y\": {\"color\": \"#2a3f5f\"}, \"marker\": {\"line\": {\"color\": \"#E5ECF6\", \"width\": 0.5}}, \"type\": \"bar\"}], \"barpolar\": [{\"marker\": {\"line\": {\"color\": \"#E5ECF6\", \"width\": 0.5}}, \"type\": \"barpolar\"}], \"carpet\": [{\"aaxis\": {\"endlinecolor\": \"#2a3f5f\", \"gridcolor\": \"white\", \"linecolor\": \"white\", \"minorgridcolor\": \"white\", \"startlinecolor\": \"#2a3f5f\"}, \"baxis\": {\"endlinecolor\": \"#2a3f5f\", \"gridcolor\": \"white\", \"linecolor\": \"white\", \"minorgridcolor\": \"white\", \"startlinecolor\": \"#2a3f5f\"}, \"type\": \"carpet\"}], \"choropleth\": [{\"colorbar\": {\"outlinewidth\": 0, \"ticks\": \"\"}, \"type\": \"choropleth\"}], \"contour\": [{\"colorbar\": {\"outlinewidth\": 0, \"ticks\": \"\"}, \"colorscale\": [[0.0, \"#0d0887\"], [0.1111111111111111, \"#46039f\"], [0.2222222222222222, \"#7201a8\"], [0.3333333333333333, \"#9c179e\"], [0.4444444444444444, \"#bd3786\"], [0.5555555555555556, \"#d8576b\"], [0.6666666666666666, \"#ed7953\"], [0.7777777777777778, \"#fb9f3a\"], [0.8888888888888888, \"#fdca26\"], [1.0, \"#f0f921\"]], \"type\": \"contour\"}], \"contourcarpet\": [{\"colorbar\": {\"outlinewidth\": 0, \"ticks\": \"\"}, \"type\": \"contourcarpet\"}], \"heatmap\": [{\"colorbar\": {\"outlinewidth\": 0, \"ticks\": \"\"}, \"colorscale\": [[0.0, \"#0d0887\"], [0.1111111111111111, \"#46039f\"], [0.2222222222222222, \"#7201a8\"], [0.3333333333333333, \"#9c179e\"], [0.4444444444444444, \"#bd3786\"], [0.5555555555555556, \"#d8576b\"], [0.6666666666666666, \"#ed7953\"], [0.7777777777777778, \"#fb9f3a\"], [0.8888888888888888, \"#fdca26\"], [1.0, \"#f0f921\"]], \"type\": \"heatmap\"}], \"heatmapgl\": [{\"colorbar\": {\"outlinewidth\": 0, \"ticks\": \"\"}, \"colorscale\": [[0.0, \"#0d0887\"], [0.1111111111111111, \"#46039f\"], [0.2222222222222222, \"#7201a8\"], [0.3333333333333333, \"#9c179e\"], [0.4444444444444444, \"#bd3786\"], [0.5555555555555556, \"#d8576b\"], [0.6666666666666666, \"#ed7953\"], [0.7777777777777778, \"#fb9f3a\"], [0.8888888888888888, \"#fdca26\"], [1.0, \"#f0f921\"]], \"type\": \"heatmapgl\"}], \"histogram\": [{\"marker\": {\"colorbar\": {\"outlinewidth\": 0, \"ticks\": \"\"}}, \"type\": \"histogram\"}], \"histogram2d\": [{\"colorbar\": {\"outlinewidth\": 0, \"ticks\": \"\"}, \"colorscale\": [[0.0, \"#0d0887\"], [0.1111111111111111, \"#46039f\"], [0.2222222222222222, \"#7201a8\"], [0.3333333333333333, \"#9c179e\"], [0.4444444444444444, \"#bd3786\"], [0.5555555555555556, \"#d8576b\"], [0.6666666666666666, \"#ed7953\"], [0.7777777777777778, \"#fb9f3a\"], [0.8888888888888888, \"#fdca26\"], [1.0, \"#f0f921\"]], \"type\": \"histogram2d\"}], \"histogram2dcontour\": [{\"colorbar\": {\"outlinewidth\": 0, \"ticks\": \"\"}, \"colorscale\": [[0.0, \"#0d0887\"], [0.1111111111111111, \"#46039f\"], [0.2222222222222222, \"#7201a8\"], [0.3333333333333333, \"#9c179e\"], [0.4444444444444444, \"#bd3786\"], [0.5555555555555556, \"#d8576b\"], [0.6666666666666666, \"#ed7953\"], [0.7777777777777778, \"#fb9f3a\"], [0.8888888888888888, \"#fdca26\"], [1.0, \"#f0f921\"]], \"type\": \"histogram2dcontour\"}], \"mesh3d\": [{\"colorbar\": {\"outlinewidth\": 0, \"ticks\": \"\"}, \"type\": \"mesh3d\"}], \"parcoords\": [{\"line\": {\"colorbar\": {\"outlinewidth\": 0, \"ticks\": \"\"}}, \"type\": \"parcoords\"}], \"pie\": [{\"automargin\": true, \"type\": \"pie\"}], \"scatter\": [{\"marker\": {\"colorbar\": {\"outlinewidth\": 0, \"ticks\": \"\"}}, \"type\": \"scatter\"}], \"scatter3d\": [{\"line\": {\"colorbar\": {\"outlinewidth\": 0, \"ticks\": \"\"}}, \"marker\": {\"colorbar\": {\"outlinewidth\": 0, \"ticks\": \"\"}}, \"type\": \"scatter3d\"}], \"scattercarpet\": [{\"marker\": {\"colorbar\": {\"outlinewidth\": 0, \"ticks\": \"\"}}, \"type\": \"scattercarpet\"}], \"scattergeo\": [{\"marker\": {\"colorbar\": {\"outlinewidth\": 0, \"ticks\": \"\"}}, \"type\": \"scattergeo\"}], \"scattergl\": [{\"marker\": {\"colorbar\": {\"outlinewidth\": 0, \"ticks\": \"\"}}, \"type\": \"scattergl\"}], \"scattermapbox\": [{\"marker\": {\"colorbar\": {\"outlinewidth\": 0, \"ticks\": \"\"}}, \"type\": \"scattermapbox\"}], \"scatterpolar\": [{\"marker\": {\"colorbar\": {\"outlinewidth\": 0, \"ticks\": \"\"}}, \"type\": \"scatterpolar\"}], \"scatterpolargl\": [{\"marker\": {\"colorbar\": {\"outlinewidth\": 0, \"ticks\": \"\"}}, \"type\": \"scatterpolargl\"}], \"scatterternary\": [{\"marker\": {\"colorbar\": {\"outlinewidth\": 0, \"ticks\": \"\"}}, \"type\": \"scatterternary\"}], \"surface\": [{\"colorbar\": {\"outlinewidth\": 0, \"ticks\": \"\"}, \"colorscale\": [[0.0, \"#0d0887\"], [0.1111111111111111, \"#46039f\"], [0.2222222222222222, \"#7201a8\"], [0.3333333333333333, \"#9c179e\"], [0.4444444444444444, \"#bd3786\"], [0.5555555555555556, \"#d8576b\"], [0.6666666666666666, \"#ed7953\"], [0.7777777777777778, \"#fb9f3a\"], [0.8888888888888888, \"#fdca26\"], [1.0, \"#f0f921\"]], \"type\": \"surface\"}], \"table\": [{\"cells\": {\"fill\": {\"color\": \"#EBF0F8\"}, \"line\": {\"color\": \"white\"}}, \"header\": {\"fill\": {\"color\": \"#C8D4E3\"}, \"line\": {\"color\": \"white\"}}, \"type\": \"table\"}]}, \"layout\": {\"annotationdefaults\": {\"arrowcolor\": \"#2a3f5f\", \"arrowhead\": 0, \"arrowwidth\": 1}, \"coloraxis\": {\"colorbar\": {\"outlinewidth\": 0, \"ticks\": \"\"}}, \"colorscale\": {\"diverging\": [[0, \"#8e0152\"], [0.1, \"#c51b7d\"], [0.2, \"#de77ae\"], [0.3, \"#f1b6da\"], [0.4, \"#fde0ef\"], [0.5, \"#f7f7f7\"], [0.6, \"#e6f5d0\"], [0.7, \"#b8e186\"], [0.8, \"#7fbc41\"], [0.9, \"#4d9221\"], [1, \"#276419\"]], \"sequential\": [[0.0, \"#0d0887\"], [0.1111111111111111, \"#46039f\"], [0.2222222222222222, \"#7201a8\"], [0.3333333333333333, \"#9c179e\"], [0.4444444444444444, \"#bd3786\"], [0.5555555555555556, \"#d8576b\"], [0.6666666666666666, \"#ed7953\"], [0.7777777777777778, \"#fb9f3a\"], [0.8888888888888888, \"#fdca26\"], [1.0, \"#f0f921\"]], \"sequentialminus\": [[0.0, \"#0d0887\"], [0.1111111111111111, \"#46039f\"], [0.2222222222222222, \"#7201a8\"], [0.3333333333333333, \"#9c179e\"], [0.4444444444444444, \"#bd3786\"], [0.5555555555555556, \"#d8576b\"], [0.6666666666666666, \"#ed7953\"], [0.7777777777777778, \"#fb9f3a\"], [0.8888888888888888, \"#fdca26\"], [1.0, \"#f0f921\"]]}, \"colorway\": [\"#636efa\", \"#EF553B\", \"#00cc96\", \"#ab63fa\", \"#FFA15A\", \"#19d3f3\", \"#FF6692\", \"#B6E880\", \"#FF97FF\", \"#FECB52\"], \"font\": {\"color\": \"#2a3f5f\"}, \"geo\": {\"bgcolor\": \"white\", \"lakecolor\": \"white\", \"landcolor\": \"#E5ECF6\", \"showlakes\": true, \"showland\": true, \"subunitcolor\": \"white\"}, \"hoverlabel\": {\"align\": \"left\"}, \"hovermode\": \"closest\", \"mapbox\": {\"style\": \"light\"}, \"paper_bgcolor\": \"white\", \"plot_bgcolor\": \"#E5ECF6\", \"polar\": {\"angularaxis\": {\"gridcolor\": \"white\", \"linecolor\": \"white\", \"ticks\": \"\"}, \"bgcolor\": \"#E5ECF6\", \"radialaxis\": {\"gridcolor\": \"white\", \"linecolor\": \"white\", \"ticks\": \"\"}}, \"scene\": {\"xaxis\": {\"backgroundcolor\": \"#E5ECF6\", \"gridcolor\": \"white\", \"gridwidth\": 2, \"linecolor\": \"white\", \"showbackground\": true, \"ticks\": \"\", \"zerolinecolor\": \"white\"}, \"yaxis\": {\"backgroundcolor\": \"#E5ECF6\", \"gridcolor\": \"white\", \"gridwidth\": 2, \"linecolor\": \"white\", \"showbackground\": true, \"ticks\": \"\", \"zerolinecolor\": \"white\"}, \"zaxis\": {\"backgroundcolor\": \"#E5ECF6\", \"gridcolor\": \"white\", \"gridwidth\": 2, \"linecolor\": \"white\", \"showbackground\": true, \"ticks\": \"\", \"zerolinecolor\": \"white\"}}, \"shapedefaults\": {\"line\": {\"color\": \"#2a3f5f\"}}, \"ternary\": {\"aaxis\": {\"gridcolor\": \"white\", \"linecolor\": \"white\", \"ticks\": \"\"}, \"baxis\": {\"gridcolor\": \"white\", \"linecolor\": \"white\", \"ticks\": \"\"}, \"bgcolor\": \"#E5ECF6\", \"caxis\": {\"gridcolor\": \"white\", \"linecolor\": \"white\", \"ticks\": \"\"}}, \"title\": {\"x\": 0.05}, \"xaxis\": {\"automargin\": true, \"gridcolor\": \"white\", \"linecolor\": \"white\", \"ticks\": \"\", \"title\": {\"standoff\": 15}, \"zerolinecolor\": \"white\", \"zerolinewidth\": 2}, \"yaxis\": {\"automargin\": true, \"gridcolor\": \"white\", \"linecolor\": \"white\", \"ticks\": \"\", \"title\": {\"standoff\": 15}, \"zerolinecolor\": \"white\", \"zerolinewidth\": 2}}}, \"xaxis\": {\"anchor\": \"y\", \"domain\": [0.0, 1.0], \"title\": {\"text\": \"citric acid\"}}, \"yaxis\": {\"anchor\": \"x\", \"domain\": [0.0, 1.0], \"title\": {\"text\": \"count\"}}},                        {\"responsive\": true}                    ).then(function(){\n",
       "                            \n",
       "var gd = document.getElementById('9faa85a4-4d63-4a60-85a5-4a7ebe0e6bac');\n",
       "var x = new MutationObserver(function (mutations, observer) {{\n",
       "        var display = window.getComputedStyle(gd).display;\n",
       "        if (!display || display === 'none') {{\n",
       "            console.log([gd, 'removed!']);\n",
       "            Plotly.purge(gd);\n",
       "            observer.disconnect();\n",
       "        }}\n",
       "}});\n",
       "\n",
       "// Listen for the removal of the full notebook cells\n",
       "var notebookContainer = gd.closest('#notebook-container');\n",
       "if (notebookContainer) {{\n",
       "    x.observe(notebookContainer, {childList: true});\n",
       "}}\n",
       "\n",
       "// Listen for the clearing of the current output cell\n",
       "var outputEl = gd.closest('.output');\n",
       "if (outputEl) {{\n",
       "    x.observe(outputEl, {childList: true});\n",
       "}}\n",
       "\n",
       "                        })                };                });            </script>        </div>"
      ]
     },
     "metadata": {},
     "output_type": "display_data"
    }
   ],
   "source": [
    "fig = px.histogram(data_frame,x='citric acid')\n",
    "fig.show()\n"
   ]
  },
  {
   "cell_type": "code",
   "execution_count": 76,
   "metadata": {},
   "outputs": [
    {
     "data": {
      "application/vnd.plotly.v1+json": {
       "config": {
        "plotlyServerURL": "https://plot.ly"
       },
       "data": [
        {
         "alignmentgroup": "True",
         "bingroup": "x",
         "hovertemplate": "residual sugar=%{x}<br>count=%{y}<extra></extra>",
         "legendgroup": "",
         "marker": {
          "color": "#636efa"
         },
         "name": "",
         "offsetgroup": "",
         "orientation": "v",
         "showlegend": false,
         "type": "histogram",
         "x": [
          1.9,
          2.6,
          2.3,
          1.9,
          1.9,
          1.8,
          1.6,
          1.2,
          2,
          6.1,
          1.8,
          6.1,
          1.6,
          1.6,
          3.8,
          3.9,
          1.8,
          1.7,
          4.4,
          1.8,
          1.8,
          2.3,
          1.6,
          2.3,
          2.4,
          1.4,
          1.8,
          1.6,
          1.9,
          2,
          2.4,
          2.5,
          2.3,
          10.7,
          1.8,
          5.5,
          2.4,
          2.1,
          1.5,
          5.9,
          5.9,
          2.8,
          2.6,
          2.2,
          1.8,
          2.1,
          2.2,
          1.6,
          1.6,
          1.4,
          1.7,
          2.2,
          2.1,
          3,
          2.8,
          3.8,
          3.4,
          5.1,
          2.3,
          2.4,
          2.2,
          1.8,
          1.9,
          2,
          4.65,
          4.65,
          1.5,
          1.6,
          2,
          1.9,
          1.9,
          2.1,
          1.9,
          2.1,
          2.5,
          2.2,
          2.2,
          2.4,
          2,
          1.5,
          1.6,
          1.9,
          2,
          1.8,
          1.8,
          2.2,
          1.9,
          1.9,
          2.1,
          1.8,
          1.9,
          1.9,
          2,
          1.9,
          1.4,
          2.3,
          3,
          2,
          2.5,
          1.9,
          2.1,
          1.9,
          1.9,
          2.1,
          2.2,
          2.1,
          1.7,
          1.7,
          2.5,
          2,
          1.8,
          2.2,
          2.2,
          2.3,
          1.8,
          2.2,
          1.9,
          2,
          2.2,
          1.8,
          1.7,
          2.2,
          2.5,
          2.6,
          1.6,
          1.9,
          1.7,
          1.8,
          1.8,
          1.8,
          2,
          2.3,
          2.3,
          1.5,
          2.2,
          1.9,
          1.8,
          2,
          2.1,
          2,
          1.9,
          1.8,
          1.8,
          1.7,
          1.8,
          1.8,
          1.8,
          1.6,
          2.3,
          2.8,
          2.1,
          3.4,
          1.8,
          1.8,
          5.5,
          5.5,
          5.5,
          5.5,
          2.2,
          1.9,
          2,
          1.3,
          1.7,
          7.3,
          7.2,
          1.7,
          2.1,
          1.6,
          2.1,
          1.8,
          1.8,
          2,
          2,
          1.9,
          2,
          1.5,
          2,
          2.3,
          2.5,
          2.4,
          2.4,
          2,
          2.5,
          1.8,
          1.9,
          2,
          2,
          2.6,
          2,
          1.9,
          2.9,
          1.9,
          3.8,
          2.2,
          2.2,
          2,
          2.4,
          2,
          1.2,
          2.1,
          1.4,
          2.1,
          1.5,
          1.6,
          1.6,
          2.6,
          2.6,
          1.8,
          2.7,
          2.1,
          2,
          2.8,
          2.1,
          2.2,
          2.4,
          5.6,
          2,
          2.2,
          1.9,
          2.4,
          2,
          2,
          1.5,
          2,
          2,
          2.6,
          2,
          2.6,
          2.6,
          2.6,
          1.6,
          1.8,
          2.8,
          2.6,
          2.3,
          1.9,
          1.9,
          1.9,
          1.9,
          2.3,
          1.7,
          2.1,
          1.8,
          2.2,
          2.2,
          2,
          1.9,
          2.3,
          1.7,
          2,
          1.6,
          1.8,
          3.1,
          1.9,
          1.8,
          3.2,
          2.2,
          2.1,
          1.8,
          2.6,
          1.7,
          2,
          1.7,
          1.8,
          2.4,
          1.8,
          3.3,
          3.6,
          3,
          4,
          4,
          4,
          4,
          2.4,
          7,
          4,
          3,
          4,
          6.4,
          5.6,
          3.6,
          3.5,
          3,
          5.6,
          3.4,
          3.4,
          2,
          3,
          2.5,
          3.3,
          2.5,
          2,
          2.7,
          2.4,
          3.2,
          2.5,
          2.6,
          2,
          2.3,
          2.1,
          2.6,
          1.5,
          2.6,
          1.6,
          2.1,
          2.5,
          2.2,
          2.4,
          2.4,
          1.7,
          2.5,
          2,
          2.8,
          3,
          2.6,
          2.5,
          3.4,
          2.9,
          3.2,
          2.9,
          3.2,
          3.4,
          2.3,
          2.8,
          11,
          11,
          3.65,
          4.5,
          2.6,
          2,
          2.9,
          2.9,
          3.2,
          2.1,
          2.5,
          3.4,
          1.9,
          2.8,
          3,
          2.3,
          2.4,
          2.7,
          1.8,
          1.8,
          2.6,
          1.9,
          2.7,
          3,
          2.8,
          2.6,
          2.7,
          2.6,
          2.4,
          4.8,
          1.4,
          2.4,
          3,
          2.95,
          3.1,
          2.6,
          2,
          2.6,
          2.5,
          2,
          5.8,
          3.4,
          5.8,
          2.6,
          2.8,
          2.4,
          2.3,
          1.6,
          1.8,
          2.2,
          3.8,
          4.4,
          3,
          2.4,
          6.2,
          2.5,
          2,
          2.9,
          2,
          2,
          2.1,
          2.4,
          2,
          1.9,
          1.9,
          2.5,
          1.4,
          2.9,
          2,
          2,
          2.3,
          4.2,
          7.9,
          2.6,
          2.6,
          2.3,
          7.9,
          1.7,
          2.6,
          2.7,
          2.7,
          1.4,
          2.5,
          3,
          3.7,
          4.5,
          2.5,
          2.4,
          1.9,
          6.7,
          2.7,
          6.6,
          2.2,
          1.9,
          2,
          1.8,
          2.4,
          2.3,
          2,
          2.1,
          2,
          2.3,
          2.1,
          1.9,
          1.3,
          2.4,
          2.1,
          2.2,
          2.3,
          2.3,
          3.2,
          2.3,
          2,
          3.2,
          3.2,
          1.5,
          2.2,
          2.15,
          3.7,
          2.7,
          1.7,
          2.1,
          2.6,
          2.1,
          2,
          2.8,
          2.8,
          1.8,
          1.7,
          2.8,
          1.6,
          5.2,
          2.3,
          2.7,
          2.8,
          2.2,
          2.3,
          2.6,
          2.55,
          2.2,
          2.1,
          2.9,
          2,
          2.6,
          2.1,
          1.2,
          2.6,
          2.4,
          2.6,
          2.1,
          1.7,
          2.2,
          2,
          1.8,
          2.2,
          2.7,
          15.5,
          2.8,
          2.2,
          2.2,
          4.1,
          1.9,
          1.9,
          1.8,
          2.8,
          2.6,
          2.8,
          2.5,
          2.6,
          3,
          8.3,
          2.6,
          1.9,
          2.5,
          2.6,
          3,
          1.9,
          6.55,
          6.55,
          1.9,
          1.8,
          2.9,
          1.8,
          2.3,
          2.2,
          2.8,
          4.6,
          2.2,
          2.1,
          2.4,
          2.4,
          6.1,
          4.3,
          2.1,
          2.8,
          2.5,
          2.7,
          2,
          2.3,
          2.5,
          2.4,
          2.8,
          2.5,
          2.5,
          2.6,
          2.4,
          2.1,
          2.7,
          2.7,
          2.1,
          2.7,
          2.1,
          2.4,
          2.1,
          5.8,
          5.15,
          3.3,
          6.3,
          2.1,
          2.5,
          1.8,
          2.6,
          2,
          2.5,
          2.6,
          1.9,
          2.1,
          2.8,
          2.7,
          1.6,
          4.2,
          4.2,
          4.6,
          4.2,
          4.6,
          4.3,
          2.8,
          2.4,
          2.9,
          2.7,
          4.3,
          2.8,
          2.5,
          2.5,
          2.6,
          2.2,
          3.3,
          2.2,
          2.4,
          2.1,
          3.2,
          3.1,
          2.3,
          2.8,
          2.9,
          2.2,
          2.2,
          2.2,
          2.2,
          1.9,
          3.4,
          2.4,
          2.7,
          1.9,
          2,
          2.6,
          2.6,
          1.7,
          2.6,
          3.5,
          2.6,
          7.9,
          2,
          1.9,
          2.1,
          2.3,
          2.1,
          2.2,
          2.6,
          2.2,
          2.9,
          2.6,
          4.6,
          3.3,
          5.1,
          3.2,
          2.5,
          2.7,
          2.4,
          1.5,
          2.2,
          2.3,
          2.3,
          2.2,
          2.7,
          2.3,
          3.4,
          3.4,
          1.9,
          2.9,
          5.6,
          5.6,
          2.2,
          2.2,
          2.5,
          2.3,
          2.5,
          2.7,
          3,
          3.4,
          1.9,
          1.4,
          2.4,
          2.3,
          2.2,
          1.9,
          2.3,
          2.3,
          2.3,
          2.3,
          2.3,
          6,
          3.6,
          2.2,
          2.8,
          8.6,
          2.2,
          2.5,
          7.5,
          2.8,
          2.4,
          2.9,
          2.2,
          1.4,
          1.4,
          4.4,
          1.4,
          1.6,
          1.6,
          1.8,
          2,
          2,
          1.8,
          2,
          2.3,
          2,
          2.5,
          1.7,
          2,
          1.7,
          2.2,
          2.2,
          2.2,
          2.3,
          2.6,
          3.3,
          1.9,
          2.2,
          2.25,
          2.6,
          2.3,
          2.6,
          1.8,
          3.1,
          1.6,
          1.8,
          4.25,
          2.6,
          2,
          2.8,
          2.7,
          1.3,
          2.1,
          2.1,
          3.2,
          2.1,
          2.9,
          2.1,
          2.1,
          2.6,
          1.6,
          6,
          2,
          3,
          2.5,
          1.6,
          2.8,
          3,
          3.2,
          2.3,
          2.6,
          2.7,
          2.3,
          2.6,
          2,
          3.9,
          2,
          2.85,
          2.7,
          2.2,
          3.1,
          3,
          2.8,
          1.8,
          1.8,
          3.2,
          2.3,
          3.45,
          2.1,
          2.7,
          2,
          2.1,
          2.1,
          2.5,
          2.8,
          2.4,
          4.2,
          2.6,
          1.9,
          2.8,
          2.7,
          2.1,
          2.5,
          2.6,
          2.1,
          2.1,
          2.9,
          2.9,
          2.5,
          2.9,
          1.7,
          1.9,
          2,
          2.2,
          2.2,
          2.5,
          2.8,
          2,
          1.7,
          2,
          2.8,
          3,
          2.9,
          2.7,
          2.3,
          1.9,
          2.3,
          2.4,
          2.3,
          1.8,
          1.8,
          3,
          2.4,
          2.4,
          3.4,
          2.6,
          2,
          2.4,
          2.4,
          2.4,
          2.5,
          2.3,
          2.3,
          2.2,
          2.2,
          2.9,
          2.6,
          2.9,
          2.5,
          2.6,
          2.3,
          2.6,
          2.5,
          1.6,
          3.6,
          3.6,
          4,
          3.3,
          1.7,
          2.5,
          2.7,
          2.4,
          2,
          2.4,
          1.9,
          2.8,
          2.6,
          2.8,
          2.5,
          2.1,
          2.8,
          2.5,
          3.2,
          1.6,
          2.35,
          3.2,
          1.9,
          2.1,
          2,
          2,
          2.8,
          2.8,
          2.3,
          2.8,
          2.3,
          2.1,
          2.5,
          2.1,
          1.5,
          1.6,
          1.6,
          1.5,
          2.4,
          2.4,
          1.6,
          2.2,
          2.65,
          3,
          2.6,
          2,
          1.7,
          1.8,
          1.8,
          1.8,
          1.8,
          1.6,
          1.9,
          1.9,
          2.5,
          1.5,
          1.5,
          2.5,
          1.5,
          2.5,
          1.7,
          1.8,
          2.7,
          2,
          2.7,
          2.5,
          2.7,
          2.6,
          2.3,
          2,
          1.8,
          2,
          2.1,
          1.5,
          2,
          1.6,
          2.1,
          2.8,
          2.2,
          2.1,
          4,
          2.5,
          1.6,
          2.1,
          3.1,
          2.5,
          4,
          2.5,
          2.4,
          2.6,
          2.5,
          6.6,
          2,
          2.3,
          1.9,
          2.3,
          2.2,
          2.3,
          2.4,
          2.3,
          2.4,
          3.4,
          2.6,
          2.4,
          2.4,
          6,
          6,
          3,
          2.6,
          2.2,
          2.4,
          1.2,
          3.8,
          9,
          2.9,
          4.6,
          1.2,
          2.2,
          1.5,
          8.8,
          2.2,
          1.8,
          2.3,
          2.2,
          1.8,
          8.8,
          2.3,
          1.9,
          2.3,
          2.2,
          2.3,
          3.3,
          1.9,
          2,
          1.9,
          2,
          1.9,
          2.3,
          2.3,
          1.4,
          2.8,
          1.6,
          2.2,
          5,
          2.6,
          2.3,
          3.8,
          2,
          4.1,
          2.1,
          1.8,
          1.8,
          1.8,
          2.1,
          2.2,
          2.1,
          2.7,
          1.9,
          2.1,
          2,
          2.3,
          2,
          1.9,
          1.6,
          2.1,
          2,
          1.9,
          2.4,
          2.4,
          2.1,
          2.4,
          2.9,
          1.9,
          1.9,
          2.4,
          1.7,
          5.9,
          2.1,
          2.1,
          2.6,
          3.6,
          1.4,
          1.9,
          1.9,
          2.1,
          1.9,
          1.4,
          2,
          1.4,
          1.6,
          1.7,
          1.5,
          1.7,
          2,
          2,
          2,
          2.5,
          2,
          2.2,
          2.2,
          1.4,
          1.65,
          2.2,
          1.5,
          2.05,
          1.8,
          1.6,
          1.8,
          2.05,
          2,
          3.6,
          2.8,
          1.7,
          2,
          2.1,
          1.6,
          2,
          2.2,
          2.2,
          0.9,
          0.9,
          1.8,
          2.4,
          2.4,
          2.1,
          2.3,
          1.8,
          2.8,
          1.9,
          2.2,
          2.5,
          1.8,
          2.1,
          1.8,
          4.1,
          2.6,
          2.5,
          2.4,
          2.5,
          1.8,
          6.2,
          2.2,
          2.2,
          1.7,
          2.2,
          8.9,
          3.3,
          1.4,
          1.7,
          1.8,
          1.7,
          1.8,
          1.8,
          1.4,
          2.4,
          2.3,
          2,
          2,
          4,
          3.9,
          2.4,
          4,
          1.8,
          1.8,
          1.9,
          2.4,
          2,
          2.4,
          2.4,
          2.2,
          2.2,
          2.8,
          1.5,
          8.1,
          1.8,
          2.7,
          8.1,
          2,
          2,
          6.4,
          6.4,
          8.3,
          1.4,
          8.3,
          1.8,
          2.4,
          1.8,
          1.8,
          4.7,
          1.6,
          1.5,
          1.5,
          1.9,
          2,
          2,
          2.2,
          5.5,
          2.5,
          5.5,
          1.5,
          2.1,
          1.5,
          2.1,
          2.1,
          1.7,
          2.1,
          2.2,
          2.1,
          1.9,
          2,
          3.3,
          2.1,
          1.4,
          2,
          1.5,
          1.6,
          4.3,
          2.5,
          2.5,
          2.5,
          2.1,
          2.5,
          2.5,
          1.8,
          1.4,
          1.9,
          2.2,
          1.7,
          1.7,
          2.9,
          2.7,
          3.3,
          1.9,
          1.7,
          1.8,
          5.5,
          1.7,
          1.7,
          2,
          2,
          3.7,
          2,
          1.7,
          2.5,
          2.4,
          1.8,
          2.3,
          2.5,
          1.8,
          6.2,
          2,
          2,
          2.8,
          2.5,
          2.2,
          2.1,
          2.2,
          2.2,
          1.75,
          2.1,
          2.8,
          2.2,
          2.3,
          1.4,
          2.3,
          1.7,
          1.7,
          1.9,
          2,
          2.5,
          2.8,
          2.3,
          1.6,
          2.2,
          2.1,
          1.7,
          1.7,
          2.2,
          5.6,
          2.4,
          2.1,
          2.4,
          2.4,
          1.65,
          2.5,
          1.6,
          2.1,
          2,
          7.8,
          2,
          2.1,
          1.8,
          4.6,
          2.3,
          2.5,
          2.3,
          1.8,
          1.8,
          2.3,
          1.5,
          2,
          2.3,
          1.5,
          1.9,
          1.8,
          5.8,
          2.1,
          2.1,
          2.1,
          1.7,
          2.1,
          2,
          2.1,
          2.1,
          2.1,
          1.9,
          1.9,
          2.1,
          2,
          1.9,
          1.9,
          1.3,
          1.8,
          1.8,
          2.2,
          2.2,
          2.5,
          2.6,
          4.1,
          2,
          1.8,
          2.1,
          2.7,
          2.6,
          2.1,
          2.2,
          2.2,
          12.9,
          1.7,
          2.2,
          2.5,
          4.3,
          1.7,
          2.5,
          2,
          2.4,
          13.4,
          1.8,
          1.7,
          1.8,
          2.2,
          2.3,
          2.3,
          2.2,
          1.8,
          1.4,
          1.9,
          2.4,
          1.8,
          4.8,
          2.7,
          2.7,
          1.8,
          2,
          2.5,
          2.2,
          1.8,
          2.3,
          2.3,
          2.3,
          2,
          1.8,
          1.6,
          1.6,
          1.9,
          2,
          2.1,
          2.3,
          6.3,
          1.9,
          2.3,
          1.7,
          1.9,
          1.9,
          2,
          2.7,
          2.3,
          1.8,
          2.5,
          2.6,
          4.5,
          4.5,
          1.9,
          2.1,
          2.4,
          1.9,
          2.1,
          4.3,
          4.3,
          2.1,
          1.4,
          2.1,
          2.15,
          2,
          2.1,
          1.8,
          2.3,
          1.9,
          2.5,
          3.9,
          2.5,
          1.4,
          1.9,
          3,
          1.9,
          2.3,
          2.4,
          2,
          1.2,
          2.2,
          2,
          1.7,
          2.6,
          1.2,
          1.8,
          1.8,
          1.7,
          1.7,
          1.7,
          1.7,
          1.8,
          2.1,
          2.1,
          3.8,
          1.7,
          2.2,
          2,
          2.4,
          1.4,
          1.4,
          1.4,
          1.7,
          1.7,
          1.7,
          1.7,
          1.7,
          2.6,
          2.3,
          2.1,
          1.8,
          1.8,
          2.8,
          2,
          2.3,
          1.9,
          1.9,
          2.3,
          1.8,
          1.8,
          2.5,
          5.4,
          1.4,
          2.3,
          2.5,
          1.4,
          2,
          1.9,
          2.2,
          1.7,
          2.2,
          2.1,
          1.6,
          1.7,
          3.1,
          1.7,
          3.8,
          1.2,
          2,
          1.4,
          2.3,
          2,
          2.6,
          2.6,
          1.8,
          2.1,
          2.1,
          1.8,
          3.4,
          1.8,
          1.8,
          6.1,
          2.2,
          2.3,
          2.4,
          1.3,
          2,
          3.9,
          1.6,
          1.6,
          2,
          2.2,
          2.2,
          2.1,
          2.1,
          2,
          1.7,
          2.6,
          2,
          5.1,
          2.1,
          2.2,
          2.1,
          1.8,
          2.4,
          5.1,
          2,
          2.2,
          1.6,
          2.2,
          2.5,
          1.6,
          2.2,
          1.6,
          1.6,
          2.1,
          3.9,
          1.4,
          1.4,
          1.8,
          2.5,
          1.9,
          2.2,
          1.8,
          2.1,
          1.6,
          1.8,
          15.4,
          15.4,
          1.6,
          4.8,
          1.7,
          2.2,
          2,
          5.2,
          1.9,
          1.75,
          2.2,
          5.2,
          1.9,
          1.9,
          1.9,
          2,
          2,
          2.7,
          2,
          1.9,
          2.2,
          1.6,
          1.8,
          1.9,
          1.7,
          1.7,
          2.3,
          2.1,
          2.3,
          2.4,
          1.7,
          1.7,
          2.1,
          2.3,
          2.1,
          2.1,
          1.4,
          3.75,
          2.6,
          1.8,
          13.8,
          2.2,
          13.8,
          2.2,
          5.7,
          3,
          1.5,
          3,
          2.1,
          1.5,
          2,
          2.1,
          2.1,
          1.9,
          1.7,
          2.1,
          1.8,
          1.7,
          1.6,
          1.9,
          1.4,
          1.9,
          1.9,
          2.3,
          2.3,
          2.3,
          1.5,
          4.3,
          2.4,
          2.5,
          2.3,
          1.8,
          2,
          2.3,
          2.1,
          1.8,
          2.2,
          2.1,
          2.2,
          1.8,
          4.1,
          4.1,
          2.3,
          2,
          2.2,
          2.6,
          2,
          1.9,
          2.3,
          2,
          2,
          2.1,
          2.2,
          1.7,
          2.2,
          2.1,
          2.2,
          2.8,
          2,
          1.9,
          2.4,
          2.2,
          1.9,
          1.9,
          2.5,
          1.8,
          4.4,
          2.2,
          1.9,
          2.2,
          2.3,
          1.8,
          2,
          1.6,
          2,
          1.8,
          2.3,
          2.3,
          3.7,
          2.2,
          2.4,
          1.7,
          2.2,
          2.4,
          6.7,
          2,
          2,
          2,
          2,
          2,
          2,
          1.9,
          2.1,
          2,
          1.6,
          1.9,
          2.2,
          2.2,
          2.2,
          2.4,
          13.9,
          2.2,
          1.6,
          5.1,
          1.8,
          1.7,
          2.4,
          1.7,
          2.6,
          2.1,
          2.4,
          2.6,
          2.4,
          1.8,
          2.5,
          7.8,
          1.8,
          1.7,
          2.3,
          1.9,
          2,
          2.2,
          2.3,
          2,
          3.6
         ],
         "xaxis": "x",
         "yaxis": "y"
        }
       ],
       "layout": {
        "barmode": "relative",
        "legend": {
         "tracegroupgap": 0
        },
        "margin": {
         "t": 60
        },
        "template": {
         "data": {
          "bar": [
           {
            "error_x": {
             "color": "#2a3f5f"
            },
            "error_y": {
             "color": "#2a3f5f"
            },
            "marker": {
             "line": {
              "color": "#E5ECF6",
              "width": 0.5
             }
            },
            "type": "bar"
           }
          ],
          "barpolar": [
           {
            "marker": {
             "line": {
              "color": "#E5ECF6",
              "width": 0.5
             }
            },
            "type": "barpolar"
           }
          ],
          "carpet": [
           {
            "aaxis": {
             "endlinecolor": "#2a3f5f",
             "gridcolor": "white",
             "linecolor": "white",
             "minorgridcolor": "white",
             "startlinecolor": "#2a3f5f"
            },
            "baxis": {
             "endlinecolor": "#2a3f5f",
             "gridcolor": "white",
             "linecolor": "white",
             "minorgridcolor": "white",
             "startlinecolor": "#2a3f5f"
            },
            "type": "carpet"
           }
          ],
          "choropleth": [
           {
            "colorbar": {
             "outlinewidth": 0,
             "ticks": ""
            },
            "type": "choropleth"
           }
          ],
          "contour": [
           {
            "colorbar": {
             "outlinewidth": 0,
             "ticks": ""
            },
            "colorscale": [
             [
              0,
              "#0d0887"
             ],
             [
              0.1111111111111111,
              "#46039f"
             ],
             [
              0.2222222222222222,
              "#7201a8"
             ],
             [
              0.3333333333333333,
              "#9c179e"
             ],
             [
              0.4444444444444444,
              "#bd3786"
             ],
             [
              0.5555555555555556,
              "#d8576b"
             ],
             [
              0.6666666666666666,
              "#ed7953"
             ],
             [
              0.7777777777777778,
              "#fb9f3a"
             ],
             [
              0.8888888888888888,
              "#fdca26"
             ],
             [
              1,
              "#f0f921"
             ]
            ],
            "type": "contour"
           }
          ],
          "contourcarpet": [
           {
            "colorbar": {
             "outlinewidth": 0,
             "ticks": ""
            },
            "type": "contourcarpet"
           }
          ],
          "heatmap": [
           {
            "colorbar": {
             "outlinewidth": 0,
             "ticks": ""
            },
            "colorscale": [
             [
              0,
              "#0d0887"
             ],
             [
              0.1111111111111111,
              "#46039f"
             ],
             [
              0.2222222222222222,
              "#7201a8"
             ],
             [
              0.3333333333333333,
              "#9c179e"
             ],
             [
              0.4444444444444444,
              "#bd3786"
             ],
             [
              0.5555555555555556,
              "#d8576b"
             ],
             [
              0.6666666666666666,
              "#ed7953"
             ],
             [
              0.7777777777777778,
              "#fb9f3a"
             ],
             [
              0.8888888888888888,
              "#fdca26"
             ],
             [
              1,
              "#f0f921"
             ]
            ],
            "type": "heatmap"
           }
          ],
          "heatmapgl": [
           {
            "colorbar": {
             "outlinewidth": 0,
             "ticks": ""
            },
            "colorscale": [
             [
              0,
              "#0d0887"
             ],
             [
              0.1111111111111111,
              "#46039f"
             ],
             [
              0.2222222222222222,
              "#7201a8"
             ],
             [
              0.3333333333333333,
              "#9c179e"
             ],
             [
              0.4444444444444444,
              "#bd3786"
             ],
             [
              0.5555555555555556,
              "#d8576b"
             ],
             [
              0.6666666666666666,
              "#ed7953"
             ],
             [
              0.7777777777777778,
              "#fb9f3a"
             ],
             [
              0.8888888888888888,
              "#fdca26"
             ],
             [
              1,
              "#f0f921"
             ]
            ],
            "type": "heatmapgl"
           }
          ],
          "histogram": [
           {
            "marker": {
             "colorbar": {
              "outlinewidth": 0,
              "ticks": ""
             }
            },
            "type": "histogram"
           }
          ],
          "histogram2d": [
           {
            "colorbar": {
             "outlinewidth": 0,
             "ticks": ""
            },
            "colorscale": [
             [
              0,
              "#0d0887"
             ],
             [
              0.1111111111111111,
              "#46039f"
             ],
             [
              0.2222222222222222,
              "#7201a8"
             ],
             [
              0.3333333333333333,
              "#9c179e"
             ],
             [
              0.4444444444444444,
              "#bd3786"
             ],
             [
              0.5555555555555556,
              "#d8576b"
             ],
             [
              0.6666666666666666,
              "#ed7953"
             ],
             [
              0.7777777777777778,
              "#fb9f3a"
             ],
             [
              0.8888888888888888,
              "#fdca26"
             ],
             [
              1,
              "#f0f921"
             ]
            ],
            "type": "histogram2d"
           }
          ],
          "histogram2dcontour": [
           {
            "colorbar": {
             "outlinewidth": 0,
             "ticks": ""
            },
            "colorscale": [
             [
              0,
              "#0d0887"
             ],
             [
              0.1111111111111111,
              "#46039f"
             ],
             [
              0.2222222222222222,
              "#7201a8"
             ],
             [
              0.3333333333333333,
              "#9c179e"
             ],
             [
              0.4444444444444444,
              "#bd3786"
             ],
             [
              0.5555555555555556,
              "#d8576b"
             ],
             [
              0.6666666666666666,
              "#ed7953"
             ],
             [
              0.7777777777777778,
              "#fb9f3a"
             ],
             [
              0.8888888888888888,
              "#fdca26"
             ],
             [
              1,
              "#f0f921"
             ]
            ],
            "type": "histogram2dcontour"
           }
          ],
          "mesh3d": [
           {
            "colorbar": {
             "outlinewidth": 0,
             "ticks": ""
            },
            "type": "mesh3d"
           }
          ],
          "parcoords": [
           {
            "line": {
             "colorbar": {
              "outlinewidth": 0,
              "ticks": ""
             }
            },
            "type": "parcoords"
           }
          ],
          "pie": [
           {
            "automargin": true,
            "type": "pie"
           }
          ],
          "scatter": [
           {
            "marker": {
             "colorbar": {
              "outlinewidth": 0,
              "ticks": ""
             }
            },
            "type": "scatter"
           }
          ],
          "scatter3d": [
           {
            "line": {
             "colorbar": {
              "outlinewidth": 0,
              "ticks": ""
             }
            },
            "marker": {
             "colorbar": {
              "outlinewidth": 0,
              "ticks": ""
             }
            },
            "type": "scatter3d"
           }
          ],
          "scattercarpet": [
           {
            "marker": {
             "colorbar": {
              "outlinewidth": 0,
              "ticks": ""
             }
            },
            "type": "scattercarpet"
           }
          ],
          "scattergeo": [
           {
            "marker": {
             "colorbar": {
              "outlinewidth": 0,
              "ticks": ""
             }
            },
            "type": "scattergeo"
           }
          ],
          "scattergl": [
           {
            "marker": {
             "colorbar": {
              "outlinewidth": 0,
              "ticks": ""
             }
            },
            "type": "scattergl"
           }
          ],
          "scattermapbox": [
           {
            "marker": {
             "colorbar": {
              "outlinewidth": 0,
              "ticks": ""
             }
            },
            "type": "scattermapbox"
           }
          ],
          "scatterpolar": [
           {
            "marker": {
             "colorbar": {
              "outlinewidth": 0,
              "ticks": ""
             }
            },
            "type": "scatterpolar"
           }
          ],
          "scatterpolargl": [
           {
            "marker": {
             "colorbar": {
              "outlinewidth": 0,
              "ticks": ""
             }
            },
            "type": "scatterpolargl"
           }
          ],
          "scatterternary": [
           {
            "marker": {
             "colorbar": {
              "outlinewidth": 0,
              "ticks": ""
             }
            },
            "type": "scatterternary"
           }
          ],
          "surface": [
           {
            "colorbar": {
             "outlinewidth": 0,
             "ticks": ""
            },
            "colorscale": [
             [
              0,
              "#0d0887"
             ],
             [
              0.1111111111111111,
              "#46039f"
             ],
             [
              0.2222222222222222,
              "#7201a8"
             ],
             [
              0.3333333333333333,
              "#9c179e"
             ],
             [
              0.4444444444444444,
              "#bd3786"
             ],
             [
              0.5555555555555556,
              "#d8576b"
             ],
             [
              0.6666666666666666,
              "#ed7953"
             ],
             [
              0.7777777777777778,
              "#fb9f3a"
             ],
             [
              0.8888888888888888,
              "#fdca26"
             ],
             [
              1,
              "#f0f921"
             ]
            ],
            "type": "surface"
           }
          ],
          "table": [
           {
            "cells": {
             "fill": {
              "color": "#EBF0F8"
             },
             "line": {
              "color": "white"
             }
            },
            "header": {
             "fill": {
              "color": "#C8D4E3"
             },
             "line": {
              "color": "white"
             }
            },
            "type": "table"
           }
          ]
         },
         "layout": {
          "annotationdefaults": {
           "arrowcolor": "#2a3f5f",
           "arrowhead": 0,
           "arrowwidth": 1
          },
          "coloraxis": {
           "colorbar": {
            "outlinewidth": 0,
            "ticks": ""
           }
          },
          "colorscale": {
           "diverging": [
            [
             0,
             "#8e0152"
            ],
            [
             0.1,
             "#c51b7d"
            ],
            [
             0.2,
             "#de77ae"
            ],
            [
             0.3,
             "#f1b6da"
            ],
            [
             0.4,
             "#fde0ef"
            ],
            [
             0.5,
             "#f7f7f7"
            ],
            [
             0.6,
             "#e6f5d0"
            ],
            [
             0.7,
             "#b8e186"
            ],
            [
             0.8,
             "#7fbc41"
            ],
            [
             0.9,
             "#4d9221"
            ],
            [
             1,
             "#276419"
            ]
           ],
           "sequential": [
            [
             0,
             "#0d0887"
            ],
            [
             0.1111111111111111,
             "#46039f"
            ],
            [
             0.2222222222222222,
             "#7201a8"
            ],
            [
             0.3333333333333333,
             "#9c179e"
            ],
            [
             0.4444444444444444,
             "#bd3786"
            ],
            [
             0.5555555555555556,
             "#d8576b"
            ],
            [
             0.6666666666666666,
             "#ed7953"
            ],
            [
             0.7777777777777778,
             "#fb9f3a"
            ],
            [
             0.8888888888888888,
             "#fdca26"
            ],
            [
             1,
             "#f0f921"
            ]
           ],
           "sequentialminus": [
            [
             0,
             "#0d0887"
            ],
            [
             0.1111111111111111,
             "#46039f"
            ],
            [
             0.2222222222222222,
             "#7201a8"
            ],
            [
             0.3333333333333333,
             "#9c179e"
            ],
            [
             0.4444444444444444,
             "#bd3786"
            ],
            [
             0.5555555555555556,
             "#d8576b"
            ],
            [
             0.6666666666666666,
             "#ed7953"
            ],
            [
             0.7777777777777778,
             "#fb9f3a"
            ],
            [
             0.8888888888888888,
             "#fdca26"
            ],
            [
             1,
             "#f0f921"
            ]
           ]
          },
          "colorway": [
           "#636efa",
           "#EF553B",
           "#00cc96",
           "#ab63fa",
           "#FFA15A",
           "#19d3f3",
           "#FF6692",
           "#B6E880",
           "#FF97FF",
           "#FECB52"
          ],
          "font": {
           "color": "#2a3f5f"
          },
          "geo": {
           "bgcolor": "white",
           "lakecolor": "white",
           "landcolor": "#E5ECF6",
           "showlakes": true,
           "showland": true,
           "subunitcolor": "white"
          },
          "hoverlabel": {
           "align": "left"
          },
          "hovermode": "closest",
          "mapbox": {
           "style": "light"
          },
          "paper_bgcolor": "white",
          "plot_bgcolor": "#E5ECF6",
          "polar": {
           "angularaxis": {
            "gridcolor": "white",
            "linecolor": "white",
            "ticks": ""
           },
           "bgcolor": "#E5ECF6",
           "radialaxis": {
            "gridcolor": "white",
            "linecolor": "white",
            "ticks": ""
           }
          },
          "scene": {
           "xaxis": {
            "backgroundcolor": "#E5ECF6",
            "gridcolor": "white",
            "gridwidth": 2,
            "linecolor": "white",
            "showbackground": true,
            "ticks": "",
            "zerolinecolor": "white"
           },
           "yaxis": {
            "backgroundcolor": "#E5ECF6",
            "gridcolor": "white",
            "gridwidth": 2,
            "linecolor": "white",
            "showbackground": true,
            "ticks": "",
            "zerolinecolor": "white"
           },
           "zaxis": {
            "backgroundcolor": "#E5ECF6",
            "gridcolor": "white",
            "gridwidth": 2,
            "linecolor": "white",
            "showbackground": true,
            "ticks": "",
            "zerolinecolor": "white"
           }
          },
          "shapedefaults": {
           "line": {
            "color": "#2a3f5f"
           }
          },
          "ternary": {
           "aaxis": {
            "gridcolor": "white",
            "linecolor": "white",
            "ticks": ""
           },
           "baxis": {
            "gridcolor": "white",
            "linecolor": "white",
            "ticks": ""
           },
           "bgcolor": "#E5ECF6",
           "caxis": {
            "gridcolor": "white",
            "linecolor": "white",
            "ticks": ""
           }
          },
          "title": {
           "x": 0.05
          },
          "xaxis": {
           "automargin": true,
           "gridcolor": "white",
           "linecolor": "white",
           "ticks": "",
           "title": {
            "standoff": 15
           },
           "zerolinecolor": "white",
           "zerolinewidth": 2
          },
          "yaxis": {
           "automargin": true,
           "gridcolor": "white",
           "linecolor": "white",
           "ticks": "",
           "title": {
            "standoff": 15
           },
           "zerolinecolor": "white",
           "zerolinewidth": 2
          }
         }
        },
        "xaxis": {
         "anchor": "y",
         "domain": [
          0,
          1
         ],
         "title": {
          "text": "residual sugar"
         }
        },
        "yaxis": {
         "anchor": "x",
         "domain": [
          0,
          1
         ],
         "title": {
          "text": "count"
         }
        }
       }
      },
      "text/html": [
       "<div>                            <div id=\"5df7501a-a064-4d3b-949c-1df09d4c0e17\" class=\"plotly-graph-div\" style=\"height:525px; width:100%;\"></div>            <script type=\"text/javascript\">                require([\"plotly\"], function(Plotly) {                    window.PLOTLYENV=window.PLOTLYENV || {};                                    if (document.getElementById(\"5df7501a-a064-4d3b-949c-1df09d4c0e17\")) {                    Plotly.newPlot(                        \"5df7501a-a064-4d3b-949c-1df09d4c0e17\",                        [{\"alignmentgroup\": \"True\", \"bingroup\": \"x\", \"hovertemplate\": \"residual sugar=%{x}<br>count=%{y}<extra></extra>\", \"legendgroup\": \"\", \"marker\": {\"color\": \"#636efa\"}, \"name\": \"\", \"offsetgroup\": \"\", \"orientation\": \"v\", \"showlegend\": false, \"type\": \"histogram\", \"x\": [1.9, 2.6, 2.3, 1.9, 1.9, 1.8, 1.6, 1.2, 2.0, 6.1, 1.8, 6.1, 1.6, 1.6, 3.8, 3.9, 1.8, 1.7, 4.4, 1.8, 1.8, 2.3, 1.6, 2.3, 2.4, 1.4, 1.8, 1.6, 1.9, 2.0, 2.4, 2.5, 2.3, 10.7, 1.8, 5.5, 2.4, 2.1, 1.5, 5.9, 5.9, 2.8, 2.6, 2.2, 1.8, 2.1, 2.2, 1.6, 1.6, 1.4, 1.7, 2.2, 2.1, 3.0, 2.8, 3.8, 3.4, 5.1, 2.3, 2.4, 2.2, 1.8, 1.9, 2.0, 4.65, 4.65, 1.5, 1.6, 2.0, 1.9, 1.9, 2.1, 1.9, 2.1, 2.5, 2.2, 2.2, 2.4, 2.0, 1.5, 1.6, 1.9, 2.0, 1.8, 1.8, 2.2, 1.9, 1.9, 2.1, 1.8, 1.9, 1.9, 2.0, 1.9, 1.4, 2.3, 3.0, 2.0, 2.5, 1.9, 2.1, 1.9, 1.9, 2.1, 2.2, 2.1, 1.7, 1.7, 2.5, 2.0, 1.8, 2.2, 2.2, 2.3, 1.8, 2.2, 1.9, 2.0, 2.2, 1.8, 1.7, 2.2, 2.5, 2.6, 1.6, 1.9, 1.7, 1.8, 1.8, 1.8, 2.0, 2.3, 2.3, 1.5, 2.2, 1.9, 1.8, 2.0, 2.1, 2.0, 1.9, 1.8, 1.8, 1.7, 1.8, 1.8, 1.8, 1.6, 2.3, 2.8, 2.1, 3.4, 1.8, 1.8, 5.5, 5.5, 5.5, 5.5, 2.2, 1.9, 2.0, 1.3, 1.7, 7.3, 7.2, 1.7, 2.1, 1.6, 2.1, 1.8, 1.8, 2.0, 2.0, 1.9, 2.0, 1.5, 2.0, 2.3, 2.5, 2.4, 2.4, 2.0, 2.5, 1.8, 1.9, 2.0, 2.0, 2.6, 2.0, 1.9, 2.9, 1.9, 3.8, 2.2, 2.2, 2.0, 2.4, 2.0, 1.2, 2.1, 1.4, 2.1, 1.5, 1.6, 1.6, 2.6, 2.6, 1.8, 2.7, 2.1, 2.0, 2.8, 2.1, 2.2, 2.4, 5.6, 2.0, 2.2, 1.9, 2.4, 2.0, 2.0, 1.5, 2.0, 2.0, 2.6, 2.0, 2.6, 2.6, 2.6, 1.6, 1.8, 2.8, 2.6, 2.3, 1.9, 1.9, 1.9, 1.9, 2.3, 1.7, 2.1, 1.8, 2.2, 2.2, 2.0, 1.9, 2.3, 1.7, 2.0, 1.6, 1.8, 3.1, 1.9, 1.8, 3.2, 2.2, 2.1, 1.8, 2.6, 1.7, 2.0, 1.7, 1.8, 2.4, 1.8, 3.3, 3.6, 3.0, 4.0, 4.0, 4.0, 4.0, 2.4, 7.0, 4.0, 3.0, 4.0, 6.4, 5.6, 3.6, 3.5, 3.0, 5.6, 3.4, 3.4, 2.0, 3.0, 2.5, 3.3, 2.5, 2.0, 2.7, 2.4, 3.2, 2.5, 2.6, 2.0, 2.3, 2.1, 2.6, 1.5, 2.6, 1.6, 2.1, 2.5, 2.2, 2.4, 2.4, 1.7, 2.5, 2.0, 2.8, 3.0, 2.6, 2.5, 3.4, 2.9, 3.2, 2.9, 3.2, 3.4, 2.3, 2.8, 11.0, 11.0, 3.65, 4.5, 2.6, 2.0, 2.9, 2.9, 3.2, 2.1, 2.5, 3.4, 1.9, 2.8, 3.0, 2.3, 2.4, 2.7, 1.8, 1.8, 2.6, 1.9, 2.7, 3.0, 2.8, 2.6, 2.7, 2.6, 2.4, 4.8, 1.4, 2.4, 3.0, 2.95, 3.1, 2.6, 2.0, 2.6, 2.5, 2.0, 5.8, 3.4, 5.8, 2.6, 2.8, 2.4, 2.3, 1.6, 1.8, 2.2, 3.8, 4.4, 3.0, 2.4, 6.2, 2.5, 2.0, 2.9, 2.0, 2.0, 2.1, 2.4, 2.0, 1.9, 1.9, 2.5, 1.4, 2.9, 2.0, 2.0, 2.3, 4.2, 7.9, 2.6, 2.6, 2.3, 7.9, 1.7, 2.6, 2.7, 2.7, 1.4, 2.5, 3.0, 3.7, 4.5, 2.5, 2.4, 1.9, 6.7, 2.7, 6.6, 2.2, 1.9, 2.0, 1.8, 2.4, 2.3, 2.0, 2.1, 2.0, 2.3, 2.1, 1.9, 1.3, 2.4, 2.1, 2.2, 2.3, 2.3, 3.2, 2.3, 2.0, 3.2, 3.2, 1.5, 2.2, 2.15, 3.7, 2.7, 1.7, 2.1, 2.6, 2.1, 2.0, 2.8, 2.8, 1.8, 1.7, 2.8, 1.6, 5.2, 2.3, 2.7, 2.8, 2.2, 2.3, 2.6, 2.55, 2.2, 2.1, 2.9, 2.0, 2.6, 2.1, 1.2, 2.6, 2.4, 2.6, 2.1, 1.7, 2.2, 2.0, 1.8, 2.2, 2.7, 15.5, 2.8, 2.2, 2.2, 4.1, 1.9, 1.9, 1.8, 2.8, 2.6, 2.8, 2.5, 2.6, 3.0, 8.3, 2.6, 1.9, 2.5, 2.6, 3.0, 1.9, 6.55, 6.55, 1.9, 1.8, 2.9, 1.8, 2.3, 2.2, 2.8, 4.6, 2.2, 2.1, 2.4, 2.4, 6.1, 4.3, 2.1, 2.8, 2.5, 2.7, 2.0, 2.3, 2.5, 2.4, 2.8, 2.5, 2.5, 2.6, 2.4, 2.1, 2.7, 2.7, 2.1, 2.7, 2.1, 2.4, 2.1, 5.8, 5.15, 3.3, 6.3, 2.1, 2.5, 1.8, 2.6, 2.0, 2.5, 2.6, 1.9, 2.1, 2.8, 2.7, 1.6, 4.2, 4.2, 4.6, 4.2, 4.6, 4.3, 2.8, 2.4, 2.9, 2.7, 4.3, 2.8, 2.5, 2.5, 2.6, 2.2, 3.3, 2.2, 2.4, 2.1, 3.2, 3.1, 2.3, 2.8, 2.9, 2.2, 2.2, 2.2, 2.2, 1.9, 3.4, 2.4, 2.7, 1.9, 2.0, 2.6, 2.6, 1.7, 2.6, 3.5, 2.6, 7.9, 2.0, 1.9, 2.1, 2.3, 2.1, 2.2, 2.6, 2.2, 2.9, 2.6, 4.6, 3.3, 5.1, 3.2, 2.5, 2.7, 2.4, 1.5, 2.2, 2.3, 2.3, 2.2, 2.7, 2.3, 3.4, 3.4, 1.9, 2.9, 5.6, 5.6, 2.2, 2.2, 2.5, 2.3, 2.5, 2.7, 3.0, 3.4, 1.9, 1.4, 2.4, 2.3, 2.2, 1.9, 2.3, 2.3, 2.3, 2.3, 2.3, 6.0, 3.6, 2.2, 2.8, 8.6, 2.2, 2.5, 7.5, 2.8, 2.4, 2.9, 2.2, 1.4, 1.4, 4.4, 1.4, 1.6, 1.6, 1.8, 2.0, 2.0, 1.8, 2.0, 2.3, 2.0, 2.5, 1.7, 2.0, 1.7, 2.2, 2.2, 2.2, 2.3, 2.6, 3.3, 1.9, 2.2, 2.25, 2.6, 2.3, 2.6, 1.8, 3.1, 1.6, 1.8, 4.25, 2.6, 2.0, 2.8, 2.7, 1.3, 2.1, 2.1, 3.2, 2.1, 2.9, 2.1, 2.1, 2.6, 1.6, 6.0, 2.0, 3.0, 2.5, 1.6, 2.8, 3.0, 3.2, 2.3, 2.6, 2.7, 2.3, 2.6, 2.0, 3.9, 2.0, 2.85, 2.7, 2.2, 3.1, 3.0, 2.8, 1.8, 1.8, 3.2, 2.3, 3.45, 2.1, 2.7, 2.0, 2.1, 2.1, 2.5, 2.8, 2.4, 4.2, 2.6, 1.9, 2.8, 2.7, 2.1, 2.5, 2.6, 2.1, 2.1, 2.9, 2.9, 2.5, 2.9, 1.7, 1.9, 2.0, 2.2, 2.2, 2.5, 2.8, 2.0, 1.7, 2.0, 2.8, 3.0, 2.9, 2.7, 2.3, 1.9, 2.3, 2.4, 2.3, 1.8, 1.8, 3.0, 2.4, 2.4, 3.4, 2.6, 2.0, 2.4, 2.4, 2.4, 2.5, 2.3, 2.3, 2.2, 2.2, 2.9, 2.6, 2.9, 2.5, 2.6, 2.3, 2.6, 2.5, 1.6, 3.6, 3.6, 4.0, 3.3, 1.7, 2.5, 2.7, 2.4, 2.0, 2.4, 1.9, 2.8, 2.6, 2.8, 2.5, 2.1, 2.8, 2.5, 3.2, 1.6, 2.35, 3.2, 1.9, 2.1, 2.0, 2.0, 2.8, 2.8, 2.3, 2.8, 2.3, 2.1, 2.5, 2.1, 1.5, 1.6, 1.6, 1.5, 2.4, 2.4, 1.6, 2.2, 2.65, 3.0, 2.6, 2.0, 1.7, 1.8, 1.8, 1.8, 1.8, 1.6, 1.9, 1.9, 2.5, 1.5, 1.5, 2.5, 1.5, 2.5, 1.7, 1.8, 2.7, 2.0, 2.7, 2.5, 2.7, 2.6, 2.3, 2.0, 1.8, 2.0, 2.1, 1.5, 2.0, 1.6, 2.1, 2.8, 2.2, 2.1, 4.0, 2.5, 1.6, 2.1, 3.1, 2.5, 4.0, 2.5, 2.4, 2.6, 2.5, 6.6, 2.0, 2.3, 1.9, 2.3, 2.2, 2.3, 2.4, 2.3, 2.4, 3.4, 2.6, 2.4, 2.4, 6.0, 6.0, 3.0, 2.6, 2.2, 2.4, 1.2, 3.8, 9.0, 2.9, 4.6, 1.2, 2.2, 1.5, 8.8, 2.2, 1.8, 2.3, 2.2, 1.8, 8.8, 2.3, 1.9, 2.3, 2.2, 2.3, 3.3, 1.9, 2.0, 1.9, 2.0, 1.9, 2.3, 2.3, 1.4, 2.8, 1.6, 2.2, 5.0, 2.6, 2.3, 3.8, 2.0, 4.1, 2.1, 1.8, 1.8, 1.8, 2.1, 2.2, 2.1, 2.7, 1.9, 2.1, 2.0, 2.3, 2.0, 1.9, 1.6, 2.1, 2.0, 1.9, 2.4, 2.4, 2.1, 2.4, 2.9, 1.9, 1.9, 2.4, 1.7, 5.9, 2.1, 2.1, 2.6, 3.6, 1.4, 1.9, 1.9, 2.1, 1.9, 1.4, 2.0, 1.4, 1.6, 1.7, 1.5, 1.7, 2.0, 2.0, 2.0, 2.5, 2.0, 2.2, 2.2, 1.4, 1.65, 2.2, 1.5, 2.05, 1.8, 1.6, 1.8, 2.05, 2.0, 3.6, 2.8, 1.7, 2.0, 2.1, 1.6, 2.0, 2.2, 2.2, 0.9, 0.9, 1.8, 2.4, 2.4, 2.1, 2.3, 1.8, 2.8, 1.9, 2.2, 2.5, 1.8, 2.1, 1.8, 4.1, 2.6, 2.5, 2.4, 2.5, 1.8, 6.2, 2.2, 2.2, 1.7, 2.2, 8.9, 3.3, 1.4, 1.7, 1.8, 1.7, 1.8, 1.8, 1.4, 2.4, 2.3, 2.0, 2.0, 4.0, 3.9, 2.4, 4.0, 1.8, 1.8, 1.9, 2.4, 2.0, 2.4, 2.4, 2.2, 2.2, 2.8, 1.5, 8.1, 1.8, 2.7, 8.1, 2.0, 2.0, 6.4, 6.4, 8.3, 1.4, 8.3, 1.8, 2.4, 1.8, 1.8, 4.7, 1.6, 1.5, 1.5, 1.9, 2.0, 2.0, 2.2, 5.5, 2.5, 5.5, 1.5, 2.1, 1.5, 2.1, 2.1, 1.7, 2.1, 2.2, 2.1, 1.9, 2.0, 3.3, 2.1, 1.4, 2.0, 1.5, 1.6, 4.3, 2.5, 2.5, 2.5, 2.1, 2.5, 2.5, 1.8, 1.4, 1.9, 2.2, 1.7, 1.7, 2.9, 2.7, 3.3, 1.9, 1.7, 1.8, 5.5, 1.7, 1.7, 2.0, 2.0, 3.7, 2.0, 1.7, 2.5, 2.4, 1.8, 2.3, 2.5, 1.8, 6.2, 2.0, 2.0, 2.8, 2.5, 2.2, 2.1, 2.2, 2.2, 1.75, 2.1, 2.8, 2.2, 2.3, 1.4, 2.3, 1.7, 1.7, 1.9, 2.0, 2.5, 2.8, 2.3, 1.6, 2.2, 2.1, 1.7, 1.7, 2.2, 5.6, 2.4, 2.1, 2.4, 2.4, 1.65, 2.5, 1.6, 2.1, 2.0, 7.8, 2.0, 2.1, 1.8, 4.6, 2.3, 2.5, 2.3, 1.8, 1.8, 2.3, 1.5, 2.0, 2.3, 1.5, 1.9, 1.8, 5.8, 2.1, 2.1, 2.1, 1.7, 2.1, 2.0, 2.1, 2.1, 2.1, 1.9, 1.9, 2.1, 2.0, 1.9, 1.9, 1.3, 1.8, 1.8, 2.2, 2.2, 2.5, 2.6, 4.1, 2.0, 1.8, 2.1, 2.7, 2.6, 2.1, 2.2, 2.2, 12.9, 1.7, 2.2, 2.5, 4.3, 1.7, 2.5, 2.0, 2.4, 13.4, 1.8, 1.7, 1.8, 2.2, 2.3, 2.3, 2.2, 1.8, 1.4, 1.9, 2.4, 1.8, 4.8, 2.7, 2.7, 1.8, 2.0, 2.5, 2.2, 1.8, 2.3, 2.3, 2.3, 2.0, 1.8, 1.6, 1.6, 1.9, 2.0, 2.1, 2.3, 6.3, 1.9, 2.3, 1.7, 1.9, 1.9, 2.0, 2.7, 2.3, 1.8, 2.5, 2.6, 4.5, 4.5, 1.9, 2.1, 2.4, 1.9, 2.1, 4.3, 4.3, 2.1, 1.4, 2.1, 2.15, 2.0, 2.1, 1.8, 2.3, 1.9, 2.5, 3.9, 2.5, 1.4, 1.9, 3.0, 1.9, 2.3, 2.4, 2.0, 1.2, 2.2, 2.0, 1.7, 2.6, 1.2, 1.8, 1.8, 1.7, 1.7, 1.7, 1.7, 1.8, 2.1, 2.1, 3.8, 1.7, 2.2, 2.0, 2.4, 1.4, 1.4, 1.4, 1.7, 1.7, 1.7, 1.7, 1.7, 2.6, 2.3, 2.1, 1.8, 1.8, 2.8, 2.0, 2.3, 1.9, 1.9, 2.3, 1.8, 1.8, 2.5, 5.4, 1.4, 2.3, 2.5, 1.4, 2.0, 1.9, 2.2, 1.7, 2.2, 2.1, 1.6, 1.7, 3.1, 1.7, 3.8, 1.2, 2.0, 1.4, 2.3, 2.0, 2.6, 2.6, 1.8, 2.1, 2.1, 1.8, 3.4, 1.8, 1.8, 6.1, 2.2, 2.3, 2.4, 1.3, 2.0, 3.9, 1.6, 1.6, 2.0, 2.2, 2.2, 2.1, 2.1, 2.0, 1.7, 2.6, 2.0, 5.1, 2.1, 2.2, 2.1, 1.8, 2.4, 5.1, 2.0, 2.2, 1.6, 2.2, 2.5, 1.6, 2.2, 1.6, 1.6, 2.1, 3.9, 1.4, 1.4, 1.8, 2.5, 1.9, 2.2, 1.8, 2.1, 1.6, 1.8, 15.4, 15.4, 1.6, 4.8, 1.7, 2.2, 2.0, 5.2, 1.9, 1.75, 2.2, 5.2, 1.9, 1.9, 1.9, 2.0, 2.0, 2.7, 2.0, 1.9, 2.2, 1.6, 1.8, 1.9, 1.7, 1.7, 2.3, 2.1, 2.3, 2.4, 1.7, 1.7, 2.1, 2.3, 2.1, 2.1, 1.4, 3.75, 2.6, 1.8, 13.8, 2.2, 13.8, 2.2, 5.7, 3.0, 1.5, 3.0, 2.1, 1.5, 2.0, 2.1, 2.1, 1.9, 1.7, 2.1, 1.8, 1.7, 1.6, 1.9, 1.4, 1.9, 1.9, 2.3, 2.3, 2.3, 1.5, 4.3, 2.4, 2.5, 2.3, 1.8, 2.0, 2.3, 2.1, 1.8, 2.2, 2.1, 2.2, 1.8, 4.1, 4.1, 2.3, 2.0, 2.2, 2.6, 2.0, 1.9, 2.3, 2.0, 2.0, 2.1, 2.2, 1.7, 2.2, 2.1, 2.2, 2.8, 2.0, 1.9, 2.4, 2.2, 1.9, 1.9, 2.5, 1.8, 4.4, 2.2, 1.9, 2.2, 2.3, 1.8, 2.0, 1.6, 2.0, 1.8, 2.3, 2.3, 3.7, 2.2, 2.4, 1.7, 2.2, 2.4, 6.7, 2.0, 2.0, 2.0, 2.0, 2.0, 2.0, 1.9, 2.1, 2.0, 1.6, 1.9, 2.2, 2.2, 2.2, 2.4, 13.9, 2.2, 1.6, 5.1, 1.8, 1.7, 2.4, 1.7, 2.6, 2.1, 2.4, 2.6, 2.4, 1.8, 2.5, 7.8, 1.8, 1.7, 2.3, 1.9, 2.0, 2.2, 2.3, 2.0, 3.6], \"xaxis\": \"x\", \"yaxis\": \"y\"}],                        {\"barmode\": \"relative\", \"legend\": {\"tracegroupgap\": 0}, \"margin\": {\"t\": 60}, \"template\": {\"data\": {\"bar\": [{\"error_x\": {\"color\": \"#2a3f5f\"}, \"error_y\": {\"color\": \"#2a3f5f\"}, \"marker\": {\"line\": {\"color\": \"#E5ECF6\", \"width\": 0.5}}, \"type\": \"bar\"}], \"barpolar\": [{\"marker\": {\"line\": {\"color\": \"#E5ECF6\", \"width\": 0.5}}, \"type\": \"barpolar\"}], \"carpet\": [{\"aaxis\": {\"endlinecolor\": \"#2a3f5f\", \"gridcolor\": \"white\", \"linecolor\": \"white\", \"minorgridcolor\": \"white\", \"startlinecolor\": \"#2a3f5f\"}, \"baxis\": {\"endlinecolor\": \"#2a3f5f\", \"gridcolor\": \"white\", \"linecolor\": \"white\", \"minorgridcolor\": \"white\", \"startlinecolor\": \"#2a3f5f\"}, \"type\": \"carpet\"}], \"choropleth\": [{\"colorbar\": {\"outlinewidth\": 0, \"ticks\": \"\"}, \"type\": \"choropleth\"}], \"contour\": [{\"colorbar\": {\"outlinewidth\": 0, \"ticks\": \"\"}, \"colorscale\": [[0.0, \"#0d0887\"], [0.1111111111111111, \"#46039f\"], [0.2222222222222222, \"#7201a8\"], [0.3333333333333333, \"#9c179e\"], [0.4444444444444444, \"#bd3786\"], [0.5555555555555556, \"#d8576b\"], [0.6666666666666666, \"#ed7953\"], [0.7777777777777778, \"#fb9f3a\"], [0.8888888888888888, \"#fdca26\"], [1.0, \"#f0f921\"]], \"type\": \"contour\"}], \"contourcarpet\": [{\"colorbar\": {\"outlinewidth\": 0, \"ticks\": \"\"}, \"type\": \"contourcarpet\"}], \"heatmap\": [{\"colorbar\": {\"outlinewidth\": 0, \"ticks\": \"\"}, \"colorscale\": [[0.0, \"#0d0887\"], [0.1111111111111111, \"#46039f\"], [0.2222222222222222, \"#7201a8\"], [0.3333333333333333, \"#9c179e\"], [0.4444444444444444, \"#bd3786\"], [0.5555555555555556, \"#d8576b\"], [0.6666666666666666, \"#ed7953\"], [0.7777777777777778, \"#fb9f3a\"], [0.8888888888888888, \"#fdca26\"], [1.0, \"#f0f921\"]], \"type\": \"heatmap\"}], \"heatmapgl\": [{\"colorbar\": {\"outlinewidth\": 0, \"ticks\": \"\"}, \"colorscale\": [[0.0, \"#0d0887\"], [0.1111111111111111, \"#46039f\"], [0.2222222222222222, \"#7201a8\"], [0.3333333333333333, \"#9c179e\"], [0.4444444444444444, \"#bd3786\"], [0.5555555555555556, \"#d8576b\"], [0.6666666666666666, \"#ed7953\"], [0.7777777777777778, \"#fb9f3a\"], [0.8888888888888888, \"#fdca26\"], [1.0, \"#f0f921\"]], \"type\": \"heatmapgl\"}], \"histogram\": [{\"marker\": {\"colorbar\": {\"outlinewidth\": 0, \"ticks\": \"\"}}, \"type\": \"histogram\"}], \"histogram2d\": [{\"colorbar\": {\"outlinewidth\": 0, \"ticks\": \"\"}, \"colorscale\": [[0.0, \"#0d0887\"], [0.1111111111111111, \"#46039f\"], [0.2222222222222222, \"#7201a8\"], [0.3333333333333333, \"#9c179e\"], [0.4444444444444444, \"#bd3786\"], [0.5555555555555556, \"#d8576b\"], [0.6666666666666666, \"#ed7953\"], [0.7777777777777778, \"#fb9f3a\"], [0.8888888888888888, \"#fdca26\"], [1.0, \"#f0f921\"]], \"type\": \"histogram2d\"}], \"histogram2dcontour\": [{\"colorbar\": {\"outlinewidth\": 0, \"ticks\": \"\"}, \"colorscale\": [[0.0, \"#0d0887\"], [0.1111111111111111, \"#46039f\"], [0.2222222222222222, \"#7201a8\"], [0.3333333333333333, \"#9c179e\"], [0.4444444444444444, \"#bd3786\"], [0.5555555555555556, \"#d8576b\"], [0.6666666666666666, \"#ed7953\"], [0.7777777777777778, \"#fb9f3a\"], [0.8888888888888888, \"#fdca26\"], [1.0, \"#f0f921\"]], \"type\": \"histogram2dcontour\"}], \"mesh3d\": [{\"colorbar\": {\"outlinewidth\": 0, \"ticks\": \"\"}, \"type\": \"mesh3d\"}], \"parcoords\": [{\"line\": {\"colorbar\": {\"outlinewidth\": 0, \"ticks\": \"\"}}, \"type\": \"parcoords\"}], \"pie\": [{\"automargin\": true, \"type\": \"pie\"}], \"scatter\": [{\"marker\": {\"colorbar\": {\"outlinewidth\": 0, \"ticks\": \"\"}}, \"type\": \"scatter\"}], \"scatter3d\": [{\"line\": {\"colorbar\": {\"outlinewidth\": 0, \"ticks\": \"\"}}, \"marker\": {\"colorbar\": {\"outlinewidth\": 0, \"ticks\": \"\"}}, \"type\": \"scatter3d\"}], \"scattercarpet\": [{\"marker\": {\"colorbar\": {\"outlinewidth\": 0, \"ticks\": \"\"}}, \"type\": \"scattercarpet\"}], \"scattergeo\": [{\"marker\": {\"colorbar\": {\"outlinewidth\": 0, \"ticks\": \"\"}}, \"type\": \"scattergeo\"}], \"scattergl\": [{\"marker\": {\"colorbar\": {\"outlinewidth\": 0, \"ticks\": \"\"}}, \"type\": \"scattergl\"}], \"scattermapbox\": [{\"marker\": {\"colorbar\": {\"outlinewidth\": 0, \"ticks\": \"\"}}, \"type\": \"scattermapbox\"}], \"scatterpolar\": [{\"marker\": {\"colorbar\": {\"outlinewidth\": 0, \"ticks\": \"\"}}, \"type\": \"scatterpolar\"}], \"scatterpolargl\": [{\"marker\": {\"colorbar\": {\"outlinewidth\": 0, \"ticks\": \"\"}}, \"type\": \"scatterpolargl\"}], \"scatterternary\": [{\"marker\": {\"colorbar\": {\"outlinewidth\": 0, \"ticks\": \"\"}}, \"type\": \"scatterternary\"}], \"surface\": [{\"colorbar\": {\"outlinewidth\": 0, \"ticks\": \"\"}, \"colorscale\": [[0.0, \"#0d0887\"], [0.1111111111111111, \"#46039f\"], [0.2222222222222222, \"#7201a8\"], [0.3333333333333333, \"#9c179e\"], [0.4444444444444444, \"#bd3786\"], [0.5555555555555556, \"#d8576b\"], [0.6666666666666666, \"#ed7953\"], [0.7777777777777778, \"#fb9f3a\"], [0.8888888888888888, \"#fdca26\"], [1.0, \"#f0f921\"]], \"type\": \"surface\"}], \"table\": [{\"cells\": {\"fill\": {\"color\": \"#EBF0F8\"}, \"line\": {\"color\": \"white\"}}, \"header\": {\"fill\": {\"color\": \"#C8D4E3\"}, \"line\": {\"color\": \"white\"}}, \"type\": \"table\"}]}, \"layout\": {\"annotationdefaults\": {\"arrowcolor\": \"#2a3f5f\", \"arrowhead\": 0, \"arrowwidth\": 1}, \"coloraxis\": {\"colorbar\": {\"outlinewidth\": 0, \"ticks\": \"\"}}, \"colorscale\": {\"diverging\": [[0, \"#8e0152\"], [0.1, \"#c51b7d\"], [0.2, \"#de77ae\"], [0.3, \"#f1b6da\"], [0.4, \"#fde0ef\"], [0.5, \"#f7f7f7\"], [0.6, \"#e6f5d0\"], [0.7, \"#b8e186\"], [0.8, \"#7fbc41\"], [0.9, \"#4d9221\"], [1, \"#276419\"]], \"sequential\": [[0.0, \"#0d0887\"], [0.1111111111111111, \"#46039f\"], [0.2222222222222222, \"#7201a8\"], [0.3333333333333333, \"#9c179e\"], [0.4444444444444444, \"#bd3786\"], [0.5555555555555556, \"#d8576b\"], [0.6666666666666666, \"#ed7953\"], [0.7777777777777778, \"#fb9f3a\"], [0.8888888888888888, \"#fdca26\"], [1.0, \"#f0f921\"]], \"sequentialminus\": [[0.0, \"#0d0887\"], [0.1111111111111111, \"#46039f\"], [0.2222222222222222, \"#7201a8\"], [0.3333333333333333, \"#9c179e\"], [0.4444444444444444, \"#bd3786\"], [0.5555555555555556, \"#d8576b\"], [0.6666666666666666, \"#ed7953\"], [0.7777777777777778, \"#fb9f3a\"], [0.8888888888888888, \"#fdca26\"], [1.0, \"#f0f921\"]]}, \"colorway\": [\"#636efa\", \"#EF553B\", \"#00cc96\", \"#ab63fa\", \"#FFA15A\", \"#19d3f3\", \"#FF6692\", \"#B6E880\", \"#FF97FF\", \"#FECB52\"], \"font\": {\"color\": \"#2a3f5f\"}, \"geo\": {\"bgcolor\": \"white\", \"lakecolor\": \"white\", \"landcolor\": \"#E5ECF6\", \"showlakes\": true, \"showland\": true, \"subunitcolor\": \"white\"}, \"hoverlabel\": {\"align\": \"left\"}, \"hovermode\": \"closest\", \"mapbox\": {\"style\": \"light\"}, \"paper_bgcolor\": \"white\", \"plot_bgcolor\": \"#E5ECF6\", \"polar\": {\"angularaxis\": {\"gridcolor\": \"white\", \"linecolor\": \"white\", \"ticks\": \"\"}, \"bgcolor\": \"#E5ECF6\", \"radialaxis\": {\"gridcolor\": \"white\", \"linecolor\": \"white\", \"ticks\": \"\"}}, \"scene\": {\"xaxis\": {\"backgroundcolor\": \"#E5ECF6\", \"gridcolor\": \"white\", \"gridwidth\": 2, \"linecolor\": \"white\", \"showbackground\": true, \"ticks\": \"\", \"zerolinecolor\": \"white\"}, \"yaxis\": {\"backgroundcolor\": \"#E5ECF6\", \"gridcolor\": \"white\", \"gridwidth\": 2, \"linecolor\": \"white\", \"showbackground\": true, \"ticks\": \"\", \"zerolinecolor\": \"white\"}, \"zaxis\": {\"backgroundcolor\": \"#E5ECF6\", \"gridcolor\": \"white\", \"gridwidth\": 2, \"linecolor\": \"white\", \"showbackground\": true, \"ticks\": \"\", \"zerolinecolor\": \"white\"}}, \"shapedefaults\": {\"line\": {\"color\": \"#2a3f5f\"}}, \"ternary\": {\"aaxis\": {\"gridcolor\": \"white\", \"linecolor\": \"white\", \"ticks\": \"\"}, \"baxis\": {\"gridcolor\": \"white\", \"linecolor\": \"white\", \"ticks\": \"\"}, \"bgcolor\": \"#E5ECF6\", \"caxis\": {\"gridcolor\": \"white\", \"linecolor\": \"white\", \"ticks\": \"\"}}, \"title\": {\"x\": 0.05}, \"xaxis\": {\"automargin\": true, \"gridcolor\": \"white\", \"linecolor\": \"white\", \"ticks\": \"\", \"title\": {\"standoff\": 15}, \"zerolinecolor\": \"white\", \"zerolinewidth\": 2}, \"yaxis\": {\"automargin\": true, \"gridcolor\": \"white\", \"linecolor\": \"white\", \"ticks\": \"\", \"title\": {\"standoff\": 15}, \"zerolinecolor\": \"white\", \"zerolinewidth\": 2}}}, \"xaxis\": {\"anchor\": \"y\", \"domain\": [0.0, 1.0], \"title\": {\"text\": \"residual sugar\"}}, \"yaxis\": {\"anchor\": \"x\", \"domain\": [0.0, 1.0], \"title\": {\"text\": \"count\"}}},                        {\"responsive\": true}                    ).then(function(){\n",
       "                            \n",
       "var gd = document.getElementById('5df7501a-a064-4d3b-949c-1df09d4c0e17');\n",
       "var x = new MutationObserver(function (mutations, observer) {{\n",
       "        var display = window.getComputedStyle(gd).display;\n",
       "        if (!display || display === 'none') {{\n",
       "            console.log([gd, 'removed!']);\n",
       "            Plotly.purge(gd);\n",
       "            observer.disconnect();\n",
       "        }}\n",
       "}});\n",
       "\n",
       "// Listen for the removal of the full notebook cells\n",
       "var notebookContainer = gd.closest('#notebook-container');\n",
       "if (notebookContainer) {{\n",
       "    x.observe(notebookContainer, {childList: true});\n",
       "}}\n",
       "\n",
       "// Listen for the clearing of the current output cell\n",
       "var outputEl = gd.closest('.output');\n",
       "if (outputEl) {{\n",
       "    x.observe(outputEl, {childList: true});\n",
       "}}\n",
       "\n",
       "                        })                };                });            </script>        </div>"
      ]
     },
     "metadata": {},
     "output_type": "display_data"
    }
   ],
   "source": [
    "fig = px.histogram(data_frame,x='residual sugar')\n",
    "fig.show()\n"
   ]
  },
  {
   "cell_type": "code",
   "execution_count": 77,
   "metadata": {},
   "outputs": [
    {
     "data": {
      "application/vnd.plotly.v1+json": {
       "config": {
        "plotlyServerURL": "https://plot.ly"
       },
       "data": [
        {
         "alignmentgroup": "True",
         "bingroup": "x",
         "hovertemplate": "alcohol=%{x}<br>count=%{y}<extra></extra>",
         "legendgroup": "",
         "marker": {
          "color": "#636efa"
         },
         "name": "",
         "offsetgroup": "",
         "orientation": "v",
         "showlegend": false,
         "type": "histogram",
         "x": [
          9.4,
          9.8,
          9.8,
          9.8,
          9.4,
          9.4,
          9.4,
          10,
          9.5,
          10.5,
          9.2,
          10.5,
          9.9,
          9.1,
          9.2,
          9.2,
          10.5,
          9.3,
          9,
          9.2,
          9.4,
          9.7,
          9.5,
          9.4,
          9.7,
          9.3,
          9.5,
          9.5,
          9.4,
          9.8,
          10.1,
          10.6,
          9.8,
          9.4,
          9.2,
          9.6,
          10.8,
          9.7,
          9.8,
          10.5,
          10.5,
          9.3,
          10.5,
          10.3,
          9.5,
          13.1,
          9.2,
          9.5,
          9.2,
          9.2,
          9.2,
          9.4,
          9.4,
          9.4,
          10.2,
          9.5,
          9.6,
          9.4,
          10,
          9.4,
          9.2,
          9.3,
          9.5,
          9.8,
          10.9,
          10.9,
          9.6,
          10.7,
          10.7,
          10.5,
          9.5,
          9.5,
          9.5,
          9.2,
          9.6,
          10.5,
          10.5,
          10.7,
          10.1,
          9.1,
          9.2,
          9.4,
          9.1,
          9.4,
          10.3,
          10.1,
          9.9,
          9.6,
          9.5,
          9,
          9.5,
          9.9,
          9.8,
          9.6,
          10.5,
          12.9,
          10.7,
          9.2,
          9.8,
          9,
          10.2,
          10.4,
          9,
          9.2,
          9.4,
          9.2,
          9.3,
          9.3,
          9.6,
          9.3,
          9.5,
          9.8,
          9.8,
          9.7,
          9.5,
          10.5,
          10,
          9.4,
          10.9,
          9.2,
          9,
          10.9,
          9.2,
          9.5,
          9.5,
          9.4,
          10.9,
          10.9,
          10.5,
          9.4,
          9.4,
          13,
          13,
          9.8,
          9.9,
          9.6,
          9.5,
          9.2,
          9.5,
          9.5,
          9.6,
          9.5,
          14,
          9.4,
          14,
          9.4,
          10,
          9.3,
          10.2,
          10.5,
          10.3,
          9.4,
          10.1,
          10.1,
          10.5,
          10.5,
          10.5,
          10.5,
          9.3,
          9.3,
          9.6,
          9.2,
          10,
          9.4,
          9.4,
          9.5,
          10.2,
          9,
          10.4,
          9.5,
          9.1,
          9.2,
          9.2,
          11.5,
          9.5,
          9.5,
          9.5,
          10.5,
          9.6,
          9.5,
          9.5,
          9.3,
          9.3,
          9.3,
          9.3,
          9.7,
          9.2,
          9.7,
          9.5,
          9.5,
          9.4,
          9.8,
          9.5,
          9.7,
          9.7,
          9.4,
          10.2,
          10.1,
          13,
          11.4,
          10.3,
          9.3,
          9.5,
          9.2,
          9.2,
          10.8,
          10.8,
          9.3,
          9.4,
          10.5,
          12.4,
          10,
          10.2,
          10.1,
          9.8,
          10.5,
          11,
          9.1,
          9.7,
          9.5,
          9.4,
          9.4,
          9.5,
          10,
          10.4,
          10.5,
          9.5,
          9.8,
          10.5,
          11,
          12.2,
          9.9,
          9.6,
          11,
          9,
          9,
          9,
          9.2,
          9,
          9,
          9.3,
          10.9,
          9.8,
          9.2,
          9.2,
          9.9,
          9.5,
          9.3,
          9.8,
          9.9,
          10,
          9.9,
          10.5,
          9.5,
          9.9,
          9.3,
          9.2,
          9.2,
          9.4,
          10.5,
          9.3,
          9.4,
          10,
          9.3,
          10.9,
          10.2,
          9.8,
          12.8,
          9.4,
          10.1,
          10.7,
          10.1,
          10.1,
          9.4,
          9.4,
          10.7,
          9.4,
          10.1,
          12.6,
          10.5,
          9.3,
          9.9,
          9.1,
          10.5,
          9.8,
          9.8,
          10.3,
          10.3,
          10.6,
          9.2,
          10.6,
          10.5,
          10.3,
          10.1,
          9.5,
          9.5,
          9.9,
          9.6,
          9.7,
          9.6,
          10.7,
          10.1,
          10,
          9.5,
          9.2,
          9.3,
          9.4,
          9.5,
          9.5,
          9.5,
          9.3,
          9.4,
          9.5,
          9.4,
          11,
          11,
          10.1,
          10.4,
          11.5,
          10.4,
          11.5,
          9.7,
          9.3,
          9.5,
          9.2,
          9.2,
          11.5,
          11.5,
          9.7,
          9.5,
          12.5,
          12.5,
          9.4,
          11,
          11.7,
          12.2,
          12.5,
          10.3,
          11.5,
          9.8,
          9.2,
          11.3,
          9.8,
          9.8,
          10.7,
          9.9,
          12.3,
          12,
          10,
          9.4,
          9.9,
          9.4,
          9.3,
          13,
          11.9,
          12.8,
          11,
          11.7,
          10.4,
          9.8,
          9.4,
          9.9,
          10,
          10.2,
          10,
          11.8,
          10,
          9,
          9.4,
          12,
          9.9,
          8.7,
          10.6,
          9.2,
          10.8,
          11.8,
          11,
          12,
          13.3,
          10.8,
          9.4,
          10,
          9.4,
          9.4,
          9.2,
          9.7,
          9.2,
          9.6,
          9.2,
          10,
          12.9,
          10,
          9.5,
          9.1,
          9.9,
          13,
          9.9,
          11,
          11,
          9.4,
          9.9,
          10.8,
          10.5,
          10.5,
          9.1,
          10.1,
          10.8,
          10.8,
          11.3,
          9.6,
          9.5,
          9.5,
          9.3,
          11.7,
          9.5,
          9.3,
          11.7,
          10.5,
          10.4,
          9.9,
          11.8,
          12.3,
          10.9,
          11,
          10.9,
          12.3,
          11.4,
          10.6,
          9.3,
          10.4,
          11,
          9.2,
          12.8,
          9.5,
          9.9,
          9.5,
          10.2,
          11.2,
          9.9,
          9.3,
          9.8,
          11.3,
          11.2,
          11.6,
          12.5,
          10.1,
          10.5,
          11.2,
          10.2,
          10.8,
          10.8,
          9.1,
          10,
          11.2,
          11.1,
          13.4,
          10.3,
          9.6,
          11.2,
          9,
          11.3,
          9.3,
          11.8,
          9,
          9.2,
          9.7,
          11.5,
          14,
          9.2,
          9.8,
          10.6,
          11.4,
          10.4,
          10.6,
          9.4,
          10.2,
          9.7,
          11,
          10.2,
          10.1,
          9.2,
          11.7,
          9.4,
          9.4,
          13.4,
          10,
          10,
          10,
          10.8,
          10.2,
          10.6,
          13.3,
          13.4,
          11.6,
          12.1,
          11,
          9,
          11.1,
          11,
          11.6,
          9,
          12,
          12,
          10.9,
          10.8,
          12.5,
          10.8,
          9.5,
          10.2,
          11.4,
          9.5,
          10.2,
          9.7,
          11.8,
          11.8,
          9.3,
          11.9,
          8.4,
          11.7,
          11,
          10,
          9.1,
          9.8,
          9.4,
          9.5,
          9.9,
          11,
          11.4,
          8.7,
          9.4,
          10.3,
          10.3,
          10.3,
          12.8,
          10,
          10.3,
          9.4,
          10.7,
          12,
          11.2,
          9.6,
          11,
          9.9,
          11,
          8.4,
          9.1,
          9.5,
          10.7,
          10.4,
          9.4,
          9.5,
          10,
          10,
          11.5,
          11.1,
          11.1,
          11.7,
          11.1,
          11.7,
          12.7,
          11.4,
          9.2,
          9.2,
          10.1,
          12.7,
          11.4,
          9,
          9,
          10.7,
          11.7,
          11,
          11.7,
          10.4,
          9.6,
          10,
          10.2,
          10,
          9.5,
          9.8,
          9.8,
          9.6,
          9.6,
          9.2,
          9.9,
          10.7,
          9.6,
          10.6,
          9.3,
          14,
          10.5,
          9.7,
          11.5,
          9.7,
          9,
          9.5,
          9.3,
          9.3,
          10,
          9.8,
          9.3,
          10,
          9,
          9.3,
          9,
          9.1,
          9.2,
          12.2,
          10.5,
          10.4,
          12.7,
          9.2,
          9.4,
          10,
          9.8,
          10.2,
          9.7,
          9.7,
          9.8,
          10.2,
          9.3,
          9.4,
          9.4,
          9.5,
          12.1,
          10.2,
          10.2,
          9.1,
          9.1,
          9.3,
          9.3,
          9.3,
          9.5,
          10.5,
          11.3,
          9.5,
          9.7,
          9.4,
          9.4,
          10.2,
          10.3,
          9.4,
          9.5,
          9.4,
          9.5,
          9.4,
          10.1,
          10.1,
          11,
          11.2,
          11.3,
          9.6,
          11.2,
          14.9,
          12,
          9.5,
          9.4,
          9.6,
          10.5,
          9.6,
          11,
          9.6,
          9,
          9.6,
          10.2,
          10.2,
          9.7,
          9.5,
          9.2,
          11,
          9.2,
          10,
          9.5,
          9.5,
          9.5,
          9.3,
          10.2,
          9.3,
          9.9,
          10,
          9.6,
          9,
          10.2,
          9.8,
          11.3,
          9.4,
          11.3,
          9.1,
          9.7,
          9.4,
          9.4,
          10.7,
          9.8,
          9,
          9.4,
          9.4,
          12.8,
          9.5,
          9.5,
          9.7,
          10.8,
          10.1,
          9.5,
          9.4,
          9.6,
          9.7,
          9.9,
          10,
          10.5,
          11.6,
          10,
          10.1,
          9.5,
          9.4,
          9.4,
          9.8,
          9.2,
          9.4,
          10,
          9.6,
          9.5,
          9.6,
          9.2,
          10,
          9.5,
          11.2,
          10.4,
          11.1,
          9.5,
          9.5,
          12.7,
          9.6,
          11.5,
          9.6,
          9.5,
          9.3,
          9.5,
          9.5,
          9.3,
          9.2,
          9.3,
          11.5,
          9.5,
          9.2,
          10,
          9.5,
          9.5,
          9,
          9.4,
          9.6,
          9.5,
          9.5,
          9.5,
          9.4,
          9.5,
          9.1,
          10.7,
          11.2,
          9.8,
          9.8,
          9.2,
          9.7,
          9.6,
          10,
          9.6,
          9.5,
          9.5,
          9.4,
          9.5,
          9.7,
          9.6,
          9.7,
          9.4,
          9.4,
          9.5,
          9.5,
          10,
          10.3,
          10.3,
          10.5,
          9.8,
          9.4,
          9.8,
          10,
          9.8,
          9.8,
          9.5,
          9.5,
          10.1,
          10.1,
          9.3,
          9.7,
          9.6,
          9.7,
          10.8,
          12.5,
          10.2,
          9.6,
          10.8,
          10.7,
          10.7,
          9.4,
          10,
          12.9,
          9.6,
          9.9,
          12.8,
          12.5,
          12.8,
          9.2,
          10.3,
          10.5,
          10.9,
          10.8,
          11.4,
          11.3,
          10.8,
          10.5,
          11.9,
          9.4,
          9.6,
          9.7,
          14,
          9.8,
          9.8,
          10.3,
          10.7,
          11,
          10.7,
          12.7,
          11.1,
          10.9,
          11.1,
          9.9,
          9.9,
          9.4,
          9.3,
          11.7,
          11.7,
          11.2,
          10,
          12.1,
          10.3,
          10.9,
          9.4,
          10.6,
          9.8,
          9.8,
          9.9,
          9.8,
          9.8,
          9.5,
          9.5,
          9.7,
          10.9,
          10.9,
          11.7,
          10.9,
          11.3,
          10.6,
          11.2,
          9.5,
          11.5,
          10.4,
          9.7,
          9.5,
          9.7,
          11.3,
          11.2,
          11.2,
          10.9,
          11.8,
          10.6,
          10,
          11.1,
          11.8,
          11.8,
          10.9,
          11.8,
          10,
          9.5,
          9.9,
          11.4,
          12,
          9.5,
          10,
          10.5,
          10.4,
          12.1,
          11.2,
          9.3,
          10.1,
          9.7,
          9.3,
          9.7,
          9.8,
          10.7,
          12.5,
          10.7,
          12.5,
          11,
          11.8,
          10.8,
          10.8,
          10.8,
          10.8,
          9.5,
          11,
          11.5,
          10.8,
          11.5,
          13.2,
          10.9,
          12.2,
          12.2,
          11.5,
          11.9,
          11,
          10.1,
          11,
          11.8,
          10.5,
          11,
          11.8,
          10.1,
          11.2,
          11,
          10.2,
          9.2,
          11.2,
          12,
          10.5,
          9.8,
          9.5,
          9.8,
          10.5,
          11.8,
          11.8,
          10.4,
          12.9,
          11.4,
          12.4,
          12.5,
          10,
          9.7,
          12.1,
          11.1,
          12,
          12.4,
          11.9,
          11.9,
          11.9,
          12.4,
          11.2,
          12.1,
          12.2,
          10.4,
          11.3,
          11.1,
          11.3,
          10,
          11.1,
          9.3,
          9.5,
          11.2,
          11.1,
          11,
          11.9,
          9.2,
          12.2,
          10.2,
          10.9,
          10.9,
          11.6,
          10.7,
          12.1,
          9.4,
          9.4,
          9.1,
          11.3,
          10.4,
          10.5,
          10,
          12.9,
          10.5,
          10.4,
          11.3,
          11.4,
          9.4,
          9.4,
          10.9,
          9.4,
          9.4,
          9.4,
          9.4,
          9.4,
          10.1,
          12.8,
          12.8,
          9.1,
          12.9,
          11.5,
          10.6,
          11.7,
          12.8,
          10.3,
          12.8,
          11.7,
          11.7,
          12,
          10.9,
          12.3,
          10.4,
          10,
          10,
          11.2,
          11.4,
          12.6,
          12.7,
          12.7,
          10.4,
          11.9,
          11.9,
          10.5,
          12.3,
          10.5,
          10.4,
          12.6,
          11.6,
          10.1,
          10.5,
          11.5,
          11,
          9.6,
          10.4,
          9.7,
          10.6,
          12.5,
          9.2,
          12.6,
          11.1,
          10.2,
          9.8,
          11.1,
          10.9,
          12.2,
          11.4,
          10.7,
          10.4,
          10.9,
          10.8,
          10.4,
          9.2,
          12.9,
          12.7,
          9.1,
          9.1,
          12.1,
          9.1,
          11.6,
          12.1,
          9.9,
          12.5,
          11.4,
          11.8,
          11.8,
          10.2,
          12.5,
          10.9,
          10.9,
          10.8,
          11.1,
          9.2,
          9.5,
          10.7,
          9.2,
          10.2,
          11.4,
          11,
          11,
          12.3,
          11.8,
          12.3,
          9.5,
          12,
          9.5,
          9.6,
          11.6,
          11.2,
          9.9,
          9.9,
          11.8,
          11.4,
          11.5,
          12,
          10.8,
          10.5,
          10.8,
          9.4,
          12.5,
          9.4,
          12.4,
          12,
          11.2,
          12,
          12.4,
          12.8,
          12.3,
          11.7,
          9.5,
          10.8,
          10,
          12.3,
          11,
          9.5,
          13.6,
          11.3,
          11.3,
          11.3,
          13.3,
          12.9,
          13.1,
          12.3,
          12.3,
          11.2,
          11.5,
          11.3,
          13.5,
          11.5,
          10,
          10.5,
          10.4,
          9.5,
          13.6,
          11.2,
          11.8,
          11.9,
          11.4,
          11.4,
          9.1,
          9.5,
          9.5,
          11,
          11.4,
          10,
          10.1,
          10.4,
          9.8,
          11.8,
          11.6,
          12,
          12.8,
          12.5,
          9.8,
          11.1,
          11.4,
          9.8,
          11.8,
          12.9,
          10.6,
          10.8,
          11.1,
          10.2,
          11.8,
          10,
          10,
          9.4,
          10.2,
          12.4,
          12,
          11.5,
          10.5,
          10.8,
          12.3,
          9.5,
          9.5,
          11.5,
          11.2,
          12.7,
          11.4,
          11,
          11,
          11.4,
          10.5,
          9.3,
          10.9,
          11.9,
          12.2,
          11.9,
          10.9,
          9.6,
          12.5,
          10.8,
          12.4,
          10.8,
          9.5,
          9.5,
          9.5,
          9.8,
          10.9,
          9.5,
          9.8,
          11.2,
          11.7,
          9.4,
          11,
          11,
          11,
          10,
          11,
          11.2,
          10.4,
          9.3,
          10.4,
          10.5,
          10.4,
          11.3,
          9.5,
          12,
          10.6,
          10.9,
          11.5,
          11.5,
          9.6,
          12,
          10.3,
          9.4,
          9.2,
          9.6,
          13.6,
          9.5,
          11.8,
          10.8,
          9.5,
          9.3,
          12.8,
          11.5,
          9.4,
          12.8,
          9.6,
          11.8,
          9.3,
          9.8,
          12.2,
          9.5,
          10.3,
          10.5,
          10,
          10.5,
          11.1,
          10.9,
          10.9,
          9.8,
          9.8,
          9.5,
          10.9,
          11,
          9.2,
          11,
          11.3,
          11.3,
          9.3,
          11.2,
          9.8,
          9.6,
          11.8,
          10.3,
          10.3,
          11.4,
          9.5,
          14,
          14,
          11.7,
          11.2,
          9.3,
          11.2,
          9.5,
          12,
          9.7,
          9.5,
          11.5,
          10.4,
          10.4,
          10.9,
          10.2,
          10.9,
          10.5,
          12.4,
          13,
          10.2,
          10.2,
          11,
          10.9,
          12.4,
          9.7,
          10.9,
          9.5,
          9.5,
          12.1,
          12.2,
          10.9,
          12.5,
          11.7,
          11.2,
          11.2,
          9.2,
          9.8,
          10.1,
          11.1,
          10.1,
          9.2,
          9.8,
          12.8,
          10.5,
          10.1,
          10.1,
          9.8,
          12.5,
          11.9,
          9.8,
          9.1,
          10.1,
          12.5,
          11.4,
          11,
          10.6,
          10.6,
          10.6,
          10.6,
          9.3,
          9.8,
          9.8,
          9.2,
          9.7,
          9.6,
          10,
          12.6,
          9.5,
          9.5,
          9.5,
          10.5,
          10.5,
          10.5,
          10.4,
          10.5,
          11,
          10.2,
          11.4,
          9.5,
          9.5,
          10.8,
          10,
          11.8,
          10.3,
          10.3,
          10,
          10.1,
          10.1,
          11.1,
          9.5,
          10.0333333333333,
          10.9,
          10.1,
          10.0333333333333,
          9.8,
          11.8,
          9.5,
          9.8,
          10.5,
          9.8,
          10.4,
          9.2,
          11.6,
          9.2,
          9.3,
          9.8,
          9.9,
          10,
          12.2,
          9.9,
          10.8,
          10.8,
          9.6,
          9.9,
          9.9,
          9.5,
          9.2,
          9.6,
          9.6,
          10.3,
          9.7,
          12.5,
          11,
          9.8,
          10.2,
          9.2,
          9.55,
          9.55,
          9.9,
          10.2,
          11.1,
          9.9,
          9.9,
          11.9,
          10,
          10.7,
          11.3,
          10.9,
          10.7,
          12.4,
          10.7,
          11.9,
          10.6,
          10.9,
          10.1,
          9.6,
          9.4,
          9.6,
          12.1,
          9.8,
          9.9,
          9.8,
          9.4,
          11.4,
          11,
          9.6,
          9.6,
          12.1,
          11.2,
          11,
          11.3,
          10.4,
          9.9,
          11.7,
          10.1,
          9,
          9,
          8.5,
          11.1,
          10.3,
          11.066666666666698,
          11.3,
          9.56666666666667,
          9.8,
          11.7,
          11.1,
          9.6,
          9.8,
          9.7,
          9.7,
          11.3,
          11.3,
          11,
          11.6,
          9,
          10.9,
          10.9,
          10.55,
          9,
          10.5,
          11.9,
          10.4,
          10,
          10.4,
          10.8,
          9.7,
          9.7,
          10,
          11,
          10,
          9.7,
          9.7,
          12.6,
          11.1,
          11,
          8.8,
          13.566666666666698,
          8.8,
          13.6,
          10.2,
          10.6,
          10.1,
          10.6,
          10.3,
          10.7,
          10.9,
          9.7,
          10.3,
          10.6,
          11.4,
          10.8,
          12.4,
          11.4,
          11.95,
          9.7,
          10,
          10.6,
          9.7,
          11.5,
          10.8,
          11.5,
          9.6,
          9.4,
          9.8,
          11,
          11.4,
          9.95,
          10.8,
          11.4,
          10.6,
          11.1,
          9.7,
          9.8,
          10.4,
          10.5,
          9.23333333333333,
          9.25,
          10.6,
          10.3,
          10.5,
          10.2,
          10.3,
          9.05,
          10.6,
          10.4,
          10,
          9.7,
          9.6,
          10.8,
          10.1,
          10.2,
          11.3,
          10.2,
          9.9,
          9,
          11.7,
          9.7,
          10.3,
          10.2,
          12,
          9.9,
          11.6,
          10.9,
          10.75,
          10.4,
          11.2,
          10.1,
          10.2,
          12.1,
          10.4,
          11.4,
          9.5,
          9.4,
          11.3,
          9.4,
          11,
          10.55,
          9.9,
          11,
          9.5,
          9.9,
          9.9,
          9.9,
          10.1,
          10.1,
          10.1,
          10.9,
          11.2,
          10.1,
          9.2,
          11.5,
          12.4,
          11.1,
          9.5,
          12.5,
          10.5,
          11.8,
          10.8,
          11.9,
          11.3,
          11.3,
          11.9,
          11.3,
          11.9,
          9.8,
          11.6,
          11.5,
          11.4,
          10.9,
          12.8,
          9.2,
          11.6,
          11.6,
          11,
          9.5,
          10.5,
          11.2,
          11,
          10.2,
          11
         ],
         "xaxis": "x",
         "yaxis": "y"
        }
       ],
       "layout": {
        "barmode": "relative",
        "legend": {
         "tracegroupgap": 0
        },
        "margin": {
         "t": 60
        },
        "template": {
         "data": {
          "bar": [
           {
            "error_x": {
             "color": "#2a3f5f"
            },
            "error_y": {
             "color": "#2a3f5f"
            },
            "marker": {
             "line": {
              "color": "#E5ECF6",
              "width": 0.5
             }
            },
            "type": "bar"
           }
          ],
          "barpolar": [
           {
            "marker": {
             "line": {
              "color": "#E5ECF6",
              "width": 0.5
             }
            },
            "type": "barpolar"
           }
          ],
          "carpet": [
           {
            "aaxis": {
             "endlinecolor": "#2a3f5f",
             "gridcolor": "white",
             "linecolor": "white",
             "minorgridcolor": "white",
             "startlinecolor": "#2a3f5f"
            },
            "baxis": {
             "endlinecolor": "#2a3f5f",
             "gridcolor": "white",
             "linecolor": "white",
             "minorgridcolor": "white",
             "startlinecolor": "#2a3f5f"
            },
            "type": "carpet"
           }
          ],
          "choropleth": [
           {
            "colorbar": {
             "outlinewidth": 0,
             "ticks": ""
            },
            "type": "choropleth"
           }
          ],
          "contour": [
           {
            "colorbar": {
             "outlinewidth": 0,
             "ticks": ""
            },
            "colorscale": [
             [
              0,
              "#0d0887"
             ],
             [
              0.1111111111111111,
              "#46039f"
             ],
             [
              0.2222222222222222,
              "#7201a8"
             ],
             [
              0.3333333333333333,
              "#9c179e"
             ],
             [
              0.4444444444444444,
              "#bd3786"
             ],
             [
              0.5555555555555556,
              "#d8576b"
             ],
             [
              0.6666666666666666,
              "#ed7953"
             ],
             [
              0.7777777777777778,
              "#fb9f3a"
             ],
             [
              0.8888888888888888,
              "#fdca26"
             ],
             [
              1,
              "#f0f921"
             ]
            ],
            "type": "contour"
           }
          ],
          "contourcarpet": [
           {
            "colorbar": {
             "outlinewidth": 0,
             "ticks": ""
            },
            "type": "contourcarpet"
           }
          ],
          "heatmap": [
           {
            "colorbar": {
             "outlinewidth": 0,
             "ticks": ""
            },
            "colorscale": [
             [
              0,
              "#0d0887"
             ],
             [
              0.1111111111111111,
              "#46039f"
             ],
             [
              0.2222222222222222,
              "#7201a8"
             ],
             [
              0.3333333333333333,
              "#9c179e"
             ],
             [
              0.4444444444444444,
              "#bd3786"
             ],
             [
              0.5555555555555556,
              "#d8576b"
             ],
             [
              0.6666666666666666,
              "#ed7953"
             ],
             [
              0.7777777777777778,
              "#fb9f3a"
             ],
             [
              0.8888888888888888,
              "#fdca26"
             ],
             [
              1,
              "#f0f921"
             ]
            ],
            "type": "heatmap"
           }
          ],
          "heatmapgl": [
           {
            "colorbar": {
             "outlinewidth": 0,
             "ticks": ""
            },
            "colorscale": [
             [
              0,
              "#0d0887"
             ],
             [
              0.1111111111111111,
              "#46039f"
             ],
             [
              0.2222222222222222,
              "#7201a8"
             ],
             [
              0.3333333333333333,
              "#9c179e"
             ],
             [
              0.4444444444444444,
              "#bd3786"
             ],
             [
              0.5555555555555556,
              "#d8576b"
             ],
             [
              0.6666666666666666,
              "#ed7953"
             ],
             [
              0.7777777777777778,
              "#fb9f3a"
             ],
             [
              0.8888888888888888,
              "#fdca26"
             ],
             [
              1,
              "#f0f921"
             ]
            ],
            "type": "heatmapgl"
           }
          ],
          "histogram": [
           {
            "marker": {
             "colorbar": {
              "outlinewidth": 0,
              "ticks": ""
             }
            },
            "type": "histogram"
           }
          ],
          "histogram2d": [
           {
            "colorbar": {
             "outlinewidth": 0,
             "ticks": ""
            },
            "colorscale": [
             [
              0,
              "#0d0887"
             ],
             [
              0.1111111111111111,
              "#46039f"
             ],
             [
              0.2222222222222222,
              "#7201a8"
             ],
             [
              0.3333333333333333,
              "#9c179e"
             ],
             [
              0.4444444444444444,
              "#bd3786"
             ],
             [
              0.5555555555555556,
              "#d8576b"
             ],
             [
              0.6666666666666666,
              "#ed7953"
             ],
             [
              0.7777777777777778,
              "#fb9f3a"
             ],
             [
              0.8888888888888888,
              "#fdca26"
             ],
             [
              1,
              "#f0f921"
             ]
            ],
            "type": "histogram2d"
           }
          ],
          "histogram2dcontour": [
           {
            "colorbar": {
             "outlinewidth": 0,
             "ticks": ""
            },
            "colorscale": [
             [
              0,
              "#0d0887"
             ],
             [
              0.1111111111111111,
              "#46039f"
             ],
             [
              0.2222222222222222,
              "#7201a8"
             ],
             [
              0.3333333333333333,
              "#9c179e"
             ],
             [
              0.4444444444444444,
              "#bd3786"
             ],
             [
              0.5555555555555556,
              "#d8576b"
             ],
             [
              0.6666666666666666,
              "#ed7953"
             ],
             [
              0.7777777777777778,
              "#fb9f3a"
             ],
             [
              0.8888888888888888,
              "#fdca26"
             ],
             [
              1,
              "#f0f921"
             ]
            ],
            "type": "histogram2dcontour"
           }
          ],
          "mesh3d": [
           {
            "colorbar": {
             "outlinewidth": 0,
             "ticks": ""
            },
            "type": "mesh3d"
           }
          ],
          "parcoords": [
           {
            "line": {
             "colorbar": {
              "outlinewidth": 0,
              "ticks": ""
             }
            },
            "type": "parcoords"
           }
          ],
          "pie": [
           {
            "automargin": true,
            "type": "pie"
           }
          ],
          "scatter": [
           {
            "marker": {
             "colorbar": {
              "outlinewidth": 0,
              "ticks": ""
             }
            },
            "type": "scatter"
           }
          ],
          "scatter3d": [
           {
            "line": {
             "colorbar": {
              "outlinewidth": 0,
              "ticks": ""
             }
            },
            "marker": {
             "colorbar": {
              "outlinewidth": 0,
              "ticks": ""
             }
            },
            "type": "scatter3d"
           }
          ],
          "scattercarpet": [
           {
            "marker": {
             "colorbar": {
              "outlinewidth": 0,
              "ticks": ""
             }
            },
            "type": "scattercarpet"
           }
          ],
          "scattergeo": [
           {
            "marker": {
             "colorbar": {
              "outlinewidth": 0,
              "ticks": ""
             }
            },
            "type": "scattergeo"
           }
          ],
          "scattergl": [
           {
            "marker": {
             "colorbar": {
              "outlinewidth": 0,
              "ticks": ""
             }
            },
            "type": "scattergl"
           }
          ],
          "scattermapbox": [
           {
            "marker": {
             "colorbar": {
              "outlinewidth": 0,
              "ticks": ""
             }
            },
            "type": "scattermapbox"
           }
          ],
          "scatterpolar": [
           {
            "marker": {
             "colorbar": {
              "outlinewidth": 0,
              "ticks": ""
             }
            },
            "type": "scatterpolar"
           }
          ],
          "scatterpolargl": [
           {
            "marker": {
             "colorbar": {
              "outlinewidth": 0,
              "ticks": ""
             }
            },
            "type": "scatterpolargl"
           }
          ],
          "scatterternary": [
           {
            "marker": {
             "colorbar": {
              "outlinewidth": 0,
              "ticks": ""
             }
            },
            "type": "scatterternary"
           }
          ],
          "surface": [
           {
            "colorbar": {
             "outlinewidth": 0,
             "ticks": ""
            },
            "colorscale": [
             [
              0,
              "#0d0887"
             ],
             [
              0.1111111111111111,
              "#46039f"
             ],
             [
              0.2222222222222222,
              "#7201a8"
             ],
             [
              0.3333333333333333,
              "#9c179e"
             ],
             [
              0.4444444444444444,
              "#bd3786"
             ],
             [
              0.5555555555555556,
              "#d8576b"
             ],
             [
              0.6666666666666666,
              "#ed7953"
             ],
             [
              0.7777777777777778,
              "#fb9f3a"
             ],
             [
              0.8888888888888888,
              "#fdca26"
             ],
             [
              1,
              "#f0f921"
             ]
            ],
            "type": "surface"
           }
          ],
          "table": [
           {
            "cells": {
             "fill": {
              "color": "#EBF0F8"
             },
             "line": {
              "color": "white"
             }
            },
            "header": {
             "fill": {
              "color": "#C8D4E3"
             },
             "line": {
              "color": "white"
             }
            },
            "type": "table"
           }
          ]
         },
         "layout": {
          "annotationdefaults": {
           "arrowcolor": "#2a3f5f",
           "arrowhead": 0,
           "arrowwidth": 1
          },
          "coloraxis": {
           "colorbar": {
            "outlinewidth": 0,
            "ticks": ""
           }
          },
          "colorscale": {
           "diverging": [
            [
             0,
             "#8e0152"
            ],
            [
             0.1,
             "#c51b7d"
            ],
            [
             0.2,
             "#de77ae"
            ],
            [
             0.3,
             "#f1b6da"
            ],
            [
             0.4,
             "#fde0ef"
            ],
            [
             0.5,
             "#f7f7f7"
            ],
            [
             0.6,
             "#e6f5d0"
            ],
            [
             0.7,
             "#b8e186"
            ],
            [
             0.8,
             "#7fbc41"
            ],
            [
             0.9,
             "#4d9221"
            ],
            [
             1,
             "#276419"
            ]
           ],
           "sequential": [
            [
             0,
             "#0d0887"
            ],
            [
             0.1111111111111111,
             "#46039f"
            ],
            [
             0.2222222222222222,
             "#7201a8"
            ],
            [
             0.3333333333333333,
             "#9c179e"
            ],
            [
             0.4444444444444444,
             "#bd3786"
            ],
            [
             0.5555555555555556,
             "#d8576b"
            ],
            [
             0.6666666666666666,
             "#ed7953"
            ],
            [
             0.7777777777777778,
             "#fb9f3a"
            ],
            [
             0.8888888888888888,
             "#fdca26"
            ],
            [
             1,
             "#f0f921"
            ]
           ],
           "sequentialminus": [
            [
             0,
             "#0d0887"
            ],
            [
             0.1111111111111111,
             "#46039f"
            ],
            [
             0.2222222222222222,
             "#7201a8"
            ],
            [
             0.3333333333333333,
             "#9c179e"
            ],
            [
             0.4444444444444444,
             "#bd3786"
            ],
            [
             0.5555555555555556,
             "#d8576b"
            ],
            [
             0.6666666666666666,
             "#ed7953"
            ],
            [
             0.7777777777777778,
             "#fb9f3a"
            ],
            [
             0.8888888888888888,
             "#fdca26"
            ],
            [
             1,
             "#f0f921"
            ]
           ]
          },
          "colorway": [
           "#636efa",
           "#EF553B",
           "#00cc96",
           "#ab63fa",
           "#FFA15A",
           "#19d3f3",
           "#FF6692",
           "#B6E880",
           "#FF97FF",
           "#FECB52"
          ],
          "font": {
           "color": "#2a3f5f"
          },
          "geo": {
           "bgcolor": "white",
           "lakecolor": "white",
           "landcolor": "#E5ECF6",
           "showlakes": true,
           "showland": true,
           "subunitcolor": "white"
          },
          "hoverlabel": {
           "align": "left"
          },
          "hovermode": "closest",
          "mapbox": {
           "style": "light"
          },
          "paper_bgcolor": "white",
          "plot_bgcolor": "#E5ECF6",
          "polar": {
           "angularaxis": {
            "gridcolor": "white",
            "linecolor": "white",
            "ticks": ""
           },
           "bgcolor": "#E5ECF6",
           "radialaxis": {
            "gridcolor": "white",
            "linecolor": "white",
            "ticks": ""
           }
          },
          "scene": {
           "xaxis": {
            "backgroundcolor": "#E5ECF6",
            "gridcolor": "white",
            "gridwidth": 2,
            "linecolor": "white",
            "showbackground": true,
            "ticks": "",
            "zerolinecolor": "white"
           },
           "yaxis": {
            "backgroundcolor": "#E5ECF6",
            "gridcolor": "white",
            "gridwidth": 2,
            "linecolor": "white",
            "showbackground": true,
            "ticks": "",
            "zerolinecolor": "white"
           },
           "zaxis": {
            "backgroundcolor": "#E5ECF6",
            "gridcolor": "white",
            "gridwidth": 2,
            "linecolor": "white",
            "showbackground": true,
            "ticks": "",
            "zerolinecolor": "white"
           }
          },
          "shapedefaults": {
           "line": {
            "color": "#2a3f5f"
           }
          },
          "ternary": {
           "aaxis": {
            "gridcolor": "white",
            "linecolor": "white",
            "ticks": ""
           },
           "baxis": {
            "gridcolor": "white",
            "linecolor": "white",
            "ticks": ""
           },
           "bgcolor": "#E5ECF6",
           "caxis": {
            "gridcolor": "white",
            "linecolor": "white",
            "ticks": ""
           }
          },
          "title": {
           "x": 0.05
          },
          "xaxis": {
           "automargin": true,
           "gridcolor": "white",
           "linecolor": "white",
           "ticks": "",
           "title": {
            "standoff": 15
           },
           "zerolinecolor": "white",
           "zerolinewidth": 2
          },
          "yaxis": {
           "automargin": true,
           "gridcolor": "white",
           "linecolor": "white",
           "ticks": "",
           "title": {
            "standoff": 15
           },
           "zerolinecolor": "white",
           "zerolinewidth": 2
          }
         }
        },
        "xaxis": {
         "anchor": "y",
         "domain": [
          0,
          1
         ],
         "title": {
          "text": "alcohol"
         }
        },
        "yaxis": {
         "anchor": "x",
         "domain": [
          0,
          1
         ],
         "title": {
          "text": "count"
         }
        }
       }
      },
      "text/html": [
       "<div>                            <div id=\"46e869ca-8e5a-47ac-aacd-b4753d028d6b\" class=\"plotly-graph-div\" style=\"height:525px; width:100%;\"></div>            <script type=\"text/javascript\">                require([\"plotly\"], function(Plotly) {                    window.PLOTLYENV=window.PLOTLYENV || {};                                    if (document.getElementById(\"46e869ca-8e5a-47ac-aacd-b4753d028d6b\")) {                    Plotly.newPlot(                        \"46e869ca-8e5a-47ac-aacd-b4753d028d6b\",                        [{\"alignmentgroup\": \"True\", \"bingroup\": \"x\", \"hovertemplate\": \"alcohol=%{x}<br>count=%{y}<extra></extra>\", \"legendgroup\": \"\", \"marker\": {\"color\": \"#636efa\"}, \"name\": \"\", \"offsetgroup\": \"\", \"orientation\": \"v\", \"showlegend\": false, \"type\": \"histogram\", \"x\": [9.4, 9.8, 9.8, 9.8, 9.4, 9.4, 9.4, 10.0, 9.5, 10.5, 9.2, 10.5, 9.9, 9.1, 9.2, 9.2, 10.5, 9.3, 9.0, 9.2, 9.4, 9.7, 9.5, 9.4, 9.7, 9.3, 9.5, 9.5, 9.4, 9.8, 10.1, 10.6, 9.8, 9.4, 9.2, 9.6, 10.8, 9.7, 9.8, 10.5, 10.5, 9.3, 10.5, 10.3, 9.5, 13.1, 9.2, 9.5, 9.2, 9.2, 9.2, 9.4, 9.4, 9.4, 10.2, 9.5, 9.6, 9.4, 10.0, 9.4, 9.2, 9.3, 9.5, 9.8, 10.9, 10.9, 9.6, 10.7, 10.7, 10.5, 9.5, 9.5, 9.5, 9.2, 9.6, 10.5, 10.5, 10.7, 10.1, 9.1, 9.2, 9.4, 9.1, 9.4, 10.3, 10.1, 9.9, 9.6, 9.5, 9.0, 9.5, 9.9, 9.8, 9.6, 10.5, 12.9, 10.7, 9.2, 9.8, 9.0, 10.2, 10.4, 9.0, 9.2, 9.4, 9.2, 9.3, 9.3, 9.6, 9.3, 9.5, 9.8, 9.8, 9.7, 9.5, 10.5, 10.0, 9.4, 10.9, 9.2, 9.0, 10.9, 9.2, 9.5, 9.5, 9.4, 10.9, 10.9, 10.5, 9.4, 9.4, 13.0, 13.0, 9.8, 9.9, 9.6, 9.5, 9.2, 9.5, 9.5, 9.6, 9.5, 14.0, 9.4, 14.0, 9.4, 10.0, 9.3, 10.2, 10.5, 10.3, 9.4, 10.1, 10.1, 10.5, 10.5, 10.5, 10.5, 9.3, 9.3, 9.6, 9.2, 10.0, 9.4, 9.4, 9.5, 10.2, 9.0, 10.4, 9.5, 9.1, 9.2, 9.2, 11.5, 9.5, 9.5, 9.5, 10.5, 9.6, 9.5, 9.5, 9.3, 9.3, 9.3, 9.3, 9.7, 9.2, 9.7, 9.5, 9.5, 9.4, 9.8, 9.5, 9.7, 9.7, 9.4, 10.2, 10.1, 13.0, 11.4, 10.3, 9.3, 9.5, 9.2, 9.2, 10.8, 10.8, 9.3, 9.4, 10.5, 12.4, 10.0, 10.2, 10.1, 9.8, 10.5, 11.0, 9.1, 9.7, 9.5, 9.4, 9.4, 9.5, 10.0, 10.4, 10.5, 9.5, 9.8, 10.5, 11.0, 12.2, 9.9, 9.6, 11.0, 9.0, 9.0, 9.0, 9.2, 9.0, 9.0, 9.3, 10.9, 9.8, 9.2, 9.2, 9.9, 9.5, 9.3, 9.8, 9.9, 10.0, 9.9, 10.5, 9.5, 9.9, 9.3, 9.2, 9.2, 9.4, 10.5, 9.3, 9.4, 10.0, 9.3, 10.9, 10.2, 9.8, 12.8, 9.4, 10.1, 10.7, 10.1, 10.1, 9.4, 9.4, 10.7, 9.4, 10.1, 12.6, 10.5, 9.3, 9.9, 9.1, 10.5, 9.8, 9.8, 10.3, 10.3, 10.6, 9.2, 10.6, 10.5, 10.3, 10.1, 9.5, 9.5, 9.9, 9.6, 9.7, 9.6, 10.7, 10.1, 10.0, 9.5, 9.2, 9.3, 9.4, 9.5, 9.5, 9.5, 9.3, 9.4, 9.5, 9.4, 11.0, 11.0, 10.1, 10.4, 11.5, 10.4, 11.5, 9.7, 9.3, 9.5, 9.2, 9.2, 11.5, 11.5, 9.7, 9.5, 12.5, 12.5, 9.4, 11.0, 11.7, 12.2, 12.5, 10.3, 11.5, 9.8, 9.2, 11.3, 9.8, 9.8, 10.7, 9.9, 12.3, 12.0, 10.0, 9.4, 9.9, 9.4, 9.3, 13.0, 11.9, 12.8, 11.0, 11.7, 10.4, 9.8, 9.4, 9.9, 10.0, 10.2, 10.0, 11.8, 10.0, 9.0, 9.4, 12.0, 9.9, 8.7, 10.6, 9.2, 10.8, 11.8, 11.0, 12.0, 13.3, 10.8, 9.4, 10.0, 9.4, 9.4, 9.2, 9.7, 9.2, 9.6, 9.2, 10.0, 12.9, 10.0, 9.5, 9.1, 9.9, 13.0, 9.9, 11.0, 11.0, 9.4, 9.9, 10.8, 10.5, 10.5, 9.1, 10.1, 10.8, 10.8, 11.3, 9.6, 9.5, 9.5, 9.3, 11.7, 9.5, 9.3, 11.7, 10.5, 10.4, 9.9, 11.8, 12.3, 10.9, 11.0, 10.9, 12.3, 11.4, 10.6, 9.3, 10.4, 11.0, 9.2, 12.8, 9.5, 9.9, 9.5, 10.2, 11.2, 9.9, 9.3, 9.8, 11.3, 11.2, 11.6, 12.5, 10.1, 10.5, 11.2, 10.2, 10.8, 10.8, 9.1, 10.0, 11.2, 11.1, 13.4, 10.3, 9.6, 11.2, 9.0, 11.3, 9.3, 11.8, 9.0, 9.2, 9.7, 11.5, 14.0, 9.2, 9.8, 10.6, 11.4, 10.4, 10.6, 9.4, 10.2, 9.7, 11.0, 10.2, 10.1, 9.2, 11.7, 9.4, 9.4, 13.4, 10.0, 10.0, 10.0, 10.8, 10.2, 10.6, 13.3, 13.4, 11.6, 12.1, 11.0, 9.0, 11.1, 11.0, 11.6, 9.0, 12.0, 12.0, 10.9, 10.8, 12.5, 10.8, 9.5, 10.2, 11.4, 9.5, 10.2, 9.7, 11.8, 11.8, 9.3, 11.9, 8.4, 11.7, 11.0, 10.0, 9.1, 9.8, 9.4, 9.5, 9.9, 11.0, 11.4, 8.7, 9.4, 10.3, 10.3, 10.3, 12.8, 10.0, 10.3, 9.4, 10.7, 12.0, 11.2, 9.6, 11.0, 9.9, 11.0, 8.4, 9.1, 9.5, 10.7, 10.4, 9.4, 9.5, 10.0, 10.0, 11.5, 11.1, 11.1, 11.7, 11.1, 11.7, 12.7, 11.4, 9.2, 9.2, 10.1, 12.7, 11.4, 9.0, 9.0, 10.7, 11.7, 11.0, 11.7, 10.4, 9.6, 10.0, 10.2, 10.0, 9.5, 9.8, 9.8, 9.6, 9.6, 9.2, 9.9, 10.7, 9.6, 10.6, 9.3, 14.0, 10.5, 9.7, 11.5, 9.7, 9.0, 9.5, 9.3, 9.3, 10.0, 9.8, 9.3, 10.0, 9.0, 9.3, 9.0, 9.1, 9.2, 12.2, 10.5, 10.4, 12.7, 9.2, 9.4, 10.0, 9.8, 10.2, 9.7, 9.7, 9.8, 10.2, 9.3, 9.4, 9.4, 9.5, 12.1, 10.2, 10.2, 9.1, 9.1, 9.3, 9.3, 9.3, 9.5, 10.5, 11.3, 9.5, 9.7, 9.4, 9.4, 10.2, 10.3, 9.4, 9.5, 9.4, 9.5, 9.4, 10.1, 10.1, 11.0, 11.2, 11.3, 9.6, 11.2, 14.9, 12.0, 9.5, 9.4, 9.6, 10.5, 9.6, 11.0, 9.6, 9.0, 9.6, 10.2, 10.2, 9.7, 9.5, 9.2, 11.0, 9.2, 10.0, 9.5, 9.5, 9.5, 9.3, 10.2, 9.3, 9.9, 10.0, 9.6, 9.0, 10.2, 9.8, 11.3, 9.4, 11.3, 9.1, 9.7, 9.4, 9.4, 10.7, 9.8, 9.0, 9.4, 9.4, 12.8, 9.5, 9.5, 9.7, 10.8, 10.1, 9.5, 9.4, 9.6, 9.7, 9.9, 10.0, 10.5, 11.6, 10.0, 10.1, 9.5, 9.4, 9.4, 9.8, 9.2, 9.4, 10.0, 9.6, 9.5, 9.6, 9.2, 10.0, 9.5, 11.2, 10.4, 11.1, 9.5, 9.5, 12.7, 9.6, 11.5, 9.6, 9.5, 9.3, 9.5, 9.5, 9.3, 9.2, 9.3, 11.5, 9.5, 9.2, 10.0, 9.5, 9.5, 9.0, 9.4, 9.6, 9.5, 9.5, 9.5, 9.4, 9.5, 9.1, 10.7, 11.2, 9.8, 9.8, 9.2, 9.7, 9.6, 10.0, 9.6, 9.5, 9.5, 9.4, 9.5, 9.7, 9.6, 9.7, 9.4, 9.4, 9.5, 9.5, 10.0, 10.3, 10.3, 10.5, 9.8, 9.4, 9.8, 10.0, 9.8, 9.8, 9.5, 9.5, 10.1, 10.1, 9.3, 9.7, 9.6, 9.7, 10.8, 12.5, 10.2, 9.6, 10.8, 10.7, 10.7, 9.4, 10.0, 12.9, 9.6, 9.9, 12.8, 12.5, 12.8, 9.2, 10.3, 10.5, 10.9, 10.8, 11.4, 11.3, 10.8, 10.5, 11.9, 9.4, 9.6, 9.7, 14.0, 9.8, 9.8, 10.3, 10.7, 11.0, 10.7, 12.7, 11.1, 10.9, 11.1, 9.9, 9.9, 9.4, 9.3, 11.7, 11.7, 11.2, 10.0, 12.1, 10.3, 10.9, 9.4, 10.6, 9.8, 9.8, 9.9, 9.8, 9.8, 9.5, 9.5, 9.7, 10.9, 10.9, 11.7, 10.9, 11.3, 10.6, 11.2, 9.5, 11.5, 10.4, 9.7, 9.5, 9.7, 11.3, 11.2, 11.2, 10.9, 11.8, 10.6, 10.0, 11.1, 11.8, 11.8, 10.9, 11.8, 10.0, 9.5, 9.9, 11.4, 12.0, 9.5, 10.0, 10.5, 10.4, 12.1, 11.2, 9.3, 10.1, 9.7, 9.3, 9.7, 9.8, 10.7, 12.5, 10.7, 12.5, 11.0, 11.8, 10.8, 10.8, 10.8, 10.8, 9.5, 11.0, 11.5, 10.8, 11.5, 13.2, 10.9, 12.2, 12.2, 11.5, 11.9, 11.0, 10.1, 11.0, 11.8, 10.5, 11.0, 11.8, 10.1, 11.2, 11.0, 10.2, 9.2, 11.2, 12.0, 10.5, 9.8, 9.5, 9.8, 10.5, 11.8, 11.8, 10.4, 12.9, 11.4, 12.4, 12.5, 10.0, 9.7, 12.1, 11.1, 12.0, 12.4, 11.9, 11.9, 11.9, 12.4, 11.2, 12.1, 12.2, 10.4, 11.3, 11.1, 11.3, 10.0, 11.1, 9.3, 9.5, 11.2, 11.1, 11.0, 11.9, 9.2, 12.2, 10.2, 10.9, 10.9, 11.6, 10.7, 12.1, 9.4, 9.4, 9.1, 11.3, 10.4, 10.5, 10.0, 12.9, 10.5, 10.4, 11.3, 11.4, 9.4, 9.4, 10.9, 9.4, 9.4, 9.4, 9.4, 9.4, 10.1, 12.8, 12.8, 9.1, 12.9, 11.5, 10.6, 11.7, 12.8, 10.3, 12.8, 11.7, 11.7, 12.0, 10.9, 12.3, 10.4, 10.0, 10.0, 11.2, 11.4, 12.6, 12.7, 12.7, 10.4, 11.9, 11.9, 10.5, 12.3, 10.5, 10.4, 12.6, 11.6, 10.1, 10.5, 11.5, 11.0, 9.6, 10.4, 9.7, 10.6, 12.5, 9.2, 12.6, 11.1, 10.2, 9.8, 11.1, 10.9, 12.2, 11.4, 10.7, 10.4, 10.9, 10.8, 10.4, 9.2, 12.9, 12.7, 9.1, 9.1, 12.1, 9.1, 11.6, 12.1, 9.9, 12.5, 11.4, 11.8, 11.8, 10.2, 12.5, 10.9, 10.9, 10.8, 11.1, 9.2, 9.5, 10.7, 9.2, 10.2, 11.4, 11.0, 11.0, 12.3, 11.8, 12.3, 9.5, 12.0, 9.5, 9.6, 11.6, 11.2, 9.9, 9.9, 11.8, 11.4, 11.5, 12.0, 10.8, 10.5, 10.8, 9.4, 12.5, 9.4, 12.4, 12.0, 11.2, 12.0, 12.4, 12.8, 12.3, 11.7, 9.5, 10.8, 10.0, 12.3, 11.0, 9.5, 13.6, 11.3, 11.3, 11.3, 13.3, 12.9, 13.1, 12.3, 12.3, 11.2, 11.5, 11.3, 13.5, 11.5, 10.0, 10.5, 10.4, 9.5, 13.6, 11.2, 11.8, 11.9, 11.4, 11.4, 9.1, 9.5, 9.5, 11.0, 11.4, 10.0, 10.1, 10.4, 9.8, 11.8, 11.6, 12.0, 12.8, 12.5, 9.8, 11.1, 11.4, 9.8, 11.8, 12.9, 10.6, 10.8, 11.1, 10.2, 11.8, 10.0, 10.0, 9.4, 10.2, 12.4, 12.0, 11.5, 10.5, 10.8, 12.3, 9.5, 9.5, 11.5, 11.2, 12.7, 11.4, 11.0, 11.0, 11.4, 10.5, 9.3, 10.9, 11.9, 12.2, 11.9, 10.9, 9.6, 12.5, 10.8, 12.4, 10.8, 9.5, 9.5, 9.5, 9.8, 10.9, 9.5, 9.8, 11.2, 11.7, 9.4, 11.0, 11.0, 11.0, 10.0, 11.0, 11.2, 10.4, 9.3, 10.4, 10.5, 10.4, 11.3, 9.5, 12.0, 10.6, 10.9, 11.5, 11.5, 9.6, 12.0, 10.3, 9.4, 9.2, 9.6, 13.6, 9.5, 11.8, 10.8, 9.5, 9.3, 12.8, 11.5, 9.4, 12.8, 9.6, 11.8, 9.3, 9.8, 12.2, 9.5, 10.3, 10.5, 10.0, 10.5, 11.1, 10.9, 10.9, 9.8, 9.8, 9.5, 10.9, 11.0, 9.2, 11.0, 11.3, 11.3, 9.3, 11.2, 9.8, 9.6, 11.8, 10.3, 10.3, 11.4, 9.5, 14.0, 14.0, 11.7, 11.2, 9.3, 11.2, 9.5, 12.0, 9.7, 9.5, 11.5, 10.4, 10.4, 10.9, 10.2, 10.9, 10.5, 12.4, 13.0, 10.2, 10.2, 11.0, 10.9, 12.4, 9.7, 10.9, 9.5, 9.5, 12.1, 12.2, 10.9, 12.5, 11.7, 11.2, 11.2, 9.2, 9.8, 10.1, 11.1, 10.1, 9.2, 9.8, 12.8, 10.5, 10.1, 10.1, 9.8, 12.5, 11.9, 9.8, 9.1, 10.1, 12.5, 11.4, 11.0, 10.6, 10.6, 10.6, 10.6, 9.3, 9.8, 9.8, 9.2, 9.7, 9.6, 10.0, 12.6, 9.5, 9.5, 9.5, 10.5, 10.5, 10.5, 10.4, 10.5, 11.0, 10.2, 11.4, 9.5, 9.5, 10.8, 10.0, 11.8, 10.3, 10.3, 10.0, 10.1, 10.1, 11.1, 9.5, 10.0333333333333, 10.9, 10.1, 10.0333333333333, 9.8, 11.8, 9.5, 9.8, 10.5, 9.8, 10.4, 9.2, 11.6, 9.2, 9.3, 9.8, 9.9, 10.0, 12.2, 9.9, 10.8, 10.8, 9.6, 9.9, 9.9, 9.5, 9.2, 9.6, 9.6, 10.3, 9.7, 12.5, 11.0, 9.8, 10.2, 9.2, 9.55, 9.55, 9.9, 10.2, 11.1, 9.9, 9.9, 11.9, 10.0, 10.7, 11.3, 10.9, 10.7, 12.4, 10.7, 11.9, 10.6, 10.9, 10.1, 9.6, 9.4, 9.6, 12.1, 9.8, 9.9, 9.8, 9.4, 11.4, 11.0, 9.6, 9.6, 12.1, 11.2, 11.0, 11.3, 10.4, 9.9, 11.7, 10.1, 9.0, 9.0, 8.5, 11.1, 10.3, 11.066666666666698, 11.3, 9.56666666666667, 9.8, 11.7, 11.1, 9.6, 9.8, 9.7, 9.7, 11.3, 11.3, 11.0, 11.6, 9.0, 10.9, 10.9, 10.55, 9.0, 10.5, 11.9, 10.4, 10.0, 10.4, 10.8, 9.7, 9.7, 10.0, 11.0, 10.0, 9.7, 9.7, 12.6, 11.1, 11.0, 8.8, 13.566666666666698, 8.8, 13.6, 10.2, 10.6, 10.1, 10.6, 10.3, 10.7, 10.9, 9.7, 10.3, 10.6, 11.4, 10.8, 12.4, 11.4, 11.95, 9.7, 10.0, 10.6, 9.7, 11.5, 10.8, 11.5, 9.6, 9.4, 9.8, 11.0, 11.4, 9.95, 10.8, 11.4, 10.6, 11.1, 9.7, 9.8, 10.4, 10.5, 9.23333333333333, 9.25, 10.6, 10.3, 10.5, 10.2, 10.3, 9.05, 10.6, 10.4, 10.0, 9.7, 9.6, 10.8, 10.1, 10.2, 11.3, 10.2, 9.9, 9.0, 11.7, 9.7, 10.3, 10.2, 12.0, 9.9, 11.6, 10.9, 10.75, 10.4, 11.2, 10.1, 10.2, 12.1, 10.4, 11.4, 9.5, 9.4, 11.3, 9.4, 11.0, 10.55, 9.9, 11.0, 9.5, 9.9, 9.9, 9.9, 10.1, 10.1, 10.1, 10.9, 11.2, 10.1, 9.2, 11.5, 12.4, 11.1, 9.5, 12.5, 10.5, 11.8, 10.8, 11.9, 11.3, 11.3, 11.9, 11.3, 11.9, 9.8, 11.6, 11.5, 11.4, 10.9, 12.8, 9.2, 11.6, 11.6, 11.0, 9.5, 10.5, 11.2, 11.0, 10.2, 11.0], \"xaxis\": \"x\", \"yaxis\": \"y\"}],                        {\"barmode\": \"relative\", \"legend\": {\"tracegroupgap\": 0}, \"margin\": {\"t\": 60}, \"template\": {\"data\": {\"bar\": [{\"error_x\": {\"color\": \"#2a3f5f\"}, \"error_y\": {\"color\": \"#2a3f5f\"}, \"marker\": {\"line\": {\"color\": \"#E5ECF6\", \"width\": 0.5}}, \"type\": \"bar\"}], \"barpolar\": [{\"marker\": {\"line\": {\"color\": \"#E5ECF6\", \"width\": 0.5}}, \"type\": \"barpolar\"}], \"carpet\": [{\"aaxis\": {\"endlinecolor\": \"#2a3f5f\", \"gridcolor\": \"white\", \"linecolor\": \"white\", \"minorgridcolor\": \"white\", \"startlinecolor\": \"#2a3f5f\"}, \"baxis\": {\"endlinecolor\": \"#2a3f5f\", \"gridcolor\": \"white\", \"linecolor\": \"white\", \"minorgridcolor\": \"white\", \"startlinecolor\": \"#2a3f5f\"}, \"type\": \"carpet\"}], \"choropleth\": [{\"colorbar\": {\"outlinewidth\": 0, \"ticks\": \"\"}, \"type\": \"choropleth\"}], \"contour\": [{\"colorbar\": {\"outlinewidth\": 0, \"ticks\": \"\"}, \"colorscale\": [[0.0, \"#0d0887\"], [0.1111111111111111, \"#46039f\"], [0.2222222222222222, \"#7201a8\"], [0.3333333333333333, \"#9c179e\"], [0.4444444444444444, \"#bd3786\"], [0.5555555555555556, \"#d8576b\"], [0.6666666666666666, \"#ed7953\"], [0.7777777777777778, \"#fb9f3a\"], [0.8888888888888888, \"#fdca26\"], [1.0, \"#f0f921\"]], \"type\": \"contour\"}], \"contourcarpet\": [{\"colorbar\": {\"outlinewidth\": 0, \"ticks\": \"\"}, \"type\": \"contourcarpet\"}], \"heatmap\": [{\"colorbar\": {\"outlinewidth\": 0, \"ticks\": \"\"}, \"colorscale\": [[0.0, \"#0d0887\"], [0.1111111111111111, \"#46039f\"], [0.2222222222222222, \"#7201a8\"], [0.3333333333333333, \"#9c179e\"], [0.4444444444444444, \"#bd3786\"], [0.5555555555555556, \"#d8576b\"], [0.6666666666666666, \"#ed7953\"], [0.7777777777777778, \"#fb9f3a\"], [0.8888888888888888, \"#fdca26\"], [1.0, \"#f0f921\"]], \"type\": \"heatmap\"}], \"heatmapgl\": [{\"colorbar\": {\"outlinewidth\": 0, \"ticks\": \"\"}, \"colorscale\": [[0.0, \"#0d0887\"], [0.1111111111111111, \"#46039f\"], [0.2222222222222222, \"#7201a8\"], [0.3333333333333333, \"#9c179e\"], [0.4444444444444444, \"#bd3786\"], [0.5555555555555556, \"#d8576b\"], [0.6666666666666666, \"#ed7953\"], [0.7777777777777778, \"#fb9f3a\"], [0.8888888888888888, \"#fdca26\"], [1.0, \"#f0f921\"]], \"type\": \"heatmapgl\"}], \"histogram\": [{\"marker\": {\"colorbar\": {\"outlinewidth\": 0, \"ticks\": \"\"}}, \"type\": \"histogram\"}], \"histogram2d\": [{\"colorbar\": {\"outlinewidth\": 0, \"ticks\": \"\"}, \"colorscale\": [[0.0, \"#0d0887\"], [0.1111111111111111, \"#46039f\"], [0.2222222222222222, \"#7201a8\"], [0.3333333333333333, \"#9c179e\"], [0.4444444444444444, \"#bd3786\"], [0.5555555555555556, \"#d8576b\"], [0.6666666666666666, \"#ed7953\"], [0.7777777777777778, \"#fb9f3a\"], [0.8888888888888888, \"#fdca26\"], [1.0, \"#f0f921\"]], \"type\": \"histogram2d\"}], \"histogram2dcontour\": [{\"colorbar\": {\"outlinewidth\": 0, \"ticks\": \"\"}, \"colorscale\": [[0.0, \"#0d0887\"], [0.1111111111111111, \"#46039f\"], [0.2222222222222222, \"#7201a8\"], [0.3333333333333333, \"#9c179e\"], [0.4444444444444444, \"#bd3786\"], [0.5555555555555556, \"#d8576b\"], [0.6666666666666666, \"#ed7953\"], [0.7777777777777778, \"#fb9f3a\"], [0.8888888888888888, \"#fdca26\"], [1.0, \"#f0f921\"]], \"type\": \"histogram2dcontour\"}], \"mesh3d\": [{\"colorbar\": {\"outlinewidth\": 0, \"ticks\": \"\"}, \"type\": \"mesh3d\"}], \"parcoords\": [{\"line\": {\"colorbar\": {\"outlinewidth\": 0, \"ticks\": \"\"}}, \"type\": \"parcoords\"}], \"pie\": [{\"automargin\": true, \"type\": \"pie\"}], \"scatter\": [{\"marker\": {\"colorbar\": {\"outlinewidth\": 0, \"ticks\": \"\"}}, \"type\": \"scatter\"}], \"scatter3d\": [{\"line\": {\"colorbar\": {\"outlinewidth\": 0, \"ticks\": \"\"}}, \"marker\": {\"colorbar\": {\"outlinewidth\": 0, \"ticks\": \"\"}}, \"type\": \"scatter3d\"}], \"scattercarpet\": [{\"marker\": {\"colorbar\": {\"outlinewidth\": 0, \"ticks\": \"\"}}, \"type\": \"scattercarpet\"}], \"scattergeo\": [{\"marker\": {\"colorbar\": {\"outlinewidth\": 0, \"ticks\": \"\"}}, \"type\": \"scattergeo\"}], \"scattergl\": [{\"marker\": {\"colorbar\": {\"outlinewidth\": 0, \"ticks\": \"\"}}, \"type\": \"scattergl\"}], \"scattermapbox\": [{\"marker\": {\"colorbar\": {\"outlinewidth\": 0, \"ticks\": \"\"}}, \"type\": \"scattermapbox\"}], \"scatterpolar\": [{\"marker\": {\"colorbar\": {\"outlinewidth\": 0, \"ticks\": \"\"}}, \"type\": \"scatterpolar\"}], \"scatterpolargl\": [{\"marker\": {\"colorbar\": {\"outlinewidth\": 0, \"ticks\": \"\"}}, \"type\": \"scatterpolargl\"}], \"scatterternary\": [{\"marker\": {\"colorbar\": {\"outlinewidth\": 0, \"ticks\": \"\"}}, \"type\": \"scatterternary\"}], \"surface\": [{\"colorbar\": {\"outlinewidth\": 0, \"ticks\": \"\"}, \"colorscale\": [[0.0, \"#0d0887\"], [0.1111111111111111, \"#46039f\"], [0.2222222222222222, \"#7201a8\"], [0.3333333333333333, \"#9c179e\"], [0.4444444444444444, \"#bd3786\"], [0.5555555555555556, \"#d8576b\"], [0.6666666666666666, \"#ed7953\"], [0.7777777777777778, \"#fb9f3a\"], [0.8888888888888888, \"#fdca26\"], [1.0, \"#f0f921\"]], \"type\": \"surface\"}], \"table\": [{\"cells\": {\"fill\": {\"color\": \"#EBF0F8\"}, \"line\": {\"color\": \"white\"}}, \"header\": {\"fill\": {\"color\": \"#C8D4E3\"}, \"line\": {\"color\": \"white\"}}, \"type\": \"table\"}]}, \"layout\": {\"annotationdefaults\": {\"arrowcolor\": \"#2a3f5f\", \"arrowhead\": 0, \"arrowwidth\": 1}, \"coloraxis\": {\"colorbar\": {\"outlinewidth\": 0, \"ticks\": \"\"}}, \"colorscale\": {\"diverging\": [[0, \"#8e0152\"], [0.1, \"#c51b7d\"], [0.2, \"#de77ae\"], [0.3, \"#f1b6da\"], [0.4, \"#fde0ef\"], [0.5, \"#f7f7f7\"], [0.6, \"#e6f5d0\"], [0.7, \"#b8e186\"], [0.8, \"#7fbc41\"], [0.9, \"#4d9221\"], [1, \"#276419\"]], \"sequential\": [[0.0, \"#0d0887\"], [0.1111111111111111, \"#46039f\"], [0.2222222222222222, \"#7201a8\"], [0.3333333333333333, \"#9c179e\"], [0.4444444444444444, \"#bd3786\"], [0.5555555555555556, \"#d8576b\"], [0.6666666666666666, \"#ed7953\"], [0.7777777777777778, \"#fb9f3a\"], [0.8888888888888888, \"#fdca26\"], [1.0, \"#f0f921\"]], \"sequentialminus\": [[0.0, \"#0d0887\"], [0.1111111111111111, \"#46039f\"], [0.2222222222222222, \"#7201a8\"], [0.3333333333333333, \"#9c179e\"], [0.4444444444444444, \"#bd3786\"], [0.5555555555555556, \"#d8576b\"], [0.6666666666666666, \"#ed7953\"], [0.7777777777777778, \"#fb9f3a\"], [0.8888888888888888, \"#fdca26\"], [1.0, \"#f0f921\"]]}, \"colorway\": [\"#636efa\", \"#EF553B\", \"#00cc96\", \"#ab63fa\", \"#FFA15A\", \"#19d3f3\", \"#FF6692\", \"#B6E880\", \"#FF97FF\", \"#FECB52\"], \"font\": {\"color\": \"#2a3f5f\"}, \"geo\": {\"bgcolor\": \"white\", \"lakecolor\": \"white\", \"landcolor\": \"#E5ECF6\", \"showlakes\": true, \"showland\": true, \"subunitcolor\": \"white\"}, \"hoverlabel\": {\"align\": \"left\"}, \"hovermode\": \"closest\", \"mapbox\": {\"style\": \"light\"}, \"paper_bgcolor\": \"white\", \"plot_bgcolor\": \"#E5ECF6\", \"polar\": {\"angularaxis\": {\"gridcolor\": \"white\", \"linecolor\": \"white\", \"ticks\": \"\"}, \"bgcolor\": \"#E5ECF6\", \"radialaxis\": {\"gridcolor\": \"white\", \"linecolor\": \"white\", \"ticks\": \"\"}}, \"scene\": {\"xaxis\": {\"backgroundcolor\": \"#E5ECF6\", \"gridcolor\": \"white\", \"gridwidth\": 2, \"linecolor\": \"white\", \"showbackground\": true, \"ticks\": \"\", \"zerolinecolor\": \"white\"}, \"yaxis\": {\"backgroundcolor\": \"#E5ECF6\", \"gridcolor\": \"white\", \"gridwidth\": 2, \"linecolor\": \"white\", \"showbackground\": true, \"ticks\": \"\", \"zerolinecolor\": \"white\"}, \"zaxis\": {\"backgroundcolor\": \"#E5ECF6\", \"gridcolor\": \"white\", \"gridwidth\": 2, \"linecolor\": \"white\", \"showbackground\": true, \"ticks\": \"\", \"zerolinecolor\": \"white\"}}, \"shapedefaults\": {\"line\": {\"color\": \"#2a3f5f\"}}, \"ternary\": {\"aaxis\": {\"gridcolor\": \"white\", \"linecolor\": \"white\", \"ticks\": \"\"}, \"baxis\": {\"gridcolor\": \"white\", \"linecolor\": \"white\", \"ticks\": \"\"}, \"bgcolor\": \"#E5ECF6\", \"caxis\": {\"gridcolor\": \"white\", \"linecolor\": \"white\", \"ticks\": \"\"}}, \"title\": {\"x\": 0.05}, \"xaxis\": {\"automargin\": true, \"gridcolor\": \"white\", \"linecolor\": \"white\", \"ticks\": \"\", \"title\": {\"standoff\": 15}, \"zerolinecolor\": \"white\", \"zerolinewidth\": 2}, \"yaxis\": {\"automargin\": true, \"gridcolor\": \"white\", \"linecolor\": \"white\", \"ticks\": \"\", \"title\": {\"standoff\": 15}, \"zerolinecolor\": \"white\", \"zerolinewidth\": 2}}}, \"xaxis\": {\"anchor\": \"y\", \"domain\": [0.0, 1.0], \"title\": {\"text\": \"alcohol\"}}, \"yaxis\": {\"anchor\": \"x\", \"domain\": [0.0, 1.0], \"title\": {\"text\": \"count\"}}},                        {\"responsive\": true}                    ).then(function(){\n",
       "                            \n",
       "var gd = document.getElementById('46e869ca-8e5a-47ac-aacd-b4753d028d6b');\n",
       "var x = new MutationObserver(function (mutations, observer) {{\n",
       "        var display = window.getComputedStyle(gd).display;\n",
       "        if (!display || display === 'none') {{\n",
       "            console.log([gd, 'removed!']);\n",
       "            Plotly.purge(gd);\n",
       "            observer.disconnect();\n",
       "        }}\n",
       "}});\n",
       "\n",
       "// Listen for the removal of the full notebook cells\n",
       "var notebookContainer = gd.closest('#notebook-container');\n",
       "if (notebookContainer) {{\n",
       "    x.observe(notebookContainer, {childList: true});\n",
       "}}\n",
       "\n",
       "// Listen for the clearing of the current output cell\n",
       "var outputEl = gd.closest('.output');\n",
       "if (outputEl) {{\n",
       "    x.observe(outputEl, {childList: true});\n",
       "}}\n",
       "\n",
       "                        })                };                });            </script>        </div>"
      ]
     },
     "metadata": {},
     "output_type": "display_data"
    }
   ],
   "source": [
    "fig = px.histogram(data_frame,x='alcohol')\n",
    "fig.show()\n"
   ]
  },
  {
   "cell_type": "code",
   "execution_count": 78,
   "metadata": {},
   "outputs": [
    {
     "data": {
      "application/vnd.plotly.v1+json": {
       "config": {
        "plotlyServerURL": "https://plot.ly"
       },
       "data": [
        {
         "alignmentgroup": "True",
         "bingroup": "x",
         "hovertemplate": "pH=%{x}<br>count=%{y}<extra></extra>",
         "legendgroup": "",
         "marker": {
          "color": "#636efa"
         },
         "name": "",
         "offsetgroup": "",
         "orientation": "v",
         "showlegend": false,
         "type": "histogram",
         "x": [
          3.51,
          3.2,
          3.26,
          3.16,
          3.51,
          3.51,
          3.3,
          3.39,
          3.36,
          3.35,
          3.28,
          3.35,
          3.58,
          3.26,
          3.16,
          3.17,
          3.3,
          3.11,
          3.38,
          3.04,
          3.39,
          3.52,
          3.17,
          3.17,
          3.43,
          3.34,
          3.28,
          3.17,
          3.47,
          3.38,
          3.35,
          3.46,
          3.17,
          3.45,
          3.38,
          3.4,
          3.42,
          3.23,
          3.5,
          3.33,
          3.33,
          3.26,
          3.21,
          3.3,
          3.48,
          3.9,
          3.25,
          3.25,
          3.34,
          3.32,
          3.15,
          3.4,
          3.39,
          3.2,
          3.17,
          3.34,
          3.04,
          3.26,
          3.43,
          3.41,
          3.44,
          3.21,
          3.38,
          3.39,
          3.41,
          3.41,
          3.42,
          3.44,
          3.28,
          3.34,
          3.32,
          3.32,
          3.31,
          3.31,
          3.28,
          3.54,
          3.54,
          3.52,
          3.38,
          3.16,
          3.41,
          3.13,
          3.36,
          3.16,
          3.44,
          3.41,
          2.93,
          3.39,
          3.14,
          3.48,
          3.23,
          2.93,
          2.93,
          3.39,
          3.75,
          3.85,
          3.45,
          3.25,
          3.39,
          3.3,
          3.4,
          3.31,
          3.3,
          3.29,
          3.33,
          3.29,
          3.08,
          3.46,
          3.37,
          3.21,
          3.19,
          3.15,
          3.15,
          3.32,
          3.19,
          3.07,
          3.39,
          3.37,
          3.21,
          3.34,
          3.3,
          3.21,
          3.49,
          3.44,
          3.39,
          3.16,
          3.53,
          3.54,
          3.42,
          3.42,
          3.24,
          3.63,
          3.63,
          3.4,
          3.22,
          3.19,
          3.23,
          3.48,
          3.33,
          3.32,
          3.19,
          3.23,
          3.68,
          3.34,
          3.68,
          3.17,
          3.54,
          3.11,
          3.42,
          3.53,
          3.33,
          2.74,
          3.35,
          3.35,
          3.42,
          3.42,
          3.42,
          3.42,
          3.48,
          3.59,
          3.2,
          3.17,
          3.33,
          3.37,
          3.37,
          3.19,
          3.34,
          3.37,
          3.47,
          3,
          3.36,
          3.29,
          3.29,
          3.42,
          3.33,
          3.35,
          3.33,
          3.58,
          3.48,
          3.19,
          3.19,
          3.12,
          3.44,
          3.54,
          3.52,
          3.26,
          3.34,
          3.39,
          3.2,
          3.2,
          3.23,
          3.57,
          3.28,
          3.28,
          3.28,
          3.25,
          3.46,
          3.11,
          3.57,
          3.51,
          3.22,
          3.04,
          3.36,
          3.34,
          3.34,
          3.2,
          3.2,
          3.29,
          3.22,
          3.31,
          3.3,
          3.35,
          3.21,
          3.3,
          3.24,
          3.34,
          3.14,
          3.36,
          3.39,
          3.3,
          3.34,
          3.15,
          3.42,
          3.28,
          3.31,
          3.37,
          3.04,
          3.39,
          3.37,
          3.46,
          3.54,
          3.37,
          3.34,
          3.46,
          3.32,
          3.37,
          3.37,
          3.37,
          3.37,
          3.32,
          3,
          3.14,
          3.08,
          3.07,
          3.07,
          3.61,
          3.38,
          3.2,
          3.35,
          3.61,
          3.22,
          3.47,
          3.17,
          3.23,
          3.47,
          3.26,
          3.22,
          3.49,
          3.06,
          3.36,
          3.29,
          3.35,
          3.34,
          3.28,
          3.08,
          3.2,
          3.6,
          3.35,
          3.69,
          3.28,
          3.36,
          3.28,
          3.22,
          3.31,
          3.38,
          3.36,
          3.69,
          3.28,
          3.23,
          3.38,
          3.12,
          3.25,
          3.36,
          3.38,
          3.31,
          3.31,
          3.1,
          3.37,
          3.34,
          3.2,
          3.34,
          3.3,
          3.22,
          3.41,
          3.05,
          3.05,
          3.16,
          3.67,
          3.67,
          3.68,
          3.38,
          3.22,
          3.51,
          3.39,
          3.2,
          3.12,
          3.36,
          3.19,
          3.19,
          3.41,
          3.12,
          3.27,
          3.32,
          3.3,
          3.39,
          3.42,
          3.3,
          3.3,
          3.37,
          3.3,
          3.37,
          3.24,
          3.29,
          3.28,
          3.16,
          3.16,
          3.05,
          3.28,
          3.16,
          3.18,
          3.23,
          3.23,
          3.22,
          3.13,
          3.34,
          3.17,
          3.35,
          3.31,
          3.16,
          3.11,
          3.12,
          3.21,
          3.3,
          3.3,
          3.12,
          3.6,
          3.58,
          3.02,
          3.11,
          3.36,
          3.28,
          3.35,
          3.27,
          3.18,
          3.25,
          3.55,
          3.26,
          3.24,
          3.15,
          3.17,
          3.19,
          3.37,
          3.05,
          2.99,
          3.07,
          3.26,
          3.07,
          3.16,
          3.18,
          3.2,
          3.57,
          3.32,
          3.32,
          3.05,
          3.01,
          3.01,
          3.26,
          3.2,
          3.11,
          3.31,
          3.21,
          3.06,
          3.21,
          3.21,
          3.42,
          3.43,
          3.41,
          3.31,
          3.43,
          3.19,
          3.56,
          3.06,
          3.18,
          3.16,
          3.03,
          3.22,
          3.47,
          3.18,
          3.18,
          3.1,
          3.47,
          3.29,
          3.1,
          3.15,
          3.26,
          3.36,
          3.24,
          3.18,
          3.19,
          3.05,
          3.38,
          3.38,
          3.27,
          3.27,
          3.26,
          3.32,
          3.26,
          3.44,
          3.24,
          3.62,
          3.28,
          3.52,
          3.36,
          3.15,
          3.36,
          3.52,
          3.49,
          3.26,
          3.24,
          3.1,
          3.15,
          3.25,
          3,
          3.16,
          3.15,
          3.16,
          3.26,
          3.17,
          3.15,
          3.08,
          2.88,
          3.06,
          2.95,
          3.23,
          3.57,
          3.23,
          3.1,
          3.22,
          3.2,
          3.1,
          3.1,
          3.06,
          3.44,
          3.26,
          3.5,
          3.22,
          3.37,
          3.28,
          3.26,
          3.25,
          3.35,
          3.26,
          3.18,
          3.08,
          2.98,
          3.48,
          3.16,
          3.32,
          3.17,
          3.2,
          3.05,
          3.2,
          3.15,
          3.26,
          3.2,
          3.14,
          3.28,
          3.18,
          3.14,
          3.19,
          3.12,
          3.15,
          3.04,
          3.04,
          3.06,
          3.17,
          3.17,
          3.17,
          3.32,
          3.34,
          3.31,
          3.34,
          3.32,
          3.48,
          3.44,
          3.15,
          3.43,
          3.32,
          3.15,
          3.48,
          3.43,
          3.17,
          3.17,
          3.18,
          3.21,
          3.16,
          3.25,
          3.17,
          3.18,
          3.04,
          3.02,
          3.18,
          3.03,
          3.09,
          3.09,
          3.31,
          3.25,
          3.16,
          3.22,
          3.36,
          3.42,
          3.48,
          3.38,
          3.22,
          3.23,
          3.24,
          3.36,
          3.39,
          3.34,
          3.09,
          3.41,
          3.16,
          3.16,
          3.22,
          3.28,
          3.41,
          3.09,
          3.37,
          3.2,
          3.22,
          3.26,
          3.21,
          3.12,
          3.06,
          2.86,
          3.08,
          3.45,
          3.26,
          3.12,
          3.27,
          3.33,
          3.19,
          3.12,
          3.74,
          2.92,
          2.92,
          3.07,
          2.92,
          3.07,
          3.3,
          3.14,
          3.23,
          3.08,
          3.31,
          3.3,
          3.14,
          3.32,
          3.32,
          3.31,
          3.57,
          3.32,
          3.57,
          3.14,
          3.3,
          3.19,
          3.2,
          3.34,
          3.3,
          3.29,
          3.14,
          3.19,
          3.19,
          3.19,
          2.98,
          3.3,
          3.47,
          3.12,
          3.26,
          3.72,
          3.05,
          3.35,
          3.12,
          3.35,
          3.29,
          3.4,
          3.27,
          3.04,
          3.09,
          3.2,
          3,
          3.26,
          3.1,
          3.3,
          3.1,
          3.17,
          3.31,
          3.34,
          3.31,
          3.32,
          3.56,
          3.39,
          2.98,
          3.32,
          3.26,
          2.87,
          3.5,
          3.5,
          3.03,
          3.13,
          3.09,
          3.27,
          3.28,
          3.13,
          3.49,
          3.46,
          3.46,
          3.36,
          3.36,
          3.27,
          3.21,
          3.27,
          3.25,
          3.32,
          3.43,
          3.27,
          3.27,
          3.24,
          3.24,
          3.35,
          3.18,
          3.39,
          3.46,
          3.39,
          3.46,
          3.39,
          3.37,
          3.4,
          3.32,
          3.33,
          3.16,
          2.89,
          3.41,
          2.98,
          3.12,
          3.08,
          3.14,
          2.89,
          2.92,
          3.32,
          3.41,
          3.32,
          3.31,
          3.36,
          3.04,
          3.03,
          3.14,
          3.18,
          2.94,
          3.15,
          2.94,
          3.26,
          3.2,
          3.15,
          3.2,
          3.08,
          3.26,
          3.08,
          3.4,
          3.48,
          3.13,
          3.06,
          3.21,
          3.33,
          3.37,
          3.25,
          3.37,
          3.44,
          3.28,
          3.4,
          3.3,
          3.63,
          3.48,
          3.03,
          3.32,
          3.31,
          3.9,
          3.47,
          3.47,
          3.31,
          3.11,
          3.08,
          3.47,
          3.47,
          3.32,
          3.29,
          3.37,
          3.4,
          3.37,
          3.34,
          3.27,
          3.06,
          3.38,
          3.36,
          3.34,
          3.28,
          3.29,
          3.34,
          3.21,
          3.22,
          3.46,
          3.22,
          3.1,
          3.21,
          2.94,
          3.54,
          3.29,
          3.43,
          3.46,
          3.46,
          3.61,
          3.17,
          3.44,
          3.39,
          3.55,
          3.48,
          3.26,
          3.26,
          3.5,
          3.1,
          3.35,
          3.45,
          3.21,
          3.46,
          3.13,
          3.13,
          3.52,
          3.3,
          3.3,
          3.52,
          3.52,
          3.29,
          3.29,
          3.39,
          3.29,
          3.09,
          3.51,
          3.6,
          3.25,
          3.25,
          3.19,
          3.23,
          3.25,
          3.31,
          3.25,
          3.31,
          3.31,
          3.14,
          3.45,
          3.55,
          3.39,
          3.55,
          3.28,
          3.27,
          3.3,
          3.31,
          3.43,
          3.4,
          3.4,
          3.36,
          3.5,
          3.31,
          3.66,
          3.36,
          3.66,
          3.55,
          3.21,
          3.21,
          3.18,
          3.18,
          3.09,
          3.33,
          3.23,
          3.48,
          3.38,
          3.17,
          2.99,
          3.1,
          3.24,
          3.29,
          3.29,
          3.25,
          3.23,
          3.56,
          3.24,
          3.26,
          3.33,
          3.27,
          3.33,
          3.26,
          3.22,
          3.3,
          3.09,
          3.24,
          3.44,
          3.21,
          3.24,
          3.23,
          3.28,
          3.29,
          3.28,
          3.34,
          3.71,
          3.61,
          3.61,
          3.24,
          3.36,
          3.4,
          3.36,
          3.46,
          3.56,
          3.38,
          3.56,
          3.38,
          3.38,
          3.32,
          3.39,
          3.26,
          3.26,
          3.24,
          3.46,
          3.24,
          3.45,
          3.23,
          3.28,
          3.18,
          3.59,
          3.59,
          3.5,
          3.59,
          3.58,
          3.28,
          3.28,
          3.22,
          3.47,
          3.47,
          3.51,
          3.47,
          3.4,
          3.15,
          3.4,
          3.51,
          3.66,
          3.24,
          3.51,
          3.51,
          3.51,
          3.41,
          3.4,
          3.4,
          3.44,
          3.41,
          3.53,
          3.43,
          3.23,
          3.12,
          3.31,
          3.4,
          3.41,
          3.22,
          3.53,
          3.15,
          3.48,
          3.22,
          3.53,
          3.22,
          3.34,
          3.33,
          3.15,
          3.43,
          3.22,
          3.44,
          3.53,
          3.22,
          3.53,
          3.53,
          3.42,
          3.31,
          3.42,
          3.31,
          3.48,
          3.4,
          3.58,
          3.58,
          3.41,
          3.41,
          3.23,
          3.39,
          3.59,
          3.43,
          3.29,
          3.23,
          3.18,
          3.33,
          3.27,
          3.29,
          3.27,
          3.62,
          3.38,
          3.3,
          3.38,
          3.24,
          3.3,
          3.38,
          3.38,
          3.18,
          3.47,
          3.47,
          3.2,
          3.18,
          3.3,
          3.69,
          3.48,
          3.45,
          3.48,
          3.69,
          3.39,
          3.39,
          3.07,
          3.34,
          3.61,
          3.36,
          3.19,
          3.22,
          3.24,
          3.27,
          3.14,
          3.29,
          3.26,
          3.41,
          3.41,
          3.41,
          3.26,
          3.31,
          3.2,
          3.44,
          3.36,
          3.31,
          3.29,
          3.47,
          3.36,
          3.16,
          3.27,
          3.38,
          3.15,
          3.16,
          3.34,
          3.13,
          3.13,
          3.2,
          3.46,
          3.33,
          3.33,
          3.22,
          3.52,
          3.3,
          3.44,
          3.44,
          3.15,
          3.28,
          3.13,
          3.32,
          3.25,
          3.34,
          3.32,
          3.13,
          3.45,
          3.19,
          3.44,
          3.16,
          3.14,
          3.16,
          3.45,
          3.36,
          3.45,
          3.15,
          3.39,
          3.71,
          3.71,
          3.12,
          3.47,
          3.44,
          3.26,
          3.26,
          3.36,
          3.25,
          3.36,
          3.26,
          3.26,
          3.23,
          3.18,
          3.25,
          3.17,
          3.23,
          3.38,
          3.22,
          3.06,
          3.27,
          2.89,
          2.89,
          3.53,
          3.2,
          3.2,
          3.35,
          3.27,
          3.32,
          3.33,
          3.41,
          3.49,
          3.37,
          3.32,
          3.42,
          3.35,
          3.36,
          3.3,
          3.2,
          3.17,
          3.22,
          3.35,
          3.24,
          3.33,
          3.58,
          3.38,
          3.33,
          3.29,
          3.36,
          3.32,
          3.31,
          3.49,
          3.27,
          3.27,
          3.49,
          3.03,
          3.56,
          3.38,
          3.13,
          3.13,
          3.21,
          3.15,
          3.19,
          3.21,
          3.14,
          3.21,
          3.3,
          3.22,
          3.28,
          3.29,
          3.4,
          3.02,
          3.02,
          3.31,
          3.18,
          3.2,
          3.4,
          3.31,
          3.2,
          3.44,
          3.15,
          3.27,
          3.27,
          3.01,
          3.16,
          3.01,
          3.42,
          3.33,
          3.42,
          3.12,
          3.38,
          3.29,
          3.02,
          3.02,
          2.98,
          3.35,
          3.43,
          3.33,
          3.35,
          3.15,
          3.35,
          3.2,
          3.15,
          3.2,
          3.11,
          3.35,
          3.45,
          3.35,
          3.28,
          3.41,
          3.21,
          3.27,
          3.36,
          3.17,
          3.25,
          3.78,
          3.29,
          3.12,
          3.49,
          3.38,
          3.38,
          3.38,
          3.3,
          3.52,
          3.2,
          3.44,
          3.45,
          3.12,
          3.62,
          3.14,
          3.39,
          3.51,
          3.22,
          3.21,
          3.18,
          3.32,
          3.38,
          3.37,
          3.3,
          3.38,
          3.22,
          3.22,
          3.14,
          3.34,
          3.41,
          3.27,
          3.3,
          3.61,
          3.43,
          3.53,
          3.28,
          3.21,
          3.39,
          3.23,
          3.3,
          3.46,
          3.15,
          3.23,
          3.59,
          3.15,
          3.33,
          3.46,
          3.42,
          3.16,
          3.14,
          3.21,
          3.14,
          3.29,
          3.29,
          3.01,
          2.94,
          3.32,
          3.21,
          3.32,
          3.2,
          3.42,
          3.27,
          3.46,
          3.46,
          3.61,
          3.58,
          3.35,
          3.68,
          3.27,
          3.27,
          3.19,
          3.38,
          3.29,
          3.36,
          3.33,
          3.52,
          3.33,
          3.36,
          3.3,
          3.28,
          3.56,
          3.52,
          3.56,
          3.22,
          3.52,
          3.21,
          3.16,
          3.15,
          3.21,
          3.16,
          3.27,
          3.35,
          3.14,
          3.4,
          3.4,
          3.4,
          3.35,
          3.4,
          3.45,
          3.35,
          3.32,
          3.35,
          3.15,
          3.1,
          3.26,
          3.29,
          3.23,
          3.24,
          3.2,
          3.28,
          3.28,
          3.26,
          3.23,
          3.07,
          3.15,
          3.02,
          3.27,
          3.68,
          3.4,
          3.37,
          3.38,
          3.4,
          3.23,
          3.39,
          3.3,
          3.26,
          3.39,
          3.38,
          3.45,
          3.1,
          3.16,
          3.22,
          3.37,
          3.33,
          3.49,
          3.12,
          3.49,
          3.41,
          3.4,
          3.4,
          3.28,
          3.45,
          3.43,
          3.4,
          3.47,
          3.1,
          3.32,
          3.44,
          3.44,
          3.02,
          3.59,
          3.15,
          3.37,
          3.38,
          3.38,
          3.38,
          3.1,
          3.47,
          3.5,
          3.7,
          3.38,
          3.5,
          3.1,
          3.24,
          3.24,
          3.28,
          3.35,
          3.24,
          3.14,
          3.37,
          3.37,
          3.33,
          3.26,
          3.39,
          3.15,
          3.35,
          3.22,
          3.3,
          3.3,
          3.36,
          3.29,
          3.62,
          3.34,
          3.29,
          3.2,
          3.2,
          3.35,
          3.45,
          3.5,
          3.78,
          3.6,
          3.3,
          3.36,
          3.12,
          3.3,
          3.29,
          3.41,
          3.29,
          3.28,
          3.3,
          3.33,
          3.34,
          3.4,
          3.4,
          3.26,
          4.01,
          3.18,
          3.26,
          2.9,
          3.26,
          4.01,
          3.18,
          3.18,
          3.39,
          3.39,
          3.39,
          3.39,
          3.34,
          3.29,
          3.29,
          3.26,
          3.09,
          3.18,
          3.39,
          3.38,
          3.36,
          3.36,
          3.36,
          3.36,
          3.36,
          3.36,
          3.37,
          3.36,
          3.09,
          3.25,
          3.52,
          3.34,
          3.34,
          3.41,
          3.34,
          3.32,
          3.37,
          3.37,
          3.35,
          3.36,
          3.36,
          3.6,
          3.28,
          3.07,
          3.24,
          3.36,
          3.07,
          3.29,
          3.46,
          3.18,
          3.24,
          3.25,
          3.27,
          3.33,
          3,
          3.21,
          3,
          3.24,
          3.32,
          3.26,
          3.11,
          3.71,
          3.29,
          3.36,
          3.36,
          3.38,
          3.3,
          3.3,
          3.19,
          3.19,
          3.3,
          3.3,
          3.35,
          3.1,
          3.58,
          3.37,
          3.17,
          3.3,
          3.32,
          3.31,
          3.31,
          3.28,
          3.52,
          3.42,
          3.25,
          3.25,
          3.44,
          3.23,
          3.43,
          3.28,
          3.22,
          3.54,
          3.27,
          3.54,
          3.5,
          3.56,
          3.22,
          3.04,
          3.2,
          3.56,
          3.2,
          3.35,
          3.16,
          3.27,
          3.16,
          3.34,
          3.39,
          3.5,
          3.26,
          3.26,
          3.41,
          3.3,
          3.31,
          3.33,
          3.37,
          3.26,
          3.48,
          3.42,
          3.18,
          3.18,
          3.15,
          3.53,
          3.41,
          3.32,
          3.23,
          3.16,
          3.4,
          3.38,
          3.32,
          3.16,
          3.4,
          3.4,
          3.4,
          3.23,
          3.23,
          3.33,
          3.35,
          3.41,
          3.21,
          3.5,
          3.3,
          3.41,
          3.39,
          3.32,
          3.41,
          3.59,
          3.36,
          3.34,
          3.41,
          3.41,
          3.3,
          3.52,
          3.3,
          3.31,
          2.88,
          3.43,
          3.38,
          3.38,
          3.16,
          3.54,
          3.16,
          3.54,
          3.4,
          3.39,
          3.66,
          3.39,
          3.33,
          3.35,
          3.53,
          3.37,
          3.38,
          3.52,
          3.72,
          3.44,
          3.39,
          3.72,
          3.57,
          3.26,
          3.42,
          3.35,
          3.26,
          3.45,
          3.53,
          3.45,
          3.26,
          3.16,
          3.31,
          3.51,
          3.36,
          3.55,
          3.51,
          3.36,
          3.38,
          3.28,
          3.47,
          3.44,
          3.53,
          3.33,
          3.53,
          3.53,
          3.42,
          3.38,
          3.32,
          3.44,
          3.38,
          3.39,
          3.42,
          3.34,
          3.39,
          3.33,
          3.3,
          3.29,
          3.31,
          3.42,
          3.42,
          3.6,
          3.21,
          3.39,
          3.42,
          3.36,
          3.6,
          3.5,
          3.57,
          3.46,
          3.56,
          3.4,
          3.3,
          3.25,
          3.17,
          3.36,
          3.36,
          3.55,
          3.1,
          3.24,
          3.45,
          3.44,
          3.51,
          3.41,
          3.54,
          3.44,
          3.53,
          3.54,
          3.22,
          3.21,
          3.21,
          3.21,
          3.29,
          3.29,
          3.29,
          3.39,
          3.34,
          3.29,
          3.34,
          3.48,
          3.37,
          3.44,
          3.33,
          3.58,
          3.39,
          3.26,
          3.3,
          3.54,
          3.42,
          3.54,
          3.36,
          3.54,
          3.57,
          3.33,
          3.29,
          3.3,
          3.34,
          3.55,
          3.27,
          3.29,
          3.32,
          3.67,
          3.42,
          3.42,
          3.45,
          3.52,
          3.42,
          3.57,
          3.39
         ],
         "xaxis": "x",
         "yaxis": "y"
        }
       ],
       "layout": {
        "barmode": "relative",
        "legend": {
         "tracegroupgap": 0
        },
        "margin": {
         "t": 60
        },
        "template": {
         "data": {
          "bar": [
           {
            "error_x": {
             "color": "#2a3f5f"
            },
            "error_y": {
             "color": "#2a3f5f"
            },
            "marker": {
             "line": {
              "color": "#E5ECF6",
              "width": 0.5
             }
            },
            "type": "bar"
           }
          ],
          "barpolar": [
           {
            "marker": {
             "line": {
              "color": "#E5ECF6",
              "width": 0.5
             }
            },
            "type": "barpolar"
           }
          ],
          "carpet": [
           {
            "aaxis": {
             "endlinecolor": "#2a3f5f",
             "gridcolor": "white",
             "linecolor": "white",
             "minorgridcolor": "white",
             "startlinecolor": "#2a3f5f"
            },
            "baxis": {
             "endlinecolor": "#2a3f5f",
             "gridcolor": "white",
             "linecolor": "white",
             "minorgridcolor": "white",
             "startlinecolor": "#2a3f5f"
            },
            "type": "carpet"
           }
          ],
          "choropleth": [
           {
            "colorbar": {
             "outlinewidth": 0,
             "ticks": ""
            },
            "type": "choropleth"
           }
          ],
          "contour": [
           {
            "colorbar": {
             "outlinewidth": 0,
             "ticks": ""
            },
            "colorscale": [
             [
              0,
              "#0d0887"
             ],
             [
              0.1111111111111111,
              "#46039f"
             ],
             [
              0.2222222222222222,
              "#7201a8"
             ],
             [
              0.3333333333333333,
              "#9c179e"
             ],
             [
              0.4444444444444444,
              "#bd3786"
             ],
             [
              0.5555555555555556,
              "#d8576b"
             ],
             [
              0.6666666666666666,
              "#ed7953"
             ],
             [
              0.7777777777777778,
              "#fb9f3a"
             ],
             [
              0.8888888888888888,
              "#fdca26"
             ],
             [
              1,
              "#f0f921"
             ]
            ],
            "type": "contour"
           }
          ],
          "contourcarpet": [
           {
            "colorbar": {
             "outlinewidth": 0,
             "ticks": ""
            },
            "type": "contourcarpet"
           }
          ],
          "heatmap": [
           {
            "colorbar": {
             "outlinewidth": 0,
             "ticks": ""
            },
            "colorscale": [
             [
              0,
              "#0d0887"
             ],
             [
              0.1111111111111111,
              "#46039f"
             ],
             [
              0.2222222222222222,
              "#7201a8"
             ],
             [
              0.3333333333333333,
              "#9c179e"
             ],
             [
              0.4444444444444444,
              "#bd3786"
             ],
             [
              0.5555555555555556,
              "#d8576b"
             ],
             [
              0.6666666666666666,
              "#ed7953"
             ],
             [
              0.7777777777777778,
              "#fb9f3a"
             ],
             [
              0.8888888888888888,
              "#fdca26"
             ],
             [
              1,
              "#f0f921"
             ]
            ],
            "type": "heatmap"
           }
          ],
          "heatmapgl": [
           {
            "colorbar": {
             "outlinewidth": 0,
             "ticks": ""
            },
            "colorscale": [
             [
              0,
              "#0d0887"
             ],
             [
              0.1111111111111111,
              "#46039f"
             ],
             [
              0.2222222222222222,
              "#7201a8"
             ],
             [
              0.3333333333333333,
              "#9c179e"
             ],
             [
              0.4444444444444444,
              "#bd3786"
             ],
             [
              0.5555555555555556,
              "#d8576b"
             ],
             [
              0.6666666666666666,
              "#ed7953"
             ],
             [
              0.7777777777777778,
              "#fb9f3a"
             ],
             [
              0.8888888888888888,
              "#fdca26"
             ],
             [
              1,
              "#f0f921"
             ]
            ],
            "type": "heatmapgl"
           }
          ],
          "histogram": [
           {
            "marker": {
             "colorbar": {
              "outlinewidth": 0,
              "ticks": ""
             }
            },
            "type": "histogram"
           }
          ],
          "histogram2d": [
           {
            "colorbar": {
             "outlinewidth": 0,
             "ticks": ""
            },
            "colorscale": [
             [
              0,
              "#0d0887"
             ],
             [
              0.1111111111111111,
              "#46039f"
             ],
             [
              0.2222222222222222,
              "#7201a8"
             ],
             [
              0.3333333333333333,
              "#9c179e"
             ],
             [
              0.4444444444444444,
              "#bd3786"
             ],
             [
              0.5555555555555556,
              "#d8576b"
             ],
             [
              0.6666666666666666,
              "#ed7953"
             ],
             [
              0.7777777777777778,
              "#fb9f3a"
             ],
             [
              0.8888888888888888,
              "#fdca26"
             ],
             [
              1,
              "#f0f921"
             ]
            ],
            "type": "histogram2d"
           }
          ],
          "histogram2dcontour": [
           {
            "colorbar": {
             "outlinewidth": 0,
             "ticks": ""
            },
            "colorscale": [
             [
              0,
              "#0d0887"
             ],
             [
              0.1111111111111111,
              "#46039f"
             ],
             [
              0.2222222222222222,
              "#7201a8"
             ],
             [
              0.3333333333333333,
              "#9c179e"
             ],
             [
              0.4444444444444444,
              "#bd3786"
             ],
             [
              0.5555555555555556,
              "#d8576b"
             ],
             [
              0.6666666666666666,
              "#ed7953"
             ],
             [
              0.7777777777777778,
              "#fb9f3a"
             ],
             [
              0.8888888888888888,
              "#fdca26"
             ],
             [
              1,
              "#f0f921"
             ]
            ],
            "type": "histogram2dcontour"
           }
          ],
          "mesh3d": [
           {
            "colorbar": {
             "outlinewidth": 0,
             "ticks": ""
            },
            "type": "mesh3d"
           }
          ],
          "parcoords": [
           {
            "line": {
             "colorbar": {
              "outlinewidth": 0,
              "ticks": ""
             }
            },
            "type": "parcoords"
           }
          ],
          "pie": [
           {
            "automargin": true,
            "type": "pie"
           }
          ],
          "scatter": [
           {
            "marker": {
             "colorbar": {
              "outlinewidth": 0,
              "ticks": ""
             }
            },
            "type": "scatter"
           }
          ],
          "scatter3d": [
           {
            "line": {
             "colorbar": {
              "outlinewidth": 0,
              "ticks": ""
             }
            },
            "marker": {
             "colorbar": {
              "outlinewidth": 0,
              "ticks": ""
             }
            },
            "type": "scatter3d"
           }
          ],
          "scattercarpet": [
           {
            "marker": {
             "colorbar": {
              "outlinewidth": 0,
              "ticks": ""
             }
            },
            "type": "scattercarpet"
           }
          ],
          "scattergeo": [
           {
            "marker": {
             "colorbar": {
              "outlinewidth": 0,
              "ticks": ""
             }
            },
            "type": "scattergeo"
           }
          ],
          "scattergl": [
           {
            "marker": {
             "colorbar": {
              "outlinewidth": 0,
              "ticks": ""
             }
            },
            "type": "scattergl"
           }
          ],
          "scattermapbox": [
           {
            "marker": {
             "colorbar": {
              "outlinewidth": 0,
              "ticks": ""
             }
            },
            "type": "scattermapbox"
           }
          ],
          "scatterpolar": [
           {
            "marker": {
             "colorbar": {
              "outlinewidth": 0,
              "ticks": ""
             }
            },
            "type": "scatterpolar"
           }
          ],
          "scatterpolargl": [
           {
            "marker": {
             "colorbar": {
              "outlinewidth": 0,
              "ticks": ""
             }
            },
            "type": "scatterpolargl"
           }
          ],
          "scatterternary": [
           {
            "marker": {
             "colorbar": {
              "outlinewidth": 0,
              "ticks": ""
             }
            },
            "type": "scatterternary"
           }
          ],
          "surface": [
           {
            "colorbar": {
             "outlinewidth": 0,
             "ticks": ""
            },
            "colorscale": [
             [
              0,
              "#0d0887"
             ],
             [
              0.1111111111111111,
              "#46039f"
             ],
             [
              0.2222222222222222,
              "#7201a8"
             ],
             [
              0.3333333333333333,
              "#9c179e"
             ],
             [
              0.4444444444444444,
              "#bd3786"
             ],
             [
              0.5555555555555556,
              "#d8576b"
             ],
             [
              0.6666666666666666,
              "#ed7953"
             ],
             [
              0.7777777777777778,
              "#fb9f3a"
             ],
             [
              0.8888888888888888,
              "#fdca26"
             ],
             [
              1,
              "#f0f921"
             ]
            ],
            "type": "surface"
           }
          ],
          "table": [
           {
            "cells": {
             "fill": {
              "color": "#EBF0F8"
             },
             "line": {
              "color": "white"
             }
            },
            "header": {
             "fill": {
              "color": "#C8D4E3"
             },
             "line": {
              "color": "white"
             }
            },
            "type": "table"
           }
          ]
         },
         "layout": {
          "annotationdefaults": {
           "arrowcolor": "#2a3f5f",
           "arrowhead": 0,
           "arrowwidth": 1
          },
          "coloraxis": {
           "colorbar": {
            "outlinewidth": 0,
            "ticks": ""
           }
          },
          "colorscale": {
           "diverging": [
            [
             0,
             "#8e0152"
            ],
            [
             0.1,
             "#c51b7d"
            ],
            [
             0.2,
             "#de77ae"
            ],
            [
             0.3,
             "#f1b6da"
            ],
            [
             0.4,
             "#fde0ef"
            ],
            [
             0.5,
             "#f7f7f7"
            ],
            [
             0.6,
             "#e6f5d0"
            ],
            [
             0.7,
             "#b8e186"
            ],
            [
             0.8,
             "#7fbc41"
            ],
            [
             0.9,
             "#4d9221"
            ],
            [
             1,
             "#276419"
            ]
           ],
           "sequential": [
            [
             0,
             "#0d0887"
            ],
            [
             0.1111111111111111,
             "#46039f"
            ],
            [
             0.2222222222222222,
             "#7201a8"
            ],
            [
             0.3333333333333333,
             "#9c179e"
            ],
            [
             0.4444444444444444,
             "#bd3786"
            ],
            [
             0.5555555555555556,
             "#d8576b"
            ],
            [
             0.6666666666666666,
             "#ed7953"
            ],
            [
             0.7777777777777778,
             "#fb9f3a"
            ],
            [
             0.8888888888888888,
             "#fdca26"
            ],
            [
             1,
             "#f0f921"
            ]
           ],
           "sequentialminus": [
            [
             0,
             "#0d0887"
            ],
            [
             0.1111111111111111,
             "#46039f"
            ],
            [
             0.2222222222222222,
             "#7201a8"
            ],
            [
             0.3333333333333333,
             "#9c179e"
            ],
            [
             0.4444444444444444,
             "#bd3786"
            ],
            [
             0.5555555555555556,
             "#d8576b"
            ],
            [
             0.6666666666666666,
             "#ed7953"
            ],
            [
             0.7777777777777778,
             "#fb9f3a"
            ],
            [
             0.8888888888888888,
             "#fdca26"
            ],
            [
             1,
             "#f0f921"
            ]
           ]
          },
          "colorway": [
           "#636efa",
           "#EF553B",
           "#00cc96",
           "#ab63fa",
           "#FFA15A",
           "#19d3f3",
           "#FF6692",
           "#B6E880",
           "#FF97FF",
           "#FECB52"
          ],
          "font": {
           "color": "#2a3f5f"
          },
          "geo": {
           "bgcolor": "white",
           "lakecolor": "white",
           "landcolor": "#E5ECF6",
           "showlakes": true,
           "showland": true,
           "subunitcolor": "white"
          },
          "hoverlabel": {
           "align": "left"
          },
          "hovermode": "closest",
          "mapbox": {
           "style": "light"
          },
          "paper_bgcolor": "white",
          "plot_bgcolor": "#E5ECF6",
          "polar": {
           "angularaxis": {
            "gridcolor": "white",
            "linecolor": "white",
            "ticks": ""
           },
           "bgcolor": "#E5ECF6",
           "radialaxis": {
            "gridcolor": "white",
            "linecolor": "white",
            "ticks": ""
           }
          },
          "scene": {
           "xaxis": {
            "backgroundcolor": "#E5ECF6",
            "gridcolor": "white",
            "gridwidth": 2,
            "linecolor": "white",
            "showbackground": true,
            "ticks": "",
            "zerolinecolor": "white"
           },
           "yaxis": {
            "backgroundcolor": "#E5ECF6",
            "gridcolor": "white",
            "gridwidth": 2,
            "linecolor": "white",
            "showbackground": true,
            "ticks": "",
            "zerolinecolor": "white"
           },
           "zaxis": {
            "backgroundcolor": "#E5ECF6",
            "gridcolor": "white",
            "gridwidth": 2,
            "linecolor": "white",
            "showbackground": true,
            "ticks": "",
            "zerolinecolor": "white"
           }
          },
          "shapedefaults": {
           "line": {
            "color": "#2a3f5f"
           }
          },
          "ternary": {
           "aaxis": {
            "gridcolor": "white",
            "linecolor": "white",
            "ticks": ""
           },
           "baxis": {
            "gridcolor": "white",
            "linecolor": "white",
            "ticks": ""
           },
           "bgcolor": "#E5ECF6",
           "caxis": {
            "gridcolor": "white",
            "linecolor": "white",
            "ticks": ""
           }
          },
          "title": {
           "x": 0.05
          },
          "xaxis": {
           "automargin": true,
           "gridcolor": "white",
           "linecolor": "white",
           "ticks": "",
           "title": {
            "standoff": 15
           },
           "zerolinecolor": "white",
           "zerolinewidth": 2
          },
          "yaxis": {
           "automargin": true,
           "gridcolor": "white",
           "linecolor": "white",
           "ticks": "",
           "title": {
            "standoff": 15
           },
           "zerolinecolor": "white",
           "zerolinewidth": 2
          }
         }
        },
        "xaxis": {
         "anchor": "y",
         "domain": [
          0,
          1
         ],
         "title": {
          "text": "pH"
         }
        },
        "yaxis": {
         "anchor": "x",
         "domain": [
          0,
          1
         ],
         "title": {
          "text": "count"
         }
        }
       }
      },
      "text/html": [
       "<div>                            <div id=\"b3ee9f0a-a7e1-4b59-ba17-982781072597\" class=\"plotly-graph-div\" style=\"height:525px; width:100%;\"></div>            <script type=\"text/javascript\">                require([\"plotly\"], function(Plotly) {                    window.PLOTLYENV=window.PLOTLYENV || {};                                    if (document.getElementById(\"b3ee9f0a-a7e1-4b59-ba17-982781072597\")) {                    Plotly.newPlot(                        \"b3ee9f0a-a7e1-4b59-ba17-982781072597\",                        [{\"alignmentgroup\": \"True\", \"bingroup\": \"x\", \"hovertemplate\": \"pH=%{x}<br>count=%{y}<extra></extra>\", \"legendgroup\": \"\", \"marker\": {\"color\": \"#636efa\"}, \"name\": \"\", \"offsetgroup\": \"\", \"orientation\": \"v\", \"showlegend\": false, \"type\": \"histogram\", \"x\": [3.51, 3.2, 3.26, 3.16, 3.51, 3.51, 3.3, 3.39, 3.36, 3.35, 3.28, 3.35, 3.58, 3.26, 3.16, 3.17, 3.3, 3.11, 3.38, 3.04, 3.39, 3.52, 3.17, 3.17, 3.43, 3.34, 3.28, 3.17, 3.47, 3.38, 3.35, 3.46, 3.17, 3.45, 3.38, 3.4, 3.42, 3.23, 3.5, 3.33, 3.33, 3.26, 3.21, 3.3, 3.48, 3.9, 3.25, 3.25, 3.34, 3.32, 3.15, 3.4, 3.39, 3.2, 3.17, 3.34, 3.04, 3.26, 3.43, 3.41, 3.44, 3.21, 3.38, 3.39, 3.41, 3.41, 3.42, 3.44, 3.28, 3.34, 3.32, 3.32, 3.31, 3.31, 3.28, 3.54, 3.54, 3.52, 3.38, 3.16, 3.41, 3.13, 3.36, 3.16, 3.44, 3.41, 2.93, 3.39, 3.14, 3.48, 3.23, 2.93, 2.93, 3.39, 3.75, 3.85, 3.45, 3.25, 3.39, 3.3, 3.4, 3.31, 3.3, 3.29, 3.33, 3.29, 3.08, 3.46, 3.37, 3.21, 3.19, 3.15, 3.15, 3.32, 3.19, 3.07, 3.39, 3.37, 3.21, 3.34, 3.3, 3.21, 3.49, 3.44, 3.39, 3.16, 3.53, 3.54, 3.42, 3.42, 3.24, 3.63, 3.63, 3.4, 3.22, 3.19, 3.23, 3.48, 3.33, 3.32, 3.19, 3.23, 3.68, 3.34, 3.68, 3.17, 3.54, 3.11, 3.42, 3.53, 3.33, 2.74, 3.35, 3.35, 3.42, 3.42, 3.42, 3.42, 3.48, 3.59, 3.2, 3.17, 3.33, 3.37, 3.37, 3.19, 3.34, 3.37, 3.47, 3.0, 3.36, 3.29, 3.29, 3.42, 3.33, 3.35, 3.33, 3.58, 3.48, 3.19, 3.19, 3.12, 3.44, 3.54, 3.52, 3.26, 3.34, 3.39, 3.2, 3.2, 3.23, 3.57, 3.28, 3.28, 3.28, 3.25, 3.46, 3.11, 3.57, 3.51, 3.22, 3.04, 3.36, 3.34, 3.34, 3.2, 3.2, 3.29, 3.22, 3.31, 3.3, 3.35, 3.21, 3.3, 3.24, 3.34, 3.14, 3.36, 3.39, 3.3, 3.34, 3.15, 3.42, 3.28, 3.31, 3.37, 3.04, 3.39, 3.37, 3.46, 3.54, 3.37, 3.34, 3.46, 3.32, 3.37, 3.37, 3.37, 3.37, 3.32, 3.0, 3.14, 3.08, 3.07, 3.07, 3.61, 3.38, 3.2, 3.35, 3.61, 3.22, 3.47, 3.17, 3.23, 3.47, 3.26, 3.22, 3.49, 3.06, 3.36, 3.29, 3.35, 3.34, 3.28, 3.08, 3.2, 3.6, 3.35, 3.69, 3.28, 3.36, 3.28, 3.22, 3.31, 3.38, 3.36, 3.69, 3.28, 3.23, 3.38, 3.12, 3.25, 3.36, 3.38, 3.31, 3.31, 3.1, 3.37, 3.34, 3.2, 3.34, 3.3, 3.22, 3.41, 3.05, 3.05, 3.16, 3.67, 3.67, 3.68, 3.38, 3.22, 3.51, 3.39, 3.2, 3.12, 3.36, 3.19, 3.19, 3.41, 3.12, 3.27, 3.32, 3.3, 3.39, 3.42, 3.3, 3.3, 3.37, 3.3, 3.37, 3.24, 3.29, 3.28, 3.16, 3.16, 3.05, 3.28, 3.16, 3.18, 3.23, 3.23, 3.22, 3.13, 3.34, 3.17, 3.35, 3.31, 3.16, 3.11, 3.12, 3.21, 3.3, 3.3, 3.12, 3.6, 3.58, 3.02, 3.11, 3.36, 3.28, 3.35, 3.27, 3.18, 3.25, 3.55, 3.26, 3.24, 3.15, 3.17, 3.19, 3.37, 3.05, 2.99, 3.07, 3.26, 3.07, 3.16, 3.18, 3.2, 3.57, 3.32, 3.32, 3.05, 3.01, 3.01, 3.26, 3.2, 3.11, 3.31, 3.21, 3.06, 3.21, 3.21, 3.42, 3.43, 3.41, 3.31, 3.43, 3.19, 3.56, 3.06, 3.18, 3.16, 3.03, 3.22, 3.47, 3.18, 3.18, 3.1, 3.47, 3.29, 3.1, 3.15, 3.26, 3.36, 3.24, 3.18, 3.19, 3.05, 3.38, 3.38, 3.27, 3.27, 3.26, 3.32, 3.26, 3.44, 3.24, 3.62, 3.28, 3.52, 3.36, 3.15, 3.36, 3.52, 3.49, 3.26, 3.24, 3.1, 3.15, 3.25, 3.0, 3.16, 3.15, 3.16, 3.26, 3.17, 3.15, 3.08, 2.88, 3.06, 2.95, 3.23, 3.57, 3.23, 3.1, 3.22, 3.2, 3.1, 3.1, 3.06, 3.44, 3.26, 3.5, 3.22, 3.37, 3.28, 3.26, 3.25, 3.35, 3.26, 3.18, 3.08, 2.98, 3.48, 3.16, 3.32, 3.17, 3.2, 3.05, 3.2, 3.15, 3.26, 3.2, 3.14, 3.28, 3.18, 3.14, 3.19, 3.12, 3.15, 3.04, 3.04, 3.06, 3.17, 3.17, 3.17, 3.32, 3.34, 3.31, 3.34, 3.32, 3.48, 3.44, 3.15, 3.43, 3.32, 3.15, 3.48, 3.43, 3.17, 3.17, 3.18, 3.21, 3.16, 3.25, 3.17, 3.18, 3.04, 3.02, 3.18, 3.03, 3.09, 3.09, 3.31, 3.25, 3.16, 3.22, 3.36, 3.42, 3.48, 3.38, 3.22, 3.23, 3.24, 3.36, 3.39, 3.34, 3.09, 3.41, 3.16, 3.16, 3.22, 3.28, 3.41, 3.09, 3.37, 3.2, 3.22, 3.26, 3.21, 3.12, 3.06, 2.86, 3.08, 3.45, 3.26, 3.12, 3.27, 3.33, 3.19, 3.12, 3.74, 2.92, 2.92, 3.07, 2.92, 3.07, 3.3, 3.14, 3.23, 3.08, 3.31, 3.3, 3.14, 3.32, 3.32, 3.31, 3.57, 3.32, 3.57, 3.14, 3.3, 3.19, 3.2, 3.34, 3.3, 3.29, 3.14, 3.19, 3.19, 3.19, 2.98, 3.3, 3.47, 3.12, 3.26, 3.72, 3.05, 3.35, 3.12, 3.35, 3.29, 3.4, 3.27, 3.04, 3.09, 3.2, 3.0, 3.26, 3.1, 3.3, 3.1, 3.17, 3.31, 3.34, 3.31, 3.32, 3.56, 3.39, 2.98, 3.32, 3.26, 2.87, 3.5, 3.5, 3.03, 3.13, 3.09, 3.27, 3.28, 3.13, 3.49, 3.46, 3.46, 3.36, 3.36, 3.27, 3.21, 3.27, 3.25, 3.32, 3.43, 3.27, 3.27, 3.24, 3.24, 3.35, 3.18, 3.39, 3.46, 3.39, 3.46, 3.39, 3.37, 3.4, 3.32, 3.33, 3.16, 2.89, 3.41, 2.98, 3.12, 3.08, 3.14, 2.89, 2.92, 3.32, 3.41, 3.32, 3.31, 3.36, 3.04, 3.03, 3.14, 3.18, 2.94, 3.15, 2.94, 3.26, 3.2, 3.15, 3.2, 3.08, 3.26, 3.08, 3.4, 3.48, 3.13, 3.06, 3.21, 3.33, 3.37, 3.25, 3.37, 3.44, 3.28, 3.4, 3.3, 3.63, 3.48, 3.03, 3.32, 3.31, 3.9, 3.47, 3.47, 3.31, 3.11, 3.08, 3.47, 3.47, 3.32, 3.29, 3.37, 3.4, 3.37, 3.34, 3.27, 3.06, 3.38, 3.36, 3.34, 3.28, 3.29, 3.34, 3.21, 3.22, 3.46, 3.22, 3.1, 3.21, 2.94, 3.54, 3.29, 3.43, 3.46, 3.46, 3.61, 3.17, 3.44, 3.39, 3.55, 3.48, 3.26, 3.26, 3.5, 3.1, 3.35, 3.45, 3.21, 3.46, 3.13, 3.13, 3.52, 3.3, 3.3, 3.52, 3.52, 3.29, 3.29, 3.39, 3.29, 3.09, 3.51, 3.6, 3.25, 3.25, 3.19, 3.23, 3.25, 3.31, 3.25, 3.31, 3.31, 3.14, 3.45, 3.55, 3.39, 3.55, 3.28, 3.27, 3.3, 3.31, 3.43, 3.4, 3.4, 3.36, 3.5, 3.31, 3.66, 3.36, 3.66, 3.55, 3.21, 3.21, 3.18, 3.18, 3.09, 3.33, 3.23, 3.48, 3.38, 3.17, 2.99, 3.1, 3.24, 3.29, 3.29, 3.25, 3.23, 3.56, 3.24, 3.26, 3.33, 3.27, 3.33, 3.26, 3.22, 3.3, 3.09, 3.24, 3.44, 3.21, 3.24, 3.23, 3.28, 3.29, 3.28, 3.34, 3.71, 3.61, 3.61, 3.24, 3.36, 3.4, 3.36, 3.46, 3.56, 3.38, 3.56, 3.38, 3.38, 3.32, 3.39, 3.26, 3.26, 3.24, 3.46, 3.24, 3.45, 3.23, 3.28, 3.18, 3.59, 3.59, 3.5, 3.59, 3.58, 3.28, 3.28, 3.22, 3.47, 3.47, 3.51, 3.47, 3.4, 3.15, 3.4, 3.51, 3.66, 3.24, 3.51, 3.51, 3.51, 3.41, 3.4, 3.4, 3.44, 3.41, 3.53, 3.43, 3.23, 3.12, 3.31, 3.4, 3.41, 3.22, 3.53, 3.15, 3.48, 3.22, 3.53, 3.22, 3.34, 3.33, 3.15, 3.43, 3.22, 3.44, 3.53, 3.22, 3.53, 3.53, 3.42, 3.31, 3.42, 3.31, 3.48, 3.4, 3.58, 3.58, 3.41, 3.41, 3.23, 3.39, 3.59, 3.43, 3.29, 3.23, 3.18, 3.33, 3.27, 3.29, 3.27, 3.62, 3.38, 3.3, 3.38, 3.24, 3.3, 3.38, 3.38, 3.18, 3.47, 3.47, 3.2, 3.18, 3.3, 3.69, 3.48, 3.45, 3.48, 3.69, 3.39, 3.39, 3.07, 3.34, 3.61, 3.36, 3.19, 3.22, 3.24, 3.27, 3.14, 3.29, 3.26, 3.41, 3.41, 3.41, 3.26, 3.31, 3.2, 3.44, 3.36, 3.31, 3.29, 3.47, 3.36, 3.16, 3.27, 3.38, 3.15, 3.16, 3.34, 3.13, 3.13, 3.2, 3.46, 3.33, 3.33, 3.22, 3.52, 3.3, 3.44, 3.44, 3.15, 3.28, 3.13, 3.32, 3.25, 3.34, 3.32, 3.13, 3.45, 3.19, 3.44, 3.16, 3.14, 3.16, 3.45, 3.36, 3.45, 3.15, 3.39, 3.71, 3.71, 3.12, 3.47, 3.44, 3.26, 3.26, 3.36, 3.25, 3.36, 3.26, 3.26, 3.23, 3.18, 3.25, 3.17, 3.23, 3.38, 3.22, 3.06, 3.27, 2.89, 2.89, 3.53, 3.2, 3.2, 3.35, 3.27, 3.32, 3.33, 3.41, 3.49, 3.37, 3.32, 3.42, 3.35, 3.36, 3.3, 3.2, 3.17, 3.22, 3.35, 3.24, 3.33, 3.58, 3.38, 3.33, 3.29, 3.36, 3.32, 3.31, 3.49, 3.27, 3.27, 3.49, 3.03, 3.56, 3.38, 3.13, 3.13, 3.21, 3.15, 3.19, 3.21, 3.14, 3.21, 3.3, 3.22, 3.28, 3.29, 3.4, 3.02, 3.02, 3.31, 3.18, 3.2, 3.4, 3.31, 3.2, 3.44, 3.15, 3.27, 3.27, 3.01, 3.16, 3.01, 3.42, 3.33, 3.42, 3.12, 3.38, 3.29, 3.02, 3.02, 2.98, 3.35, 3.43, 3.33, 3.35, 3.15, 3.35, 3.2, 3.15, 3.2, 3.11, 3.35, 3.45, 3.35, 3.28, 3.41, 3.21, 3.27, 3.36, 3.17, 3.25, 3.78, 3.29, 3.12, 3.49, 3.38, 3.38, 3.38, 3.3, 3.52, 3.2, 3.44, 3.45, 3.12, 3.62, 3.14, 3.39, 3.51, 3.22, 3.21, 3.18, 3.32, 3.38, 3.37, 3.3, 3.38, 3.22, 3.22, 3.14, 3.34, 3.41, 3.27, 3.3, 3.61, 3.43, 3.53, 3.28, 3.21, 3.39, 3.23, 3.3, 3.46, 3.15, 3.23, 3.59, 3.15, 3.33, 3.46, 3.42, 3.16, 3.14, 3.21, 3.14, 3.29, 3.29, 3.01, 2.94, 3.32, 3.21, 3.32, 3.2, 3.42, 3.27, 3.46, 3.46, 3.61, 3.58, 3.35, 3.68, 3.27, 3.27, 3.19, 3.38, 3.29, 3.36, 3.33, 3.52, 3.33, 3.36, 3.3, 3.28, 3.56, 3.52, 3.56, 3.22, 3.52, 3.21, 3.16, 3.15, 3.21, 3.16, 3.27, 3.35, 3.14, 3.4, 3.4, 3.4, 3.35, 3.4, 3.45, 3.35, 3.32, 3.35, 3.15, 3.1, 3.26, 3.29, 3.23, 3.24, 3.2, 3.28, 3.28, 3.26, 3.23, 3.07, 3.15, 3.02, 3.27, 3.68, 3.4, 3.37, 3.38, 3.4, 3.23, 3.39, 3.3, 3.26, 3.39, 3.38, 3.45, 3.1, 3.16, 3.22, 3.37, 3.33, 3.49, 3.12, 3.49, 3.41, 3.4, 3.4, 3.28, 3.45, 3.43, 3.4, 3.47, 3.1, 3.32, 3.44, 3.44, 3.02, 3.59, 3.15, 3.37, 3.38, 3.38, 3.38, 3.1, 3.47, 3.5, 3.7, 3.38, 3.5, 3.1, 3.24, 3.24, 3.28, 3.35, 3.24, 3.14, 3.37, 3.37, 3.33, 3.26, 3.39, 3.15, 3.35, 3.22, 3.3, 3.3, 3.36, 3.29, 3.62, 3.34, 3.29, 3.2, 3.2, 3.35, 3.45, 3.5, 3.78, 3.6, 3.3, 3.36, 3.12, 3.3, 3.29, 3.41, 3.29, 3.28, 3.3, 3.33, 3.34, 3.4, 3.4, 3.26, 4.01, 3.18, 3.26, 2.9, 3.26, 4.01, 3.18, 3.18, 3.39, 3.39, 3.39, 3.39, 3.34, 3.29, 3.29, 3.26, 3.09, 3.18, 3.39, 3.38, 3.36, 3.36, 3.36, 3.36, 3.36, 3.36, 3.37, 3.36, 3.09, 3.25, 3.52, 3.34, 3.34, 3.41, 3.34, 3.32, 3.37, 3.37, 3.35, 3.36, 3.36, 3.6, 3.28, 3.07, 3.24, 3.36, 3.07, 3.29, 3.46, 3.18, 3.24, 3.25, 3.27, 3.33, 3.0, 3.21, 3.0, 3.24, 3.32, 3.26, 3.11, 3.71, 3.29, 3.36, 3.36, 3.38, 3.3, 3.3, 3.19, 3.19, 3.3, 3.3, 3.35, 3.1, 3.58, 3.37, 3.17, 3.3, 3.32, 3.31, 3.31, 3.28, 3.52, 3.42, 3.25, 3.25, 3.44, 3.23, 3.43, 3.28, 3.22, 3.54, 3.27, 3.54, 3.5, 3.56, 3.22, 3.04, 3.2, 3.56, 3.2, 3.35, 3.16, 3.27, 3.16, 3.34, 3.39, 3.5, 3.26, 3.26, 3.41, 3.3, 3.31, 3.33, 3.37, 3.26, 3.48, 3.42, 3.18, 3.18, 3.15, 3.53, 3.41, 3.32, 3.23, 3.16, 3.4, 3.38, 3.32, 3.16, 3.4, 3.4, 3.4, 3.23, 3.23, 3.33, 3.35, 3.41, 3.21, 3.5, 3.3, 3.41, 3.39, 3.32, 3.41, 3.59, 3.36, 3.34, 3.41, 3.41, 3.3, 3.52, 3.3, 3.31, 2.88, 3.43, 3.38, 3.38, 3.16, 3.54, 3.16, 3.54, 3.4, 3.39, 3.66, 3.39, 3.33, 3.35, 3.53, 3.37, 3.38, 3.52, 3.72, 3.44, 3.39, 3.72, 3.57, 3.26, 3.42, 3.35, 3.26, 3.45, 3.53, 3.45, 3.26, 3.16, 3.31, 3.51, 3.36, 3.55, 3.51, 3.36, 3.38, 3.28, 3.47, 3.44, 3.53, 3.33, 3.53, 3.53, 3.42, 3.38, 3.32, 3.44, 3.38, 3.39, 3.42, 3.34, 3.39, 3.33, 3.3, 3.29, 3.31, 3.42, 3.42, 3.6, 3.21, 3.39, 3.42, 3.36, 3.6, 3.5, 3.57, 3.46, 3.56, 3.4, 3.3, 3.25, 3.17, 3.36, 3.36, 3.55, 3.1, 3.24, 3.45, 3.44, 3.51, 3.41, 3.54, 3.44, 3.53, 3.54, 3.22, 3.21, 3.21, 3.21, 3.29, 3.29, 3.29, 3.39, 3.34, 3.29, 3.34, 3.48, 3.37, 3.44, 3.33, 3.58, 3.39, 3.26, 3.3, 3.54, 3.42, 3.54, 3.36, 3.54, 3.57, 3.33, 3.29, 3.3, 3.34, 3.55, 3.27, 3.29, 3.32, 3.67, 3.42, 3.42, 3.45, 3.52, 3.42, 3.57, 3.39], \"xaxis\": \"x\", \"yaxis\": \"y\"}],                        {\"barmode\": \"relative\", \"legend\": {\"tracegroupgap\": 0}, \"margin\": {\"t\": 60}, \"template\": {\"data\": {\"bar\": [{\"error_x\": {\"color\": \"#2a3f5f\"}, \"error_y\": {\"color\": \"#2a3f5f\"}, \"marker\": {\"line\": {\"color\": \"#E5ECF6\", \"width\": 0.5}}, \"type\": \"bar\"}], \"barpolar\": [{\"marker\": {\"line\": {\"color\": \"#E5ECF6\", \"width\": 0.5}}, \"type\": \"barpolar\"}], \"carpet\": [{\"aaxis\": {\"endlinecolor\": \"#2a3f5f\", \"gridcolor\": \"white\", \"linecolor\": \"white\", \"minorgridcolor\": \"white\", \"startlinecolor\": \"#2a3f5f\"}, \"baxis\": {\"endlinecolor\": \"#2a3f5f\", \"gridcolor\": \"white\", \"linecolor\": \"white\", \"minorgridcolor\": \"white\", \"startlinecolor\": \"#2a3f5f\"}, \"type\": \"carpet\"}], \"choropleth\": [{\"colorbar\": {\"outlinewidth\": 0, \"ticks\": \"\"}, \"type\": \"choropleth\"}], \"contour\": [{\"colorbar\": {\"outlinewidth\": 0, \"ticks\": \"\"}, \"colorscale\": [[0.0, \"#0d0887\"], [0.1111111111111111, \"#46039f\"], [0.2222222222222222, \"#7201a8\"], [0.3333333333333333, \"#9c179e\"], [0.4444444444444444, \"#bd3786\"], [0.5555555555555556, \"#d8576b\"], [0.6666666666666666, \"#ed7953\"], [0.7777777777777778, \"#fb9f3a\"], [0.8888888888888888, \"#fdca26\"], [1.0, \"#f0f921\"]], \"type\": \"contour\"}], \"contourcarpet\": [{\"colorbar\": {\"outlinewidth\": 0, \"ticks\": \"\"}, \"type\": \"contourcarpet\"}], \"heatmap\": [{\"colorbar\": {\"outlinewidth\": 0, \"ticks\": \"\"}, \"colorscale\": [[0.0, \"#0d0887\"], [0.1111111111111111, \"#46039f\"], [0.2222222222222222, \"#7201a8\"], [0.3333333333333333, \"#9c179e\"], [0.4444444444444444, \"#bd3786\"], [0.5555555555555556, \"#d8576b\"], [0.6666666666666666, \"#ed7953\"], [0.7777777777777778, \"#fb9f3a\"], [0.8888888888888888, \"#fdca26\"], [1.0, \"#f0f921\"]], \"type\": \"heatmap\"}], \"heatmapgl\": [{\"colorbar\": {\"outlinewidth\": 0, \"ticks\": \"\"}, \"colorscale\": [[0.0, \"#0d0887\"], [0.1111111111111111, \"#46039f\"], [0.2222222222222222, \"#7201a8\"], [0.3333333333333333, \"#9c179e\"], [0.4444444444444444, \"#bd3786\"], [0.5555555555555556, \"#d8576b\"], [0.6666666666666666, \"#ed7953\"], [0.7777777777777778, \"#fb9f3a\"], [0.8888888888888888, \"#fdca26\"], [1.0, \"#f0f921\"]], \"type\": \"heatmapgl\"}], \"histogram\": [{\"marker\": {\"colorbar\": {\"outlinewidth\": 0, \"ticks\": \"\"}}, \"type\": \"histogram\"}], \"histogram2d\": [{\"colorbar\": {\"outlinewidth\": 0, \"ticks\": \"\"}, \"colorscale\": [[0.0, \"#0d0887\"], [0.1111111111111111, \"#46039f\"], [0.2222222222222222, \"#7201a8\"], [0.3333333333333333, \"#9c179e\"], [0.4444444444444444, \"#bd3786\"], [0.5555555555555556, \"#d8576b\"], [0.6666666666666666, \"#ed7953\"], [0.7777777777777778, \"#fb9f3a\"], [0.8888888888888888, \"#fdca26\"], [1.0, \"#f0f921\"]], \"type\": \"histogram2d\"}], \"histogram2dcontour\": [{\"colorbar\": {\"outlinewidth\": 0, \"ticks\": \"\"}, \"colorscale\": [[0.0, \"#0d0887\"], [0.1111111111111111, \"#46039f\"], [0.2222222222222222, \"#7201a8\"], [0.3333333333333333, \"#9c179e\"], [0.4444444444444444, \"#bd3786\"], [0.5555555555555556, \"#d8576b\"], [0.6666666666666666, \"#ed7953\"], [0.7777777777777778, \"#fb9f3a\"], [0.8888888888888888, \"#fdca26\"], [1.0, \"#f0f921\"]], \"type\": \"histogram2dcontour\"}], \"mesh3d\": [{\"colorbar\": {\"outlinewidth\": 0, \"ticks\": \"\"}, \"type\": \"mesh3d\"}], \"parcoords\": [{\"line\": {\"colorbar\": {\"outlinewidth\": 0, \"ticks\": \"\"}}, \"type\": \"parcoords\"}], \"pie\": [{\"automargin\": true, \"type\": \"pie\"}], \"scatter\": [{\"marker\": {\"colorbar\": {\"outlinewidth\": 0, \"ticks\": \"\"}}, \"type\": \"scatter\"}], \"scatter3d\": [{\"line\": {\"colorbar\": {\"outlinewidth\": 0, \"ticks\": \"\"}}, \"marker\": {\"colorbar\": {\"outlinewidth\": 0, \"ticks\": \"\"}}, \"type\": \"scatter3d\"}], \"scattercarpet\": [{\"marker\": {\"colorbar\": {\"outlinewidth\": 0, \"ticks\": \"\"}}, \"type\": \"scattercarpet\"}], \"scattergeo\": [{\"marker\": {\"colorbar\": {\"outlinewidth\": 0, \"ticks\": \"\"}}, \"type\": \"scattergeo\"}], \"scattergl\": [{\"marker\": {\"colorbar\": {\"outlinewidth\": 0, \"ticks\": \"\"}}, \"type\": \"scattergl\"}], \"scattermapbox\": [{\"marker\": {\"colorbar\": {\"outlinewidth\": 0, \"ticks\": \"\"}}, \"type\": \"scattermapbox\"}], \"scatterpolar\": [{\"marker\": {\"colorbar\": {\"outlinewidth\": 0, \"ticks\": \"\"}}, \"type\": \"scatterpolar\"}], \"scatterpolargl\": [{\"marker\": {\"colorbar\": {\"outlinewidth\": 0, \"ticks\": \"\"}}, \"type\": \"scatterpolargl\"}], \"scatterternary\": [{\"marker\": {\"colorbar\": {\"outlinewidth\": 0, \"ticks\": \"\"}}, \"type\": \"scatterternary\"}], \"surface\": [{\"colorbar\": {\"outlinewidth\": 0, \"ticks\": \"\"}, \"colorscale\": [[0.0, \"#0d0887\"], [0.1111111111111111, \"#46039f\"], [0.2222222222222222, \"#7201a8\"], [0.3333333333333333, \"#9c179e\"], [0.4444444444444444, \"#bd3786\"], [0.5555555555555556, \"#d8576b\"], [0.6666666666666666, \"#ed7953\"], [0.7777777777777778, \"#fb9f3a\"], [0.8888888888888888, \"#fdca26\"], [1.0, \"#f0f921\"]], \"type\": \"surface\"}], \"table\": [{\"cells\": {\"fill\": {\"color\": \"#EBF0F8\"}, \"line\": {\"color\": \"white\"}}, \"header\": {\"fill\": {\"color\": \"#C8D4E3\"}, \"line\": {\"color\": \"white\"}}, \"type\": \"table\"}]}, \"layout\": {\"annotationdefaults\": {\"arrowcolor\": \"#2a3f5f\", \"arrowhead\": 0, \"arrowwidth\": 1}, \"coloraxis\": {\"colorbar\": {\"outlinewidth\": 0, \"ticks\": \"\"}}, \"colorscale\": {\"diverging\": [[0, \"#8e0152\"], [0.1, \"#c51b7d\"], [0.2, \"#de77ae\"], [0.3, \"#f1b6da\"], [0.4, \"#fde0ef\"], [0.5, \"#f7f7f7\"], [0.6, \"#e6f5d0\"], [0.7, \"#b8e186\"], [0.8, \"#7fbc41\"], [0.9, \"#4d9221\"], [1, \"#276419\"]], \"sequential\": [[0.0, \"#0d0887\"], [0.1111111111111111, \"#46039f\"], [0.2222222222222222, \"#7201a8\"], [0.3333333333333333, \"#9c179e\"], [0.4444444444444444, \"#bd3786\"], [0.5555555555555556, \"#d8576b\"], [0.6666666666666666, \"#ed7953\"], [0.7777777777777778, \"#fb9f3a\"], [0.8888888888888888, \"#fdca26\"], [1.0, \"#f0f921\"]], \"sequentialminus\": [[0.0, \"#0d0887\"], [0.1111111111111111, \"#46039f\"], [0.2222222222222222, \"#7201a8\"], [0.3333333333333333, \"#9c179e\"], [0.4444444444444444, \"#bd3786\"], [0.5555555555555556, \"#d8576b\"], [0.6666666666666666, \"#ed7953\"], [0.7777777777777778, \"#fb9f3a\"], [0.8888888888888888, \"#fdca26\"], [1.0, \"#f0f921\"]]}, \"colorway\": [\"#636efa\", \"#EF553B\", \"#00cc96\", \"#ab63fa\", \"#FFA15A\", \"#19d3f3\", \"#FF6692\", \"#B6E880\", \"#FF97FF\", \"#FECB52\"], \"font\": {\"color\": \"#2a3f5f\"}, \"geo\": {\"bgcolor\": \"white\", \"lakecolor\": \"white\", \"landcolor\": \"#E5ECF6\", \"showlakes\": true, \"showland\": true, \"subunitcolor\": \"white\"}, \"hoverlabel\": {\"align\": \"left\"}, \"hovermode\": \"closest\", \"mapbox\": {\"style\": \"light\"}, \"paper_bgcolor\": \"white\", \"plot_bgcolor\": \"#E5ECF6\", \"polar\": {\"angularaxis\": {\"gridcolor\": \"white\", \"linecolor\": \"white\", \"ticks\": \"\"}, \"bgcolor\": \"#E5ECF6\", \"radialaxis\": {\"gridcolor\": \"white\", \"linecolor\": \"white\", \"ticks\": \"\"}}, \"scene\": {\"xaxis\": {\"backgroundcolor\": \"#E5ECF6\", \"gridcolor\": \"white\", \"gridwidth\": 2, \"linecolor\": \"white\", \"showbackground\": true, \"ticks\": \"\", \"zerolinecolor\": \"white\"}, \"yaxis\": {\"backgroundcolor\": \"#E5ECF6\", \"gridcolor\": \"white\", \"gridwidth\": 2, \"linecolor\": \"white\", \"showbackground\": true, \"ticks\": \"\", \"zerolinecolor\": \"white\"}, \"zaxis\": {\"backgroundcolor\": \"#E5ECF6\", \"gridcolor\": \"white\", \"gridwidth\": 2, \"linecolor\": \"white\", \"showbackground\": true, \"ticks\": \"\", \"zerolinecolor\": \"white\"}}, \"shapedefaults\": {\"line\": {\"color\": \"#2a3f5f\"}}, \"ternary\": {\"aaxis\": {\"gridcolor\": \"white\", \"linecolor\": \"white\", \"ticks\": \"\"}, \"baxis\": {\"gridcolor\": \"white\", \"linecolor\": \"white\", \"ticks\": \"\"}, \"bgcolor\": \"#E5ECF6\", \"caxis\": {\"gridcolor\": \"white\", \"linecolor\": \"white\", \"ticks\": \"\"}}, \"title\": {\"x\": 0.05}, \"xaxis\": {\"automargin\": true, \"gridcolor\": \"white\", \"linecolor\": \"white\", \"ticks\": \"\", \"title\": {\"standoff\": 15}, \"zerolinecolor\": \"white\", \"zerolinewidth\": 2}, \"yaxis\": {\"automargin\": true, \"gridcolor\": \"white\", \"linecolor\": \"white\", \"ticks\": \"\", \"title\": {\"standoff\": 15}, \"zerolinecolor\": \"white\", \"zerolinewidth\": 2}}}, \"xaxis\": {\"anchor\": \"y\", \"domain\": [0.0, 1.0], \"title\": {\"text\": \"pH\"}}, \"yaxis\": {\"anchor\": \"x\", \"domain\": [0.0, 1.0], \"title\": {\"text\": \"count\"}}},                        {\"responsive\": true}                    ).then(function(){\n",
       "                            \n",
       "var gd = document.getElementById('b3ee9f0a-a7e1-4b59-ba17-982781072597');\n",
       "var x = new MutationObserver(function (mutations, observer) {{\n",
       "        var display = window.getComputedStyle(gd).display;\n",
       "        if (!display || display === 'none') {{\n",
       "            console.log([gd, 'removed!']);\n",
       "            Plotly.purge(gd);\n",
       "            observer.disconnect();\n",
       "        }}\n",
       "}});\n",
       "\n",
       "// Listen for the removal of the full notebook cells\n",
       "var notebookContainer = gd.closest('#notebook-container');\n",
       "if (notebookContainer) {{\n",
       "    x.observe(notebookContainer, {childList: true});\n",
       "}}\n",
       "\n",
       "// Listen for the clearing of the current output cell\n",
       "var outputEl = gd.closest('.output');\n",
       "if (outputEl) {{\n",
       "    x.observe(outputEl, {childList: true});\n",
       "}}\n",
       "\n",
       "                        })                };                });            </script>        </div>"
      ]
     },
     "metadata": {},
     "output_type": "display_data"
    }
   ],
   "source": [
    "fig = px.histogram(data_frame,x='pH')\n",
    "fig.show()"
   ]
  },
  {
   "cell_type": "markdown",
   "metadata": {},
   "source": [
    "# Box Plots for various attributes"
   ]
  },
  {
   "cell_type": "code",
   "execution_count": 79,
   "metadata": {},
   "outputs": [
    {
     "data": {
      "text/plain": [
       "<matplotlib.axes._subplots.AxesSubplot at 0x7f87b4abc2b0>"
      ]
     },
     "execution_count": 79,
     "metadata": {},
     "output_type": "execute_result"
    },
    {
     "data": {
      "image/png": "[encoded data removed]",
      "text/plain": [
       "<Figure size 432x288 with 1 Axes>"
      ]
     },
     "metadata": {
      "needs_background": "light"
     },
     "output_type": "display_data"
    }
   ],
   "source": [
    "\n",
    "sns.boxplot(x=data_frame['quality'],y=data_frame['fixed acidity'])"
   ]
  },
  {
   "cell_type": "code",
   "execution_count": 80,
   "metadata": {},
   "outputs": [
    {
     "data": {
      "text/plain": [
       "<matplotlib.axes._subplots.AxesSubplot at 0x7f87b7262880>"
      ]
     },
     "execution_count": 80,
     "metadata": {},
     "output_type": "execute_result"
    },
    {
     "data": {
      "image/png": "[encoded data removed]",
      "text/plain": [
       "<Figure size 432x288 with 1 Axes>"
      ]
     },
     "metadata": {
      "needs_background": "light"
     },
     "output_type": "display_data"
    }
   ],
   "source": [
    "sns.boxplot(x=data_frame ['quality'],y=data_frame['volatile acidity'])"
   ]
  },
  {
   "cell_type": "code",
   "execution_count": 81,
   "metadata": {},
   "outputs": [
    {
     "data": {
      "text/plain": [
       "<matplotlib.axes._subplots.AxesSubplot at 0x7f87b4aef7c0>"
      ]
     },
     "execution_count": 81,
     "metadata": {},
     "output_type": "execute_result"
    },
    {
     "data": {
      "image/png": "[encoded data removed]",
      "text/plain": [
       "<Figure size 432x288 with 1 Axes>"
      ]
     },
     "metadata": {
      "needs_background": "light"
     },
     "output_type": "display_data"
    }
   ],
   "source": [
    "sns.boxplot(x=data_frame ['quality'],y=data_frame['citric acid'])"
   ]
  },
  {
   "cell_type": "code",
   "execution_count": 82,
   "metadata": {},
   "outputs": [
    {
     "data": {
      "text/plain": [
       "<matplotlib.axes._subplots.AxesSubplot at 0x7f87b6f43190>"
      ]
     },
     "execution_count": 82,
     "metadata": {},
     "output_type": "execute_result"
    },
    {
     "data": {
      "image/png": "[encoded data removed]",
      "text/plain": [
       "<Figure size 432x288 with 1 Axes>"
      ]
     },
     "metadata": {
      "needs_background": "light"
     },
     "output_type": "display_data"
    }
   ],
   "source": [
    "sns.boxplot(x=data_frame ['quality'],y=data_frame['residual sugar'])"
   ]
  },
  {
   "cell_type": "code",
   "execution_count": 83,
   "metadata": {},
   "outputs": [
    {
     "data": {
      "text/plain": [
       "<matplotlib.axes._subplots.AxesSubplot at 0x7f87b6e7a160>"
      ]
     },
     "execution_count": 83,
     "metadata": {},
     "output_type": "execute_result"
    },
    {
     "data": {
      "image/png": "[encoded data removed]",
      "text/plain": [
       "<Figure size 432x288 with 1 Axes>"
      ]
     },
     "metadata": {
      "needs_background": "light"
     },
     "output_type": "display_data"
    }
   ],
   "source": [
    "sns.boxplot(x=data_frame ['quality'],y=data_frame.iloc[:,4])"
   ]
  },
  {
   "cell_type": "code",
   "execution_count": 84,
   "metadata": {},
   "outputs": [
    {
     "data": {
      "text/plain": [
       "<matplotlib.axes._subplots.AxesSubplot at 0x7f87b6dac910>"
      ]
     },
     "execution_count": 84,
     "metadata": {},
     "output_type": "execute_result"
    },
    {
     "data": {
      "image/png": "[encoded data removed]",
      "text/plain": [
       "<Figure size 432x288 with 1 Axes>"
      ]
     },
     "metadata": {
      "needs_background": "light"
     },
     "output_type": "display_data"
    }
   ],
   "source": [
    "sns.boxplot(x=data_frame ['quality'],y=data_frame.iloc[:,5])"
   ]
  },
  {
   "cell_type": "code",
   "execution_count": 85,
   "metadata": {},
   "outputs": [
    {
     "data": {
      "text/plain": [
       "<matplotlib.axes._subplots.AxesSubplot at 0x7f87b6cf3730>"
      ]
     },
     "execution_count": 85,
     "metadata": {},
     "output_type": "execute_result"
    },
    {
     "data": {
      "image/png": "[encoded data removed]",
      "text/plain": [
       "<Figure size 432x288 with 1 Axes>"
      ]
     },
     "metadata": {
      "needs_background": "light"
     },
     "output_type": "display_data"
    }
   ],
   "source": [
    "sns.boxplot(x=data_frame ['quality'],y=data_frame.iloc[:,6])"
   ]
  },
  {
   "cell_type": "code",
   "execution_count": 86,
   "metadata": {},
   "outputs": [
    {
     "data": {
      "text/plain": [
       "<matplotlib.axes._subplots.AxesSubplot at 0x7f87b6c2aa60>"
      ]
     },
     "execution_count": 86,
     "metadata": {},
     "output_type": "execute_result"
    },
    {
     "data": {
      "image/png": "[encoded data removed]",
      "text/plain": [
       "<Figure size 432x288 with 1 Axes>"
      ]
     },
     "metadata": {
      "needs_background": "light"
     },
     "output_type": "display_data"
    }
   ],
   "source": [
    "sns.boxplot(x=data_frame ['quality'],y=data_frame.iloc[:,7])"
   ]
  },
  {
   "cell_type": "code",
   "execution_count": 87,
   "metadata": {},
   "outputs": [
    {
     "data": {
      "text/plain": [
       "<matplotlib.axes._subplots.AxesSubplot at 0x7f87b6e64790>"
      ]
     },
     "execution_count": 87,
     "metadata": {},
     "output_type": "execute_result"
    },
    {
     "data": {
      "image/png": "[encoded data removed]",
      "text/plain": [
       "<Figure size 432x288 with 1 Axes>"
      ]
     },
     "metadata": {
      "needs_background": "light"
     },
     "output_type": "display_data"
    }
   ],
   "source": [
    "sns.boxplot(x=data_frame ['quality'],y=data_frame.iloc[:,8])"
   ]
  },
  {
   "cell_type": "code",
   "execution_count": 88,
   "metadata": {},
   "outputs": [
    {
     "data": {
      "text/plain": [
       "<matplotlib.axes._subplots.AxesSubplot at 0x7f87b71c6550>"
      ]
     },
     "execution_count": 88,
     "metadata": {},
     "output_type": "execute_result"
    },
    {
     "data": {
      "image/png": "[encoded data removed]",
      "text/plain": [
       "<Figure size 432x288 with 1 Axes>"
      ]
     },
     "metadata": {
      "needs_background": "light"
     },
     "output_type": "display_data"
    }
   ],
   "source": [
    "sns.boxplot(x=data_frame ['quality'],y=data_frame.iloc[:,9])"
   ]
  },
  {
   "cell_type": "code",
   "execution_count": 89,
   "metadata": {},
   "outputs": [
    {
     "data": {
      "text/plain": [
       "<matplotlib.axes._subplots.AxesSubplot at 0x7f87b6b84250>"
      ]
     },
     "execution_count": 89,
     "metadata": {},
     "output_type": "execute_result"
    },
    {
     "data": {
      "image/png": "[encoded data removed]",
      "text/plain": [
       "<Figure size 432x288 with 1 Axes>"
      ]
     },
     "metadata": {
      "needs_background": "light"
     },
     "output_type": "display_data"
    }
   ],
   "source": [
    "sns.boxplot(x=data_frame ['quality'],y=data_frame.iloc[:,10])"
   ]
  },
  {
   "cell_type": "code",
   "execution_count": 90,
   "metadata": {},
   "outputs": [
    {
     "data": {
      "text/plain": [
       "<matplotlib.axes._subplots.AxesSubplot at 0x7f87b6ab9ca0>"
      ]
     },
     "execution_count": 90,
     "metadata": {},
     "output_type": "execute_result"
    },
    {
     "data": {
      "image/png": "[encoded data removed]",
      "text/plain": [
       "<Figure size 432x288 with 1 Axes>"
      ]
     },
     "metadata": {
      "needs_background": "light"
     },
     "output_type": "display_data"
    }
   ],
   "source": [
    "sns.boxplot(x=data_frame['quality'], y=data_frame['chlorides'])"
   ]
  },
  {
   "cell_type": "markdown",
   "metadata": {},
   "source": [
    "# Correlation Matrix"
   ]
  },
  {
   "cell_type": "code",
   "execution_count": 91,
   "metadata": {},
   "outputs": [
    {
     "data": {
      "text/plain": [
       "<matplotlib.axes._subplots.AxesSubplot at 0x7f87b6a003a0>"
      ]
     },
     "execution_count": 91,
     "metadata": {},
     "output_type": "execute_result"
    },
    {
     "data": {
      "image/png": "[encoded data removed]",
      "text/plain": [
       "<Figure size 1080x720 with 2 Axes>"
      ]
     },
     "metadata": {
      "needs_background": "light"
     },
     "output_type": "display_data"
    }
   ],
   "source": [
    "corr = data_frame.corr()\n",
    "plt.subplots(figsize=(15,10))\n",
    "sns.heatmap(corr, xticklabels=corr.columns, yticklabels=corr.columns, annot=True, cmap=sns.diverging_palette(220, 20, as_cmap=True))"
   ]
  },
  {
   "cell_type": "markdown",
   "metadata": {},
   "source": [
    "# Convert to a Classification Problem\n",
    "> The objective is to compare the effectiveness of different classification techniques, so we needed to change the output variable to a binary output. For this problem, we have defined a bottle of wine as ‘1’ if it had a quality score of 7 or higher, and if it had a score of less than 7, it was deemed ‘0’.\n"
   ]
  },
  {
   "cell_type": "code",
   "execution_count": 92,
   "metadata": {},
   "outputs": [],
   "source": [
    "reviews = []\n",
    "for i in data_frame['quality']:\n",
    "    if i >= 3 and i <= 6:\n",
    "        reviews.append('0')\n",
    "    else:\n",
    "        reviews.append('1')\n",
    "data_frame['Reviews'] = reviews"
   ]
  },
  {
   "cell_type": "code",
   "execution_count": 93,
   "metadata": {},
   "outputs": [
    {
     "data": {
      "text/html": [
       "<div>\n",
       "<style scoped>\n",
       "    .dataframe tbody tr th:only-of-type {\n",
       "        vertical-align: middle;\n",
       "    }\n",
       "\n",
       "    .dataframe tbody tr th {\n",
       "        vertical-align: top;\n",
       "    }\n",
       "\n",
       "    .dataframe thead th {\n",
       "        text-align: right;\n",
       "    }\n",
       "</style>\n",
       "<table border=\"1\" class=\"dataframe\">\n",
       "  <thead>\n",
       "    <tr style=\"text-align: right;\">\n",
       "      <th></th>\n",
       "      <th>fixed acidity</th>\n",
       "      <th>volatile acidity</th>\n",
       "      <th>citric acid</th>\n",
       "      <th>residual sugar</th>\n",
       "      <th>chlorides</th>\n",
       "      <th>free sulfur dioxide</th>\n",
       "      <th>total sulfur dioxide</th>\n",
       "      <th>density</th>\n",
       "      <th>pH</th>\n",
       "      <th>sulphates</th>\n",
       "      <th>alcohol</th>\n",
       "      <th>quality</th>\n",
       "      <th>Reviews</th>\n",
       "    </tr>\n",
       "  </thead>\n",
       "  <tbody>\n",
       "    <tr>\n",
       "      <th>0</th>\n",
       "      <td>7.4</td>\n",
       "      <td>0.70</td>\n",
       "      <td>0.00</td>\n",
       "      <td>1.9</td>\n",
       "      <td>0.076</td>\n",
       "      <td>11.0</td>\n",
       "      <td>34.0</td>\n",
       "      <td>0.9978</td>\n",
       "      <td>3.51</td>\n",
       "      <td>0.56</td>\n",
       "      <td>9.4</td>\n",
       "      <td>5</td>\n",
       "      <td>0</td>\n",
       "    </tr>\n",
       "    <tr>\n",
       "      <th>1</th>\n",
       "      <td>7.8</td>\n",
       "      <td>0.88</td>\n",
       "      <td>0.00</td>\n",
       "      <td>2.6</td>\n",
       "      <td>0.098</td>\n",
       "      <td>25.0</td>\n",
       "      <td>67.0</td>\n",
       "      <td>0.9968</td>\n",
       "      <td>3.20</td>\n",
       "      <td>0.68</td>\n",
       "      <td>9.8</td>\n",
       "      <td>5</td>\n",
       "      <td>0</td>\n",
       "    </tr>\n",
       "    <tr>\n",
       "      <th>2</th>\n",
       "      <td>7.8</td>\n",
       "      <td>0.76</td>\n",
       "      <td>0.04</td>\n",
       "      <td>2.3</td>\n",
       "      <td>0.092</td>\n",
       "      <td>15.0</td>\n",
       "      <td>54.0</td>\n",
       "      <td>0.9970</td>\n",
       "      <td>3.26</td>\n",
       "      <td>0.65</td>\n",
       "      <td>9.8</td>\n",
       "      <td>5</td>\n",
       "      <td>0</td>\n",
       "    </tr>\n",
       "    <tr>\n",
       "      <th>3</th>\n",
       "      <td>11.2</td>\n",
       "      <td>0.28</td>\n",
       "      <td>0.56</td>\n",
       "      <td>1.9</td>\n",
       "      <td>0.075</td>\n",
       "      <td>17.0</td>\n",
       "      <td>60.0</td>\n",
       "      <td>0.9980</td>\n",
       "      <td>3.16</td>\n",
       "      <td>0.58</td>\n",
       "      <td>9.8</td>\n",
       "      <td>6</td>\n",
       "      <td>0</td>\n",
       "    </tr>\n",
       "    <tr>\n",
       "      <th>4</th>\n",
       "      <td>7.4</td>\n",
       "      <td>0.70</td>\n",
       "      <td>0.00</td>\n",
       "      <td>1.9</td>\n",
       "      <td>0.076</td>\n",
       "      <td>11.0</td>\n",
       "      <td>34.0</td>\n",
       "      <td>0.9978</td>\n",
       "      <td>3.51</td>\n",
       "      <td>0.56</td>\n",
       "      <td>9.4</td>\n",
       "      <td>5</td>\n",
       "      <td>0</td>\n",
       "    </tr>\n",
       "  </tbody>\n",
       "</table>\n",
       "</div>"
      ],
      "text/plain": [
       "   fixed acidity  volatile acidity  citric acid  residual sugar  chlorides  \\\n",
       "0            7.4              0.70         0.00             1.9      0.076   \n",
       "1            7.8              0.88         0.00             2.6      0.098   \n",
       "2            7.8              0.76         0.04             2.3      0.092   \n",
       "3           11.2              0.28         0.56             1.9      0.075   \n",
       "4            7.4              0.70         0.00             1.9      0.076   \n",
       "\n",
       "   free sulfur dioxide  total sulfur dioxide  density    pH  sulphates  \\\n",
       "0                 11.0                  34.0   0.9978  3.51       0.56   \n",
       "1                 25.0                  67.0   0.9968  3.20       0.68   \n",
       "2                 15.0                  54.0   0.9970  3.26       0.65   \n",
       "3                 17.0                  60.0   0.9980  3.16       0.58   \n",
       "4                 11.0                  34.0   0.9978  3.51       0.56   \n",
       "\n",
       "   alcohol  quality Reviews  \n",
       "0      9.4        5       0  \n",
       "1      9.8        5       0  \n",
       "2      9.8        5       0  \n",
       "3      9.8        6       0  \n",
       "4      9.4        5       0  "
      ]
     },
     "execution_count": 93,
     "metadata": {},
     "output_type": "execute_result"
    }
   ],
   "source": [
    "data_frame.head() #shows the top 5 rows of dataset"
   ]
  },
  {
   "cell_type": "code",
   "execution_count": 94,
   "metadata": {},
   "outputs": [],
   "source": [
    "X1= data_frame.drop('quality',1)\n",
    "X=X1.drop(\"Reviews\",1)\n",
    "y=data_frame['Reviews']"
   ]
  },
  {
   "cell_type": "markdown",
   "metadata": {},
   "source": [
    "## Proportion of Good(1) vs Bad Wines(0)\n",
    ">We wanted to make sure that there was a reasonable number of good quality wines. Based on the results below, it seemed like a fair enough number. In some applications, resampling may be required if the data was extremely imbalanced, but we assumed that it was okay for this purpose."
   ]
  },
  {
   "cell_type": "code",
   "execution_count": 95,
   "metadata": {},
   "outputs": [
    {
     "data": {
      "text/plain": [
       "0    1382\n",
       "1     217\n",
       "Name: Reviews, dtype: int64"
      ]
     },
     "execution_count": 95,
     "metadata": {},
     "output_type": "execute_result"
    },
    {
     "data": {
      "image/png": "[encoded data removed]",
      "text/plain": [
       "<Figure size 720x432 with 1 Axes>"
      ]
     },
     "metadata": {
      "needs_background": "light"
     },
     "output_type": "display_data"
    }
   ],
   "source": [
    "plt.figure(figsize=(10,6))\n",
    "sns.countplot(data_frame[\"Reviews\"],palette=\"muted\")\n",
    "data_frame[\"Reviews\"].value_counts()"
   ]
  },
  {
   "cell_type": "markdown",
   "metadata": {},
   "source": [
    "\n"
   ]
  },
  {
   "cell_type": "markdown",
   "metadata": {},
   "source": [
    "# Preparing Data for Modelling\n",
    "## Standardizing Feature Variables\n",
    ">To prepare the data for modeling the first thing that we should do is standardize the data. Standardizing the data means that it will transform the data so that its distribution will have a mean of 0 and a standard deviation of 1. It’s important to standardize your data in order to equalize the range of the data.\n",
    "For example, imagine a dataset with two input features: height in millimeters and weight in pounds. Because the values of ‘height’ are much higher due to its measurement, a greater emphasis will automatically be placed on height than weight, creating a bias."
   ]
  },
  {
   "cell_type": "code",
   "execution_count": 96,
   "metadata": {},
   "outputs": [
    {
     "data": {
      "text/html": [
       "<div>\n",
       "<style scoped>\n",
       "    .dataframe tbody tr th:only-of-type {\n",
       "        vertical-align: middle;\n",
       "    }\n",
       "\n",
       "    .dataframe tbody tr th {\n",
       "        vertical-align: top;\n",
       "    }\n",
       "\n",
       "    .dataframe thead th {\n",
       "        text-align: right;\n",
       "    }\n",
       "</style>\n",
       "<table border=\"1\" class=\"dataframe\">\n",
       "  <thead>\n",
       "    <tr style=\"text-align: right;\">\n",
       "      <th></th>\n",
       "      <th>0</th>\n",
       "      <th>1</th>\n",
       "      <th>2</th>\n",
       "      <th>3</th>\n",
       "      <th>4</th>\n",
       "      <th>5</th>\n",
       "      <th>6</th>\n",
       "      <th>7</th>\n",
       "      <th>8</th>\n",
       "      <th>9</th>\n",
       "      <th>10</th>\n",
       "    </tr>\n",
       "  </thead>\n",
       "  <tbody>\n",
       "    <tr>\n",
       "      <th>0</th>\n",
       "      <td>-0.528360</td>\n",
       "      <td>0.961877</td>\n",
       "      <td>-1.391472</td>\n",
       "      <td>-0.453218</td>\n",
       "      <td>-0.243707</td>\n",
       "      <td>-0.466193</td>\n",
       "      <td>-0.379133</td>\n",
       "      <td>0.558274</td>\n",
       "      <td>1.288643</td>\n",
       "      <td>-0.579207</td>\n",
       "      <td>-0.960246</td>\n",
       "    </tr>\n",
       "    <tr>\n",
       "      <th>1</th>\n",
       "      <td>-0.298547</td>\n",
       "      <td>1.967442</td>\n",
       "      <td>-1.391472</td>\n",
       "      <td>0.043416</td>\n",
       "      <td>0.223875</td>\n",
       "      <td>0.872638</td>\n",
       "      <td>0.624363</td>\n",
       "      <td>0.028261</td>\n",
       "      <td>-0.719933</td>\n",
       "      <td>0.128950</td>\n",
       "      <td>-0.584777</td>\n",
       "    </tr>\n",
       "    <tr>\n",
       "      <th>2</th>\n",
       "      <td>-0.298547</td>\n",
       "      <td>1.297065</td>\n",
       "      <td>-1.186070</td>\n",
       "      <td>-0.169427</td>\n",
       "      <td>0.096353</td>\n",
       "      <td>-0.083669</td>\n",
       "      <td>0.229047</td>\n",
       "      <td>0.134264</td>\n",
       "      <td>-0.331177</td>\n",
       "      <td>-0.048089</td>\n",
       "      <td>-0.584777</td>\n",
       "    </tr>\n",
       "    <tr>\n",
       "      <th>3</th>\n",
       "      <td>1.654856</td>\n",
       "      <td>-1.384443</td>\n",
       "      <td>1.484154</td>\n",
       "      <td>-0.453218</td>\n",
       "      <td>-0.264960</td>\n",
       "      <td>0.107592</td>\n",
       "      <td>0.411500</td>\n",
       "      <td>0.664277</td>\n",
       "      <td>-0.979104</td>\n",
       "      <td>-0.461180</td>\n",
       "      <td>-0.584777</td>\n",
       "    </tr>\n",
       "    <tr>\n",
       "      <th>4</th>\n",
       "      <td>-0.528360</td>\n",
       "      <td>0.961877</td>\n",
       "      <td>-1.391472</td>\n",
       "      <td>-0.453218</td>\n",
       "      <td>-0.243707</td>\n",
       "      <td>-0.466193</td>\n",
       "      <td>-0.379133</td>\n",
       "      <td>0.558274</td>\n",
       "      <td>1.288643</td>\n",
       "      <td>-0.579207</td>\n",
       "      <td>-0.960246</td>\n",
       "    </tr>\n",
       "  </tbody>\n",
       "</table>\n",
       "</div>"
      ],
      "text/plain": [
       "          0         1         2         3         4         5         6  \\\n",
       "0 -0.528360  0.961877 -1.391472 -0.453218 -0.243707 -0.466193 -0.379133   \n",
       "1 -0.298547  1.967442 -1.391472  0.043416  0.223875  0.872638  0.624363   \n",
       "2 -0.298547  1.297065 -1.186070 -0.169427  0.096353 -0.083669  0.229047   \n",
       "3  1.654856 -1.384443  1.484154 -0.453218 -0.264960  0.107592  0.411500   \n",
       "4 -0.528360  0.961877 -1.391472 -0.453218 -0.243707 -0.466193 -0.379133   \n",
       "\n",
       "          7         8         9        10  \n",
       "0  0.558274  1.288643 -0.579207 -0.960246  \n",
       "1  0.028261 -0.719933  0.128950 -0.584777  \n",
       "2  0.134264 -0.331177 -0.048089 -0.584777  \n",
       "3  0.664277 -0.979104 -0.461180 -0.584777  \n",
       "4  0.558274  1.288643 -0.579207 -0.960246  "
      ]
     },
     "execution_count": 96,
     "metadata": {},
     "output_type": "execute_result"
    }
   ],
   "source": [
    "# Normalize feature variables\n",
    "from sklearn.preprocessing import StandardScaler\n",
    "X_features = X\n",
    "X = StandardScaler().fit_transform(X)\n",
    "pd.DataFrame(X).head()"
   ]
  },
  {
   "cell_type": "markdown",
   "metadata": {},
   "source": [
    "## Split the data \n",
    ">25% of the data was chosen as test data and the rest 75% was chosen as training data. We\n",
    "randomly selected rows for dividing the data. We chose the partition percentage in a random\n",
    "manner to avoid any bias.\n"
   ]
  },
  {
   "cell_type": "code",
   "execution_count": 97,
   "metadata": {},
   "outputs": [],
   "source": [
    "# Splitting the data\n",
    "from sklearn.model_selection import train_test_split\n",
    "X_train, X_test, y_train, y_test = train_test_split(X, y, test_size=.25, random_state=0)"
   ]
  },
  {
   "cell_type": "markdown",
   "metadata": {},
   "source": [
    "## Dimensionality Reduction\n",
    ">Principal Component Analysis(PCA) is one of the most popular linear dimension reduction. Sometimes, it is used alone and sometimes as a starting solution for other dimension reduction methods.\n",
    ">In this data set we had 11 features so it would be impossible to plot decision boundaries of classifiers.Hence we have used this to reduce the dimensions to only 2.\n",
    ">It reduce the dimensionality of a dataset, while preserving as much ‘variability’ (i.e. statistical information) as possible."
   ]
  },
  {
   "cell_type": "code",
   "execution_count": 98,
   "metadata": {},
   "outputs": [],
   "source": [
    "from sklearn.decomposition import PCA\n",
    "pca = PCA(n_components=2)\n",
    "X_train = pca.fit_transform(X_train)\n",
    "X_test = pca.transform(X_test)\n",
    "explained_variance = pca.explained_variance_ratio_"
   ]
  },
  {
   "cell_type": "markdown",
   "metadata": {},
   "source": [
    "## MODELLING\n",
    "For this project, we wanted to compare four different machine learning models:\n",
    "<ol>\n",
    "<li>Random Forest Classification</li>\n",
    "<li>Decision Trees</li>\n",
    "<li>SVM</li>\n",
    "<li>K-Nearest Neighbours</li>\n",
    "</ol>"
   ]
  },
  {
   "cell_type": "markdown",
   "metadata": {},
   "source": [
    "# Random Forest Classification\n"
   ]
  },
  {
   "cell_type": "code",
   "execution_count": 99,
   "metadata": {},
   "outputs": [
    {
     "name": "stdout",
     "output_type": "stream",
     "text": [
      "              precision    recall  f1-score   support\n",
      "\n",
      "           0       0.94      0.96      0.95       355\n",
      "           1       0.63      0.49      0.55        45\n",
      "\n",
      "    accuracy                           0.91       400\n",
      "   macro avg       0.78      0.73      0.75       400\n",
      "weighted avg       0.90      0.91      0.91       400\n",
      "\n",
      "[[342  13]\n",
      " [ 23  22]]\n",
      "accuracy of random forest classifier: 0.91\n"
     ]
    }
   ],
   "source": [
    "from sklearn.metrics import classification_report,confusion_matrix\n",
    "from sklearn.ensemble import RandomForestClassifier\n",
    "model1 = RandomForestClassifier(random_state=1)\n",
    "model1.fit(X_train, y_train)\n",
    "y_pred1 = model1.predict(X_test)\n",
    "print(classification_report(y_test, y_pred1))\n",
    "print(confusion_matrix(y_test, y_pred1))\n",
    "from sklearn.metrics import accuracy_score\n",
    "accuracy = accuracy_score(y_test,y_pred1)\n",
    "print('accuracy of random forest classifier:',accuracy)"
   ]
  },
  {
   "cell_type": "code",
   "execution_count": 100,
   "metadata": {},
   "outputs": [
    {
     "name": "stderr",
     "output_type": "stream",
     "text": [
      "*c* argument looks like a single numeric RGB or RGBA sequence, which should be avoided as value-mapping will have precedence in case its length matches with *x* & *y*.  Please use the *color* keyword-argument or provide a 2-D array with a single row if you intend to specify the same RGB or RGBA value for all points.\n",
      "*c* argument looks like a single numeric RGB or RGBA sequence, which should be avoided as value-mapping will have precedence in case its length matches with *x* & *y*.  Please use the *color* keyword-argument or provide a 2-D array with a single row if you intend to specify the same RGB or RGBA value for all points.\n"
     ]
    },
    {
     "data": {
      "image/png": "[encoded data removed]",
      "text/plain": [
       "<Figure size 432x288 with 1 Axes>"
      ]
     },
     "metadata": {
      "needs_background": "light"
     },
     "output_type": "display_data"
    }
   ],
   "source": [
    "from matplotlib.colors import ListedColormap\n",
    "X_set, y_set = X_train, y_train\n",
    "X1, X2 = np.meshgrid(np.arange(start = X_set[:, 0].min() - 2, stop = X_set[:, 0].max() + 2, step = 0.005),\n",
    "                     np.arange(start = X_set[:, 1].min() - 2, stop = X_set[:, 1].max() + 2, step = 0.005))\n",
    "plt.contourf(X1, X2, model1.predict(np.array([X1.ravel(), X2.ravel()]).T).reshape(X1.shape),\n",
    "             alpha = 0.5, cmap = ListedColormap(('red', 'green')))\n",
    "plt.xlim(X1.min(), X1.max())\n",
    "plt.ylim(X2.min(), X2.max())\n",
    "for i, j in enumerate(np.unique(y_set)):\n",
    "    plt.scatter(X_set[y_set == j, 0], X_set[y_set == j, 1],\n",
    "                c = ListedColormap(('red', 'green'))(i), label = j)\n",
    "plt.title('Random Forest (Training set)')\n",
    "plt.xlabel('PC1')\n",
    "plt.ylabel('PC2')\n",
    "plt.legend()\n",
    "plt.show()\n"
   ]
  },
  {
   "cell_type": "code",
   "execution_count": 101,
   "metadata": {},
   "outputs": [
    {
     "name": "stderr",
     "output_type": "stream",
     "text": [
      "*c* argument looks like a single numeric RGB or RGBA sequence, which should be avoided as value-mapping will have precedence in case its length matches with *x* & *y*.  Please use the *color* keyword-argument or provide a 2-D array with a single row if you intend to specify the same RGB or RGBA value for all points.\n",
      "*c* argument looks like a single numeric RGB or RGBA sequence, which should be avoided as value-mapping will have precedence in case its length matches with *x* & *y*.  Please use the *color* keyword-argument or provide a 2-D array with a single row if you intend to specify the same RGB or RGBA value for all points.\n"
     ]
    },
    {
     "data": {
      "image/png": "[encoded data removed]",
      "text/plain": [
       "<Figure size 432x288 with 1 Axes>"
      ]
     },
     "metadata": {
      "needs_background": "light"
     },
     "output_type": "display_data"
    }
   ],
   "source": [
    "from matplotlib.colors import ListedColormap\n",
    "X_set, y_set = X_test, y_test\n",
    "X1, X2 = np.meshgrid(np.arange(start = X_set[:, 0].min() - 2, stop = X_set[:, 0].max() + 2, step = 0.005),\n",
    "                     np.arange(start = X_set[:, 1].min() - 2, stop = X_set[:, 1].max() + 2, step = 0.005))\n",
    "plt.contourf(X1, X2, model1.predict(np.array([X1.ravel(), X2.ravel()]).T).reshape(X1.shape),\n",
    "             alpha = 0.5, cmap = ListedColormap(('red', 'green')))\n",
    "plt.xlim(X1.min(), X1.max())\n",
    "plt.ylim(X2.min(), X2.max())\n",
    "for i, j in enumerate(np.unique(y_set)):\n",
    "    plt.scatter(X_set[y_set == j, 0], X_set[y_set == j, 1],\n",
    "                c = ListedColormap(('red', 'green'))(i), label = j)\n",
    "plt.title('Random Forest (Test set)')\n",
    "plt.xlabel('PC1')\n",
    "plt.ylabel('PC2')\n",
    "plt.legend()\n",
    "plt.show()"
   ]
  },
  {
   "cell_type": "markdown",
   "metadata": {},
   "source": [
    "# Observations:\n",
    "<ol>\n",
    "    <li>Precision rate of class 1 is less than 50 percent it is because our data set has less values of class 1 as compared to class 0.</li>\n",
    "    <li>We can see the decision boundaries of classifiers , there is no over fitting of boundaries.</li>\n",
    "    <li> Accuracy : 91%</li>\n",
    "</ol>"
   ]
  },
  {
   "cell_type": "markdown",
   "metadata": {},
   "source": [
    "# Decision Tree Classification"
   ]
  },
  {
   "cell_type": "code",
   "execution_count": 102,
   "metadata": {},
   "outputs": [
    {
     "name": "stdout",
     "output_type": "stream",
     "text": [
      "              precision    recall  f1-score   support\n",
      "\n",
      "           0       0.95      0.92      0.93       355\n",
      "           1       0.49      0.58      0.53        45\n",
      "\n",
      "    accuracy                           0.89       400\n",
      "   macro avg       0.72      0.75      0.73       400\n",
      "weighted avg       0.89      0.89      0.89       400\n",
      "\n",
      "[[328  27]\n",
      " [ 19  26]]\n",
      "accuracy of decision tree classifier: 0.885\n"
     ]
    }
   ],
   "source": [
    "from sklearn.metrics import classification_report\n",
    "from sklearn.tree import DecisionTreeClassifier\n",
    "model = DecisionTreeClassifier(random_state=1)\n",
    "model.fit(X_train, y_train)\n",
    "y_pred= model.predict(X_test)\n",
    "print(classification_report(y_test, y_pred))\n",
    "print(confusion_matrix(y_test, y_pred))\n",
    "from sklearn.metrics import accuracy_score\n",
    "accuracy = accuracy_score(y_test,y_pred)\n",
    "print('accuracy of decision tree classifier:',accuracy)"
   ]
  },
  {
   "cell_type": "code",
   "execution_count": 103,
   "metadata": {},
   "outputs": [
    {
     "name": "stdout",
     "output_type": "stream",
     "text": [
      "|--- feature_1 <= -1.38\n",
      "|   |--- feature_1 <= -1.82\n",
      "|   |   |--- feature_0 <= 2.45\n",
      "|   |   |   |--- feature_0 <= 2.14\n",
      "|   |   |   |   |--- feature_1 <= -2.67\n",
      "|   |   |   |   |   |--- feature_0 <= 0.75\n",
      "|   |   |   |   |   |   |--- feature_1 <= -2.78\n",
      "|   |   |   |   |   |   |   |--- class: 1\n",
      "|   |   |   |   |   |   |--- feature_1 >  -2.78\n",
      "|   |   |   |   |   |   |   |--- feature_1 <= -2.72\n",
      "|   |   |   |   |   |   |   |   |--- class: 0\n",
      "|   |   |   |   |   |   |   |--- feature_1 >  -2.72\n",
      "|   |   |   |   |   |   |   |   |--- class: 1\n",
      "|   |   |   |   |   |--- feature_0 >  0.75\n",
      "|   |   |   |   |   |   |--- class: 0\n",
      "|   |   |   |   |--- feature_1 >  -2.67\n",
      "|   |   |   |   |   |--- feature_1 <= -2.43\n",
      "|   |   |   |   |   |   |--- feature_1 <= -2.58\n",
      "|   |   |   |   |   |   |   |--- feature_1 <= -2.59\n",
      "|   |   |   |   |   |   |   |   |--- class: 0\n",
      "|   |   |   |   |   |   |   |--- feature_1 >  -2.59\n",
      "|   |   |   |   |   |   |   |   |--- class: 1\n",
      "|   |   |   |   |   |   |--- feature_1 >  -2.58\n",
      "|   |   |   |   |   |   |   |--- class: 0\n",
      "|   |   |   |   |   |--- feature_1 >  -2.43\n",
      "|   |   |   |   |   |   |--- feature_1 <= -2.34\n",
      "|   |   |   |   |   |   |   |--- feature_1 <= -2.40\n",
      "|   |   |   |   |   |   |   |   |--- feature_1 <= -2.42\n",
      "|   |   |   |   |   |   |   |   |   |--- class: 1\n",
      "|   |   |   |   |   |   |   |   |--- feature_1 >  -2.42\n",
      "|   |   |   |   |   |   |   |   |   |--- class: 0\n",
      "|   |   |   |   |   |   |   |--- feature_1 >  -2.40\n",
      "|   |   |   |   |   |   |   |   |--- class: 1\n",
      "|   |   |   |   |   |   |--- feature_1 >  -2.34\n",
      "|   |   |   |   |   |   |   |--- feature_0 <= 0.04\n",
      "|   |   |   |   |   |   |   |   |--- feature_1 <= -2.18\n",
      "|   |   |   |   |   |   |   |   |   |--- feature_1 <= -2.29\n",
      "|   |   |   |   |   |   |   |   |   |   |--- class: 0\n",
      "|   |   |   |   |   |   |   |   |   |--- feature_1 >  -2.29\n",
      "|   |   |   |   |   |   |   |   |   |   |--- class: 1\n",
      "|   |   |   |   |   |   |   |   |--- feature_1 >  -2.18\n",
      "|   |   |   |   |   |   |   |   |   |--- feature_0 <= -2.96\n",
      "|   |   |   |   |   |   |   |   |   |   |--- class: 1\n",
      "|   |   |   |   |   |   |   |   |   |--- feature_0 >  -2.96\n",
      "|   |   |   |   |   |   |   |   |   |   |--- class: 0\n",
      "|   |   |   |   |   |   |   |--- feature_0 >  0.04\n",
      "|   |   |   |   |   |   |   |   |--- feature_1 <= -2.21\n",
      "|   |   |   |   |   |   |   |   |   |--- feature_0 <= 0.51\n",
      "|   |   |   |   |   |   |   |   |   |   |--- class: 1\n",
      "|   |   |   |   |   |   |   |   |   |--- feature_0 >  0.51\n",
      "|   |   |   |   |   |   |   |   |   |   |--- class: 0\n",
      "|   |   |   |   |   |   |   |   |--- feature_1 >  -2.21\n",
      "|   |   |   |   |   |   |   |   |   |--- feature_0 <= 0.48\n",
      "|   |   |   |   |   |   |   |   |   |   |--- feature_0 <= 0.19\n",
      "|   |   |   |   |   |   |   |   |   |   |   |--- truncated branch of depth 3\n",
      "|   |   |   |   |   |   |   |   |   |   |--- feature_0 >  0.19\n",
      "|   |   |   |   |   |   |   |   |   |   |   |--- class: 0\n",
      "|   |   |   |   |   |   |   |   |   |--- feature_0 >  0.48\n",
      "|   |   |   |   |   |   |   |   |   |   |--- feature_0 <= 1.64\n",
      "|   |   |   |   |   |   |   |   |   |   |   |--- truncated branch of depth 3\n",
      "|   |   |   |   |   |   |   |   |   |   |--- feature_0 >  1.64\n",
      "|   |   |   |   |   |   |   |   |   |   |   |--- truncated branch of depth 4\n",
      "|   |   |   |--- feature_0 >  2.14\n",
      "|   |   |   |   |--- feature_1 <= -1.99\n",
      "|   |   |   |   |   |--- feature_1 <= -2.09\n",
      "|   |   |   |   |   |   |--- class: 1\n",
      "|   |   |   |   |   |--- feature_1 >  -2.09\n",
      "|   |   |   |   |   |   |--- class: 0\n",
      "|   |   |   |   |--- feature_1 >  -1.99\n",
      "|   |   |   |   |   |--- class: 1\n",
      "|   |   |--- feature_0 >  2.45\n",
      "|   |   |   |--- class: 0\n",
      "|   |--- feature_1 >  -1.82\n",
      "|   |   |--- feature_1 <= -1.65\n",
      "|   |   |   |--- feature_0 <= -3.79\n",
      "|   |   |   |   |--- class: 1\n",
      "|   |   |   |--- feature_0 >  -3.79\n",
      "|   |   |   |   |--- feature_1 <= -1.79\n",
      "|   |   |   |   |   |--- feature_0 <= 0.59\n",
      "|   |   |   |   |   |   |--- class: 1\n",
      "|   |   |   |   |   |--- feature_0 >  0.59\n",
      "|   |   |   |   |   |   |--- class: 0\n",
      "|   |   |   |   |--- feature_1 >  -1.79\n",
      "|   |   |   |   |   |--- feature_0 <= 1.09\n",
      "|   |   |   |   |   |   |--- class: 0\n",
      "|   |   |   |   |   |--- feature_0 >  1.09\n",
      "|   |   |   |   |   |   |--- feature_0 <= 1.44\n",
      "|   |   |   |   |   |   |   |--- class: 1\n",
      "|   |   |   |   |   |   |--- feature_0 >  1.44\n",
      "|   |   |   |   |   |   |   |--- class: 0\n",
      "|   |   |--- feature_1 >  -1.65\n",
      "|   |   |   |--- feature_1 <= -1.59\n",
      "|   |   |   |   |--- feature_0 <= -3.45\n",
      "|   |   |   |   |   |--- class: 0\n",
      "|   |   |   |   |--- feature_0 >  -3.45\n",
      "|   |   |   |   |   |--- feature_1 <= -1.61\n",
      "|   |   |   |   |   |   |--- feature_0 <= -0.11\n",
      "|   |   |   |   |   |   |   |--- feature_0 <= -2.08\n",
      "|   |   |   |   |   |   |   |   |--- class: 1\n",
      "|   |   |   |   |   |   |   |--- feature_0 >  -2.08\n",
      "|   |   |   |   |   |   |   |   |--- class: 0\n",
      "|   |   |   |   |   |   |--- feature_0 >  -0.11\n",
      "|   |   |   |   |   |   |   |--- class: 1\n",
      "|   |   |   |   |   |--- feature_1 >  -1.61\n",
      "|   |   |   |   |   |   |--- feature_1 <= -1.60\n",
      "|   |   |   |   |   |   |   |--- class: 0\n",
      "|   |   |   |   |   |   |--- feature_1 >  -1.60\n",
      "|   |   |   |   |   |   |   |--- class: 1\n",
      "|   |   |   |--- feature_1 >  -1.59\n",
      "|   |   |   |   |--- feature_0 <= 3.40\n",
      "|   |   |   |   |   |--- feature_1 <= -1.41\n",
      "|   |   |   |   |   |   |--- feature_0 <= 2.77\n",
      "|   |   |   |   |   |   |   |--- feature_1 <= -1.43\n",
      "|   |   |   |   |   |   |   |   |--- feature_1 <= -1.55\n",
      "|   |   |   |   |   |   |   |   |   |--- feature_1 <= -1.55\n",
      "|   |   |   |   |   |   |   |   |   |   |--- class: 0\n",
      "|   |   |   |   |   |   |   |   |   |--- feature_1 >  -1.55\n",
      "|   |   |   |   |   |   |   |   |   |   |--- class: 1\n",
      "|   |   |   |   |   |   |   |   |--- feature_1 >  -1.55\n",
      "|   |   |   |   |   |   |   |   |   |--- feature_0 <= 0.18\n",
      "|   |   |   |   |   |   |   |   |   |   |--- feature_0 <= -0.00\n",
      "|   |   |   |   |   |   |   |   |   |   |   |--- class: 0\n",
      "|   |   |   |   |   |   |   |   |   |   |--- feature_0 >  -0.00\n",
      "|   |   |   |   |   |   |   |   |   |   |   |--- class: 1\n",
      "|   |   |   |   |   |   |   |   |   |--- feature_0 >  0.18\n",
      "|   |   |   |   |   |   |   |   |   |   |--- class: 0\n",
      "|   |   |   |   |   |   |   |--- feature_1 >  -1.43\n",
      "|   |   |   |   |   |   |   |   |--- feature_0 <= -0.10\n",
      "|   |   |   |   |   |   |   |   |   |--- feature_1 <= -1.41\n",
      "|   |   |   |   |   |   |   |   |   |   |--- class: 1\n",
      "|   |   |   |   |   |   |   |   |   |--- feature_1 >  -1.41\n",
      "|   |   |   |   |   |   |   |   |   |   |--- class: 0\n",
      "|   |   |   |   |   |   |   |   |--- feature_0 >  -0.10\n",
      "|   |   |   |   |   |   |   |   |   |--- class: 0\n",
      "|   |   |   |   |   |   |--- feature_0 >  2.77\n",
      "|   |   |   |   |   |   |   |--- feature_1 <= -1.46\n",
      "|   |   |   |   |   |   |   |   |--- class: 1\n",
      "|   |   |   |   |   |   |   |--- feature_1 >  -1.46\n",
      "|   |   |   |   |   |   |   |   |--- class: 0\n",
      "|   |   |   |   |   |--- feature_1 >  -1.41\n",
      "|   |   |   |   |   |   |--- feature_0 <= 0.88\n",
      "|   |   |   |   |   |   |   |--- feature_1 <= -1.40\n",
      "|   |   |   |   |   |   |   |   |--- feature_1 <= -1.41\n",
      "|   |   |   |   |   |   |   |   |   |--- class: 1\n",
      "|   |   |   |   |   |   |   |   |--- feature_1 >  -1.41\n",
      "|   |   |   |   |   |   |   |   |   |--- class: 0\n",
      "|   |   |   |   |   |   |   |--- feature_1 >  -1.40\n",
      "|   |   |   |   |   |   |   |   |--- class: 1\n",
      "|   |   |   |   |   |   |--- feature_0 >  0.88\n",
      "|   |   |   |   |   |   |   |--- class: 0\n",
      "|   |   |   |   |--- feature_0 >  3.40\n",
      "|   |   |   |   |   |--- class: 1\n",
      "|--- feature_1 >  -1.38\n",
      "|   |--- feature_1 <= 0.33\n",
      "|   |   |--- feature_1 <= 0.33\n",
      "|   |   |   |--- feature_0 <= 3.39\n",
      "|   |   |   |   |--- feature_1 <= 0.31\n",
      "|   |   |   |   |   |--- feature_1 <= -0.45\n",
      "|   |   |   |   |   |   |--- feature_1 <= -0.46\n",
      "|   |   |   |   |   |   |   |--- feature_0 <= -2.81\n",
      "|   |   |   |   |   |   |   |   |--- feature_0 <= -2.95\n",
      "|   |   |   |   |   |   |   |   |   |--- feature_1 <= -0.55\n",
      "|   |   |   |   |   |   |   |   |   |   |--- feature_0 <= -3.87\n",
      "|   |   |   |   |   |   |   |   |   |   |   |--- truncated branch of depth 2\n",
      "|   |   |   |   |   |   |   |   |   |   |--- feature_0 >  -3.87\n",
      "|   |   |   |   |   |   |   |   |   |   |   |--- class: 0\n",
      "|   |   |   |   |   |   |   |   |   |--- feature_1 >  -0.55\n",
      "|   |   |   |   |   |   |   |   |   |   |--- class: 1\n",
      "|   |   |   |   |   |   |   |   |--- feature_0 >  -2.95\n",
      "|   |   |   |   |   |   |   |   |   |--- class: 1\n",
      "|   |   |   |   |   |   |   |--- feature_0 >  -2.81\n",
      "|   |   |   |   |   |   |   |   |--- feature_1 <= -1.15\n",
      "|   |   |   |   |   |   |   |   |   |--- feature_1 <= -1.15\n",
      "|   |   |   |   |   |   |   |   |   |   |--- feature_0 <= -0.92\n",
      "|   |   |   |   |   |   |   |   |   |   |   |--- truncated branch of depth 3\n",
      "|   |   |   |   |   |   |   |   |   |   |--- feature_0 >  -0.92\n",
      "|   |   |   |   |   |   |   |   |   |   |   |--- truncated branch of depth 10\n",
      "|   |   |   |   |   |   |   |   |   |--- feature_1 >  -1.15\n",
      "|   |   |   |   |   |   |   |   |   |   |--- feature_0 <= 1.02\n",
      "|   |   |   |   |   |   |   |   |   |   |   |--- class: 1\n",
      "|   |   |   |   |   |   |   |   |   |   |--- feature_0 >  1.02\n",
      "|   |   |   |   |   |   |   |   |   |   |   |--- class: 0\n",
      "|   |   |   |   |   |   |   |   |--- feature_1 >  -1.15\n",
      "|   |   |   |   |   |   |   |   |   |--- feature_0 <= 0.74\n",
      "|   |   |   |   |   |   |   |   |   |   |--- feature_0 <= -0.17\n",
      "|   |   |   |   |   |   |   |   |   |   |   |--- truncated branch of depth 8\n",
      "|   |   |   |   |   |   |   |   |   |   |--- feature_0 >  -0.17\n",
      "|   |   |   |   |   |   |   |   |   |   |   |--- truncated branch of depth 6\n",
      "|   |   |   |   |   |   |   |   |   |--- feature_0 >  0.74\n",
      "|   |   |   |   |   |   |   |   |   |   |--- feature_0 <= 3.04\n",
      "|   |   |   |   |   |   |   |   |   |   |   |--- truncated branch of depth 3\n",
      "|   |   |   |   |   |   |   |   |   |   |--- feature_0 >  3.04\n",
      "|   |   |   |   |   |   |   |   |   |   |   |--- truncated branch of depth 3\n",
      "|   |   |   |   |   |   |--- feature_1 >  -0.46\n",
      "|   |   |   |   |   |   |   |--- class: 1\n",
      "|   |   |   |   |   |--- feature_1 >  -0.45\n",
      "|   |   |   |   |   |   |--- feature_0 <= -3.18\n",
      "|   |   |   |   |   |   |   |--- feature_1 <= -0.22\n",
      "|   |   |   |   |   |   |   |   |--- class: 1\n",
      "|   |   |   |   |   |   |   |--- feature_1 >  -0.22\n",
      "|   |   |   |   |   |   |   |   |--- feature_0 <= -3.28\n",
      "|   |   |   |   |   |   |   |   |   |--- class: 0\n",
      "|   |   |   |   |   |   |   |   |--- feature_0 >  -3.28\n",
      "|   |   |   |   |   |   |   |   |   |--- class: 1\n",
      "|   |   |   |   |   |   |--- feature_0 >  -3.18\n",
      "|   |   |   |   |   |   |   |--- feature_1 <= -0.25\n",
      "|   |   |   |   |   |   |   |   |--- feature_0 <= -2.47\n",
      "|   |   |   |   |   |   |   |   |   |--- feature_0 <= -2.50\n",
      "|   |   |   |   |   |   |   |   |   |   |--- feature_1 <= -0.39\n",
      "|   |   |   |   |   |   |   |   |   |   |   |--- class: 0\n",
      "|   |   |   |   |   |   |   |   |   |   |--- feature_1 >  -0.39\n",
      "|   |   |   |   |   |   |   |   |   |   |   |--- truncated branch of depth 2\n",
      "|   |   |   |   |   |   |   |   |   |--- feature_0 >  -2.50\n",
      "|   |   |   |   |   |   |   |   |   |   |--- class: 1\n",
      "|   |   |   |   |   |   |   |   |--- feature_0 >  -2.47\n",
      "|   |   |   |   |   |   |   |   |   |--- feature_1 <= -0.42\n",
      "|   |   |   |   |   |   |   |   |   |   |--- feature_1 <= -0.43\n",
      "|   |   |   |   |   |   |   |   |   |   |   |--- class: 0\n",
      "|   |   |   |   |   |   |   |   |   |   |--- feature_1 >  -0.43\n",
      "|   |   |   |   |   |   |   |   |   |   |   |--- class: 1\n",
      "|   |   |   |   |   |   |   |   |   |--- feature_1 >  -0.42\n",
      "|   |   |   |   |   |   |   |   |   |   |--- class: 0\n",
      "|   |   |   |   |   |   |   |--- feature_1 >  -0.25\n",
      "|   |   |   |   |   |   |   |   |--- feature_1 <= -0.24\n",
      "|   |   |   |   |   |   |   |   |   |--- class: 1\n",
      "|   |   |   |   |   |   |   |   |--- feature_1 >  -0.24\n",
      "|   |   |   |   |   |   |   |   |   |--- feature_0 <= 0.69\n",
      "|   |   |   |   |   |   |   |   |   |   |--- feature_1 <= -0.20\n",
      "|   |   |   |   |   |   |   |   |   |   |   |--- truncated branch of depth 2\n",
      "|   |   |   |   |   |   |   |   |   |   |--- feature_1 >  -0.20\n",
      "|   |   |   |   |   |   |   |   |   |   |   |--- truncated branch of depth 7\n",
      "|   |   |   |   |   |   |   |   |   |--- feature_0 >  0.69\n",
      "|   |   |   |   |   |   |   |   |   |   |--- feature_0 <= 1.65\n",
      "|   |   |   |   |   |   |   |   |   |   |   |--- truncated branch of depth 5\n",
      "|   |   |   |   |   |   |   |   |   |   |--- feature_0 >  1.65\n",
      "|   |   |   |   |   |   |   |   |   |   |   |--- class: 0\n",
      "|   |   |   |   |--- feature_1 >  0.31\n",
      "|   |   |   |   |   |--- feature_0 <= -0.44\n",
      "|   |   |   |   |   |   |--- class: 0\n",
      "|   |   |   |   |   |--- feature_0 >  -0.44\n",
      "|   |   |   |   |   |   |--- class: 1\n",
      "|   |   |   |--- feature_0 >  3.39\n",
      "|   |   |   |   |--- feature_1 <= -0.67\n",
      "|   |   |   |   |   |--- feature_0 <= 3.66\n",
      "|   |   |   |   |   |   |--- class: 1\n",
      "|   |   |   |   |   |--- feature_0 >  3.66\n",
      "|   |   |   |   |   |   |--- feature_0 <= 3.89\n",
      "|   |   |   |   |   |   |   |--- class: 0\n",
      "|   |   |   |   |   |   |--- feature_0 >  3.89\n",
      "|   |   |   |   |   |   |   |--- feature_0 <= 4.57\n",
      "|   |   |   |   |   |   |   |   |--- class: 1\n",
      "|   |   |   |   |   |   |   |--- feature_0 >  4.57\n",
      "|   |   |   |   |   |   |   |   |--- class: 0\n",
      "|   |   |   |   |--- feature_1 >  -0.67\n",
      "|   |   |   |   |   |--- class: 0\n",
      "|   |   |--- feature_1 >  0.33\n",
      "|   |   |   |--- class: 1\n",
      "|   |--- feature_1 >  0.33\n",
      "|   |   |--- feature_0 <= 0.74\n",
      "|   |   |   |--- feature_0 <= -2.90\n",
      "|   |   |   |   |--- feature_0 <= -2.94\n",
      "|   |   |   |   |   |--- class: 0\n",
      "|   |   |   |   |--- feature_0 >  -2.94\n",
      "|   |   |   |   |   |--- class: 1\n",
      "|   |   |   |--- feature_0 >  -2.90\n",
      "|   |   |   |   |--- feature_0 <= -0.15\n",
      "|   |   |   |   |   |--- class: 0\n",
      "|   |   |   |   |--- feature_0 >  -0.15\n",
      "|   |   |   |   |   |--- feature_0 <= -0.12\n",
      "|   |   |   |   |   |   |--- class: 1\n",
      "|   |   |   |   |   |--- feature_0 >  -0.12\n",
      "|   |   |   |   |   |   |--- feature_1 <= 1.35\n",
      "|   |   |   |   |   |   |   |--- feature_1 <= 1.31\n",
      "|   |   |   |   |   |   |   |   |--- feature_0 <= 0.52\n",
      "|   |   |   |   |   |   |   |   |   |--- class: 0\n",
      "|   |   |   |   |   |   |   |   |--- feature_0 >  0.52\n",
      "|   |   |   |   |   |   |   |   |   |--- feature_0 <= 0.53\n",
      "|   |   |   |   |   |   |   |   |   |   |--- class: 1\n",
      "|   |   |   |   |   |   |   |   |   |--- feature_0 >  0.53\n",
      "|   |   |   |   |   |   |   |   |   |   |--- class: 0\n",
      "|   |   |   |   |   |   |   |--- feature_1 >  1.31\n",
      "|   |   |   |   |   |   |   |   |--- class: 1\n",
      "|   |   |   |   |   |   |--- feature_1 >  1.35\n",
      "|   |   |   |   |   |   |   |--- class: 0\n",
      "|   |   |--- feature_0 >  0.74\n",
      "|   |   |   |--- feature_0 <= 0.76\n",
      "|   |   |   |   |--- class: 1\n",
      "|   |   |   |--- feature_0 >  0.76\n",
      "|   |   |   |   |--- feature_1 <= 0.48\n",
      "|   |   |   |   |   |--- feature_1 <= 0.46\n",
      "|   |   |   |   |   |   |--- feature_0 <= 3.99\n",
      "|   |   |   |   |   |   |   |--- class: 0\n",
      "|   |   |   |   |   |   |--- feature_0 >  3.99\n",
      "|   |   |   |   |   |   |   |--- class: 1\n",
      "|   |   |   |   |   |--- feature_1 >  0.46\n",
      "|   |   |   |   |   |   |--- class: 1\n",
      "|   |   |   |   |--- feature_1 >  0.48\n",
      "|   |   |   |   |   |--- feature_1 <= 4.52\n",
      "|   |   |   |   |   |   |--- feature_0 <= 2.10\n",
      "|   |   |   |   |   |   |   |--- feature_1 <= 1.15\n",
      "|   |   |   |   |   |   |   |   |--- feature_1 <= 1.15\n",
      "|   |   |   |   |   |   |   |   |   |--- class: 0\n",
      "|   |   |   |   |   |   |   |   |--- feature_1 >  1.15\n",
      "|   |   |   |   |   |   |   |   |   |--- class: 1\n",
      "|   |   |   |   |   |   |   |--- feature_1 >  1.15\n",
      "|   |   |   |   |   |   |   |   |--- class: 0\n",
      "|   |   |   |   |   |   |--- feature_0 >  2.10\n",
      "|   |   |   |   |   |   |   |--- feature_0 <= 2.14\n",
      "|   |   |   |   |   |   |   |   |--- class: 1\n",
      "|   |   |   |   |   |   |   |--- feature_0 >  2.14\n",
      "|   |   |   |   |   |   |   |   |--- feature_0 <= 3.26\n",
      "|   |   |   |   |   |   |   |   |   |--- feature_0 <= 2.86\n",
      "|   |   |   |   |   |   |   |   |   |   |--- feature_1 <= 2.19\n",
      "|   |   |   |   |   |   |   |   |   |   |   |--- class: 0\n",
      "|   |   |   |   |   |   |   |   |   |   |--- feature_1 >  2.19\n",
      "|   |   |   |   |   |   |   |   |   |   |   |--- truncated branch of depth 2\n",
      "|   |   |   |   |   |   |   |   |   |--- feature_0 >  2.86\n",
      "|   |   |   |   |   |   |   |   |   |   |--- feature_1 <= 1.03\n",
      "|   |   |   |   |   |   |   |   |   |   |   |--- class: 1\n",
      "|   |   |   |   |   |   |   |   |   |   |--- feature_1 >  1.03\n",
      "|   |   |   |   |   |   |   |   |   |   |   |--- truncated branch of depth 2\n",
      "|   |   |   |   |   |   |   |   |--- feature_0 >  3.26\n",
      "|   |   |   |   |   |   |   |   |   |--- class: 0\n",
      "|   |   |   |   |   |--- feature_1 >  4.52\n",
      "|   |   |   |   |   |   |--- feature_1 <= 5.27\n",
      "|   |   |   |   |   |   |   |--- feature_0 <= 1.63\n",
      "|   |   |   |   |   |   |   |   |--- class: 1\n",
      "|   |   |   |   |   |   |   |--- feature_0 >  1.63\n",
      "|   |   |   |   |   |   |   |   |--- class: 0\n",
      "|   |   |   |   |   |   |--- feature_1 >  5.27\n",
      "|   |   |   |   |   |   |   |--- class: 0\n",
      "\n"
     ]
    }
   ],
   "source": [
    "from sklearn import tree\n",
    "text_representation = tree.export_text(model)\n",
    "print(text_representation)"
   ]
  },
  {
   "cell_type": "markdown",
   "metadata": {},
   "source": [
    "## Visualisation of classifier on test and training set "
   ]
  },
  {
   "cell_type": "code",
   "execution_count": 104,
   "metadata": {},
   "outputs": [
    {
     "name": "stderr",
     "output_type": "stream",
     "text": [
      "*c* argument looks like a single numeric RGB or RGBA sequence, which should be avoided as value-mapping will have precedence in case its length matches with *x* & *y*.  Please use the *color* keyword-argument or provide a 2-D array with a single row if you intend to specify the same RGB or RGBA value for all points.\n",
      "*c* argument looks like a single numeric RGB or RGBA sequence, which should be avoided as value-mapping will have precedence in case its length matches with *x* & *y*.  Please use the *color* keyword-argument or provide a 2-D array with a single row if you intend to specify the same RGB or RGBA value for all points.\n"
     ]
    },
    {
     "data": {
      "image/png": "[encoded data removed]",
      "text/plain": [
       "<Figure size 432x288 with 1 Axes>"
      ]
     },
     "metadata": {
      "needs_background": "light"
     },
     "output_type": "display_data"
    }
   ],
   "source": [
    "from matplotlib.colors import ListedColormap\n",
    "X_set, y_set = X_train, y_train\n",
    "X1, X2 = np.meshgrid(np.arange(start = X_set[:, 0].min() - 2, stop = X_set[:, 0].max() + 2, step = 0.005),\n",
    "                     np.arange(start = X_set[:, 1].min() - 2, stop = X_set[:, 1].max() + 2, step = 0.005))\n",
    "plt.contourf(X1, X2, model.predict(np.array([X1.ravel(), X2.ravel()]).T).reshape(X1.shape),\n",
    "             alpha = 0.5, cmap = ListedColormap(('red', 'green')))\n",
    "plt.xlim(X1.min(), X1.max())\n",
    "plt.ylim(X2.min(), X2.max())\n",
    "for i, j in enumerate(np.unique(y_set)):\n",
    "    plt.scatter(X_set[y_set == j, 0], X_set[y_set == j, 1],\n",
    "                c = ListedColormap(('red', 'green'))(i), label = j)\n",
    "plt.title('Decision Tree (Training set)')\n",
    "plt.xlabel('PC1')\n",
    "plt.ylabel('PC2')\n",
    "plt.legend()\n",
    "plt.show()"
   ]
  },
  {
   "cell_type": "code",
   "execution_count": 105,
   "metadata": {},
   "outputs": [
    {
     "name": "stderr",
     "output_type": "stream",
     "text": [
      "*c* argument looks like a single numeric RGB or RGBA sequence, which should be avoided as value-mapping will have precedence in case its length matches with *x* & *y*.  Please use the *color* keyword-argument or provide a 2-D array with a single row if you intend to specify the same RGB or RGBA value for all points.\n",
      "*c* argument looks like a single numeric RGB or RGBA sequence, which should be avoided as value-mapping will have precedence in case its length matches with *x* & *y*.  Please use the *color* keyword-argument or provide a 2-D array with a single row if you intend to specify the same RGB or RGBA value for all points.\n"
     ]
    },
    {
     "data": {
      "image/png": "[encoded data removed]",
      "text/plain": [
       "<Figure size 432x288 with 1 Axes>"
      ]
     },
     "metadata": {
      "needs_background": "light"
     },
     "output_type": "display_data"
    }
   ],
   "source": [
    "from matplotlib.colors import ListedColormap\n",
    "X_set, y_set = X_test, y_test\n",
    "X1, X2 = np.meshgrid(np.arange(start = X_set[:, 0].min() - 1, stop = X_set[:, 0].max() + 1, step = 0.01),\n",
    "                     np.arange(start = X_set[:, 1].min() - 1, stop = X_set[:, 1].max() + 1, step = 0.01))\n",
    "plt.contourf(X1, X2, model.predict(np.array([X1.ravel(), X2.ravel()]).T).reshape(X1.shape),\n",
    "             alpha = 0.75, cmap = ListedColormap(('red', 'green')))\n",
    "plt.xlim(X1.min(), X1.max())\n",
    "plt.ylim(X2.min(), X2.max())\n",
    "for i, j in enumerate(np.unique(y_set)):\n",
    "    plt.scatter(X_set[y_set == j, 0], X_set[y_set == j, 1],\n",
    "                c = ListedColormap(('red', 'green'))(i), label = j)\n",
    "plt.title('Decision Tree (Test set)')\n",
    "plt.xlabel('PC1')\n",
    "plt.ylabel('PC2')\n",
    "plt.legend()\n",
    "plt.show()"
   ]
  },
  {
   "cell_type": "markdown",
   "metadata": {},
   "source": [
    "# Observations:\n",
    "<ol>\n",
    "    <li> Accuracy is 88.5%.</li>\n",
    "    <li>We faced the problem of overfitting in decision tree classification. A decision tree can be easily\n",
    "        over-fitted generating too many branches.</li>\n",
    "    "
   ]
  },
  {
   "cell_type": "markdown",
   "metadata": {},
   "source": [
    "# SVM"
   ]
  },
  {
   "cell_type": "code",
   "execution_count": 106,
   "metadata": {},
   "outputs": [
    {
     "data": {
      "text/plain": [
       "SVC()"
      ]
     },
     "execution_count": 106,
     "metadata": {},
     "output_type": "execute_result"
    }
   ],
   "source": [
    "from sklearn.svm import SVC\n",
    "svc = SVC()\n",
    "svc.fit(X_train, y_train)"
   ]
  },
  {
   "cell_type": "markdown",
   "metadata": {},
   "source": [
    "# Hyper parameter tunning for SVM\n",
    ">SVM also has some hyper-parameters (like what C or gamma values to use) and finding optimal hyper-parameter is a very hard task to solve. But it can be found by just trying all combinations and see what parameters work best. The main idea behind it is to create a grid of hyper-parameters and just try all of their combinations (hence, this method is called Gridsearch).Scikit-learn has this functionality built-in with GridSearchCV."
   ]
  },
  {
   "cell_type": "code",
   "execution_count": 107,
   "metadata": {},
   "outputs": [
    {
     "data": {
      "text/plain": [
       "GridSearchCV(cv=10, estimator=SVC(),\n",
       "             param_grid={'C': [0.1, 0.8, 0.9, 1, 1.1, 1.2, 1.3, 1.4],\n",
       "                         'gamma': [0.1, 0.8, 0.9, 1, 1.1, 1.2, 1.3, 1.4],\n",
       "                         'kernel': ['linear', 'rbf']},\n",
       "             scoring='accuracy')"
      ]
     },
     "execution_count": 107,
     "metadata": {},
     "output_type": "execute_result"
    }
   ],
   "source": [
    "from sklearn.svm import SVC\n",
    "from sklearn.model_selection import GridSearchCV \n",
    "#Finding best parameters for our SVC model\n",
    "param = {\n",
    "    'C': [0.1,0.8,0.9,1,1.1,1.2,1.3,1.4],\n",
    "    'kernel':['linear', 'rbf'],\n",
    "    'gamma' :[0.1,0.8,0.9,1,1.1,1.2,1.3,1.4]\n",
    "}\n",
    "grid_svc = GridSearchCV(svc, param_grid=param, scoring='accuracy', cv=10)\n",
    "grid_svc.fit(X_train, y_train)\n"
   ]
  },
  {
   "cell_type": "code",
   "execution_count": 108,
   "metadata": {},
   "outputs": [
    {
     "data": {
      "text/plain": [
       "{'C': 0.8, 'gamma': 1.4, 'kernel': 'rbf'}"
      ]
     },
     "execution_count": 108,
     "metadata": {},
     "output_type": "execute_result"
    }
   ],
   "source": [
    "#Best parameters for our svc model\n",
    "grid_svc.best_params_"
   ]
  },
  {
   "cell_type": "code",
   "execution_count": 109,
   "metadata": {},
   "outputs": [],
   "source": [
    "#fitting best parameters\n",
    "svc = SVC(C =0.8, gamma = 1.4, kernel= 'rbf')\n",
    "svc.fit(X_train, y_train)\n",
    "pred_svc = svc.predict(X_test)"
   ]
  },
  {
   "cell_type": "code",
   "execution_count": 110,
   "metadata": {},
   "outputs": [
    {
     "name": "stdout",
     "output_type": "stream",
     "text": [
      "              precision    recall  f1-score   support\n",
      "\n",
      "           0       0.90      0.97      0.93       355\n",
      "           1       0.39      0.16      0.22        45\n",
      "\n",
      "    accuracy                           0.88       400\n",
      "   macro avg       0.64      0.56      0.58       400\n",
      "weighted avg       0.84      0.88      0.85       400\n",
      "\n",
      "[[344  11]\n",
      " [ 38   7]]\n",
      "accuracy of svm classifier: 0.8775\n"
     ]
    }
   ],
   "source": [
    "print(classification_report(y_test, pred_svc))\n",
    "print(confusion_matrix(y_test, pred_svc))\n",
    "accuracy = accuracy_score(y_test,pred_svc)\n",
    "print('accuracy of svm classifier:',accuracy)"
   ]
  },
  {
   "cell_type": "markdown",
   "metadata": {},
   "source": [
    "## Visualisation of classifier on test and training set"
   ]
  },
  {
   "cell_type": "code",
   "execution_count": 111,
   "metadata": {},
   "outputs": [
    {
     "name": "stderr",
     "output_type": "stream",
     "text": [
      "*c* argument looks like a single numeric RGB or RGBA sequence, which should be avoided as value-mapping will have precedence in case its length matches with *x* & *y*.  Please use the *color* keyword-argument or provide a 2-D array with a single row if you intend to specify the same RGB or RGBA value for all points.\n",
      "*c* argument looks like a single numeric RGB or RGBA sequence, which should be avoided as value-mapping will have precedence in case its length matches with *x* & *y*.  Please use the *color* keyword-argument or provide a 2-D array with a single row if you intend to specify the same RGB or RGBA value for all points.\n"
     ]
    },
    {
     "data": {
      "image/png": "[encoded data removed]",
      "text/plain": [
       "<Figure size 432x288 with 1 Axes>"
      ]
     },
     "metadata": {
      "needs_background": "light"
     },
     "output_type": "display_data"
    }
   ],
   "source": [
    "from matplotlib.colors import ListedColormap\n",
    "X_set, y_set = X_train, y_train\n",
    "X1, X2 = np.meshgrid(np.arange(start = X_set[:, 0].min() - 2, stop = X_set[:, 0].max() + 2, step = 0.005),\n",
    "                     np.arange(start = X_set[:, 1].min() - 2, stop = X_set[:, 1].max() + 2, step = 0.005))\n",
    "plt.contourf(X1, X2, svc.predict(np.array([X1.ravel(), X2.ravel()]).T).reshape(X1.shape),\n",
    "             alpha = 0.5, cmap = ListedColormap(('red', 'green')))\n",
    "plt.xlim(X1.min(), X1.max())\n",
    "plt.ylim(X2.min(), X2.max())\n",
    "for i, j in enumerate(np.unique(y_set)):\n",
    "    plt.scatter(X_set[y_set == j, 0], X_set[y_set == j, 1],\n",
    "                c = ListedColormap(('red', 'green'))(i), label = j)\n",
    "plt.title('SVC (Training set)')\n",
    "plt.xlabel('PC1')\n",
    "plt.ylabel('PC2')\n",
    "plt.legend()\n",
    "plt.show()"
   ]
  },
  {
   "cell_type": "code",
   "execution_count": 112,
   "metadata": {},
   "outputs": [
    {
     "name": "stderr",
     "output_type": "stream",
     "text": [
      "*c* argument looks like a single numeric RGB or RGBA sequence, which should be avoided as value-mapping will have precedence in case its length matches with *x* & *y*.  Please use the *color* keyword-argument or provide a 2-D array with a single row if you intend to specify the same RGB or RGBA value for all points.\n",
      "*c* argument looks like a single numeric RGB or RGBA sequence, which should be avoided as value-mapping will have precedence in case its length matches with *x* & *y*.  Please use the *color* keyword-argument or provide a 2-D array with a single row if you intend to specify the same RGB or RGBA value for all points.\n"
     ]
    },
    {
     "data": {
      "image/png": "[encoded data removed]",
      "text/plain": [
       "<Figure size 432x288 with 1 Axes>"
      ]
     },
     "metadata": {
      "needs_background": "light"
     },
     "output_type": "display_data"
    }
   ],
   "source": [
    "from matplotlib.colors import ListedColormap\n",
    "X_set, y_set = X_test, y_test\n",
    "X1, X2 = np.meshgrid(np.arange(start = X_set[:, 0].min() - 2, stop = X_set[:, 0].max() + 2, step = 0.005),\n",
    "                     np.arange(start = X_set[:, 1].min() - 2, stop = X_set[:, 1].max() + 2, step = 0.005))\n",
    "plt.contourf(X1, X2, svc.predict(np.array([X1.ravel(), X2.ravel()]).T).reshape(X1.shape),\n",
    "             alpha = 0.75, cmap = ListedColormap(('red', 'green')))\n",
    "plt.xlim(X1.min(), X1.max())\n",
    "plt.ylim(X2.min(), X2.max())\n",
    "for i, j in enumerate(np.unique(y_set)):\n",
    "    plt.scatter(X_set[y_set == j, 0], X_set[y_set == j, 1],\n",
    "                c = ListedColormap(('red', 'green'))(i), label = j)\n",
    "plt.title('svc (Test set)')\n",
    "plt.xlabel('PC1')\n",
    "plt.ylabel('PC2')\n",
    "plt.legend()\n",
    "plt.show()"
   ]
  },
  {
   "cell_type": "markdown",
   "metadata": {},
   "source": [
    "# Observations:\n",
    "<ol>\n",
    "    <li>Accuracy 87.75%</li>\n",
    "    <li>In classification report as well as in confusion matrix we can observe that the recall percent of class 1 is only 16 %, which implies it is not a very well trained model.</li>\n",
    "    <li> The poor recall rate of class 1 can even be seen in the graph </li>"
   ]
  },
  {
   "cell_type": "markdown",
   "metadata": {},
   "source": [
    "# KNN"
   ]
  },
  {
   "cell_type": "markdown",
   "metadata": {},
   "source": [
    "## Hyper parameter tunning for KNN "
   ]
  },
  {
   "cell_type": "code",
   "execution_count": 113,
   "metadata": {},
   "outputs": [
    {
     "name": "stdout",
     "output_type": "stream",
     "text": [
      "Best leaf_size: 1\n",
      "Best p: 2\n",
      "Best n_neighbors: 19\n"
     ]
    }
   ],
   "source": [
    "from sklearn.neighbors import KNeighborsClassifier\n",
    "leaf_size = list(range(1,50))\n",
    "n_neighbors = list(range(1,30))\n",
    "p=[1,2]\n",
    "#Convert to dictionary\n",
    "hyperparameters = dict(leaf_size=leaf_size, n_neighbors=n_neighbors, p=p)\n",
    "#Create new KNN object\n",
    "knn_2 = KNeighborsClassifier()\n",
    "#Use GridSearch\n",
    "clf= GridSearchCV(knn_2, hyperparameters, cv=10)\n",
    "#Fit the model\n",
    "best_model = clf.fit(X_train,y_train)\n",
    "#Print The value of best Hyperparameters\n",
    "print('Best leaf_size:', best_model.best_estimator_.get_params()['leaf_size'])\n",
    "print('Best p:', best_model.best_estimator_.get_params()['p'])\n",
    "print('Best n_neighbors:', best_model.best_estimator_.get_params()['n_neighbors'])"
   ]
  },
  {
   "cell_type": "code",
   "execution_count": 114,
   "metadata": {},
   "outputs": [
    {
     "name": "stdout",
     "output_type": "stream",
     "text": [
      "              precision    recall  f1-score   support\n",
      "\n",
      "           0       0.91      0.96      0.93       355\n",
      "           1       0.43      0.22      0.29        45\n",
      "\n",
      "    accuracy                           0.88       400\n",
      "   macro avg       0.67      0.59      0.61       400\n",
      "weighted avg       0.85      0.88      0.86       400\n",
      "\n",
      "[[342  13]\n",
      " [ 35  10]]\n"
     ]
    }
   ],
   "source": [
    "# Fitting K-NN to the Training set\n",
    "classifier = KNeighborsClassifier(leaf_size=1,n_neighbors = 19, metric = 'minkowski', p = 2)\n",
    "classifier.fit(X_train, y_train)\n",
    "\n",
    "# Predicting the Test set results\n",
    "y_predknn = classifier.predict(X_test)\n",
    "print(classification_report(y_test, y_predknn))\n",
    "print(confusion_matrix(y_test, y_predknn))"
   ]
  },
  {
   "cell_type": "code",
   "execution_count": 115,
   "metadata": {},
   "outputs": [
    {
     "name": "stdout",
     "output_type": "stream",
     "text": [
      "accuracy of KNN classifier: 0.88\n"
     ]
    }
   ],
   "source": [
    "accuracy = accuracy_score(y_test,y_predknn)\n",
    "print('accuracy of KNN classifier:',accuracy)"
   ]
  },
  {
   "cell_type": "markdown",
   "metadata": {},
   "source": [
    "## Visualisation of knn classifier on test and training set"
   ]
  },
  {
   "cell_type": "code",
   "execution_count": 119,
   "metadata": {},
   "outputs": [
    {
     "name": "stderr",
     "output_type": "stream",
     "text": [
      "*c* argument looks like a single numeric RGB or RGBA sequence, which should be avoided as value-mapping will have precedence in case its length matches with *x* & *y*.  Please use the *color* keyword-argument or provide a 2-D array with a single row if you intend to specify the same RGB or RGBA value for all points.\n",
      "*c* argument looks like a single numeric RGB or RGBA sequence, which should be avoided as value-mapping will have precedence in case its length matches with *x* & *y*.  Please use the *color* keyword-argument or provide a 2-D array with a single row if you intend to specify the same RGB or RGBA value for all points.\n"
     ]
    },
    {
     "data": {
      "image/png": "[encoded data removed]",
      "text/plain": [
       "<Figure size 432x288 with 1 Axes>"
      ]
     },
     "metadata": {
      "needs_background": "light"
     },
     "output_type": "display_data"
    }
   ],
   "source": [
    "from matplotlib.colors import ListedColormap\n",
    "X_set, y_set = X_train, y_train\n",
    "X1, X2 = np.meshgrid(np.arange(start = X_set[:, 0].min() - 1, stop = X_set[:, 0].max() + 1, step = 0.01),\n",
    "                     np.arange(start = X_set[:, 1].min() - 1, stop = X_set[:, 1].max() + 1, step = 0.01))\n",
    "plt.contourf(X1, X2, classifier.predict(np.array([X1.ravel(), X2.ravel()]).T).reshape(X1.shape),\n",
    "             alpha = 0.75, cmap = ListedColormap(('red', 'green')))\n",
    "plt.xlim(X1.min(), X1.max())\n",
    "plt.ylim(X2.min(), X2.max())\n",
    "for i, j in enumerate(np.unique(y_set)):\n",
    "    plt.scatter(X_set[y_set == j, 0], X_set[y_set == j, 1],\n",
    "                c = ListedColormap(('red', 'green'))(i), label = j)\n",
    "plt.title('KNN (Training set)')\n",
    "plt.xlabel('PC1')\n",
    "plt.ylabel('PC2')\n",
    "plt.legend()\n",
    "plt.show()"
   ]
  },
  {
   "cell_type": "code",
   "execution_count": 120,
   "metadata": {},
   "outputs": [
    {
     "name": "stderr",
     "output_type": "stream",
     "text": [
      "*c* argument looks like a single numeric RGB or RGBA sequence, which should be avoided as value-mapping will have precedence in case its length matches with *x* & *y*.  Please use the *color* keyword-argument or provide a 2-D array with a single row if you intend to specify the same RGB or RGBA value for all points.\n",
      "*c* argument looks like a single numeric RGB or RGBA sequence, which should be avoided as value-mapping will have precedence in case its length matches with *x* & *y*.  Please use the *color* keyword-argument or provide a 2-D array with a single row if you intend to specify the same RGB or RGBA value for all points.\n"
     ]
    },
    {
     "data": {
      "image/png": "[encoded data removed]",
      "text/plain": [
       "<Figure size 432x288 with 1 Axes>"
      ]
     },
     "metadata": {
      "needs_background": "light"
     },
     "output_type": "display_data"
    }
   ],
   "source": [
    "from matplotlib.colors import ListedColormap\n",
    "X_set, y_set = X_test, y_test\n",
    "X1, X2 = np.meshgrid(np.arange(start = X_set[:, 0].min() - 1, stop = X_set[:, 0].max() + 1, step = 0.01),\n",
    "                     np.arange(start = X_set[:, 1].min() - 1, stop = X_set[:, 1].max() + 1, step = 0.01))\n",
    "plt.contourf(X1, X2, classifier.predict(np.array([X1.ravel(), X2.ravel()]).T).reshape(X1.shape),\n",
    "             alpha = 0.75, cmap = ListedColormap(('red', 'green')))\n",
    "plt.xlim(X1.min(), X1.max())\n",
    "plt.ylim(X2.min(), X2.max())\n",
    "for i, j in enumerate(np.unique(y_set)):\n",
    "    plt.scatter(X_set[y_set == j, 0], X_set[y_set == j, 1],\n",
    "                c = ListedColormap(('red', 'green'))(i), label = j)\n",
    "plt.title('KNN (Test set)')\n",
    "plt.xlabel('PC1')\n",
    "plt.ylabel('PC2')\n",
    "plt.legend()\n",
    "plt.show()"
   ]
  },
  {
   "cell_type": "markdown",
   "metadata": {},
   "source": [
    "# Observations:\n",
    "<ol>\n",
    "    <li> Accuracy is 88%</li>\n",
    "    <li> In KNN also the recall percentage of class 1 is only 22 %, which implies it is not a very well trained model.</li>\n",
    "    "
   ]
  },
  {
   "cell_type": "markdown",
   "metadata": {},
   "source": [
    "# Conclusion \n",
    "\n",
    "<li> The data we have obtained is a classification related dataset. We got to know this by using various visualization techniques.</li>\n",
    "<li>We used various classification techniques and compared them. On evaluating the results we can conclude that Random Forest is the best classification technique according to the dataset. Random Forest is able to outperform the other two because of its ability to use many trees to classify the data. Thus random forest becomes more generalized than the other two and thus is performing better than the other two classifying algorithms.</li>\n"
   ]
  },
  {
   "cell_type": "code",
   "execution_count": 118,
   "metadata": {},
   "outputs": [
    {
     "data": {
      "text/html": [
       "<div>\n",
       "<style scoped>\n",
       "    .dataframe tbody tr th:only-of-type {\n",
       "        vertical-align: middle;\n",
       "    }\n",
       "\n",
       "    .dataframe tbody tr th {\n",
       "        vertical-align: top;\n",
       "    }\n",
       "\n",
       "    .dataframe thead th {\n",
       "        text-align: right;\n",
       "    }\n",
       "</style>\n",
       "<table border=\"1\" class=\"dataframe\">\n",
       "  <thead>\n",
       "    <tr style=\"text-align: right;\">\n",
       "      <th></th>\n",
       "      <th>models</th>\n",
       "      <th>accuracies</th>\n",
       "    </tr>\n",
       "  </thead>\n",
       "  <tbody>\n",
       "    <tr>\n",
       "      <th>0</th>\n",
       "      <td>SVC</td>\n",
       "      <td>0.8775</td>\n",
       "    </tr>\n",
       "    <tr>\n",
       "      <th>1</th>\n",
       "      <td>Random Forest</td>\n",
       "      <td>0.9100</td>\n",
       "    </tr>\n",
       "    <tr>\n",
       "      <th>2</th>\n",
       "      <td>Decision Trees</td>\n",
       "      <td>0.8850</td>\n",
       "    </tr>\n",
       "    <tr>\n",
       "      <th>3</th>\n",
       "      <td>KNN</td>\n",
       "      <td>0.8800</td>\n",
       "    </tr>\n",
       "  </tbody>\n",
       "</table>\n",
       "</div>"
      ],
      "text/plain": [
       "           models  accuracies\n",
       "0             SVC      0.8775\n",
       "1   Random Forest      0.9100\n",
       "2  Decision Trees      0.8850\n",
       "3             KNN      0.8800"
      ]
     },
     "execution_count": 118,
     "metadata": {},
     "output_type": "execute_result"
    }
   ],
   "source": [
    "conclusion = pd.DataFrame({'models': [\"SVC\",\"Random Forest\",\"Decision Trees\",\"KNN\"],\n",
    "                           'accuracies': [accuracy_score(y_test,pred_svc),accuracy_score(y_test,y_pred1),accuracy_score(y_test,y_pred),accuracy_score(y_test,y_predknn)]})\n",
    "conclusion"
   ]
  },
  {
   "cell_type": "code",
   "execution_count": null,
   "metadata": {},
   "outputs": [],
   "source": []
  },
  {
   "cell_type": "code",
   "execution_count": null,
   "metadata": {},
   "outputs": [],
   "source": []
  },
  {
   "cell_type": "code",
   "execution_count": null,
   "metadata": {},
   "outputs": [],
   "source": []
  },
  {
   "cell_type": "code",
   "execution_count": null,
   "metadata": {},
   "outputs": [],
   "source": []
  }
 ],
 "metadata": {
  "kernelspec": {
   "display_name": "Python 3",
   "language": "python",
   "name": "python3"
  },
  "language_info": {
   "codemirror_mode": {
    "name": "ipython",
    "version": 3
   },
   "file_extension": ".py",
   "mimetype": "text/x-python",
   "name": "python",
   "nbconvert_exporter": "python",
   "pygments_lexer": "ipython3",
   "version": "3.8.3"
  }
 },
 "nbformat": 4,
 "nbformat_minor": 4
}
